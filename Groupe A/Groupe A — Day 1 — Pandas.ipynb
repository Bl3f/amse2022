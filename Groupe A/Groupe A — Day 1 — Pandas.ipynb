{
 "cells": [
  {
   "cell_type": "code",
   "execution_count": 2,
   "id": "54b5ee97",
   "metadata": {},
   "outputs": [],
   "source": [
    "import pandas as pd\n",
    "import numpy as np"
   ]
  },
  {
   "cell_type": "code",
   "execution_count": 4,
   "id": "32373737",
   "metadata": {},
   "outputs": [],
   "source": [
    "s = pd.Series([0.3, 00.5, 0.42, 0.9])"
   ]
  },
  {
   "cell_type": "code",
   "execution_count": 5,
   "id": "81eea812",
   "metadata": {},
   "outputs": [
    {
     "data": {
      "text/plain": [
       "0    0.30\n",
       "1    0.50\n",
       "2    0.42\n",
       "3    0.90\n",
       "dtype: float64"
      ]
     },
     "execution_count": 5,
     "metadata": {},
     "output_type": "execute_result"
    }
   ],
   "source": [
    "s"
   ]
  },
  {
   "cell_type": "code",
   "execution_count": 6,
   "id": "8ec79652",
   "metadata": {},
   "outputs": [
    {
     "data": {
      "text/plain": [
       "RangeIndex(start=0, stop=4, step=1)"
      ]
     },
     "execution_count": 6,
     "metadata": {},
     "output_type": "execute_result"
    }
   ],
   "source": [
    "s.index"
   ]
  },
  {
   "cell_type": "code",
   "execution_count": 7,
   "id": "6de0ffcb",
   "metadata": {},
   "outputs": [
    {
     "data": {
      "text/plain": [
       "array([0.3 , 0.5 , 0.42, 0.9 ])"
      ]
     },
     "execution_count": 7,
     "metadata": {},
     "output_type": "execute_result"
    }
   ],
   "source": [
    "s.values"
   ]
  },
  {
   "cell_type": "code",
   "execution_count": 8,
   "id": "727ee82c",
   "metadata": {},
   "outputs": [
    {
     "data": {
      "text/plain": [
       "0.3"
      ]
     },
     "execution_count": 8,
     "metadata": {},
     "output_type": "execute_result"
    }
   ],
   "source": [
    "s[0]"
   ]
  },
  {
   "cell_type": "code",
   "execution_count": 14,
   "id": "7267e0d5",
   "metadata": {},
   "outputs": [
    {
     "data": {
      "text/plain": [
       "0.9"
      ]
     },
     "execution_count": 14,
     "metadata": {},
     "output_type": "execute_result"
    }
   ],
   "source": [
    "s.values[-1]"
   ]
  },
  {
   "cell_type": "code",
   "execution_count": 36,
   "id": "a7994e29",
   "metadata": {},
   "outputs": [],
   "source": [
    "s2 = pd.Series([5, 6, 8, 9, np.nan], index=[\"banane\", \"kiwi\", \"pomme\", \"poire\", \"ananas\"])"
   ]
  },
  {
   "cell_type": "code",
   "execution_count": 37,
   "id": "78fbb785",
   "metadata": {},
   "outputs": [
    {
     "data": {
      "text/plain": [
       "banane    5.0\n",
       "kiwi      6.0\n",
       "pomme     8.0\n",
       "poire     9.0\n",
       "ananas    NaN\n",
       "dtype: float64"
      ]
     },
     "execution_count": 37,
     "metadata": {},
     "output_type": "execute_result"
    }
   ],
   "source": [
    "s2"
   ]
  },
  {
   "cell_type": "code",
   "execution_count": 17,
   "id": "c7ce15f0",
   "metadata": {},
   "outputs": [
    {
     "data": {
      "text/plain": [
       "Index(['banane', 'kiwi', 'pomme', 'poire'], dtype='object')"
      ]
     },
     "execution_count": 17,
     "metadata": {},
     "output_type": "execute_result"
    }
   ],
   "source": [
    "s2.index"
   ]
  },
  {
   "cell_type": "code",
   "execution_count": 18,
   "id": "e233f507",
   "metadata": {},
   "outputs": [
    {
     "data": {
      "text/plain": [
       "banane    False\n",
       "kiwi      False\n",
       "pomme      True\n",
       "poire      True\n",
       "dtype: bool"
      ]
     },
     "execution_count": 18,
     "metadata": {},
     "output_type": "execute_result"
    }
   ],
   "source": [
    "s2 > 6"
   ]
  },
  {
   "cell_type": "code",
   "execution_count": 19,
   "id": "a0c1c034",
   "metadata": {},
   "outputs": [
    {
     "data": {
      "text/plain": [
       "pomme    8\n",
       "poire    9\n",
       "dtype: int64"
      ]
     },
     "execution_count": 19,
     "metadata": {},
     "output_type": "execute_result"
    }
   ],
   "source": [
    "s2[s2 > 6]"
   ]
  },
  {
   "cell_type": "code",
   "execution_count": 20,
   "id": "47af24fa",
   "metadata": {},
   "outputs": [
    {
     "data": {
      "text/plain": [
       "banane    10\n",
       "kiwi      12\n",
       "pomme     16\n",
       "poire     18\n",
       "dtype: int64"
      ]
     },
     "execution_count": 20,
     "metadata": {},
     "output_type": "execute_result"
    }
   ],
   "source": [
    "s2 * 2"
   ]
  },
  {
   "cell_type": "code",
   "execution_count": 21,
   "id": "73a9917c",
   "metadata": {},
   "outputs": [
    {
     "data": {
      "text/plain": [
       "banane     148.413159\n",
       "kiwi       403.428793\n",
       "pomme     2980.957987\n",
       "poire     8103.083928\n",
       "dtype: float64"
      ]
     },
     "execution_count": 21,
     "metadata": {},
     "output_type": "execute_result"
    }
   ],
   "source": [
    "np.exp(s2)"
   ]
  },
  {
   "cell_type": "code",
   "execution_count": 22,
   "id": "976fef6e",
   "metadata": {},
   "outputs": [
    {
     "data": {
      "text/plain": [
       "True"
      ]
     },
     "execution_count": 22,
     "metadata": {},
     "output_type": "execute_result"
    }
   ],
   "source": [
    "\"kiwi\" in s2"
   ]
  },
  {
   "cell_type": "code",
   "execution_count": 23,
   "id": "d7120a9d",
   "metadata": {},
   "outputs": [
    {
     "data": {
      "text/plain": [
       "banane    5\n",
       "kiwi      6\n",
       "pomme     8\n",
       "poire     9\n",
       "dtype: int64"
      ]
     },
     "execution_count": 23,
     "metadata": {},
     "output_type": "execute_result"
    }
   ],
   "source": [
    "s2"
   ]
  },
  {
   "cell_type": "code",
   "execution_count": 25,
   "id": "9e1bd2fb",
   "metadata": {},
   "outputs": [
    {
     "data": {
      "text/plain": [
       "True"
      ]
     },
     "execution_count": 25,
     "metadata": {},
     "output_type": "execute_result"
    }
   ],
   "source": [
    "5 in s2.values"
   ]
  },
  {
   "cell_type": "code",
   "execution_count": 33,
   "id": "e3d019b6",
   "metadata": {},
   "outputs": [
    {
     "data": {
      "text/plain": [
       "pomme    8\n",
       "dtype: int64"
      ]
     },
     "execution_count": 33,
     "metadata": {},
     "output_type": "execute_result"
    }
   ],
   "source": [
    "s2[s2 > 6][[\"pomme\"]]"
   ]
  },
  {
   "cell_type": "code",
   "execution_count": 38,
   "id": "2d34e237",
   "metadata": {},
   "outputs": [
    {
     "data": {
      "text/plain": [
       "banane    False\n",
       "kiwi      False\n",
       "pomme     False\n",
       "poire     False\n",
       "ananas     True\n",
       "dtype: bool"
      ]
     },
     "execution_count": 38,
     "metadata": {},
     "output_type": "execute_result"
    }
   ],
   "source": [
    "s2.isnull()"
   ]
  },
  {
   "cell_type": "code",
   "execution_count": 39,
   "id": "48a9e37a",
   "metadata": {},
   "outputs": [
    {
     "data": {
      "text/plain": [
       "banane     True\n",
       "kiwi       True\n",
       "pomme      True\n",
       "poire      True\n",
       "ananas    False\n",
       "dtype: bool"
      ]
     },
     "execution_count": 39,
     "metadata": {},
     "output_type": "execute_result"
    }
   ],
   "source": [
    "s2.notnull()"
   ]
  },
  {
   "cell_type": "code",
   "execution_count": 40,
   "id": "e59b8919",
   "metadata": {},
   "outputs": [
    {
     "data": {
      "text/plain": [
       "banane    10.0\n",
       "kiwi      12.0\n",
       "pomme     16.0\n",
       "poire     18.0\n",
       "ananas     NaN\n",
       "dtype: float64"
      ]
     },
     "execution_count": 40,
     "metadata": {},
     "output_type": "execute_result"
    }
   ],
   "source": [
    "s2 + s2"
   ]
  },
  {
   "cell_type": "markdown",
   "id": "d802be27",
   "metadata": {},
   "source": [
    "# DataFrame"
   ]
  },
  {
   "cell_type": "code",
   "execution_count": 26,
   "id": "7f097798",
   "metadata": {},
   "outputs": [],
   "source": [
    "data = {\n",
    "    \"city\": [\"Paris\", \"London\", \"Berlin\"],\n",
    "    \"density\": [3550, 5100, 3750],\n",
    "    \"area\": [2723, 1623, 984],\n",
    "    \"population\": [9645000, 8278000, 3675000],\n",
    "}\n",
    "\n",
    "df = pd.DataFrame(data)"
   ]
  },
  {
   "cell_type": "code",
   "execution_count": 5,
   "id": "2214af8f",
   "metadata": {},
   "outputs": [
    {
     "data": {
      "text/html": [
       "<div>\n",
       "<style scoped>\n",
       "    .dataframe tbody tr th:only-of-type {\n",
       "        vertical-align: middle;\n",
       "    }\n",
       "\n",
       "    .dataframe tbody tr th {\n",
       "        vertical-align: top;\n",
       "    }\n",
       "\n",
       "    .dataframe thead th {\n",
       "        text-align: right;\n",
       "    }\n",
       "</style>\n",
       "<table border=\"1\" class=\"dataframe\">\n",
       "  <thead>\n",
       "    <tr style=\"text-align: right;\">\n",
       "      <th></th>\n",
       "      <th>city</th>\n",
       "      <th>density</th>\n",
       "      <th>area</th>\n",
       "      <th>population</th>\n",
       "    </tr>\n",
       "  </thead>\n",
       "  <tbody>\n",
       "    <tr>\n",
       "      <th>0</th>\n",
       "      <td>Paris</td>\n",
       "      <td>3550</td>\n",
       "      <td>2723</td>\n",
       "      <td>9645000</td>\n",
       "    </tr>\n",
       "    <tr>\n",
       "      <th>1</th>\n",
       "      <td>London</td>\n",
       "      <td>5100</td>\n",
       "      <td>1623</td>\n",
       "      <td>8278000</td>\n",
       "    </tr>\n",
       "    <tr>\n",
       "      <th>2</th>\n",
       "      <td>Berlin</td>\n",
       "      <td>3750</td>\n",
       "      <td>984</td>\n",
       "      <td>3675000</td>\n",
       "    </tr>\n",
       "  </tbody>\n",
       "</table>\n",
       "</div>"
      ],
      "text/plain": [
       "     city  density  area  population\n",
       "0   Paris     3550  2723     9645000\n",
       "1  London     5100  1623     8278000\n",
       "2  Berlin     3750   984     3675000"
      ]
     },
     "execution_count": 5,
     "metadata": {},
     "output_type": "execute_result"
    }
   ],
   "source": [
    "df"
   ]
  },
  {
   "cell_type": "code",
   "execution_count": 44,
   "id": "8b1ab5d4",
   "metadata": {},
   "outputs": [
    {
     "data": {
      "text/plain": [
       "pandas.core.series.Series"
      ]
     },
     "execution_count": 44,
     "metadata": {},
     "output_type": "execute_result"
    }
   ],
   "source": [
    "type(df[\"city\"])"
   ]
  },
  {
   "cell_type": "code",
   "execution_count": 48,
   "id": "f8093aef",
   "metadata": {},
   "outputs": [
    {
     "data": {
      "text/plain": [
       "0     Paris\n",
       "1    London\n",
       "2    Berlin\n",
       "Name: city, dtype: object"
      ]
     },
     "execution_count": 48,
     "metadata": {},
     "output_type": "execute_result"
    }
   ],
   "source": [
    "df[\"city\"]"
   ]
  },
  {
   "cell_type": "code",
   "execution_count": 49,
   "id": "6c191870",
   "metadata": {},
   "outputs": [
    {
     "data": {
      "text/plain": [
       "0     Paris\n",
       "1    London\n",
       "2    Berlin\n",
       "Name: city, dtype: object"
      ]
     },
     "execution_count": 49,
     "metadata": {},
     "output_type": "execute_result"
    }
   ],
   "source": [
    "df.city"
   ]
  },
  {
   "cell_type": "code",
   "execution_count": 50,
   "id": "572a2361",
   "metadata": {},
   "outputs": [
    {
     "data": {
      "text/plain": [
       "city          object\n",
       "density        int64\n",
       "area           int64\n",
       "population     int64\n",
       "dtype: object"
      ]
     },
     "execution_count": 50,
     "metadata": {},
     "output_type": "execute_result"
    }
   ],
   "source": [
    "df.dtypes"
   ]
  },
  {
   "cell_type": "code",
   "execution_count": 51,
   "id": "6890be4f",
   "metadata": {},
   "outputs": [
    {
     "data": {
      "text/html": [
       "<div>\n",
       "<style scoped>\n",
       "    .dataframe tbody tr th:only-of-type {\n",
       "        vertical-align: middle;\n",
       "    }\n",
       "\n",
       "    .dataframe tbody tr th {\n",
       "        vertical-align: top;\n",
       "    }\n",
       "\n",
       "    .dataframe thead th {\n",
       "        text-align: right;\n",
       "    }\n",
       "</style>\n",
       "<table border=\"1\" class=\"dataframe\">\n",
       "  <thead>\n",
       "    <tr style=\"text-align: right;\">\n",
       "      <th></th>\n",
       "      <th>density</th>\n",
       "      <th>area</th>\n",
       "      <th>population</th>\n",
       "    </tr>\n",
       "  </thead>\n",
       "  <tbody>\n",
       "    <tr>\n",
       "      <th>count</th>\n",
       "      <td>3.000000</td>\n",
       "      <td>3.000000</td>\n",
       "      <td>3.000000e+00</td>\n",
       "    </tr>\n",
       "    <tr>\n",
       "      <th>mean</th>\n",
       "      <td>4133.333333</td>\n",
       "      <td>1776.666667</td>\n",
       "      <td>7.199333e+06</td>\n",
       "    </tr>\n",
       "    <tr>\n",
       "      <th>std</th>\n",
       "      <td>843.109325</td>\n",
       "      <td>879.625110</td>\n",
       "      <td>3.127757e+06</td>\n",
       "    </tr>\n",
       "    <tr>\n",
       "      <th>min</th>\n",
       "      <td>3550.000000</td>\n",
       "      <td>984.000000</td>\n",
       "      <td>3.675000e+06</td>\n",
       "    </tr>\n",
       "    <tr>\n",
       "      <th>25%</th>\n",
       "      <td>3650.000000</td>\n",
       "      <td>1303.500000</td>\n",
       "      <td>5.976500e+06</td>\n",
       "    </tr>\n",
       "    <tr>\n",
       "      <th>50%</th>\n",
       "      <td>3750.000000</td>\n",
       "      <td>1623.000000</td>\n",
       "      <td>8.278000e+06</td>\n",
       "    </tr>\n",
       "    <tr>\n",
       "      <th>75%</th>\n",
       "      <td>4425.000000</td>\n",
       "      <td>2173.000000</td>\n",
       "      <td>8.961500e+06</td>\n",
       "    </tr>\n",
       "    <tr>\n",
       "      <th>max</th>\n",
       "      <td>5100.000000</td>\n",
       "      <td>2723.000000</td>\n",
       "      <td>9.645000e+06</td>\n",
       "    </tr>\n",
       "  </tbody>\n",
       "</table>\n",
       "</div>"
      ],
      "text/plain": [
       "           density         area    population\n",
       "count     3.000000     3.000000  3.000000e+00\n",
       "mean   4133.333333  1776.666667  7.199333e+06\n",
       "std     843.109325   879.625110  3.127757e+06\n",
       "min    3550.000000   984.000000  3.675000e+06\n",
       "25%    3650.000000  1303.500000  5.976500e+06\n",
       "50%    3750.000000  1623.000000  8.278000e+06\n",
       "75%    4425.000000  2173.000000  8.961500e+06\n",
       "max    5100.000000  2723.000000  9.645000e+06"
      ]
     },
     "execution_count": 51,
     "metadata": {},
     "output_type": "execute_result"
    }
   ],
   "source": [
    "df.describe()"
   ]
  },
  {
   "cell_type": "code",
   "execution_count": 52,
   "id": "5f542dd1",
   "metadata": {},
   "outputs": [
    {
     "name": "stdout",
     "output_type": "stream",
     "text": [
      "<class 'pandas.core.frame.DataFrame'>\n",
      "RangeIndex: 3 entries, 0 to 2\n",
      "Data columns (total 4 columns):\n",
      " #   Column      Non-Null Count  Dtype \n",
      "---  ------      --------------  ----- \n",
      " 0   city        3 non-null      object\n",
      " 1   density     3 non-null      int64 \n",
      " 2   area        3 non-null      int64 \n",
      " 3   population  3 non-null      int64 \n",
      "dtypes: int64(3), object(1)\n",
      "memory usage: 224.0+ bytes\n"
     ]
    }
   ],
   "source": [
    "df.info()"
   ]
  },
  {
   "cell_type": "code",
   "execution_count": 53,
   "id": "ba217719",
   "metadata": {},
   "outputs": [
    {
     "data": {
      "text/plain": [
       "array([['Paris', 3550, 2723, 9645000],\n",
       "       ['London', 5100, 1623, 8278000],\n",
       "       ['Berlin', 3750, 984, 3675000]], dtype=object)"
      ]
     },
     "execution_count": 53,
     "metadata": {},
     "output_type": "execute_result"
    }
   ],
   "source": [
    "df.values"
   ]
  },
  {
   "cell_type": "code",
   "execution_count": 54,
   "id": "b37f631c",
   "metadata": {},
   "outputs": [
    {
     "data": {
      "text/plain": [
       "RangeIndex(start=0, stop=3, step=1)"
      ]
     },
     "execution_count": 54,
     "metadata": {},
     "output_type": "execute_result"
    }
   ],
   "source": [
    "df.index"
   ]
  },
  {
   "cell_type": "code",
   "execution_count": 47,
   "id": "005ff15b",
   "metadata": {},
   "outputs": [
    {
     "data": {
      "text/plain": [
       "pandas.core.frame.DataFrame"
      ]
     },
     "execution_count": 47,
     "metadata": {},
     "output_type": "execute_result"
    }
   ],
   "source": [
    "type(df[[\"city\"]])"
   ]
  },
  {
   "cell_type": "code",
   "execution_count": 56,
   "id": "c3429b97",
   "metadata": {},
   "outputs": [
    {
     "data": {
      "text/plain": [
       "Index(['city', 'density', 'area', 'population'], dtype='object')"
      ]
     },
     "execution_count": 56,
     "metadata": {},
     "output_type": "execute_result"
    }
   ],
   "source": [
    "df.columns"
   ]
  },
  {
   "cell_type": "code",
   "execution_count": 27,
   "id": "bde363fb",
   "metadata": {},
   "outputs": [
    {
     "data": {
      "text/html": [
       "<div>\n",
       "<style scoped>\n",
       "    .dataframe tbody tr th:only-of-type {\n",
       "        vertical-align: middle;\n",
       "    }\n",
       "\n",
       "    .dataframe tbody tr th {\n",
       "        vertical-align: top;\n",
       "    }\n",
       "\n",
       "    .dataframe thead th {\n",
       "        text-align: right;\n",
       "    }\n",
       "</style>\n",
       "<table border=\"1\" class=\"dataframe\">\n",
       "  <thead>\n",
       "    <tr style=\"text-align: right;\">\n",
       "      <th></th>\n",
       "      <th>density</th>\n",
       "      <th>area</th>\n",
       "      <th>population</th>\n",
       "    </tr>\n",
       "    <tr>\n",
       "      <th>city</th>\n",
       "      <th></th>\n",
       "      <th></th>\n",
       "      <th></th>\n",
       "    </tr>\n",
       "  </thead>\n",
       "  <tbody>\n",
       "    <tr>\n",
       "      <th>Paris</th>\n",
       "      <td>3550</td>\n",
       "      <td>2723</td>\n",
       "      <td>9645000</td>\n",
       "    </tr>\n",
       "    <tr>\n",
       "      <th>London</th>\n",
       "      <td>5100</td>\n",
       "      <td>1623</td>\n",
       "      <td>8278000</td>\n",
       "    </tr>\n",
       "    <tr>\n",
       "      <th>Berlin</th>\n",
       "      <td>3750</td>\n",
       "      <td>984</td>\n",
       "      <td>3675000</td>\n",
       "    </tr>\n",
       "  </tbody>\n",
       "</table>\n",
       "</div>"
      ],
      "text/plain": [
       "        density  area  population\n",
       "city                             \n",
       "Paris      3550  2723     9645000\n",
       "London     5100  1623     8278000\n",
       "Berlin     3750   984     3675000"
      ]
     },
     "execution_count": 27,
     "metadata": {},
     "output_type": "execute_result"
    }
   ],
   "source": [
    "df.set_index(\"city\")"
   ]
  },
  {
   "cell_type": "code",
   "execution_count": 25,
   "id": "dd909226",
   "metadata": {},
   "outputs": [
    {
     "data": {
      "text/html": [
       "<div>\n",
       "<style scoped>\n",
       "    .dataframe tbody tr th:only-of-type {\n",
       "        vertical-align: middle;\n",
       "    }\n",
       "\n",
       "    .dataframe tbody tr th {\n",
       "        vertical-align: top;\n",
       "    }\n",
       "\n",
       "    .dataframe thead th {\n",
       "        text-align: right;\n",
       "    }\n",
       "</style>\n",
       "<table border=\"1\" class=\"dataframe\">\n",
       "  <thead>\n",
       "    <tr style=\"text-align: right;\">\n",
       "      <th></th>\n",
       "      <th></th>\n",
       "      <th>area</th>\n",
       "      <th>population</th>\n",
       "    </tr>\n",
       "    <tr>\n",
       "      <th>density</th>\n",
       "      <th>city</th>\n",
       "      <th></th>\n",
       "      <th></th>\n",
       "    </tr>\n",
       "  </thead>\n",
       "  <tbody>\n",
       "    <tr>\n",
       "      <th rowspan=\"2\" valign=\"top\">3550</th>\n",
       "      <th>Paris</th>\n",
       "      <td>2723</td>\n",
       "      <td>9645000</td>\n",
       "    </tr>\n",
       "    <tr>\n",
       "      <th>London</th>\n",
       "      <td>1623</td>\n",
       "      <td>8278000</td>\n",
       "    </tr>\n",
       "    <tr>\n",
       "      <th>3750</th>\n",
       "      <th>Berlin</th>\n",
       "      <td>984</td>\n",
       "      <td>3675000</td>\n",
       "    </tr>\n",
       "  </tbody>\n",
       "</table>\n",
       "</div>"
      ],
      "text/plain": [
       "                area  population\n",
       "density city                    \n",
       "3550    Paris   2723     9645000\n",
       "        London  1623     8278000\n",
       "3750    Berlin   984     3675000"
      ]
     },
     "execution_count": 25,
     "metadata": {},
     "output_type": "execute_result"
    }
   ],
   "source": [
    "#df.set_index([\"density\", \"city\"])"
   ]
  },
  {
   "cell_type": "code",
   "execution_count": 61,
   "id": "9b12c709",
   "metadata": {},
   "outputs": [],
   "source": [
    "df_2 = df.set_index(\"city\")"
   ]
  },
  {
   "cell_type": "code",
   "execution_count": null,
   "id": "9d30af29",
   "metadata": {},
   "outputs": [],
   "source": [
    "# immutable"
   ]
  },
  {
   "cell_type": "code",
   "execution_count": 65,
   "id": "7c0c810b",
   "metadata": {},
   "outputs": [
    {
     "data": {
      "text/html": [
       "<div>\n",
       "<style scoped>\n",
       "    .dataframe tbody tr th:only-of-type {\n",
       "        vertical-align: middle;\n",
       "    }\n",
       "\n",
       "    .dataframe tbody tr th {\n",
       "        vertical-align: top;\n",
       "    }\n",
       "\n",
       "    .dataframe thead th {\n",
       "        text-align: right;\n",
       "    }\n",
       "</style>\n",
       "<table border=\"1\" class=\"dataframe\">\n",
       "  <thead>\n",
       "    <tr style=\"text-align: right;\">\n",
       "      <th></th>\n",
       "      <th>city</th>\n",
       "      <th>density</th>\n",
       "      <th>area</th>\n",
       "      <th>population</th>\n",
       "    </tr>\n",
       "  </thead>\n",
       "  <tbody>\n",
       "    <tr>\n",
       "      <th>0</th>\n",
       "      <td>Paris</td>\n",
       "      <td>3550</td>\n",
       "      <td>2723</td>\n",
       "      <td>9645000</td>\n",
       "    </tr>\n",
       "    <tr>\n",
       "      <th>1</th>\n",
       "      <td>London</td>\n",
       "      <td>5100</td>\n",
       "      <td>1623</td>\n",
       "      <td>8278000</td>\n",
       "    </tr>\n",
       "    <tr>\n",
       "      <th>2</th>\n",
       "      <td>Berlin</td>\n",
       "      <td>3750</td>\n",
       "      <td>984</td>\n",
       "      <td>3675000</td>\n",
       "    </tr>\n",
       "  </tbody>\n",
       "</table>\n",
       "</div>"
      ],
      "text/plain": [
       "     city  density  area  population\n",
       "0   Paris     3550  2723     9645000\n",
       "1  London     5100  1623     8278000\n",
       "2  Berlin     3750   984     3675000"
      ]
     },
     "execution_count": 65,
     "metadata": {},
     "output_type": "execute_result"
    }
   ],
   "source": [
    "df_2.reset_index()"
   ]
  },
  {
   "cell_type": "code",
   "execution_count": 66,
   "id": "19930a87",
   "metadata": {},
   "outputs": [
    {
     "data": {
      "text/html": [
       "<div>\n",
       "<style scoped>\n",
       "    .dataframe tbody tr th:only-of-type {\n",
       "        vertical-align: middle;\n",
       "    }\n",
       "\n",
       "    .dataframe tbody tr th {\n",
       "        vertical-align: top;\n",
       "    }\n",
       "\n",
       "    .dataframe thead th {\n",
       "        text-align: right;\n",
       "    }\n",
       "</style>\n",
       "<table border=\"1\" class=\"dataframe\">\n",
       "  <thead>\n",
       "    <tr style=\"text-align: right;\">\n",
       "      <th></th>\n",
       "      <th>city</th>\n",
       "      <th>density</th>\n",
       "      <th>area</th>\n",
       "      <th>population</th>\n",
       "    </tr>\n",
       "  </thead>\n",
       "  <tbody>\n",
       "    <tr>\n",
       "      <th>0</th>\n",
       "      <td>Paris</td>\n",
       "      <td>3550</td>\n",
       "      <td>2723</td>\n",
       "      <td>9645000</td>\n",
       "    </tr>\n",
       "    <tr>\n",
       "      <th>1</th>\n",
       "      <td>London</td>\n",
       "      <td>5100</td>\n",
       "      <td>1623</td>\n",
       "      <td>8278000</td>\n",
       "    </tr>\n",
       "    <tr>\n",
       "      <th>2</th>\n",
       "      <td>Berlin</td>\n",
       "      <td>3750</td>\n",
       "      <td>984</td>\n",
       "      <td>3675000</td>\n",
       "    </tr>\n",
       "  </tbody>\n",
       "</table>\n",
       "</div>"
      ],
      "text/plain": [
       "     city  density  area  population\n",
       "0   Paris     3550  2723     9645000\n",
       "1  London     5100  1623     8278000\n",
       "2  Berlin     3750   984     3675000"
      ]
     },
     "execution_count": 66,
     "metadata": {},
     "output_type": "execute_result"
    }
   ],
   "source": [
    "df"
   ]
  },
  {
   "cell_type": "code",
   "execution_count": 68,
   "id": "7a18c663",
   "metadata": {},
   "outputs": [
    {
     "data": {
      "text/plain": [
       "0    3542.049210\n",
       "1    5100.431300\n",
       "2    3734.756098\n",
       "dtype: float64"
      ]
     },
     "execution_count": 68,
     "metadata": {},
     "output_type": "execute_result"
    }
   ],
   "source": [
    "df[\"population\"] / df[\"area\"]"
   ]
  },
  {
   "cell_type": "code",
   "execution_count": 69,
   "id": "371e763b",
   "metadata": {},
   "outputs": [
    {
     "data": {
      "text/plain": [
       "0    False\n",
       "1     True\n",
       "2    False\n",
       "Name: density, dtype: bool"
      ]
     },
     "execution_count": 69,
     "metadata": {},
     "output_type": "execute_result"
    }
   ],
   "source": [
    "df[\"density\"] > 4000"
   ]
  },
  {
   "cell_type": "code",
   "execution_count": 70,
   "id": "4750b230",
   "metadata": {},
   "outputs": [
    {
     "data": {
      "text/html": [
       "<div>\n",
       "<style scoped>\n",
       "    .dataframe tbody tr th:only-of-type {\n",
       "        vertical-align: middle;\n",
       "    }\n",
       "\n",
       "    .dataframe tbody tr th {\n",
       "        vertical-align: top;\n",
       "    }\n",
       "\n",
       "    .dataframe thead th {\n",
       "        text-align: right;\n",
       "    }\n",
       "</style>\n",
       "<table border=\"1\" class=\"dataframe\">\n",
       "  <thead>\n",
       "    <tr style=\"text-align: right;\">\n",
       "      <th></th>\n",
       "      <th>city</th>\n",
       "      <th>density</th>\n",
       "      <th>area</th>\n",
       "      <th>population</th>\n",
       "    </tr>\n",
       "  </thead>\n",
       "  <tbody>\n",
       "    <tr>\n",
       "      <th>1</th>\n",
       "      <td>London</td>\n",
       "      <td>5100</td>\n",
       "      <td>1623</td>\n",
       "      <td>8278000</td>\n",
       "    </tr>\n",
       "  </tbody>\n",
       "</table>\n",
       "</div>"
      ],
      "text/plain": [
       "     city  density  area  population\n",
       "1  London     5100  1623     8278000"
      ]
     },
     "execution_count": 70,
     "metadata": {},
     "output_type": "execute_result"
    }
   ],
   "source": [
    "df[df[\"density\"] > 4000]"
   ]
  },
  {
   "cell_type": "code",
   "execution_count": 71,
   "id": "bd943ebc",
   "metadata": {},
   "outputs": [
    {
     "data": {
      "text/plain": [
       "0    2723\n",
       "1    1623\n",
       "2     984\n",
       "Name: area, dtype: int64"
      ]
     },
     "execution_count": 71,
     "metadata": {},
     "output_type": "execute_result"
    }
   ],
   "source": [
    "df[\"area\"]"
   ]
  },
  {
   "cell_type": "code",
   "execution_count": 72,
   "id": "c8c91275",
   "metadata": {},
   "outputs": [
    {
     "data": {
      "text/html": [
       "<div>\n",
       "<style scoped>\n",
       "    .dataframe tbody tr th:only-of-type {\n",
       "        vertical-align: middle;\n",
       "    }\n",
       "\n",
       "    .dataframe tbody tr th {\n",
       "        vertical-align: top;\n",
       "    }\n",
       "\n",
       "    .dataframe thead th {\n",
       "        text-align: right;\n",
       "    }\n",
       "</style>\n",
       "<table border=\"1\" class=\"dataframe\">\n",
       "  <thead>\n",
       "    <tr style=\"text-align: right;\">\n",
       "      <th></th>\n",
       "      <th>area</th>\n",
       "      <th>city</th>\n",
       "    </tr>\n",
       "  </thead>\n",
       "  <tbody>\n",
       "    <tr>\n",
       "      <th>0</th>\n",
       "      <td>2723</td>\n",
       "      <td>Paris</td>\n",
       "    </tr>\n",
       "    <tr>\n",
       "      <th>1</th>\n",
       "      <td>1623</td>\n",
       "      <td>London</td>\n",
       "    </tr>\n",
       "    <tr>\n",
       "      <th>2</th>\n",
       "      <td>984</td>\n",
       "      <td>Berlin</td>\n",
       "    </tr>\n",
       "  </tbody>\n",
       "</table>\n",
       "</div>"
      ],
      "text/plain": [
       "   area    city\n",
       "0  2723   Paris\n",
       "1  1623  London\n",
       "2   984  Berlin"
      ]
     },
     "execution_count": 72,
     "metadata": {},
     "output_type": "execute_result"
    }
   ],
   "source": [
    "df[[\"area\", \"city\"]]"
   ]
  },
  {
   "cell_type": "code",
   "execution_count": 74,
   "id": "ba56a273",
   "metadata": {},
   "outputs": [
    {
     "data": {
      "text/html": [
       "<div>\n",
       "<style scoped>\n",
       "    .dataframe tbody tr th:only-of-type {\n",
       "        vertical-align: middle;\n",
       "    }\n",
       "\n",
       "    .dataframe tbody tr th {\n",
       "        vertical-align: top;\n",
       "    }\n",
       "\n",
       "    .dataframe thead th {\n",
       "        text-align: right;\n",
       "    }\n",
       "</style>\n",
       "<table border=\"1\" class=\"dataframe\">\n",
       "  <thead>\n",
       "    <tr style=\"text-align: right;\">\n",
       "      <th></th>\n",
       "      <th>city</th>\n",
       "      <th>density</th>\n",
       "      <th>area</th>\n",
       "      <th>population</th>\n",
       "    </tr>\n",
       "  </thead>\n",
       "  <tbody>\n",
       "    <tr>\n",
       "      <th>0</th>\n",
       "      <td>Paris</td>\n",
       "      <td>3550</td>\n",
       "      <td>2723</td>\n",
       "      <td>9645000</td>\n",
       "    </tr>\n",
       "    <tr>\n",
       "      <th>1</th>\n",
       "      <td>London</td>\n",
       "      <td>5100</td>\n",
       "      <td>1623</td>\n",
       "      <td>8278000</td>\n",
       "    </tr>\n",
       "    <tr>\n",
       "      <th>2</th>\n",
       "      <td>Berlin</td>\n",
       "      <td>3750</td>\n",
       "      <td>984</td>\n",
       "      <td>3675000</td>\n",
       "    </tr>\n",
       "  </tbody>\n",
       "</table>\n",
       "</div>"
      ],
      "text/plain": [
       "     city  density  area  population\n",
       "0   Paris     3550  2723     9645000\n",
       "1  London     5100  1623     8278000\n",
       "2  Berlin     3750   984     3675000"
      ]
     },
     "execution_count": 74,
     "metadata": {},
     "output_type": "execute_result"
    }
   ],
   "source": [
    "df"
   ]
  },
  {
   "cell_type": "code",
   "execution_count": 73,
   "id": "052c69b9",
   "metadata": {},
   "outputs": [],
   "source": [
    "# df.loc                and df.iloc\n",
    "#    ^ via les labels          ^ via les index numeriques"
   ]
  },
  {
   "cell_type": "code",
   "execution_count": 75,
   "id": "d4da6081",
   "metadata": {},
   "outputs": [
    {
     "data": {
      "text/html": [
       "<div>\n",
       "<style scoped>\n",
       "    .dataframe tbody tr th:only-of-type {\n",
       "        vertical-align: middle;\n",
       "    }\n",
       "\n",
       "    .dataframe tbody tr th {\n",
       "        vertical-align: top;\n",
       "    }\n",
       "\n",
       "    .dataframe thead th {\n",
       "        text-align: right;\n",
       "    }\n",
       "</style>\n",
       "<table border=\"1\" class=\"dataframe\">\n",
       "  <thead>\n",
       "    <tr style=\"text-align: right;\">\n",
       "      <th></th>\n",
       "      <th>city</th>\n",
       "      <th>density</th>\n",
       "      <th>area</th>\n",
       "    </tr>\n",
       "  </thead>\n",
       "  <tbody>\n",
       "    <tr>\n",
       "      <th>1</th>\n",
       "      <td>London</td>\n",
       "      <td>5100</td>\n",
       "      <td>1623</td>\n",
       "    </tr>\n",
       "    <tr>\n",
       "      <th>2</th>\n",
       "      <td>Berlin</td>\n",
       "      <td>3750</td>\n",
       "      <td>984</td>\n",
       "    </tr>\n",
       "  </tbody>\n",
       "</table>\n",
       "</div>"
      ],
      "text/plain": [
       "     city  density  area\n",
       "1  London     5100  1623\n",
       "2  Berlin     3750   984"
      ]
     },
     "execution_count": 75,
     "metadata": {},
     "output_type": "execute_result"
    }
   ],
   "source": [
    "df.loc[1:2, [\"city\", \"density\", \"area\"]]"
   ]
  },
  {
   "cell_type": "code",
   "execution_count": 82,
   "id": "9f3f540a",
   "metadata": {},
   "outputs": [
    {
     "data": {
      "text/html": [
       "<div>\n",
       "<style scoped>\n",
       "    .dataframe tbody tr th:only-of-type {\n",
       "        vertical-align: middle;\n",
       "    }\n",
       "\n",
       "    .dataframe tbody tr th {\n",
       "        vertical-align: top;\n",
       "    }\n",
       "\n",
       "    .dataframe thead th {\n",
       "        text-align: right;\n",
       "    }\n",
       "</style>\n",
       "<table border=\"1\" class=\"dataframe\">\n",
       "  <thead>\n",
       "    <tr style=\"text-align: right;\">\n",
       "      <th></th>\n",
       "      <th>city</th>\n",
       "      <th>density</th>\n",
       "      <th>area</th>\n",
       "    </tr>\n",
       "  </thead>\n",
       "  <tbody>\n",
       "    <tr>\n",
       "      <th>1</th>\n",
       "      <td>London</td>\n",
       "      <td>5100</td>\n",
       "      <td>1623</td>\n",
       "    </tr>\n",
       "    <tr>\n",
       "      <th>2</th>\n",
       "      <td>Berlin</td>\n",
       "      <td>3750</td>\n",
       "      <td>984</td>\n",
       "    </tr>\n",
       "  </tbody>\n",
       "</table>\n",
       "</div>"
      ],
      "text/plain": [
       "     city  density  area\n",
       "1  London     5100  1623\n",
       "2  Berlin     3750   984"
      ]
     },
     "execution_count": 82,
     "metadata": {},
     "output_type": "execute_result"
    }
   ],
   "source": [
    "df.iloc[1:3, 0:3]"
   ]
  },
  {
   "cell_type": "code",
   "execution_count": 84,
   "id": "e070bd0e",
   "metadata": {},
   "outputs": [],
   "source": [
    "df.iloc[1, 2] = 3450"
   ]
  },
  {
   "cell_type": "code",
   "execution_count": 85,
   "id": "7ab378d3",
   "metadata": {},
   "outputs": [
    {
     "data": {
      "text/html": [
       "<div>\n",
       "<style scoped>\n",
       "    .dataframe tbody tr th:only-of-type {\n",
       "        vertical-align: middle;\n",
       "    }\n",
       "\n",
       "    .dataframe tbody tr th {\n",
       "        vertical-align: top;\n",
       "    }\n",
       "\n",
       "    .dataframe thead th {\n",
       "        text-align: right;\n",
       "    }\n",
       "</style>\n",
       "<table border=\"1\" class=\"dataframe\">\n",
       "  <thead>\n",
       "    <tr style=\"text-align: right;\">\n",
       "      <th></th>\n",
       "      <th>city</th>\n",
       "      <th>density</th>\n",
       "      <th>area</th>\n",
       "      <th>population</th>\n",
       "    </tr>\n",
       "  </thead>\n",
       "  <tbody>\n",
       "    <tr>\n",
       "      <th>0</th>\n",
       "      <td>Paris</td>\n",
       "      <td>3550</td>\n",
       "      <td>2723</td>\n",
       "      <td>9645000</td>\n",
       "    </tr>\n",
       "    <tr>\n",
       "      <th>1</th>\n",
       "      <td>London</td>\n",
       "      <td>5100</td>\n",
       "      <td>3450</td>\n",
       "      <td>8278000</td>\n",
       "    </tr>\n",
       "    <tr>\n",
       "      <th>2</th>\n",
       "      <td>Berlin</td>\n",
       "      <td>3750</td>\n",
       "      <td>984</td>\n",
       "      <td>3675000</td>\n",
       "    </tr>\n",
       "  </tbody>\n",
       "</table>\n",
       "</div>"
      ],
      "text/plain": [
       "     city  density  area  population\n",
       "0   Paris     3550  2723     9645000\n",
       "1  London     5100  3450     8278000\n",
       "2  Berlin     3750   984     3675000"
      ]
     },
     "execution_count": 85,
     "metadata": {},
     "output_type": "execute_result"
    }
   ],
   "source": [
    "df"
   ]
  },
  {
   "cell_type": "code",
   "execution_count": 29,
   "id": "5f86c16c",
   "metadata": {},
   "outputs": [],
   "source": [
    "df = pd.read_csv(\"world population.csv\")\n",
    "\n",
    "# read_sql -> Postgresql, MySQL"
   ]
  },
  {
   "cell_type": "code",
   "execution_count": 103,
   "id": "d412aec9",
   "metadata": {},
   "outputs": [
    {
     "data": {
      "text/html": [
       "<div>\n",
       "<style scoped>\n",
       "    .dataframe tbody tr th:only-of-type {\n",
       "        vertical-align: middle;\n",
       "    }\n",
       "\n",
       "    .dataframe tbody tr th {\n",
       "        vertical-align: top;\n",
       "    }\n",
       "\n",
       "    .dataframe thead th {\n",
       "        text-align: right;\n",
       "    }\n",
       "</style>\n",
       "<table border=\"1\" class=\"dataframe\">\n",
       "  <thead>\n",
       "    <tr style=\"text-align: right;\">\n",
       "      <th></th>\n",
       "      <th>City / Urban area</th>\n",
       "      <th>Country</th>\n",
       "      <th>Population</th>\n",
       "      <th>Land area</th>\n",
       "      <th>Density</th>\n",
       "    </tr>\n",
       "  </thead>\n",
       "  <tbody>\n",
       "    <tr>\n",
       "      <th>0</th>\n",
       "      <td>Tokyo/Yokohama</td>\n",
       "      <td>Japan</td>\n",
       "      <td>33,200,000</td>\n",
       "      <td>6,993</td>\n",
       "      <td>4,750</td>\n",
       "    </tr>\n",
       "    <tr>\n",
       "      <th>1</th>\n",
       "      <td>New York Metro</td>\n",
       "      <td>USA</td>\n",
       "      <td>17,800,000</td>\n",
       "      <td>8,683</td>\n",
       "      <td>2,050</td>\n",
       "    </tr>\n",
       "    <tr>\n",
       "      <th>2</th>\n",
       "      <td>Sao Paulo</td>\n",
       "      <td>Brazil</td>\n",
       "      <td>17,700,000</td>\n",
       "      <td>1,968</td>\n",
       "      <td>9,000</td>\n",
       "    </tr>\n",
       "    <tr>\n",
       "      <th>3</th>\n",
       "      <td>Seoul/Incheon</td>\n",
       "      <td>South Korea</td>\n",
       "      <td>17,500,000</td>\n",
       "      <td>1,049</td>\n",
       "      <td>16,700</td>\n",
       "    </tr>\n",
       "    <tr>\n",
       "      <th>4</th>\n",
       "      <td>Mexico City</td>\n",
       "      <td>Mexico</td>\n",
       "      <td>17,400,000</td>\n",
       "      <td>2,072</td>\n",
       "      <td>8,400</td>\n",
       "    </tr>\n",
       "    <tr>\n",
       "      <th>...</th>\n",
       "      <td>...</td>\n",
       "      <td>...</td>\n",
       "      <td>...</td>\n",
       "      <td>...</td>\n",
       "      <td>...</td>\n",
       "    </tr>\n",
       "    <tr>\n",
       "      <th>120</th>\n",
       "      <td>Copenhagen</td>\n",
       "      <td>Denmark</td>\n",
       "      <td>1,525,000</td>\n",
       "      <td>816</td>\n",
       "      <td>1,850</td>\n",
       "    </tr>\n",
       "    <tr>\n",
       "      <th>121</th>\n",
       "      <td>Brisbane</td>\n",
       "      <td>Australia</td>\n",
       "      <td>1,508,000</td>\n",
       "      <td>1,603</td>\n",
       "      <td>950</td>\n",
       "    </tr>\n",
       "    <tr>\n",
       "      <th>122</th>\n",
       "      <td>Riverside/San Bernardino</td>\n",
       "      <td>USA</td>\n",
       "      <td>1,507,000</td>\n",
       "      <td>1,136</td>\n",
       "      <td>1,350</td>\n",
       "    </tr>\n",
       "    <tr>\n",
       "      <th>123</th>\n",
       "      <td>Cincinnati</td>\n",
       "      <td>USA</td>\n",
       "      <td>1,503,000</td>\n",
       "      <td>1,740</td>\n",
       "      <td>850</td>\n",
       "    </tr>\n",
       "    <tr>\n",
       "      <th>124</th>\n",
       "      <td>Accra</td>\n",
       "      <td>Ghana</td>\n",
       "      <td>1,500,000</td>\n",
       "      <td>453</td>\n",
       "      <td>3,300</td>\n",
       "    </tr>\n",
       "  </tbody>\n",
       "</table>\n",
       "<p>125 rows × 5 columns</p>\n",
       "</div>"
      ],
      "text/plain": [
       "            City / Urban area      Country  Population Land area Density\n",
       "0              Tokyo/Yokohama        Japan  33,200,000     6,993   4,750\n",
       "1              New York Metro          USA  17,800,000     8,683   2,050\n",
       "2                   Sao Paulo       Brazil  17,700,000     1,968   9,000\n",
       "3               Seoul/Incheon  South Korea  17,500,000     1,049  16,700\n",
       "4                 Mexico City       Mexico  17,400,000     2,072   8,400\n",
       "..                        ...          ...         ...       ...     ...\n",
       "120                Copenhagen      Denmark   1,525,000       816   1,850\n",
       "121                  Brisbane    Australia   1,508,000     1,603     950\n",
       "122  Riverside/San Bernardino          USA   1,507,000     1,136   1,350\n",
       "123                Cincinnati          USA   1,503,000     1,740     850\n",
       "124                     Accra        Ghana   1,500,000       453   3,300\n",
       "\n",
       "[125 rows x 5 columns]"
      ]
     },
     "execution_count": 103,
     "metadata": {},
     "output_type": "execute_result"
    }
   ],
   "source": [
    "df"
   ]
  },
  {
   "cell_type": "markdown",
   "id": "587229b6",
   "metadata": {},
   "source": [
    "# Calculer la somme de la colonne population"
   ]
  },
  {
   "cell_type": "code",
   "execution_count": 104,
   "id": "d2712b9c",
   "metadata": {},
   "outputs": [],
   "source": [
    "# df.loc[2, \"Population\"] = np.nan"
   ]
  },
  {
   "cell_type": "code",
   "execution_count": 33,
   "id": "39c770c1",
   "metadata": {},
   "outputs": [],
   "source": [
    "df[\"Population\"].str.replace(\",\", \"\").fillna(0).astype(int).sum()\n",
    "df[\"Population\"] = df[\"Population\"].str.replace(\",\", \"\").fillna(0).astype(int)"
   ]
  },
  {
   "cell_type": "code",
   "execution_count": 34,
   "id": "422a89d3",
   "metadata": {},
   "outputs": [
    {
     "data": {
      "text/plain": [
       "660404000"
      ]
     },
     "execution_count": 34,
     "metadata": {},
     "output_type": "execute_result"
    }
   ],
   "source": [
    "df[\"Population\"].sum()"
   ]
  },
  {
   "cell_type": "markdown",
   "id": "9395b617",
   "metadata": {},
   "source": [
    "# Créer une colonne `real_density` à partir de population et area"
   ]
  },
  {
   "cell_type": "code",
   "execution_count": 36,
   "id": "d2f8ed74",
   "metadata": {},
   "outputs": [],
   "source": [
    "df[\"Land area\"] = df[\"Land area\"].str.replace(\",\", \"\").fillna(0).astype(int)"
   ]
  },
  {
   "cell_type": "code",
   "execution_count": 37,
   "id": "63e2b4da",
   "metadata": {},
   "outputs": [],
   "source": [
    "df[\"Real density\"] = df[\"Population\"] / df[\"Land area\"]"
   ]
  },
  {
   "cell_type": "markdown",
   "id": "77724ffb",
   "metadata": {},
   "source": [
    "# Calculer la population totale par pays"
   ]
  },
  {
   "cell_type": "code",
   "execution_count": 80,
   "id": "5927d140",
   "metadata": {
    "collapsed": true
   },
   "outputs": [
    {
     "data": {
      "text/plain": [
       "Country\n",
       "Argentina        11200000\n",
       "Australia         8172000\n",
       "Austria           1550000\n",
       "Azerbaijan        2100000\n",
       "Belgium           1570000\n",
       "Brazil           46850000\n",
       "Canada            9413000\n",
       "Chile             5425000\n",
       "China            38314000\n",
       "Colombia          7000000\n",
       "Congo             5000000\n",
       "Denmark           1525000\n",
       "Egypt            12200000\n",
       "France            9645000\n",
       "Germany          18770000\n",
       "Ghana             1500000\n",
       "Greece            3685000\n",
       "Hungary           1800000\n",
       "India            58000000\n",
       "Indonesia        14250000\n",
       "Iran              7250000\n",
       "Iraq              5500000\n",
       "Israel            2300000\n",
       "Italy             9150000\n",
       "Japan            62850000\n",
       "Kuwait            1600000\n",
       "Lebanon           1800000\n",
       "Malaysia          4400000\n",
       "Mexico           24100000\n",
       "Nigeria          13400000\n",
       "Pakistan         14900000\n",
       "Peru              7000000\n",
       "Philippines      14750000\n",
       "Poland            4200000\n",
       "Portugal          2250000\n",
       "Puerto Rico       2217000\n",
       "Russia           15800000\n",
       "Saudi Arabia      8275000\n",
       "Singapore         4000000\n",
       "South Africa     13450000\n",
       "South Korea      17500000\n",
       "Spain             8800000\n",
       "Sudan             4000000\n",
       "Taiwan            7700000\n",
       "Thailand          6500000\n",
       "Turkey           12100000\n",
       "UAE               1900000\n",
       "UK               12807000\n",
       "USA             103086000\n",
       "Uzbekistan        2200000\n",
       "Vietnam           4900000\n",
       "Zimbabwe          1750000\n",
       "Name: Population, dtype: int64"
      ]
     },
     "execution_count": 80,
     "metadata": {},
     "output_type": "execute_result"
    }
   ],
   "source": [
    "df.groupby(\"Country\")[\"Population\"].sum()"
   ]
  },
  {
   "cell_type": "code",
   "execution_count": 85,
   "id": "be67a921",
   "metadata": {
    "collapsed": true
   },
   "outputs": [
    {
     "data": {
      "text/html": [
       "<div>\n",
       "<style scoped>\n",
       "    .dataframe tbody tr th:only-of-type {\n",
       "        vertical-align: middle;\n",
       "    }\n",
       "\n",
       "    .dataframe tbody tr th {\n",
       "        vertical-align: top;\n",
       "    }\n",
       "\n",
       "    .dataframe thead th {\n",
       "        text-align: right;\n",
       "    }\n",
       "</style>\n",
       "<table border=\"1\" class=\"dataframe\">\n",
       "  <thead>\n",
       "    <tr style=\"text-align: right;\">\n",
       "      <th></th>\n",
       "      <th>Population</th>\n",
       "      <th>Real density</th>\n",
       "    </tr>\n",
       "    <tr>\n",
       "      <th>Country</th>\n",
       "      <th></th>\n",
       "      <th></th>\n",
       "    </tr>\n",
       "  </thead>\n",
       "  <tbody>\n",
       "    <tr>\n",
       "      <th>Argentina</th>\n",
       "      <td>11200000</td>\n",
       "      <td>4942.630185</td>\n",
       "    </tr>\n",
       "    <tr>\n",
       "      <th>Australia</th>\n",
       "      <td>8172000</td>\n",
       "      <td>1512.267587</td>\n",
       "    </tr>\n",
       "    <tr>\n",
       "      <th>Austria</th>\n",
       "      <td>1550000</td>\n",
       "      <td>3421.633554</td>\n",
       "    </tr>\n",
       "    <tr>\n",
       "      <th>Azerbaijan</th>\n",
       "      <td>2100000</td>\n",
       "      <td>3860.294118</td>\n",
       "    </tr>\n",
       "    <tr>\n",
       "      <th>Belgium</th>\n",
       "      <td>1570000</td>\n",
       "      <td>2205.056180</td>\n",
       "    </tr>\n",
       "    <tr>\n",
       "      <th>Brazil</th>\n",
       "      <td>46850000</td>\n",
       "      <td>5337.032715</td>\n",
       "    </tr>\n",
       "    <tr>\n",
       "      <th>Canada</th>\n",
       "      <td>9413000</td>\n",
       "      <td>2040.291709</td>\n",
       "    </tr>\n",
       "    <tr>\n",
       "      <th>Chile</th>\n",
       "      <td>5425000</td>\n",
       "      <td>8371.913580</td>\n",
       "    </tr>\n",
       "    <tr>\n",
       "      <th>China</th>\n",
       "      <td>38314000</td>\n",
       "      <td>11485.805604</td>\n",
       "    </tr>\n",
       "    <tr>\n",
       "      <th>Colombia</th>\n",
       "      <td>7000000</td>\n",
       "      <td>13513.513514</td>\n",
       "    </tr>\n",
       "    <tr>\n",
       "      <th>Congo</th>\n",
       "      <td>5000000</td>\n",
       "      <td>10660.980810</td>\n",
       "    </tr>\n",
       "    <tr>\n",
       "      <th>Denmark</th>\n",
       "      <td>1525000</td>\n",
       "      <td>1868.872549</td>\n",
       "    </tr>\n",
       "    <tr>\n",
       "      <th>Egypt</th>\n",
       "      <td>12200000</td>\n",
       "      <td>9420.849421</td>\n",
       "    </tr>\n",
       "    <tr>\n",
       "      <th>France</th>\n",
       "      <td>9645000</td>\n",
       "      <td>3542.049210</td>\n",
       "    </tr>\n",
       "    <tr>\n",
       "      <th>Germany</th>\n",
       "      <td>18770000</td>\n",
       "      <td>2771.054346</td>\n",
       "    </tr>\n",
       "    <tr>\n",
       "      <th>Ghana</th>\n",
       "      <td>1500000</td>\n",
       "      <td>3311.258278</td>\n",
       "    </tr>\n",
       "    <tr>\n",
       "      <th>Greece</th>\n",
       "      <td>3685000</td>\n",
       "      <td>5387.426901</td>\n",
       "    </tr>\n",
       "    <tr>\n",
       "      <th>Hungary</th>\n",
       "      <td>1800000</td>\n",
       "      <td>2564.102564</td>\n",
       "    </tr>\n",
       "    <tr>\n",
       "      <th>India</th>\n",
       "      <td>58000000</td>\n",
       "      <td>16363.936361</td>\n",
       "    </tr>\n",
       "    <tr>\n",
       "      <th>Indonesia</th>\n",
       "      <td>14250000</td>\n",
       "      <td>10477.941176</td>\n",
       "    </tr>\n",
       "    <tr>\n",
       "      <th>Iran</th>\n",
       "      <td>7250000</td>\n",
       "      <td>10568.513120</td>\n",
       "    </tr>\n",
       "    <tr>\n",
       "      <th>Iraq</th>\n",
       "      <td>5500000</td>\n",
       "      <td>9228.187919</td>\n",
       "    </tr>\n",
       "    <tr>\n",
       "      <th>Israel</th>\n",
       "      <td>2300000</td>\n",
       "      <td>5077.262693</td>\n",
       "    </tr>\n",
       "    <tr>\n",
       "      <th>Italy</th>\n",
       "      <td>9150000</td>\n",
       "      <td>3273.545651</td>\n",
       "    </tr>\n",
       "    <tr>\n",
       "      <th>Japan</th>\n",
       "      <td>62850000</td>\n",
       "      <td>4649.665790</td>\n",
       "    </tr>\n",
       "    <tr>\n",
       "      <th>Kuwait</th>\n",
       "      <td>1600000</td>\n",
       "      <td>2941.176471</td>\n",
       "    </tr>\n",
       "    <tr>\n",
       "      <th>Lebanon</th>\n",
       "      <td>1800000</td>\n",
       "      <td>2777.777778</td>\n",
       "    </tr>\n",
       "    <tr>\n",
       "      <th>Malaysia</th>\n",
       "      <td>4400000</td>\n",
       "      <td>2739.726027</td>\n",
       "    </tr>\n",
       "    <tr>\n",
       "      <th>Mexico</th>\n",
       "      <td>24100000</td>\n",
       "      <td>6983.583723</td>\n",
       "    </tr>\n",
       "    <tr>\n",
       "      <th>Nigeria</th>\n",
       "      <td>13400000</td>\n",
       "      <td>18157.181572</td>\n",
       "    </tr>\n",
       "    <tr>\n",
       "      <th>Pakistan</th>\n",
       "      <td>14900000</td>\n",
       "      <td>13559.137916</td>\n",
       "    </tr>\n",
       "    <tr>\n",
       "      <th>Peru</th>\n",
       "      <td>7000000</td>\n",
       "      <td>11744.966443</td>\n",
       "    </tr>\n",
       "    <tr>\n",
       "      <th>Philippines</th>\n",
       "      <td>14750000</td>\n",
       "      <td>10543.245175</td>\n",
       "    </tr>\n",
       "    <tr>\n",
       "      <th>Poland</th>\n",
       "      <td>4200000</td>\n",
       "      <td>4167.981570</td>\n",
       "    </tr>\n",
       "    <tr>\n",
       "      <th>Portugal</th>\n",
       "      <td>2250000</td>\n",
       "      <td>2553.916005</td>\n",
       "    </tr>\n",
       "    <tr>\n",
       "      <th>Puerto Rico</th>\n",
       "      <td>2217000</td>\n",
       "      <td>960.155912</td>\n",
       "    </tr>\n",
       "    <tr>\n",
       "      <th>Russia</th>\n",
       "      <td>15800000</td>\n",
       "      <td>6702.310626</td>\n",
       "    </tr>\n",
       "    <tr>\n",
       "      <th>Saudi Arabia</th>\n",
       "      <td>8275000</td>\n",
       "      <td>3146.095882</td>\n",
       "    </tr>\n",
       "    <tr>\n",
       "      <th>Singapore</th>\n",
       "      <td>4000000</td>\n",
       "      <td>8350.730689</td>\n",
       "    </tr>\n",
       "    <tr>\n",
       "      <th>South Africa</th>\n",
       "      <td>13450000</td>\n",
       "      <td>3171.777465</td>\n",
       "    </tr>\n",
       "    <tr>\n",
       "      <th>South Korea</th>\n",
       "      <td>17500000</td>\n",
       "      <td>16682.554814</td>\n",
       "    </tr>\n",
       "    <tr>\n",
       "      <th>Spain</th>\n",
       "      <td>8800000</td>\n",
       "      <td>5020.986117</td>\n",
       "    </tr>\n",
       "    <tr>\n",
       "      <th>Sudan</th>\n",
       "      <td>4000000</td>\n",
       "      <td>6861.063465</td>\n",
       "    </tr>\n",
       "    <tr>\n",
       "      <th>Taiwan</th>\n",
       "      <td>7700000</td>\n",
       "      <td>9540.571548</td>\n",
       "    </tr>\n",
       "    <tr>\n",
       "      <th>Thailand</th>\n",
       "      <td>6500000</td>\n",
       "      <td>6435.643564</td>\n",
       "    </tr>\n",
       "    <tr>\n",
       "      <th>Turkey</th>\n",
       "      <td>12100000</td>\n",
       "      <td>6518.010292</td>\n",
       "    </tr>\n",
       "    <tr>\n",
       "      <th>UAE</th>\n",
       "      <td>1900000</td>\n",
       "      <td>2668.539326</td>\n",
       "    </tr>\n",
       "    <tr>\n",
       "      <th>UK</th>\n",
       "      <td>12807000</td>\n",
       "      <td>4310.131819</td>\n",
       "    </tr>\n",
       "    <tr>\n",
       "      <th>USA</th>\n",
       "      <td>103086000</td>\n",
       "      <td>1345.330138</td>\n",
       "    </tr>\n",
       "    <tr>\n",
       "      <th>Uzbekistan</th>\n",
       "      <td>2200000</td>\n",
       "      <td>4143.126177</td>\n",
       "    </tr>\n",
       "    <tr>\n",
       "      <th>Vietnam</th>\n",
       "      <td>4900000</td>\n",
       "      <td>9459.459459</td>\n",
       "    </tr>\n",
       "    <tr>\n",
       "      <th>Zimbabwe</th>\n",
       "      <td>1750000</td>\n",
       "      <td>2457.865169</td>\n",
       "    </tr>\n",
       "  </tbody>\n",
       "</table>\n",
       "</div>"
      ],
      "text/plain": [
       "              Population  Real density\n",
       "Country                               \n",
       "Argentina       11200000   4942.630185\n",
       "Australia        8172000   1512.267587\n",
       "Austria          1550000   3421.633554\n",
       "Azerbaijan       2100000   3860.294118\n",
       "Belgium          1570000   2205.056180\n",
       "Brazil          46850000   5337.032715\n",
       "Canada           9413000   2040.291709\n",
       "Chile            5425000   8371.913580\n",
       "China           38314000  11485.805604\n",
       "Colombia         7000000  13513.513514\n",
       "Congo            5000000  10660.980810\n",
       "Denmark          1525000   1868.872549\n",
       "Egypt           12200000   9420.849421\n",
       "France           9645000   3542.049210\n",
       "Germany         18770000   2771.054346\n",
       "Ghana            1500000   3311.258278\n",
       "Greece           3685000   5387.426901\n",
       "Hungary          1800000   2564.102564\n",
       "India           58000000  16363.936361\n",
       "Indonesia       14250000  10477.941176\n",
       "Iran             7250000  10568.513120\n",
       "Iraq             5500000   9228.187919\n",
       "Israel           2300000   5077.262693\n",
       "Italy            9150000   3273.545651\n",
       "Japan           62850000   4649.665790\n",
       "Kuwait           1600000   2941.176471\n",
       "Lebanon          1800000   2777.777778\n",
       "Malaysia         4400000   2739.726027\n",
       "Mexico          24100000   6983.583723\n",
       "Nigeria         13400000  18157.181572\n",
       "Pakistan        14900000  13559.137916\n",
       "Peru             7000000  11744.966443\n",
       "Philippines     14750000  10543.245175\n",
       "Poland           4200000   4167.981570\n",
       "Portugal         2250000   2553.916005\n",
       "Puerto Rico      2217000    960.155912\n",
       "Russia          15800000   6702.310626\n",
       "Saudi Arabia     8275000   3146.095882\n",
       "Singapore        4000000   8350.730689\n",
       "South Africa    13450000   3171.777465\n",
       "South Korea     17500000  16682.554814\n",
       "Spain            8800000   5020.986117\n",
       "Sudan            4000000   6861.063465\n",
       "Taiwan           7700000   9540.571548\n",
       "Thailand         6500000   6435.643564\n",
       "Turkey          12100000   6518.010292\n",
       "UAE              1900000   2668.539326\n",
       "UK              12807000   4310.131819\n",
       "USA            103086000   1345.330138\n",
       "Uzbekistan       2200000   4143.126177\n",
       "Vietnam          4900000   9459.459459\n",
       "Zimbabwe         1750000   2457.865169"
      ]
     },
     "execution_count": 85,
     "metadata": {},
     "output_type": "execute_result"
    }
   ],
   "source": [
    "df.groupby(\"Country\").agg({\"Population\": sum, \"Real density\": np.mean})"
   ]
  },
  {
   "cell_type": "code",
   "execution_count": 76,
   "id": "e6f6304f",
   "metadata": {
    "collapsed": true
   },
   "outputs": [
    {
     "data": {
      "text/plain": [
       "Country\n",
       "USA             103086000\n",
       "Japan            62850000\n",
       "India            58000000\n",
       "Brazil           46850000\n",
       "China            38314000\n",
       "Mexico           24100000\n",
       "Germany          18770000\n",
       "South Korea      17500000\n",
       "Russia           15800000\n",
       "Pakistan         14900000\n",
       "Philippines      14750000\n",
       "Indonesia        14250000\n",
       "South Africa     13450000\n",
       "Nigeria          13400000\n",
       "UK               12807000\n",
       "Egypt            12200000\n",
       "Turkey           12100000\n",
       "Argentina        11200000\n",
       "France            9645000\n",
       "Canada            9413000\n",
       "Italy             9150000\n",
       "Spain             8800000\n",
       "Saudi Arabia      8275000\n",
       "Australia         8172000\n",
       "Taiwan            7700000\n",
       "Iran              7250000\n",
       "Peru              7000000\n",
       "Colombia          7000000\n",
       "Thailand          6500000\n",
       "Iraq              5500000\n",
       "Chile             5425000\n",
       "Congo             5000000\n",
       "Vietnam           4900000\n",
       "Malaysia          4400000\n",
       "Poland            4200000\n",
       "Singapore         4000000\n",
       "Sudan             4000000\n",
       "Greece            3685000\n",
       "Israel            2300000\n",
       "Portugal          2250000\n",
       "Puerto Rico       2217000\n",
       "Uzbekistan        2200000\n",
       "Azerbaijan        2100000\n",
       "UAE               1900000\n",
       "Lebanon           1800000\n",
       "Hungary           1800000\n",
       "Zimbabwe          1750000\n",
       "Kuwait            1600000\n",
       "Belgium           1570000\n",
       "Austria           1550000\n",
       "Denmark           1525000\n",
       "Ghana             1500000\n",
       "Name: Population, dtype: int64"
      ]
     },
     "execution_count": 76,
     "metadata": {},
     "output_type": "execute_result"
    }
   ],
   "source": [
    "df.groupby(\"Country\")[\"Population\"].sum().sort_values(ascending=False)"
   ]
  },
  {
   "cell_type": "code",
   "execution_count": 87,
   "id": "b5079b78",
   "metadata": {},
   "outputs": [
    {
     "data": {
      "text/plain": [
       "USA        26\n",
       "Brazil      9\n",
       "Germany     6\n",
       "Name: Country, dtype: int64"
      ]
     },
     "execution_count": 87,
     "metadata": {},
     "output_type": "execute_result"
    }
   ],
   "source": [
    "df[\"Country\"].value_counts().head(3)"
   ]
  },
  {
   "cell_type": "code",
   "execution_count": null,
   "id": "fb98492f",
   "metadata": {},
   "outputs": [],
   "source": []
  }
 ],
 "metadata": {
  "kernelspec": {
   "display_name": "Python 3 (ipykernel)",
   "language": "python",
   "name": "python3"
  },
  "language_info": {
   "codemirror_mode": {
    "name": "ipython",
    "version": 3
   },
   "file_extension": ".py",
   "mimetype": "text/x-python",
   "name": "python",
   "nbconvert_exporter": "python",
   "pygments_lexer": "ipython3",
   "version": "3.8.9"
  }
 },
 "nbformat": 4,
 "nbformat_minor": 5
}
