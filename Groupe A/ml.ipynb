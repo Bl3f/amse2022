{
 "cells": [
  {
   "cell_type": "code",
   "execution_count": 12,
   "id": "2e33c74f",
   "metadata": {},
   "outputs": [],
   "source": [
    "import pandas as pd"
   ]
  },
  {
   "cell_type": "markdown",
   "id": "91ab3c8b",
   "metadata": {},
   "source": [
    "# Binariser la donnée"
   ]
  },
  {
   "cell_type": "code",
   "execution_count": 26,
   "id": "b29f3932",
   "metadata": {},
   "outputs": [],
   "source": [
    "df = pd.DataFrame({\"vendeur\": [\"amazon\", \"fnac\", \"fnac\", \"darty\"], \"prix\": [1200, 1100, 700, 1300]})"
   ]
  },
  {
   "cell_type": "code",
   "execution_count": 27,
   "id": "ba2811ab",
   "metadata": {},
   "outputs": [
    {
     "data": {
      "text/html": [
       "<div>\n",
       "<style scoped>\n",
       "    .dataframe tbody tr th:only-of-type {\n",
       "        vertical-align: middle;\n",
       "    }\n",
       "\n",
       "    .dataframe tbody tr th {\n",
       "        vertical-align: top;\n",
       "    }\n",
       "\n",
       "    .dataframe thead th {\n",
       "        text-align: right;\n",
       "    }\n",
       "</style>\n",
       "<table border=\"1\" class=\"dataframe\">\n",
       "  <thead>\n",
       "    <tr style=\"text-align: right;\">\n",
       "      <th></th>\n",
       "      <th>vendeur</th>\n",
       "      <th>prix</th>\n",
       "    </tr>\n",
       "  </thead>\n",
       "  <tbody>\n",
       "    <tr>\n",
       "      <th>0</th>\n",
       "      <td>amazon</td>\n",
       "      <td>1200</td>\n",
       "    </tr>\n",
       "    <tr>\n",
       "      <th>1</th>\n",
       "      <td>fnac</td>\n",
       "      <td>1100</td>\n",
       "    </tr>\n",
       "    <tr>\n",
       "      <th>2</th>\n",
       "      <td>fnac</td>\n",
       "      <td>700</td>\n",
       "    </tr>\n",
       "    <tr>\n",
       "      <th>3</th>\n",
       "      <td>darty</td>\n",
       "      <td>1300</td>\n",
       "    </tr>\n",
       "  </tbody>\n",
       "</table>\n",
       "</div>"
      ],
      "text/plain": [
       "  vendeur  prix\n",
       "0  amazon  1200\n",
       "1    fnac  1100\n",
       "2    fnac   700\n",
       "3   darty  1300"
      ]
     },
     "execution_count": 27,
     "metadata": {},
     "output_type": "execute_result"
    }
   ],
   "source": [
    "df"
   ]
  },
  {
   "cell_type": "code",
   "execution_count": 29,
   "id": "1bf030e3",
   "metadata": {},
   "outputs": [],
   "source": [
    "dummies = pd.get_dummies(df[\"vendeur\"])"
   ]
  },
  {
   "cell_type": "code",
   "execution_count": 30,
   "id": "c4e32960",
   "metadata": {},
   "outputs": [
    {
     "data": {
      "text/html": [
       "<div>\n",
       "<style scoped>\n",
       "    .dataframe tbody tr th:only-of-type {\n",
       "        vertical-align: middle;\n",
       "    }\n",
       "\n",
       "    .dataframe tbody tr th {\n",
       "        vertical-align: top;\n",
       "    }\n",
       "\n",
       "    .dataframe thead th {\n",
       "        text-align: right;\n",
       "    }\n",
       "</style>\n",
       "<table border=\"1\" class=\"dataframe\">\n",
       "  <thead>\n",
       "    <tr style=\"text-align: right;\">\n",
       "      <th></th>\n",
       "      <th>vendeur</th>\n",
       "      <th>prix</th>\n",
       "      <th>amazon</th>\n",
       "      <th>darty</th>\n",
       "      <th>fnac</th>\n",
       "    </tr>\n",
       "  </thead>\n",
       "  <tbody>\n",
       "    <tr>\n",
       "      <th>0</th>\n",
       "      <td>amazon</td>\n",
       "      <td>1200</td>\n",
       "      <td>1</td>\n",
       "      <td>0</td>\n",
       "      <td>0</td>\n",
       "    </tr>\n",
       "    <tr>\n",
       "      <th>1</th>\n",
       "      <td>fnac</td>\n",
       "      <td>1100</td>\n",
       "      <td>0</td>\n",
       "      <td>0</td>\n",
       "      <td>1</td>\n",
       "    </tr>\n",
       "    <tr>\n",
       "      <th>2</th>\n",
       "      <td>fnac</td>\n",
       "      <td>700</td>\n",
       "      <td>0</td>\n",
       "      <td>0</td>\n",
       "      <td>1</td>\n",
       "    </tr>\n",
       "    <tr>\n",
       "      <th>3</th>\n",
       "      <td>darty</td>\n",
       "      <td>1300</td>\n",
       "      <td>0</td>\n",
       "      <td>1</td>\n",
       "      <td>0</td>\n",
       "    </tr>\n",
       "  </tbody>\n",
       "</table>\n",
       "</div>"
      ],
      "text/plain": [
       "  vendeur  prix  amazon  darty  fnac\n",
       "0  amazon  1200       1      0     0\n",
       "1    fnac  1100       0      0     1\n",
       "2    fnac   700       0      0     1\n",
       "3   darty  1300       0      1     0"
      ]
     },
     "execution_count": 30,
     "metadata": {},
     "output_type": "execute_result"
    }
   ],
   "source": [
    "df.join(dummies)"
   ]
  },
  {
   "cell_type": "markdown",
   "id": "6a1d1e6e",
   "metadata": {},
   "source": [
    "# Binning"
   ]
  },
  {
   "cell_type": "code",
   "execution_count": 65,
   "id": "1c879f6a",
   "metadata": {},
   "outputs": [],
   "source": [
    "import random\n",
    "s = pd.Series([random.randint(0, 100) for i in range(5)])"
   ]
  },
  {
   "cell_type": "code",
   "execution_count": 66,
   "id": "45180534",
   "metadata": {},
   "outputs": [
    {
     "data": {
      "text/plain": [
       "0    19\n",
       "1    47\n",
       "2     6\n",
       "3     5\n",
       "4    48\n",
       "dtype: int64"
      ]
     },
     "execution_count": 66,
     "metadata": {},
     "output_type": "execute_result"
    }
   ],
   "source": [
    "s"
   ]
  },
  {
   "cell_type": "code",
   "execution_count": 67,
   "id": "bc6828b9",
   "metadata": {},
   "outputs": [],
   "source": [
    "bins = [0, 10, 60, 100]\n",
    "labels = [\"<10\", \"ok\", \">60\"]"
   ]
  },
  {
   "cell_type": "code",
   "execution_count": 68,
   "id": "240c335d",
   "metadata": {},
   "outputs": [
    {
     "data": {
      "text/plain": [
       "0     ok\n",
       "1     ok\n",
       "2    <10\n",
       "3    <10\n",
       "4     ok\n",
       "dtype: category\n",
       "Categories (3, object): ['<10' < 'ok' < '>60']"
      ]
     },
     "execution_count": 68,
     "metadata": {},
     "output_type": "execute_result"
    }
   ],
   "source": [
    "pd.cut(s, bins=bins, labels=labels)"
   ]
  },
  {
   "cell_type": "code",
   "execution_count": 69,
   "id": "0c1c797b",
   "metadata": {},
   "outputs": [
    {
     "data": {
      "text/plain": [
       "0    (4.999, 19.0]\n",
       "1     (19.0, 48.0]\n",
       "2    (4.999, 19.0]\n",
       "3    (4.999, 19.0]\n",
       "4     (19.0, 48.0]\n",
       "dtype: category\n",
       "Categories (2, interval[float64, right]): [(4.999, 19.0] < (19.0, 48.0]]"
      ]
     },
     "execution_count": 69,
     "metadata": {},
     "output_type": "execute_result"
    }
   ],
   "source": [
    "pd.qcut(s, 2)"
   ]
  },
  {
   "cell_type": "markdown",
   "id": "f83d298b",
   "metadata": {},
   "source": [
    "# Regression linéaire"
   ]
  },
  {
   "cell_type": "code",
   "execution_count": 70,
   "id": "a1533d11",
   "metadata": {},
   "outputs": [],
   "source": [
    "df = pd.DataFrame({\n",
    "    \"age\": [0.5, 1, 2, 2, 2, 3, 4, 10],\n",
    "    \"taille\": [50, 60, 70, 56, 62, 80, 83, 110],\n",
    "})"
   ]
  },
  {
   "cell_type": "code",
   "execution_count": 14,
   "id": "31314b17",
   "metadata": {},
   "outputs": [
    {
     "data": {
      "text/plain": [
       "<AxesSubplot:xlabel='taille', ylabel='age'>"
      ]
     },
     "execution_count": 14,
     "metadata": {},
     "output_type": "execute_result"
    },
    {
     "data": {
      "image/png": "[encoded data removed]",
      "text/plain": [
       "<Figure size 432x288 with 1 Axes>"
      ]
     },
     "metadata": {
      "needs_background": "light"
     },
     "output_type": "display_data"
    }
   ],
   "source": [
    "df.plot(x=\"taille\", y=\"age\", kind=\"scatter\")"
   ]
  },
  {
   "cell_type": "code",
   "execution_count": 15,
   "id": "827a1391",
   "metadata": {},
   "outputs": [
    {
     "data": {
      "text/html": [
       "<div>\n",
       "<style scoped>\n",
       "    .dataframe tbody tr th:only-of-type {\n",
       "        vertical-align: middle;\n",
       "    }\n",
       "\n",
       "    .dataframe tbody tr th {\n",
       "        vertical-align: top;\n",
       "    }\n",
       "\n",
       "    .dataframe thead th {\n",
       "        text-align: right;\n",
       "    }\n",
       "</style>\n",
       "<table border=\"1\" class=\"dataframe\">\n",
       "  <thead>\n",
       "    <tr style=\"text-align: right;\">\n",
       "      <th></th>\n",
       "      <th>age</th>\n",
       "      <th>taille</th>\n",
       "    </tr>\n",
       "  </thead>\n",
       "  <tbody>\n",
       "    <tr>\n",
       "      <th>0</th>\n",
       "      <td>0.5</td>\n",
       "      <td>50</td>\n",
       "    </tr>\n",
       "    <tr>\n",
       "      <th>1</th>\n",
       "      <td>1.0</td>\n",
       "      <td>60</td>\n",
       "    </tr>\n",
       "    <tr>\n",
       "      <th>2</th>\n",
       "      <td>2.0</td>\n",
       "      <td>70</td>\n",
       "    </tr>\n",
       "    <tr>\n",
       "      <th>3</th>\n",
       "      <td>2.0</td>\n",
       "      <td>56</td>\n",
       "    </tr>\n",
       "    <tr>\n",
       "      <th>4</th>\n",
       "      <td>2.0</td>\n",
       "      <td>62</td>\n",
       "    </tr>\n",
       "    <tr>\n",
       "      <th>5</th>\n",
       "      <td>3.0</td>\n",
       "      <td>80</td>\n",
       "    </tr>\n",
       "    <tr>\n",
       "      <th>6</th>\n",
       "      <td>4.0</td>\n",
       "      <td>83</td>\n",
       "    </tr>\n",
       "    <tr>\n",
       "      <th>7</th>\n",
       "      <td>10.0</td>\n",
       "      <td>110</td>\n",
       "    </tr>\n",
       "  </tbody>\n",
       "</table>\n",
       "</div>"
      ],
      "text/plain": [
       "    age  taille\n",
       "0   0.5      50\n",
       "1   1.0      60\n",
       "2   2.0      70\n",
       "3   2.0      56\n",
       "4   2.0      62\n",
       "5   3.0      80\n",
       "6   4.0      83\n",
       "7  10.0     110"
      ]
     },
     "execution_count": 15,
     "metadata": {},
     "output_type": "execute_result"
    }
   ],
   "source": [
    "df"
   ]
  },
  {
   "cell_type": "code",
   "execution_count": 91,
   "id": "3611bb7f",
   "metadata": {},
   "outputs": [],
   "source": [
    "df[\"is_even\"] = ((df[\"taille\"] % 2) == 0).astype(int)"
   ]
  },
  {
   "cell_type": "code",
   "execution_count": 92,
   "id": "dba1047c",
   "metadata": {},
   "outputs": [
    {
     "data": {
      "text/html": [
       "<div>\n",
       "<style scoped>\n",
       "    .dataframe tbody tr th:only-of-type {\n",
       "        vertical-align: middle;\n",
       "    }\n",
       "\n",
       "    .dataframe tbody tr th {\n",
       "        vertical-align: top;\n",
       "    }\n",
       "\n",
       "    .dataframe thead th {\n",
       "        text-align: right;\n",
       "    }\n",
       "</style>\n",
       "<table border=\"1\" class=\"dataframe\">\n",
       "  <thead>\n",
       "    <tr style=\"text-align: right;\">\n",
       "      <th></th>\n",
       "      <th>age</th>\n",
       "      <th>taille</th>\n",
       "      <th>is_even</th>\n",
       "    </tr>\n",
       "  </thead>\n",
       "  <tbody>\n",
       "    <tr>\n",
       "      <th>0</th>\n",
       "      <td>0.5</td>\n",
       "      <td>50</td>\n",
       "      <td>1</td>\n",
       "    </tr>\n",
       "    <tr>\n",
       "      <th>1</th>\n",
       "      <td>1.0</td>\n",
       "      <td>60</td>\n",
       "      <td>1</td>\n",
       "    </tr>\n",
       "    <tr>\n",
       "      <th>2</th>\n",
       "      <td>2.0</td>\n",
       "      <td>70</td>\n",
       "      <td>1</td>\n",
       "    </tr>\n",
       "    <tr>\n",
       "      <th>3</th>\n",
       "      <td>2.0</td>\n",
       "      <td>56</td>\n",
       "      <td>1</td>\n",
       "    </tr>\n",
       "    <tr>\n",
       "      <th>4</th>\n",
       "      <td>2.0</td>\n",
       "      <td>62</td>\n",
       "      <td>1</td>\n",
       "    </tr>\n",
       "    <tr>\n",
       "      <th>5</th>\n",
       "      <td>3.0</td>\n",
       "      <td>80</td>\n",
       "      <td>1</td>\n",
       "    </tr>\n",
       "    <tr>\n",
       "      <th>6</th>\n",
       "      <td>4.0</td>\n",
       "      <td>83</td>\n",
       "      <td>0</td>\n",
       "    </tr>\n",
       "    <tr>\n",
       "      <th>7</th>\n",
       "      <td>10.0</td>\n",
       "      <td>110</td>\n",
       "      <td>1</td>\n",
       "    </tr>\n",
       "  </tbody>\n",
       "</table>\n",
       "</div>"
      ],
      "text/plain": [
       "    age  taille  is_even\n",
       "0   0.5      50        1\n",
       "1   1.0      60        1\n",
       "2   2.0      70        1\n",
       "3   2.0      56        1\n",
       "4   2.0      62        1\n",
       "5   3.0      80        1\n",
       "6   4.0      83        0\n",
       "7  10.0     110        1"
      ]
     },
     "execution_count": 92,
     "metadata": {},
     "output_type": "execute_result"
    }
   ],
   "source": [
    "df"
   ]
  },
  {
   "cell_type": "code",
   "execution_count": 72,
   "id": "107d7fde",
   "metadata": {},
   "outputs": [],
   "source": [
    "from sklearn import linear_model"
   ]
  },
  {
   "cell_type": "code",
   "execution_count": 73,
   "id": "b5fbb519",
   "metadata": {},
   "outputs": [],
   "source": [
    "regr = linear_model.LinearRegression()"
   ]
  },
  {
   "cell_type": "code",
   "execution_count": 102,
   "id": "357980a6",
   "metadata": {},
   "outputs": [
    {
     "data": {
      "text/plain": [
       "LinearRegression()"
      ]
     },
     "execution_count": 102,
     "metadata": {},
     "output_type": "execute_result"
    }
   ],
   "source": [
    "# on cherche à prédire l'âge en fonction de la taille\n",
    "regr.fit(df[[\"taille\"]], df[\"age\"])\n",
    "\n",
    "# .fit(X, y)"
   ]
  },
  {
   "cell_type": "code",
   "execution_count": 103,
   "id": "543c2416",
   "metadata": {},
   "outputs": [
    {
     "data": {
      "text/plain": [
       "-7.4316149395055255"
      ]
     },
     "execution_count": 103,
     "metadata": {},
     "output_type": "execute_result"
    }
   ],
   "source": [
    "regr.intercept_"
   ]
  },
  {
   "cell_type": "code",
   "execution_count": 104,
   "id": "3c726574",
   "metadata": {},
   "outputs": [
    {
     "data": {
      "text/plain": [
       "array([0.14702788])"
      ]
     },
     "execution_count": 104,
     "metadata": {},
     "output_type": "execute_result"
    }
   ],
   "source": [
    "regr.coef_"
   ]
  },
  {
   "cell_type": "code",
   "execution_count": 105,
   "id": "d108af5e",
   "metadata": {},
   "outputs": [],
   "source": [
    "import joblib"
   ]
  },
  {
   "cell_type": "code",
   "execution_count": 106,
   "id": "ffbce8e6",
   "metadata": {},
   "outputs": [
    {
     "data": {
      "text/plain": [
       "['model.joblib']"
      ]
     },
     "execution_count": 106,
     "metadata": {},
     "output_type": "execute_result"
    }
   ],
   "source": [
    "joblib.dump(regr, \"model.joblib\")"
   ]
  },
  {
   "cell_type": "code",
   "execution_count": 107,
   "id": "1fa5df80",
   "metadata": {},
   "outputs": [
    {
     "name": "stderr",
     "output_type": "stream",
     "text": [
      "/Users/blef/.virtualenvs/lab/lib/python3.8/site-packages/sklearn/base.py:445: UserWarning: X does not have valid feature names, but LinearRegression was fitted with feature names\n",
      "  warnings.warn(\n"
     ]
    },
    {
     "data": {
      "text/plain": [
       "array([5.80089427])"
      ]
     },
     "execution_count": 107,
     "metadata": {},
     "output_type": "execute_result"
    }
   ],
   "source": [
    "regr.predict([[90]])"
   ]
  },
  {
   "cell_type": "code",
   "execution_count": 108,
   "id": "3dd2f8b7",
   "metadata": {},
   "outputs": [
    {
     "name": "stderr",
     "output_type": "stream",
     "text": [
      "/Users/blef/.virtualenvs/lab/lib/python3.8/site-packages/sklearn/base.py:445: UserWarning: X does not have valid feature names, but LinearRegression was fitted with feature names\n",
      "  warnings.warn(\n"
     ]
    }
   ],
   "source": [
    "predictions = regr.predict([[taille] for taille in range(40, 180)])"
   ]
  },
  {
   "cell_type": "code",
   "execution_count": 109,
   "id": "fe94a339",
   "metadata": {},
   "outputs": [
    {
     "data": {
      "text/plain": [
       "<AxesSubplot:xlabel='taille', ylabel='age'>"
      ]
     },
     "execution_count": 109,
     "metadata": {},
     "output_type": "execute_result"
    },
    {
     "data": {
      "image/png": "[encoded data removed]",
      "text/plain": [
       "<Figure size 432x288 with 1 Axes>"
      ]
     },
     "metadata": {
      "needs_background": "light"
     },
     "output_type": "display_data"
    }
   ],
   "source": [
    "ax = df.plot(x=\"taille\", y=\"age\", kind=\"scatter\")\n",
    "pd.Series(predictions, index=range(40, 180)).plot(ax=ax, color=\"red\")"
   ]
  },
  {
   "cell_type": "markdown",
   "id": "db326bc4",
   "metadata": {},
   "source": [
    "# Regression polynomiale"
   ]
  },
  {
   "cell_type": "code",
   "execution_count": 110,
   "id": "51f3e8a9",
   "metadata": {},
   "outputs": [],
   "source": [
    "from sklearn.preprocessing import PolynomialFeatures"
   ]
  },
  {
   "cell_type": "code",
   "execution_count": 128,
   "id": "c3950aee",
   "metadata": {},
   "outputs": [],
   "source": [
    "poly = PolynomialFeatures(degree=9)"
   ]
  },
  {
   "cell_type": "code",
   "execution_count": 129,
   "id": "6fa30dd9",
   "metadata": {},
   "outputs": [],
   "source": [
    "X = poly.fit_transform(df[[\"taille\"]])"
   ]
  },
  {
   "cell_type": "code",
   "execution_count": 130,
   "id": "51617a47",
   "metadata": {},
   "outputs": [],
   "source": [
    "regr = linear_model.LinearRegression()"
   ]
  },
  {
   "cell_type": "code",
   "execution_count": 131,
   "id": "d8104397",
   "metadata": {},
   "outputs": [
    {
     "data": {
      "text/plain": [
       "LinearRegression()"
      ]
     },
     "execution_count": 131,
     "metadata": {},
     "output_type": "execute_result"
    }
   ],
   "source": [
    "regr.fit(X, df[\"age\"])"
   ]
  },
  {
   "cell_type": "code",
   "execution_count": 134,
   "id": "15d56a0d",
   "metadata": {},
   "outputs": [
    {
     "data": {
      "text/plain": [
       "<AxesSubplot:xlabel='taille', ylabel='age'>"
      ]
     },
     "execution_count": 134,
     "metadata": {},
     "output_type": "execute_result"
    },
    {
     "data": {
      "image/png": "[encoded data removed]",
      "text/plain": [
       "<Figure size 432x288 with 1 Axes>"
      ]
     },
     "metadata": {
      "needs_background": "light"
     },
     "output_type": "display_data"
    }
   ],
   "source": [
    "predictions = regr.predict(poly.fit_transform([[taille] for taille in range(40, 112)]))\n",
    "ax = df.plot(x=\"taille\", y=\"age\", kind=\"scatter\")\n",
    "pd.Series(predictions, index=range(40, 112)).plot(ax=ax, color=\"red\")"
   ]
  },
  {
   "cell_type": "markdown",
   "id": "ba566077",
   "metadata": {},
   "source": [
    "# Regression logistique\n",
    "### Exercice : écrire un modèle qui prédit le genre d'un prénom\n",
    "\n",
    "- en comptant le nombre de voyelles -> `vowel_count`\n",
    "- si ça se termine par une voyelle ou un a -> `vowel_at_end` et `a_at_end`\n",
    "- sse / lle / tte -> `repeat_at_end`"
   ]
  },
  {
   "cell_type": "code",
   "execution_count": 174,
   "id": "f96ac01e",
   "metadata": {},
   "outputs": [],
   "source": [
    "prenoms = pd.read_csv(\"prenoms.csv\", sep=\";\").dropna()\n",
    "pre = prenoms[\"prenom\"].str.lower()"
   ]
  },
  {
   "cell_type": "code",
   "execution_count": 233,
   "id": "b56c3f27",
   "metadata": {},
   "outputs": [],
   "source": [
    "prenoms[\"vowel_count\"] = pre.str.count(r\"[aeyuio]\")\n",
    "prenoms[\"vowel_frequency\"] = prenoms[\"vowel_count\"] / pre.str.len()\n",
    "prenoms[\"vowel_at_end\"] = pre.str.match(r\".*[aeyuio]$\")\n",
    "prenoms[\"a_at_end\"] = pre.str.endswith(\"a\")\n",
    "prenoms[\"repeat_at_end\"] = pre.str.endswith(\"sse\") | pre.str.endswith(\"tte\") | pre.str.endswith(\"lle\")  "
   ]
  },
  {
   "cell_type": "code",
   "execution_count": 234,
   "id": "33675191",
   "metadata": {},
   "outputs": [
    {
     "data": {
      "text/html": [
       "<div>\n",
       "<style scoped>\n",
       "    .dataframe tbody tr th:only-of-type {\n",
       "        vertical-align: middle;\n",
       "    }\n",
       "\n",
       "    .dataframe tbody tr th {\n",
       "        vertical-align: top;\n",
       "    }\n",
       "\n",
       "    .dataframe thead th {\n",
       "        text-align: right;\n",
       "    }\n",
       "</style>\n",
       "<table border=\"1\" class=\"dataframe\">\n",
       "  <thead>\n",
       "    <tr style=\"text-align: right;\">\n",
       "      <th></th>\n",
       "      <th>prenom</th>\n",
       "      <th>genre</th>\n",
       "      <th>nb</th>\n",
       "      <th>vowel_count</th>\n",
       "      <th>vowel_at_end</th>\n",
       "      <th>a_at_end</th>\n",
       "      <th>repeat_at_end</th>\n",
       "      <th>vowel_frequency</th>\n",
       "    </tr>\n",
       "  </thead>\n",
       "  <tbody>\n",
       "    <tr>\n",
       "      <th>0</th>\n",
       "      <td>Michel</td>\n",
       "      <td>M</td>\n",
       "      <td>14136</td>\n",
       "      <td>2</td>\n",
       "      <td>False</td>\n",
       "      <td>False</td>\n",
       "      <td>False</td>\n",
       "      <td>0.333333</td>\n",
       "    </tr>\n",
       "    <tr>\n",
       "      <th>1</th>\n",
       "      <td>Alain</td>\n",
       "      <td>M</td>\n",
       "      <td>10646</td>\n",
       "      <td>3</td>\n",
       "      <td>False</td>\n",
       "      <td>False</td>\n",
       "      <td>False</td>\n",
       "      <td>0.600000</td>\n",
       "    </tr>\n",
       "    <tr>\n",
       "      <th>2</th>\n",
       "      <td>Philippe</td>\n",
       "      <td>M</td>\n",
       "      <td>9903</td>\n",
       "      <td>3</td>\n",
       "      <td>True</td>\n",
       "      <td>False</td>\n",
       "      <td>False</td>\n",
       "      <td>0.375000</td>\n",
       "    </tr>\n",
       "    <tr>\n",
       "      <th>3</th>\n",
       "      <td>Bernard</td>\n",
       "      <td>M</td>\n",
       "      <td>8992</td>\n",
       "      <td>2</td>\n",
       "      <td>False</td>\n",
       "      <td>False</td>\n",
       "      <td>False</td>\n",
       "      <td>0.285714</td>\n",
       "    </tr>\n",
       "    <tr>\n",
       "      <th>4</th>\n",
       "      <td>Christian</td>\n",
       "      <td>M</td>\n",
       "      <td>8102</td>\n",
       "      <td>3</td>\n",
       "      <td>False</td>\n",
       "      <td>False</td>\n",
       "      <td>False</td>\n",
       "      <td>0.333333</td>\n",
       "    </tr>\n",
       "    <tr>\n",
       "      <th>...</th>\n",
       "      <td>...</td>\n",
       "      <td>...</td>\n",
       "      <td>...</td>\n",
       "      <td>...</td>\n",
       "      <td>...</td>\n",
       "      <td>...</td>\n",
       "      <td>...</td>\n",
       "      <td>...</td>\n",
       "    </tr>\n",
       "    <tr>\n",
       "      <th>12462</th>\n",
       "      <td>F.Jacques</td>\n",
       "      <td>M</td>\n",
       "      <td>1</td>\n",
       "      <td>3</td>\n",
       "      <td>False</td>\n",
       "      <td>False</td>\n",
       "      <td>False</td>\n",
       "      <td>0.333333</td>\n",
       "    </tr>\n",
       "    <tr>\n",
       "      <th>12463</th>\n",
       "      <td>Frédie</td>\n",
       "      <td>F</td>\n",
       "      <td>1</td>\n",
       "      <td>2</td>\n",
       "      <td>True</td>\n",
       "      <td>False</td>\n",
       "      <td>False</td>\n",
       "      <td>0.333333</td>\n",
       "    </tr>\n",
       "    <tr>\n",
       "      <th>12464</th>\n",
       "      <td>Efisia</td>\n",
       "      <td>F</td>\n",
       "      <td>1</td>\n",
       "      <td>4</td>\n",
       "      <td>True</td>\n",
       "      <td>True</td>\n",
       "      <td>False</td>\n",
       "      <td>0.666667</td>\n",
       "    </tr>\n",
       "    <tr>\n",
       "      <th>12465</th>\n",
       "      <td>Cosima</td>\n",
       "      <td>F</td>\n",
       "      <td>1</td>\n",
       "      <td>3</td>\n",
       "      <td>True</td>\n",
       "      <td>True</td>\n",
       "      <td>False</td>\n",
       "      <td>0.500000</td>\n",
       "    </tr>\n",
       "    <tr>\n",
       "      <th>12466</th>\n",
       "      <td>Florisse</td>\n",
       "      <td>F</td>\n",
       "      <td>1</td>\n",
       "      <td>3</td>\n",
       "      <td>True</td>\n",
       "      <td>False</td>\n",
       "      <td>True</td>\n",
       "      <td>0.375000</td>\n",
       "    </tr>\n",
       "  </tbody>\n",
       "</table>\n",
       "<p>12465 rows × 8 columns</p>\n",
       "</div>"
      ],
      "text/plain": [
       "          prenom genre     nb  vowel_count  vowel_at_end  a_at_end  \\\n",
       "0         Michel     M  14136            2         False     False   \n",
       "1          Alain     M  10646            3         False     False   \n",
       "2       Philippe     M   9903            3          True     False   \n",
       "3        Bernard     M   8992            2         False     False   \n",
       "4      Christian     M   8102            3         False     False   \n",
       "...          ...   ...    ...          ...           ...       ...   \n",
       "12462  F.Jacques     M      1            3         False     False   \n",
       "12463     Frédie     F      1            2          True     False   \n",
       "12464     Efisia     F      1            4          True      True   \n",
       "12465     Cosima     F      1            3          True      True   \n",
       "12466   Florisse     F      1            3          True     False   \n",
       "\n",
       "       repeat_at_end  vowel_frequency  \n",
       "0              False         0.333333  \n",
       "1              False         0.600000  \n",
       "2              False         0.375000  \n",
       "3              False         0.285714  \n",
       "4              False         0.333333  \n",
       "...              ...              ...  \n",
       "12462          False         0.333333  \n",
       "12463          False         0.333333  \n",
       "12464          False         0.666667  \n",
       "12465          False         0.500000  \n",
       "12466           True         0.375000  \n",
       "\n",
       "[12465 rows x 8 columns]"
      ]
     },
     "execution_count": 234,
     "metadata": {},
     "output_type": "execute_result"
    }
   ],
   "source": [
    "prenoms"
   ]
  },
  {
   "cell_type": "code",
   "execution_count": 235,
   "id": "4db7917a",
   "metadata": {},
   "outputs": [],
   "source": [
    "from sklearn.linear_model import LogisticRegression"
   ]
  },
  {
   "cell_type": "code",
   "execution_count": 236,
   "id": "8f936f86",
   "metadata": {},
   "outputs": [],
   "source": [
    "# DATA + FE\n",
    "features = [\"vowel_count\", \"vowel_at_end\", \"a_at_end\", \"repeat_at_end\"]\n",
    "X = prenoms[features]\n",
    "y = prenoms[\"genre\"]"
   ]
  },
  {
   "cell_type": "code",
   "execution_count": 237,
   "id": "fafeb897",
   "metadata": {},
   "outputs": [],
   "source": [
    "# TRAIN + TEST\n",
    "from sklearn.model_selection import train_test_split\n",
    "X_train, X_test, y_train, y_test = train_test_split(\n",
    "    X, y, test_size=.3, random_state=42\n",
    ")"
   ]
  },
  {
   "cell_type": "code",
   "execution_count": 238,
   "id": "dc2e6b1e",
   "metadata": {},
   "outputs": [],
   "source": [
    "logregr = LogisticRegression()"
   ]
  },
  {
   "cell_type": "code",
   "execution_count": 239,
   "id": "35d79399",
   "metadata": {},
   "outputs": [
    {
     "data": {
      "text/plain": [
       "LogisticRegression()"
      ]
     },
     "execution_count": 239,
     "metadata": {},
     "output_type": "execute_result"
    }
   ],
   "source": [
    "logregr.fit(X_train, y_train)"
   ]
  },
  {
   "cell_type": "code",
   "execution_count": 240,
   "id": "3e579396",
   "metadata": {},
   "outputs": [],
   "source": [
    "from sklearn.metrics import accuracy_score, recall_score"
   ]
  },
  {
   "cell_type": "code",
   "execution_count": 241,
   "id": "ccbac3ad",
   "metadata": {},
   "outputs": [
    {
     "data": {
      "text/plain": [
       "0.6946524064171123"
      ]
     },
     "execution_count": 241,
     "metadata": {},
     "output_type": "execute_result"
    }
   ],
   "source": [
    "accuracy_score(y_test, logregr.predict(X_test))"
   ]
  },
  {
   "cell_type": "code",
   "execution_count": 242,
   "id": "2fbcb580",
   "metadata": {},
   "outputs": [
    {
     "data": {
      "text/plain": [
       "0.5578947368421052"
      ]
     },
     "execution_count": 242,
     "metadata": {},
     "output_type": "execute_result"
    }
   ],
   "source": [
    "recall_score(y_test, logregr.predict(X_test), pos_label='M')"
   ]
  },
  {
   "cell_type": "code",
   "execution_count": 243,
   "id": "fb82ce63",
   "metadata": {},
   "outputs": [
    {
     "data": {
      "text/plain": [
       "0.6946524064171123"
      ]
     },
     "execution_count": 243,
     "metadata": {},
     "output_type": "execute_result"
    }
   ],
   "source": [
    "logregr.score(X_test, y_test)"
   ]
  },
  {
   "cell_type": "markdown",
   "id": "9dc55ad8",
   "metadata": {},
   "source": [
    "### Test d'un autre modèle"
   ]
  },
  {
   "cell_type": "code",
   "execution_count": 248,
   "id": "db069299",
   "metadata": {},
   "outputs": [
    {
     "name": "stdout",
     "output_type": "stream",
     "text": [
      "0.6946524064171123 0.8510028653295129\n"
     ]
    }
   ],
   "source": [
    "# DATA + FE\n",
    "features = [\"vowel_count\", \"vowel_at_end\", \"a_at_end\", \"repeat_at_end\"]\n",
    "X = prenoms[features]\n",
    "y = prenoms[\"genre\"]\n",
    "\n",
    "# TRAIN + TEST\n",
    "X_train, X_test, y_train, y_test = train_test_split(\n",
    "    X, y, test_size=.3, random_state=42\n",
    ")\n",
    "\n",
    "logregr_2 = LogisticRegression()\n",
    "\n",
    "logregr_2.fit(X_train, y_train)\n",
    "\n",
    "predictions = logregr_2.predict(X_test)\n",
    "\n",
    "accuracy = accuracy_score(y_test, predictions)\n",
    "recall = recall_score(y_test, predictions, pos_label=\"F\")\n",
    "\n",
    "print(accuracy, recall)"
   ]
  },
  {
   "cell_type": "code",
   "execution_count": 247,
   "id": "ce5e5559",
   "metadata": {},
   "outputs": [
    {
     "data": {
      "text/plain": [
       "array([[-0.02301209, -1.45370376, -1.65224941, -1.30241611]])"
      ]
     },
     "execution_count": 247,
     "metadata": {},
     "output_type": "execute_result"
    }
   ],
   "source": [
    "logregr_2.coef_"
   ]
  },
  {
   "cell_type": "code",
   "execution_count": null,
   "id": "d032107f",
   "metadata": {},
   "outputs": [],
   "source": []
  }
 ],
 "metadata": {
  "kernelspec": {
   "display_name": "Python 3 (ipykernel)",
   "language": "python",
   "name": "python3"
  },
  "language_info": {
   "codemirror_mode": {
    "name": "ipython",
    "version": 3
   },
   "file_extension": ".py",
   "mimetype": "text/x-python",
   "name": "python",
   "nbconvert_exporter": "python",
   "pygments_lexer": "ipython3",
   "version": "3.8.9"
  }
 },
 "nbformat": 4,
 "nbformat_minor": 5
}
