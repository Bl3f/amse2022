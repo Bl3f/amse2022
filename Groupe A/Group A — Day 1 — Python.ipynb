{
 "cells": [
  {
   "cell_type": "markdown",
   "id": "dd9bbe0f",
   "metadata": {},
   "source": [
    "# Cours Big Data 3 du 21/01/2022\n",
    "\n",
    "**Groupe A**\n",
    "\n",
    "## Variables"
   ]
  },
  {
   "cell_type": "markdown",
   "id": "3a17015c",
   "metadata": {},
   "source": [
    "_Why use variable names that makes sense_"
   ]
  },
  {
   "cell_type": "code",
   "execution_count": null,
   "id": "59eed12a",
   "metadata": {},
   "outputs": [],
   "source": [
    "i = \"Harry Potter\"\n",
    "c = []\n",
    "c.append(i)"
   ]
  },
  {
   "cell_type": "code",
   "execution_count": null,
   "id": "dc79a2d9",
   "metadata": {},
   "outputs": [],
   "source": [
    "book = \"Harry Potter\"\n",
    "cart = []\n",
    "cart.append(book)"
   ]
  },
  {
   "cell_type": "markdown",
   "id": "9315d650",
   "metadata": {},
   "source": [
    "_Small hands-on_"
   ]
  },
  {
   "cell_type": "code",
   "execution_count": 3,
   "id": "0052ec1e",
   "metadata": {},
   "outputs": [],
   "source": [
    "a = 4  # assignation"
   ]
  },
  {
   "cell_type": "code",
   "execution_count": 2,
   "id": "4e37be41",
   "metadata": {},
   "outputs": [],
   "source": [
    "b = 2"
   ]
  },
  {
   "cell_type": "code",
   "execution_count": 5,
   "id": "ead56a73",
   "metadata": {},
   "outputs": [],
   "source": [
    "b = 10  # re-assignation"
   ]
  },
  {
   "cell_type": "code",
   "execution_count": 6,
   "id": "3c690484",
   "metadata": {},
   "outputs": [],
   "source": [
    "c = a + b"
   ]
  },
  {
   "cell_type": "code",
   "execution_count": 7,
   "id": "9340ec1e",
   "metadata": {},
   "outputs": [
    {
     "name": "stdout",
     "output_type": "stream",
     "text": [
      "14\n"
     ]
    }
   ],
   "source": [
    "print(c)"
   ]
  },
  {
   "cell_type": "code",
   "execution_count": 8,
   "id": "6c921672",
   "metadata": {},
   "outputs": [
    {
     "data": {
      "text/plain": [
       "14"
      ]
     },
     "execution_count": 8,
     "metadata": {},
     "output_type": "execute_result"
    }
   ],
   "source": [
    "c"
   ]
  },
  {
   "cell_type": "code",
   "execution_count": 10,
   "id": "244cd9db",
   "metadata": {},
   "outputs": [
    {
     "data": {
      "text/plain": [
       "14"
      ]
     },
     "execution_count": 10,
     "metadata": {},
     "output_type": "execute_result"
    }
   ],
   "source": [
    "# Displays the value of the last line of the cell\n",
    "a\n",
    "b\n",
    "c"
   ]
  },
  {
   "cell_type": "code",
   "execution_count": 12,
   "id": "22449103",
   "metadata": {},
   "outputs": [
    {
     "name": "stdout",
     "output_type": "stream",
     "text": [
      "10\n"
     ]
    },
    {
     "data": {
      "text/plain": [
       "14"
      ]
     },
     "execution_count": 12,
     "metadata": {},
     "output_type": "execute_result"
    }
   ],
   "source": [
    "# Displays the value of the last line of the cell and prints b\n",
    "a\n",
    "print(b)\n",
    "c"
   ]
  },
  {
   "cell_type": "code",
   "execution_count": 13,
   "id": "c796dcc0",
   "metadata": {},
   "outputs": [],
   "source": [
    "d, e, f = 4, 5, 6"
   ]
  },
  {
   "cell_type": "code",
   "execution_count": 14,
   "id": "e5fd48a3",
   "metadata": {},
   "outputs": [],
   "source": [
    "PI = 3.14"
   ]
  },
  {
   "cell_type": "markdown",
   "id": "a323f414",
   "metadata": {},
   "source": [
    "## Types"
   ]
  },
  {
   "cell_type": "code",
   "execution_count": 17,
   "id": "f66dc4d1",
   "metadata": {},
   "outputs": [],
   "source": [
    "c = 42"
   ]
  },
  {
   "cell_type": "code",
   "execution_count": 18,
   "id": "c1ef7393",
   "metadata": {},
   "outputs": [
    {
     "data": {
      "text/plain": [
       "int"
      ]
     },
     "execution_count": 18,
     "metadata": {},
     "output_type": "execute_result"
    }
   ],
   "source": [
    "type(c)"
   ]
  },
  {
   "cell_type": "code",
   "execution_count": 19,
   "id": "c277cb00",
   "metadata": {},
   "outputs": [],
   "source": [
    "d = 4.2"
   ]
  },
  {
   "cell_type": "code",
   "execution_count": 20,
   "id": "d3c19a96",
   "metadata": {},
   "outputs": [
    {
     "data": {
      "text/plain": [
       "float"
      ]
     },
     "execution_count": 20,
     "metadata": {},
     "output_type": "execute_result"
    }
   ],
   "source": [
    "type(d)"
   ]
  },
  {
   "cell_type": "code",
   "execution_count": 21,
   "id": "bd7dd486",
   "metadata": {},
   "outputs": [],
   "source": [
    "my_string = \"Christophe\""
   ]
  },
  {
   "cell_type": "code",
   "execution_count": 22,
   "id": "a78e5e56",
   "metadata": {},
   "outputs": [
    {
     "data": {
      "text/plain": [
       "str"
      ]
     },
     "execution_count": 22,
     "metadata": {},
     "output_type": "execute_result"
    }
   ],
   "source": [
    "type(my_string)"
   ]
  },
  {
   "cell_type": "code",
   "execution_count": 23,
   "id": "919491ae",
   "metadata": {},
   "outputs": [],
   "source": [
    "my_list = [1, 2, 3]  # unidimensional array"
   ]
  },
  {
   "cell_type": "code",
   "execution_count": 24,
   "id": "4b8624e7",
   "metadata": {},
   "outputs": [
    {
     "data": {
      "text/plain": [
       "list"
      ]
     },
     "execution_count": 24,
     "metadata": {},
     "output_type": "execute_result"
    }
   ],
   "source": [
    "type(my_list)"
   ]
  },
  {
   "cell_type": "code",
   "execution_count": 25,
   "id": "380b9afa",
   "metadata": {},
   "outputs": [],
   "source": [
    "my_dict = {\"banane\": 4, \"kiwi\": 1}  # struct that associate to a key a value"
   ]
  },
  {
   "cell_type": "code",
   "execution_count": 26,
   "id": "bc07fd0e",
   "metadata": {},
   "outputs": [
    {
     "data": {
      "text/plain": [
       "dict"
      ]
     },
     "execution_count": 26,
     "metadata": {},
     "output_type": "execute_result"
    }
   ],
   "source": [
    "type(my_dict)"
   ]
  },
  {
   "cell_type": "markdown",
   "id": "4505d500",
   "metadata": {},
   "source": [
    "# Types operations"
   ]
  },
  {
   "cell_type": "code",
   "execution_count": 27,
   "id": "f4932653",
   "metadata": {},
   "outputs": [],
   "source": [
    "a = 4"
   ]
  },
  {
   "cell_type": "code",
   "execution_count": 28,
   "id": "a8cf9cae",
   "metadata": {},
   "outputs": [],
   "source": [
    "b = -2"
   ]
  },
  {
   "cell_type": "code",
   "execution_count": 29,
   "id": "4d4b4074",
   "metadata": {},
   "outputs": [
    {
     "data": {
      "text/plain": [
       "-8"
      ]
     },
     "execution_count": 29,
     "metadata": {},
     "output_type": "execute_result"
    }
   ],
   "source": [
    "a * b "
   ]
  },
  {
   "cell_type": "code",
   "execution_count": 30,
   "id": "39d52270",
   "metadata": {},
   "outputs": [
    {
     "data": {
      "text/plain": [
       "2"
      ]
     },
     "execution_count": 30,
     "metadata": {},
     "output_type": "execute_result"
    }
   ],
   "source": [
    "5 % 3"
   ]
  },
  {
   "cell_type": "code",
   "execution_count": 31,
   "id": "f6ef5db6",
   "metadata": {},
   "outputs": [
    {
     "data": {
      "text/plain": [
       "1"
      ]
     },
     "execution_count": 31,
     "metadata": {},
     "output_type": "execute_result"
    }
   ],
   "source": [
    "5 // 3"
   ]
  },
  {
   "cell_type": "code",
   "execution_count": 32,
   "id": "fca58d32",
   "metadata": {},
   "outputs": [],
   "source": [
    "c = [1, 2, 3, 4]"
   ]
  },
  {
   "cell_type": "code",
   "execution_count": 34,
   "id": "3306f207",
   "metadata": {},
   "outputs": [
    {
     "data": {
      "text/plain": [
       "1"
      ]
     },
     "execution_count": 34,
     "metadata": {},
     "output_type": "execute_result"
    }
   ],
   "source": [
    "c[0]"
   ]
  },
  {
   "cell_type": "code",
   "execution_count": 35,
   "id": "7cee1328",
   "metadata": {},
   "outputs": [
    {
     "data": {
      "text/plain": [
       "2"
      ]
     },
     "execution_count": 35,
     "metadata": {},
     "output_type": "execute_result"
    }
   ],
   "source": [
    "c[1]"
   ]
  },
  {
   "cell_type": "code",
   "execution_count": 36,
   "id": "7bf3d8ee",
   "metadata": {},
   "outputs": [
    {
     "data": {
      "text/plain": [
       "[1, 2, 3]"
      ]
     },
     "execution_count": 36,
     "metadata": {},
     "output_type": "execute_result"
    }
   ],
   "source": [
    "c[:3]  #slicing"
   ]
  },
  {
   "cell_type": "code",
   "execution_count": 37,
   "id": "d84b731f",
   "metadata": {},
   "outputs": [
    {
     "data": {
      "text/plain": [
       "[2, 4]"
      ]
     },
     "execution_count": 37,
     "metadata": {},
     "output_type": "execute_result"
    }
   ],
   "source": [
    "[1, 2, 3, 4, 5][1:4:2]"
   ]
  },
  {
   "cell_type": "code",
   "execution_count": 38,
   "id": "1241eb11",
   "metadata": {},
   "outputs": [
    {
     "data": {
      "text/plain": [
       "4"
      ]
     },
     "execution_count": 38,
     "metadata": {},
     "output_type": "execute_result"
    }
   ],
   "source": [
    "c[-1]"
   ]
  },
  {
   "cell_type": "code",
   "execution_count": 39,
   "id": "bb9f4e34",
   "metadata": {},
   "outputs": [
    {
     "data": {
      "text/plain": [
       "[1, 2, 3, 4]"
      ]
     },
     "execution_count": 39,
     "metadata": {},
     "output_type": "execute_result"
    }
   ],
   "source": [
    "c"
   ]
  },
  {
   "cell_type": "code",
   "execution_count": 40,
   "id": "49985e9a",
   "metadata": {},
   "outputs": [],
   "source": [
    "c.append(5)"
   ]
  },
  {
   "cell_type": "code",
   "execution_count": 41,
   "id": "a32d9931",
   "metadata": {},
   "outputs": [
    {
     "data": {
      "text/plain": [
       "[1, 2, 3, 4, 5]"
      ]
     },
     "execution_count": 41,
     "metadata": {},
     "output_type": "execute_result"
    }
   ],
   "source": [
    "c"
   ]
  },
  {
   "cell_type": "code",
   "execution_count": 42,
   "id": "0b48a737",
   "metadata": {},
   "outputs": [
    {
     "data": {
      "text/plain": [
       "5"
      ]
     },
     "execution_count": 42,
     "metadata": {},
     "output_type": "execute_result"
    }
   ],
   "source": [
    "c.pop()"
   ]
  },
  {
   "cell_type": "code",
   "execution_count": 43,
   "id": "b983b4ed",
   "metadata": {},
   "outputs": [
    {
     "data": {
      "text/plain": [
       "[1, 2, 3, 4]"
      ]
     },
     "execution_count": 43,
     "metadata": {},
     "output_type": "execute_result"
    }
   ],
   "source": [
    "c"
   ]
  },
  {
   "cell_type": "code",
   "execution_count": 44,
   "id": "2bbc0f5c",
   "metadata": {},
   "outputs": [
    {
     "data": {
      "text/plain": [
       "3"
      ]
     },
     "execution_count": 44,
     "metadata": {},
     "output_type": "execute_result"
    }
   ],
   "source": [
    "c.pop(2)"
   ]
  },
  {
   "cell_type": "code",
   "execution_count": 45,
   "id": "40de14d3",
   "metadata": {},
   "outputs": [
    {
     "data": {
      "text/plain": [
       "[1, 2, 4]"
      ]
     },
     "execution_count": 45,
     "metadata": {},
     "output_type": "execute_result"
    }
   ],
   "source": [
    "c"
   ]
  },
  {
   "cell_type": "code",
   "execution_count": 46,
   "id": "248aeebf",
   "metadata": {},
   "outputs": [
    {
     "data": {
      "text/plain": [
       "3"
      ]
     },
     "execution_count": 46,
     "metadata": {},
     "output_type": "execute_result"
    }
   ],
   "source": [
    "len(c)"
   ]
  },
  {
   "cell_type": "code",
   "execution_count": 47,
   "id": "439e6409",
   "metadata": {},
   "outputs": [],
   "source": [
    "d = [\"Bonjour\", \"les\", \"gens\"]"
   ]
  },
  {
   "cell_type": "code",
   "execution_count": 50,
   "id": "187c2cea",
   "metadata": {},
   "outputs": [
    {
     "data": {
      "text/plain": [
       "'Bonjour les gens'"
      ]
     },
     "execution_count": 50,
     "metadata": {},
     "output_type": "execute_result"
    }
   ],
   "source": [
    "\" \".join(d)"
   ]
  },
  {
   "cell_type": "code",
   "execution_count": null,
   "id": "87a81ac5",
   "metadata": {},
   "outputs": [],
   "source": [
    "{\"banane\": 5}"
   ]
  },
  {
   "cell_type": "code",
   "execution_count": 51,
   "id": "fa1271f3",
   "metadata": {},
   "outputs": [],
   "source": [
    "a = \"\""
   ]
  },
  {
   "cell_type": "code",
   "execution_count": 52,
   "id": "4b299be3",
   "metadata": {},
   "outputs": [],
   "source": [
    "name = \"Christophe\""
   ]
  },
  {
   "cell_type": "code",
   "execution_count": 53,
   "id": "ca9d0195",
   "metadata": {},
   "outputs": [
    {
     "data": {
      "text/plain": [
       "10"
      ]
     },
     "execution_count": 53,
     "metadata": {},
     "output_type": "execute_result"
    }
   ],
   "source": [
    "len(name)"
   ]
  },
  {
   "cell_type": "code",
   "execution_count": 56,
   "id": "b6b941e4",
   "metadata": {},
   "outputs": [
    {
     "data": {
      "text/plain": [
       "'C'"
      ]
     },
     "execution_count": 56,
     "metadata": {},
     "output_type": "execute_result"
    }
   ],
   "source": [
    "name[0]"
   ]
  },
  {
   "cell_type": "code",
   "execution_count": 57,
   "id": "1c8e9a49",
   "metadata": {},
   "outputs": [
    {
     "data": {
      "text/plain": [
       "'e'"
      ]
     },
     "execution_count": 57,
     "metadata": {},
     "output_type": "execute_result"
    }
   ],
   "source": [
    "name[-1]"
   ]
  },
  {
   "cell_type": "code",
   "execution_count": 58,
   "id": "0d27fa5b",
   "metadata": {},
   "outputs": [
    {
     "data": {
      "text/plain": [
       "\"Bonjour je m'appelle Christophe\""
      ]
     },
     "execution_count": 58,
     "metadata": {},
     "output_type": "execute_result"
    }
   ],
   "source": [
    "f\"Bonjour je m'appelle {name}\""
   ]
  },
  {
   "cell_type": "code",
   "execution_count": 59,
   "id": "db7a3066",
   "metadata": {},
   "outputs": [
    {
     "data": {
      "text/plain": [
       "'CHRISTOPHE'"
      ]
     },
     "execution_count": 59,
     "metadata": {},
     "output_type": "execute_result"
    }
   ],
   "source": [
    "name.upper()"
   ]
  },
  {
   "cell_type": "code",
   "execution_count": 60,
   "id": "51822d14",
   "metadata": {},
   "outputs": [
    {
     "data": {
      "text/plain": [
       "['C', 'ristop', 'e']"
      ]
     },
     "execution_count": 60,
     "metadata": {},
     "output_type": "execute_result"
    }
   ],
   "source": [
    "name.split(\"h\")"
   ]
  },
  {
   "cell_type": "code",
   "execution_count": 61,
   "id": "73ce166d",
   "metadata": {},
   "outputs": [],
   "source": [
    "cart = {\"banane\": 10, \"pomme\": 4, \"poire\": 8}"
   ]
  },
  {
   "cell_type": "code",
   "execution_count": 62,
   "id": "79ce2857",
   "metadata": {},
   "outputs": [
    {
     "data": {
      "text/plain": [
       "{'banane': 10, 'pomme': 4, 'poire': 8}"
      ]
     },
     "execution_count": 62,
     "metadata": {},
     "output_type": "execute_result"
    }
   ],
   "source": [
    "cart"
   ]
  },
  {
   "cell_type": "code",
   "execution_count": 63,
   "id": "caa7a836",
   "metadata": {},
   "outputs": [
    {
     "data": {
      "text/plain": [
       "dict_keys(['banane', 'pomme', 'poire'])"
      ]
     },
     "execution_count": 63,
     "metadata": {},
     "output_type": "execute_result"
    }
   ],
   "source": [
    "cart.keys()"
   ]
  },
  {
   "cell_type": "code",
   "execution_count": 64,
   "id": "abea481f",
   "metadata": {},
   "outputs": [
    {
     "data": {
      "text/plain": [
       "dict_values([10, 4, 8])"
      ]
     },
     "execution_count": 64,
     "metadata": {},
     "output_type": "execute_result"
    }
   ],
   "source": [
    "cart.values()"
   ]
  },
  {
   "cell_type": "code",
   "execution_count": 65,
   "id": "e620b67a",
   "metadata": {},
   "outputs": [
    {
     "data": {
      "text/plain": [
       "dict_items([('banane', 10), ('pomme', 4), ('poire', 8)])"
      ]
     },
     "execution_count": 65,
     "metadata": {},
     "output_type": "execute_result"
    }
   ],
   "source": [
    "cart.items()"
   ]
  },
  {
   "cell_type": "code",
   "execution_count": 66,
   "id": "9f70f7fb",
   "metadata": {},
   "outputs": [
    {
     "data": {
      "text/plain": [
       "4"
      ]
     },
     "execution_count": 66,
     "metadata": {},
     "output_type": "execute_result"
    }
   ],
   "source": [
    "cart[\"pomme\"]"
   ]
  },
  {
   "cell_type": "code",
   "execution_count": 67,
   "id": "2739f580",
   "metadata": {},
   "outputs": [],
   "source": [
    "cart[\"pomme\"] = 7"
   ]
  },
  {
   "cell_type": "code",
   "execution_count": 68,
   "id": "878f625b",
   "metadata": {},
   "outputs": [
    {
     "data": {
      "text/plain": [
       "{'banane': 10, 'pomme': 7, 'poire': 8}"
      ]
     },
     "execution_count": 68,
     "metadata": {},
     "output_type": "execute_result"
    }
   ],
   "source": [
    "cart"
   ]
  },
  {
   "cell_type": "code",
   "execution_count": 69,
   "id": "991671d7",
   "metadata": {},
   "outputs": [],
   "source": [
    "cart.update({\"poire\": 11,  \"kiwi\": 2})"
   ]
  },
  {
   "cell_type": "code",
   "execution_count": 70,
   "id": "1abb55a3",
   "metadata": {},
   "outputs": [
    {
     "data": {
      "text/plain": [
       "{'banane': 10, 'pomme': 7, 'poire': 11, 'kiwi': 2}"
      ]
     },
     "execution_count": 70,
     "metadata": {},
     "output_type": "execute_result"
    }
   ],
   "source": [
    "cart"
   ]
  },
  {
   "cell_type": "code",
   "execution_count": 71,
   "id": "f1575058",
   "metadata": {},
   "outputs": [
    {
     "data": {
      "text/plain": [
       "4"
      ]
     },
     "execution_count": 71,
     "metadata": {},
     "output_type": "execute_result"
    }
   ],
   "source": [
    "len(cart)"
   ]
  },
  {
   "cell_type": "code",
   "execution_count": 72,
   "id": "99a2420d",
   "metadata": {},
   "outputs": [
    {
     "data": {
      "text/plain": [
       "7"
      ]
     },
     "execution_count": 72,
     "metadata": {},
     "output_type": "execute_result"
    }
   ],
   "source": [
    "cart.get(\"pomme\")"
   ]
  },
  {
   "cell_type": "code",
   "execution_count": 73,
   "id": "29a28552",
   "metadata": {},
   "outputs": [],
   "source": [
    "cart.get(\"mangue\")"
   ]
  },
  {
   "cell_type": "code",
   "execution_count": 74,
   "id": "af1a78d8",
   "metadata": {},
   "outputs": [
    {
     "ename": "KeyError",
     "evalue": "'mangue'",
     "output_type": "error",
     "traceback": [
      "\u001b[0;31m---------------------------------------------------------------------------\u001b[0m",
      "\u001b[0;31mKeyError\u001b[0m                                  Traceback (most recent call last)",
      "\u001b[0;32m/var/folders/rs/7bw0gmgj5hqfyg0fpk1d13t00000gn/T/ipykernel_2472/4058855263.py\u001b[0m in \u001b[0;36m<module>\u001b[0;34m\u001b[0m\n\u001b[0;32m----> 1\u001b[0;31m \u001b[0mcart\u001b[0m\u001b[0;34m[\u001b[0m\u001b[0;34m\"mangue\"\u001b[0m\u001b[0;34m]\u001b[0m\u001b[0;34m\u001b[0m\u001b[0;34m\u001b[0m\u001b[0m\n\u001b[0m",
      "\u001b[0;31mKeyError\u001b[0m: 'mangue'"
     ]
    }
   ],
   "source": [
    "cart[\"mangue\"]"
   ]
  },
  {
   "cell_type": "code",
   "execution_count": 76,
   "id": "ee073f54",
   "metadata": {},
   "outputs": [
    {
     "name": "stdout",
     "output_type": "stream",
     "text": [
      "2\n",
      "4\n",
      "8\n"
     ]
    }
   ],
   "source": [
    "for item in c:\n",
    "    # do something\n",
    "    print(item * 2)"
   ]
  },
  {
   "cell_type": "code",
   "execution_count": 83,
   "id": "41421c03",
   "metadata": {},
   "outputs": [
    {
     "name": "stdout",
     "output_type": "stream",
     "text": [
      "1 C\n",
      "2 h\n",
      "3 r\n",
      "4 i\n",
      "5 s\n",
      "6 t\n",
      "7 o\n",
      "8 p\n",
      "9 h\n",
      "10 e\n"
     ]
    }
   ],
   "source": [
    "for index, letter in enumerate(name):\n",
    "    print(index + 1, letter)"
   ]
  },
  {
   "cell_type": "code",
   "execution_count": 84,
   "id": "a44582d4",
   "metadata": {},
   "outputs": [
    {
     "data": {
      "text/plain": [
       "{'banane': 10, 'pomme': 7, 'poire': 11, 'kiwi': 2}"
      ]
     },
     "execution_count": 84,
     "metadata": {},
     "output_type": "execute_result"
    }
   ],
   "source": [
    "cart"
   ]
  },
  {
   "cell_type": "code",
   "execution_count": 85,
   "id": "4d1826cc",
   "metadata": {},
   "outputs": [
    {
     "name": "stdout",
     "output_type": "stream",
     "text": [
      "I have 10 banane\n",
      "I have 7 pomme\n",
      "I have 11 poire\n",
      "I have 2 kiwi\n"
     ]
    }
   ],
   "source": [
    "for fruit, quantity in cart.items():\n",
    "    print(f\"I have {quantity} {fruit}\")  # f-string"
   ]
  },
  {
   "cell_type": "code",
   "execution_count": 86,
   "id": "32e0be6f",
   "metadata": {},
   "outputs": [
    {
     "data": {
      "text/plain": [
       "7"
      ]
     },
     "execution_count": 86,
     "metadata": {},
     "output_type": "execute_result"
    }
   ],
   "source": [
    "cart[\"pomme\"]"
   ]
  },
  {
   "cell_type": "code",
   "execution_count": 87,
   "id": "f8da0064",
   "metadata": {},
   "outputs": [
    {
     "name": "stdout",
     "output_type": "stream",
     "text": [
      "ah c'est toi\n"
     ]
    }
   ],
   "source": [
    "if name == \"Christophe\":\n",
    "    print(\"ah c'est toi\")\n",
    "else:\n",
    "    print(\"ah c'est pas toi\")"
   ]
  },
  {
   "cell_type": "code",
   "execution_count": 89,
   "id": "263ede6a",
   "metadata": {},
   "outputs": [
    {
     "data": {
      "text/plain": [
       "-2"
      ]
     },
     "execution_count": 89,
     "metadata": {},
     "output_type": "execute_result"
    }
   ],
   "source": [
    "b"
   ]
  },
  {
   "cell_type": "code",
   "execution_count": 91,
   "id": "68b6c279",
   "metadata": {},
   "outputs": [
    {
     "name": "stdout",
     "output_type": "stream",
     "text": [
      "ok\n"
     ]
    }
   ],
   "source": [
    "if b < 4 and b % 3 == 1:\n",
    "    a = 10\n",
    "    print(\"ok\")\n",
    "else:\n",
    "    print(\"ko\")"
   ]
  },
  {
   "cell_type": "code",
   "execution_count": 92,
   "id": "c84c9c66",
   "metadata": {},
   "outputs": [
    {
     "data": {
      "text/plain": [
       "[1, 2, 4]"
      ]
     },
     "execution_count": 92,
     "metadata": {},
     "output_type": "execute_result"
    }
   ],
   "source": [
    "c"
   ]
  },
  {
   "cell_type": "code",
   "execution_count": 93,
   "id": "1c31080b",
   "metadata": {},
   "outputs": [
    {
     "data": {
      "text/plain": [
       "[1, 2, 4, 1, 2, 4]"
      ]
     },
     "execution_count": 93,
     "metadata": {},
     "output_type": "execute_result"
    }
   ],
   "source": [
    "c * 2"
   ]
  },
  {
   "cell_type": "code",
   "execution_count": 94,
   "id": "66c6a84b",
   "metadata": {},
   "outputs": [
    {
     "data": {
      "text/plain": [
       "[1, 2, 4, 1, 2, 4]"
      ]
     },
     "execution_count": 94,
     "metadata": {},
     "output_type": "execute_result"
    }
   ],
   "source": [
    "c + c"
   ]
  },
  {
   "cell_type": "code",
   "execution_count": 97,
   "id": "df58a8b0",
   "metadata": {},
   "outputs": [],
   "source": [
    "result = []\n",
    "for item in c:\n",
    "    result.append(item * 2)"
   ]
  },
  {
   "cell_type": "code",
   "execution_count": 98,
   "id": "27eef2fb",
   "metadata": {},
   "outputs": [
    {
     "data": {
      "text/plain": [
       "[2, 4, 8]"
      ]
     },
     "execution_count": 98,
     "metadata": {},
     "output_type": "execute_result"
    }
   ],
   "source": [
    "result"
   ]
  },
  {
   "cell_type": "code",
   "execution_count": 99,
   "id": "06c91538",
   "metadata": {},
   "outputs": [
    {
     "data": {
      "text/plain": [
       "[2, 4, 8]"
      ]
     },
     "execution_count": 99,
     "metadata": {},
     "output_type": "execute_result"
    }
   ],
   "source": [
    "# list-comprehension\n",
    "[item * 2 for item in c]"
   ]
  },
  {
   "cell_type": "code",
   "execution_count": 101,
   "id": "9f38cb90",
   "metadata": {},
   "outputs": [],
   "source": [
    "result = [item * 2 for item in c if item > 2]"
   ]
  },
  {
   "cell_type": "code",
   "execution_count": 102,
   "id": "e1e3c5a8",
   "metadata": {},
   "outputs": [
    {
     "data": {
      "text/plain": [
       "[8]"
      ]
     },
     "execution_count": 102,
     "metadata": {},
     "output_type": "execute_result"
    }
   ],
   "source": [
    "result"
   ]
  },
  {
   "cell_type": "code",
   "execution_count": 105,
   "id": "c4d1ab89",
   "metadata": {},
   "outputs": [],
   "source": [
    "def add(a: int, b: int) -> int:\n",
    "    \"\"\"\n",
    "    This function adds a to b and return the result.\n",
    "    \"\"\"\n",
    "    return a + b"
   ]
  },
  {
   "cell_type": "code",
   "execution_count": 108,
   "id": "0e3032aa",
   "metadata": {},
   "outputs": [
    {
     "ename": "TypeError",
     "evalue": "unsupported operand type(s) for +: 'int' and 'str'",
     "output_type": "error",
     "traceback": [
      "\u001b[0;31m---------------------------------------------------------------------------\u001b[0m",
      "\u001b[0;31mTypeError\u001b[0m                                 Traceback (most recent call last)",
      "\u001b[0;32m/var/folders/rs/7bw0gmgj5hqfyg0fpk1d13t00000gn/T/ipykernel_2472/3244494526.py\u001b[0m in \u001b[0;36m<module>\u001b[0;34m\u001b[0m\n\u001b[0;32m----> 1\u001b[0;31m \u001b[0;36m4\u001b[0m \u001b[0;34m+\u001b[0m \u001b[0;34m\"toto\"\u001b[0m\u001b[0;34m\u001b[0m\u001b[0;34m\u001b[0m\u001b[0m\n\u001b[0m",
      "\u001b[0;31mTypeError\u001b[0m: unsupported operand type(s) for +: 'int' and 'str'"
     ]
    }
   ],
   "source": [
    "4 + \"toto\""
   ]
  },
  {
   "cell_type": "code",
   "execution_count": 112,
   "id": "19cbd076",
   "metadata": {},
   "outputs": [],
   "source": [
    "message = \"Qebobfpkljbpp^db\"\n",
    "\n",
    "decrypted_message = \"\"\n",
    "for letter in message:\n",
    "    decrypted_message += chr(ord(letter) + 3)"
   ]
  },
  {
   "cell_type": "code",
   "execution_count": 113,
   "id": "c6627a68",
   "metadata": {},
   "outputs": [
    {
     "data": {
      "text/plain": [
       "'Thereisnomessage'"
      ]
     },
     "execution_count": 113,
     "metadata": {},
     "output_type": "execute_result"
    }
   ],
   "source": [
    "decrypted_message"
   ]
  },
  {
   "cell_type": "code",
   "execution_count": 114,
   "id": "a85ba8bc",
   "metadata": {},
   "outputs": [],
   "source": [
    "message = \"Qebobfpkljbpp^db\"\n",
    "\n",
    "decrypted_message = []\n",
    "for letter in message:\n",
    "    decrypted_message.append(chr(ord(letter) + 3))"
   ]
  },
  {
   "cell_type": "code",
   "execution_count": 116,
   "id": "74578b85",
   "metadata": {},
   "outputs": [
    {
     "data": {
      "text/plain": [
       "'Thereisnomessage'"
      ]
     },
     "execution_count": 116,
     "metadata": {},
     "output_type": "execute_result"
    }
   ],
   "source": [
    "\"\".join(decrypted_message)"
   ]
  },
  {
   "cell_type": "code",
   "execution_count": 119,
   "id": "fe045063",
   "metadata": {},
   "outputs": [
    {
     "data": {
      "text/plain": [
       "'Thereisnomessage'"
      ]
     },
     "execution_count": 119,
     "metadata": {},
     "output_type": "execute_result"
    }
   ],
   "source": [
    "\"\".join([chr(ord(letter) + 3) for letter in \"Qebobfpkljbpp^db\"])"
   ]
  },
  {
   "cell_type": "code",
   "execution_count": null,
   "id": "164bdf0a",
   "metadata": {},
   "outputs": [],
   "source": [
    "[\"a\", \"b\", \"c\"] # a,b,c"
   ]
  },
  {
   "cell_type": "code",
   "execution_count": 121,
   "id": "5f0c32b1",
   "metadata": {},
   "outputs": [
    {
     "data": {
      "text/plain": [
       "'a,zeuyfzueb,zeuyfzuec'"
      ]
     },
     "execution_count": 121,
     "metadata": {},
     "output_type": "execute_result"
    }
   ],
   "source": [
    "\",\".join([\"a\", \"b\", \"c\"])"
   ]
  },
  {
   "cell_type": "markdown",
   "id": "9292c202",
   "metadata": {},
   "source": [
    "# fruits.csv\n",
    "\n",
    "1. Open the file in Python with `open`\n",
    "2. Parse the data (list of list)\n",
    "3. Give the total price"
   ]
  },
  {
   "cell_type": "code",
   "execution_count": 127,
   "id": "7e753997",
   "metadata": {},
   "outputs": [],
   "source": [
    "with open(\"fruits.csv\", \"r\") as fruits_file:\n",
    "    data = fruits_file.read()"
   ]
  },
  {
   "cell_type": "code",
   "execution_count": 130,
   "id": "73831b14",
   "metadata": {},
   "outputs": [],
   "source": [
    "fruits = []\n",
    "\n",
    "for line in data.split(\"\\n\"):\n",
    "    fruits.append(line.split(\",\"))"
   ]
  },
  {
   "cell_type": "code",
   "execution_count": 135,
   "id": "cb96df05",
   "metadata": {},
   "outputs": [
    {
     "data": {
      "text/plain": [
       "12"
      ]
     },
     "execution_count": 135,
     "metadata": {},
     "output_type": "execute_result"
    }
   ],
   "source": [
    "sum([int(row[1]) for row in fruits[1:]])"
   ]
  },
  {
   "cell_type": "code",
   "execution_count": null,
   "id": "b11d92a7",
   "metadata": {},
   "outputs": [],
   "source": [
    "# [[\"name\", \"price\", \"color\"], [\"pomme\", \"2\", \"verte\"]]\n",
    "\n",
    "# {\"name\": [\"pomme\", \"poire\", \"tomate\"], \"price\": [\"2\", \"1\"]}"
   ]
  },
  {
   "cell_type": "code",
   "execution_count": 137,
   "id": "f4452197",
   "metadata": {},
   "outputs": [],
   "source": [
    "fruits_dict = {}\n",
    "for index, column in enumerate(fruits[0]):\n",
    "    fruits_dict[column] = [row[index] for row in fruits[1:]]"
   ]
  },
  {
   "cell_type": "code",
   "execution_count": 138,
   "id": "f00a2ffe",
   "metadata": {},
   "outputs": [
    {
     "data": {
      "text/plain": [
       "{'name': ['pomme', 'poire', 'tomate', 'mangue'],\n",
       " 'price': ['2', '1', '4', '5'],\n",
       " 'color': ['verte', 'jaune', 'rouge', 'jaune']}"
      ]
     },
     "execution_count": 138,
     "metadata": {},
     "output_type": "execute_result"
    }
   ],
   "source": [
    "fruits_dict"
   ]
  },
  {
   "cell_type": "code",
   "execution_count": 141,
   "id": "50edb31f",
   "metadata": {},
   "outputs": [
    {
     "data": {
      "text/plain": [
       "12"
      ]
     },
     "execution_count": 141,
     "metadata": {},
     "output_type": "execute_result"
    }
   ],
   "source": [
    "# exemple en pandas plus simple\n",
    "import pandas as pd\n",
    "\n",
    "df = pd.read_csv(\"fruits.csv\")\n",
    "df[\"price\"].sum()"
   ]
  },
  {
   "cell_type": "markdown",
   "id": "9524d715",
   "metadata": {},
   "source": [
    "# Write a “Rock-Paper-Scissors” game and play against the computer"
   ]
  },
  {
   "cell_type": "code",
   "execution_count": 168,
   "id": "90b45af0",
   "metadata": {},
   "outputs": [
    {
     "name": "stdout",
     "output_type": "stream",
     "text": [
      "Pick [Rock, Paper, Scissors]paper\n",
      "Scissors vs. paper\n",
      "Computer wins!\n",
      "Keep playing? (y/n)PaPeR\n"
     ]
    }
   ],
   "source": [
    "import random\n",
    "\n",
    "play = True\n",
    "choices = [\"Rock\", \"Paper\", \"Scissors\"]\n",
    "\n",
    "while play:\n",
    "    player_choice = input(\"Pick [Rock, Paper, Scissors]\")\n",
    "    computer_choice = random.choice(choices)\n",
    "    \n",
    "    player_choice_number = choices.index(player_choice.capitalize())\n",
    "    computer_choice_number = choices.index(computer_choice)\n",
    "    \n",
    "    score = (computer_choice_number - player_choice_number) % 3\n",
    "    \n",
    "    print(f\"{computer_choice} vs. {player_choice}\")\n",
    "    \n",
    "    if score == 0:\n",
    "        print(\"Draw!\")\n",
    "    if score == 1:\n",
    "        print(\"Computer wins!\")\n",
    "    if score == 2:\n",
    "        print(\"Player wins!\")\n",
    "    \n",
    "    keep_playing = input(\"Keep playing? (y/n)\")\n",
    "    play = keep_playing == \"y\""
   ]
  },
  {
   "cell_type": "markdown",
   "id": "13aba2ed",
   "metadata": {},
   "source": [
    "If we list all the natural numbers below 10 that are multiples of 3 or 5, we get 3, 5, 6 and 9. The sum of these multiples is 23.\n",
    "\n",
    "**Find the sum of all the multiples of 3 or 5 below 1000.**"
   ]
  },
  {
   "cell_type": "code",
   "execution_count": 156,
   "id": "2308afd4",
   "metadata": {},
   "outputs": [],
   "source": [
    "solution = 0\n",
    "for number in range(1000):\n",
    "    if (number % 3 == 0) or (number % 5 == 0):\n",
    "        solution += number\n",
    "        # solution = solution + number"
   ]
  },
  {
   "cell_type": "code",
   "execution_count": 157,
   "id": "e844b7ea",
   "metadata": {},
   "outputs": [
    {
     "data": {
      "text/plain": [
       "233168"
      ]
     },
     "execution_count": 157,
     "metadata": {},
     "output_type": "execute_result"
    }
   ],
   "source": [
    "solution"
   ]
  },
  {
   "cell_type": "code",
   "execution_count": 158,
   "id": "6035fd85",
   "metadata": {},
   "outputs": [
    {
     "data": {
      "text/plain": [
       "233168"
      ]
     },
     "execution_count": 158,
     "metadata": {},
     "output_type": "execute_result"
    }
   ],
   "source": [
    "sum([number for number in range(1000) if (number % 3 == 0) or (number % 5 == 0)])"
   ]
  },
  {
   "cell_type": "code",
   "execution_count": null,
   "id": "2e1b6701",
   "metadata": {},
   "outputs": [],
   "source": []
  },
  {
   "cell_type": "code",
   "execution_count": 164,
   "id": "69152716",
   "metadata": {},
   "outputs": [],
   "source": [
    "def reverse(sentence):\n",
    "    return \" \".join(sentence.split(\" \")[::-1])"
   ]
  },
  {
   "cell_type": "code",
   "execution_count": 165,
   "id": "f213e9dc",
   "metadata": {},
   "outputs": [
    {
     "name": "stdout",
     "output_type": "stream",
     "text": [
      "aujourd'hui il fait beau\n"
     ]
    },
    {
     "data": {
      "text/plain": [
       "\"beau fait il aujourd'hui\""
      ]
     },
     "execution_count": 165,
     "metadata": {},
     "output_type": "execute_result"
    }
   ],
   "source": [
    "reverse(input())"
   ]
  },
  {
   "cell_type": "code",
   "execution_count": 173,
   "id": "c13f3b25",
   "metadata": {},
   "outputs": [],
   "source": [
    "a = \"Christophe\""
   ]
  },
  {
   "cell_type": "code",
   "execution_count": 174,
   "id": "80a52206",
   "metadata": {},
   "outputs": [],
   "source": [
    "b = \"christophe\""
   ]
  },
  {
   "cell_type": "code",
   "execution_count": 176,
   "id": "d34049b7",
   "metadata": {},
   "outputs": [
    {
     "data": {
      "text/plain": [
       "True"
      ]
     },
     "execution_count": 176,
     "metadata": {},
     "output_type": "execute_result"
    }
   ],
   "source": [
    "a.lower() == b.lower()"
   ]
  },
  {
   "cell_type": "code",
   "execution_count": null,
   "id": "10c23537",
   "metadata": {},
   "outputs": [],
   "source": []
  }
 ],
 "metadata": {
  "kernelspec": {
   "display_name": "Python 3 (ipykernel)",
   "language": "python",
   "name": "python3"
  },
  "language_info": {
   "codemirror_mode": {
    "name": "ipython",
    "version": 3
   },
   "file_extension": ".py",
   "mimetype": "text/x-python",
   "name": "python",
   "nbconvert_exporter": "python",
   "pygments_lexer": "ipython3",
   "version": "3.8.9"
  }
 },
 "nbformat": 4,
 "nbformat_minor": 5
}
