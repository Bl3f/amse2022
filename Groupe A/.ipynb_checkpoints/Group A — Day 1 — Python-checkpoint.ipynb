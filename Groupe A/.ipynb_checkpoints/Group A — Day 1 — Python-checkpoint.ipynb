{
 "cells": [
  {
   "cell_type": "markdown",
   "id": "54fc5e4f",
   "metadata": {},
   "source": [
    "# Cours Big Data 3 du 21/01/2022\n",
    "\n",
    "**Groupe A**\n",
    "\n",
    "## Variables"
   ]
  },
  {
   "cell_type": "markdown",
   "id": "1c9dfbb6",
   "metadata": {},
   "source": [
    "_Why use variable names that makes sense_"
   ]
  },
  {
   "cell_type": "code",
   "execution_count": null,
   "id": "95ceb2c8",
   "metadata": {},
   "outputs": [],
   "source": [
    "i = \"Harry Potter\"\n",
    "c = []\n",
    "c.append(i)"
   ]
  },
  {
   "cell_type": "code",
   "execution_count": null,
   "id": "fc15b2c9",
   "metadata": {},
   "outputs": [],
   "source": [
    "book = \"Harry Potter\"\n",
    "cart = []\n",
    "cart.append(book)"
   ]
  },
  {
   "cell_type": "markdown",
   "id": "d2ab8d93",
   "metadata": {},
   "source": [
    "_Small hands-on_"
   ]
  },
  {
   "cell_type": "code",
   "execution_count": 3,
   "id": "4732033c",
   "metadata": {},
   "outputs": [],
   "source": [
    "a = 4  # assignation"
   ]
  },
  {
   "cell_type": "code",
   "execution_count": 2,
   "id": "2ec5c494",
   "metadata": {},
   "outputs": [],
   "source": [
    "b = 2"
   ]
  },
  {
   "cell_type": "code",
   "execution_count": 5,
   "id": "8e9e7a6d",
   "metadata": {},
   "outputs": [],
   "source": [
    "b = 10  # re-assignation"
   ]
  },
  {
   "cell_type": "code",
   "execution_count": 6,
   "id": "b23c1594",
   "metadata": {},
   "outputs": [],
   "source": [
    "c = a + b"
   ]
  },
  {
   "cell_type": "code",
   "execution_count": 7,
   "id": "14e03bfc",
   "metadata": {},
   "outputs": [
    {
     "name": "stdout",
     "output_type": "stream",
     "text": [
      "14\n"
     ]
    }
   ],
   "source": [
    "print(c)"
   ]
  },
  {
   "cell_type": "code",
   "execution_count": 8,
   "id": "815892a9",
   "metadata": {},
   "outputs": [
    {
     "data": {
      "text/plain": [
       "14"
      ]
     },
     "execution_count": 8,
     "metadata": {},
     "output_type": "execute_result"
    }
   ],
   "source": [
    "c"
   ]
  },
  {
   "cell_type": "code",
   "execution_count": 10,
   "id": "11f52955",
   "metadata": {},
   "outputs": [
    {
     "data": {
      "text/plain": [
       "14"
      ]
     },
     "execution_count": 10,
     "metadata": {},
     "output_type": "execute_result"
    }
   ],
   "source": [
    "# Displays the value of the last line of the cell\n",
    "a\n",
    "b\n",
    "c"
   ]
  },
  {
   "cell_type": "code",
   "execution_count": 12,
   "id": "3d1bfb96",
   "metadata": {},
   "outputs": [
    {
     "name": "stdout",
     "output_type": "stream",
     "text": [
      "10\n"
     ]
    },
    {
     "data": {
      "text/plain": [
       "14"
      ]
     },
     "execution_count": 12,
     "metadata": {},
     "output_type": "execute_result"
    }
   ],
   "source": [
    "# Displays the value of the last line of the cell and prints b\n",
    "a\n",
    "print(b)\n",
    "c"
   ]
  },
  {
   "cell_type": "code",
   "execution_count": 13,
   "id": "d993b40d",
   "metadata": {},
   "outputs": [],
   "source": [
    "d, e, f = 4, 5, 6"
   ]
  },
  {
   "cell_type": "code",
   "execution_count": 14,
   "id": "96b4ab11",
   "metadata": {},
   "outputs": [],
   "source": [
    "PI = 3.14"
   ]
  },
  {
   "cell_type": "markdown",
   "id": "4b1dea4b",
   "metadata": {},
   "source": [
    "## Types"
   ]
  },
  {
   "cell_type": "code",
   "execution_count": null,
   "id": "53bd8e65",
   "metadata": {},
   "outputs": [],
   "source": []
  }
 ],
 "metadata": {
  "kernelspec": {
   "display_name": "Python 3 (ipykernel)",
   "language": "python",
   "name": "python3"
  },
  "language_info": {
   "codemirror_mode": {
    "name": "ipython",
    "version": 3
   },
   "file_extension": ".py",
   "mimetype": "text/x-python",
   "name": "python",
   "nbconvert_exporter": "python",
   "pygments_lexer": "ipython3",
   "version": "3.8.9"
  }
 },
 "nbformat": 4,
 "nbformat_minor": 5
}
