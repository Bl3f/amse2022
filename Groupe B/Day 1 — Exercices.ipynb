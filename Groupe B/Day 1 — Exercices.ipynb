{
 "cells": [
  {
   "cell_type": "code",
   "execution_count": 7,
   "id": "67cc2f1b",
   "metadata": {},
   "outputs": [
    {
     "name": "stdout",
     "output_type": "stream",
     "text": [
      "[84, 104, 101, 114, 101, 105, 115, 110, 111, 109, 101, 115, 115, 97, 103, 101]\n",
      "['T', 'h', 'e', 'r', 'e', 'i', 's', 'n', 'o', 'm', 'e', 's', 's', 'a', 'g', 'e']\n"
     ]
    },
    {
     "data": {
      "text/plain": [
       "'Thereisnomessage'"
      ]
     },
     "execution_count": 7,
     "metadata": {},
     "output_type": "execute_result"
    }
   ],
   "source": [
    "message = \"Qebobfpkljbpp^db\"\n",
    "codale = []\n",
    "for letter in message:\n",
    "    a = ord(letter) + 3\n",
    "    codale.append(a)\n",
    "    \n",
    "print(codale)\n",
    "\n",
    "finale_message = []\n",
    "for j in codale:\n",
    "    b = chr(j)\n",
    "    finale_message.append(b)\n",
    "\n",
    "print(finale_message)\n",
    "\n",
    "\"\".join(finale_message)"
   ]
  },
  {
   "cell_type": "code",
   "execution_count": 9,
   "id": "51e97e68",
   "metadata": {},
   "outputs": [],
   "source": [
    "string = \"Qebobfpkljbpp^db\"\n",
    "decyphered_message = []\n",
    "for letter in string:\n",
    "    decyphered_message.append(chr(ord(letter) + 3))"
   ]
  },
  {
   "cell_type": "code",
   "execution_count": 11,
   "id": "b3bdf9b5",
   "metadata": {},
   "outputs": [
    {
     "data": {
      "text/plain": [
       "'Thereisnomessage'"
      ]
     },
     "execution_count": 11,
     "metadata": {},
     "output_type": "execute_result"
    }
   ],
   "source": [
    "\"\".join(decyphered_message)"
   ]
  },
  {
   "cell_type": "code",
   "execution_count": 13,
   "id": "cffaa23d",
   "metadata": {},
   "outputs": [
    {
     "name": "stdout",
     "output_type": "stream",
     "text": [
      "What are the characteristics?Qebobfpkljbpp^db\n",
      "['T', 'h', 'e', 'r', 'e', 'i', 's', 'n', 'o', 'm', 'e', 's', 's', 'a', 'g', 'e']\n"
     ]
    }
   ],
   "source": [
    "text = input(\"What are the characteristics?\")\n",
    "ascii_values = []\n",
    "for character in text:\n",
    "    ascii_values.append(chr(ord(character) + 3))\n",
    "print(ascii_values)"
   ]
  },
  {
   "cell_type": "code",
   "execution_count": 14,
   "id": "f4744e96",
   "metadata": {},
   "outputs": [
    {
     "data": {
      "text/plain": [
       "'Qebobfpkljbpp^db'"
      ]
     },
     "execution_count": 14,
     "metadata": {},
     "output_type": "execute_result"
    }
   ],
   "source": [
    "message"
   ]
  },
  {
   "cell_type": "code",
   "execution_count": 15,
   "id": "8a51c774",
   "metadata": {},
   "outputs": [
    {
     "data": {
      "text/plain": [
       "'Thereisnomessage'"
      ]
     },
     "execution_count": 15,
     "metadata": {},
     "output_type": "execute_result"
    }
   ],
   "source": [
    "\"\".join([chr(ord(letter) + 3) for letter in message])"
   ]
  },
  {
   "cell_type": "markdown",
   "id": "4068a98c",
   "metadata": {},
   "source": [
    "### Open the fruits.csv file and compute the total price"
   ]
  },
  {
   "cell_type": "code",
   "execution_count": 19,
   "id": "fe5362aa",
   "metadata": {},
   "outputs": [],
   "source": [
    "with open(\"fruits.csv\", \"r\") as fruits_file:\n",
    "    data = fruits_file.read()"
   ]
  },
  {
   "cell_type": "code",
   "execution_count": 17,
   "id": "ceb2b8c6",
   "metadata": {},
   "outputs": [
    {
     "data": {
      "text/plain": [
       "'name,price,color\\npomme,2,verte\\npoire,1,jaune\\ntomate,4,rouge\\nmangue,5,jaune'"
      ]
     },
     "execution_count": 17,
     "metadata": {},
     "output_type": "execute_result"
    }
   ],
   "source": [
    "data"
   ]
  },
  {
   "cell_type": "code",
   "execution_count": 23,
   "id": "a013394e",
   "metadata": {},
   "outputs": [],
   "source": [
    "parsed_data = [row.split(',') for row in data.split(\"\\n\")[1:]]"
   ]
  },
  {
   "cell_type": "code",
   "execution_count": 26,
   "id": "726bc836",
   "metadata": {},
   "outputs": [
    {
     "data": {
      "text/plain": [
       "12"
      ]
     },
     "execution_count": 26,
     "metadata": {},
     "output_type": "execute_result"
    }
   ],
   "source": [
    "sum([int(row[1]) for row in parsed_data])"
   ]
  },
  {
   "cell_type": "markdown",
   "id": "4f050b27",
   "metadata": {},
   "source": [
    "# Write a “Rock-Paper-Scissors” game and play against the computer"
   ]
  },
  {
   "cell_type": "code",
   "execution_count": 28,
   "id": "0971cd69",
   "metadata": {},
   "outputs": [],
   "source": [
    "import random"
   ]
  },
  {
   "cell_type": "code",
   "execution_count": null,
   "id": "1b3d94b3",
   "metadata": {},
   "outputs": [],
   "source": [
    "from random import choice\n",
    " \n",
    "Coup = (\"Pierre\", \"Feuille\", \"Ciseaux\")\n",
    "\n",
    " \n",
    "while input(\"Jouez (y/n): \").lower() != \"n\":\n",
    " \n",
    "    print(\"\\n------------------------------------\")\n",
    "    print(\"Le jeu de : Pierre - Feuille - Ciseaux\")\n",
    "    print(\"------------------------------------\\n\")\n",
    " \n",
    "    joueur = int(input(\"Choisissez un chiffre:\\n0: Pierre\\n1: Feuille\\n2: Ciseaux\\n-> \"))\n",
    "    ordi = choice(range(3))\n",
    " \n",
    "    print(\"\\n{} VS {}\".format(Coup[joueur], Coup[ordi]))\n",
    "    if joueur == ordi:\n",
    "        print(\"égalité\\n\")\n",
    "    elif (joueur>ordi and ordi+1==joueur) or (joueur<ordi and joueur+ordi==2):\n",
    "        print(\"Vous avez gagné\\n\")\n",
    "    else:\n",
    "        print(\"Vous avez perdu\\n\")\n",
    "else:\n",
    "    print(\"Fin de la partie\")"
   ]
  },
  {
   "cell_type": "code",
   "execution_count": 43,
   "id": "b27d7e35",
   "metadata": {},
   "outputs": [
    {
     "name": "stdout",
     "output_type": "stream",
     "text": [
      "Continuer ? (y/n) y\n",
      "Pierre ou Ciseaux ou Feuille?Pierre\n",
      "Perdu (Pierre vs. Feuille)\n",
      "Continuer ? (y/n) n\n"
     ]
    }
   ],
   "source": [
    "choices = [\"Pierre\", \"Ciseaux\", \"Feuille\"]\n",
    "while input(\"Continuer ? (y/n) \").lower() != \"n\":\n",
    "    player = input(f\"{' ou '.join(choices)}?\")\n",
    "    player_int = choices.index(player)\n",
    "    \n",
    "    computer = random.choice(choices)\n",
    "    computer_int = choices.index(computer)\n",
    "    \n",
    "    score = player_int - computer_int\n",
    "    \n",
    "    if score % 3 == 0:\n",
    "        print(f\"Égalité ({player} vs. {computer})\")\n",
    "    elif score % 3 == 2:\n",
    "        print(f\"Gagné ({player} vs. {computer})\")\n",
    "    else:\n",
    "        print(f\"Perdu ({player} vs. {computer})\")"
   ]
  },
  {
   "cell_type": "markdown",
   "id": "99d71b19",
   "metadata": {},
   "source": [
    "If we list all the natural numbers below 10 that are multiples of 3 or 5, we get 3, 5, 6 and 9. The sum of these multiples is 23.\n",
    "\n",
    "**Find the sum of all the multiples of 3 or 5 below 1000.**"
   ]
  },
  {
   "cell_type": "code",
   "execution_count": 44,
   "id": "e4c23d78",
   "metadata": {},
   "outputs": [],
   "source": [
    "# faire en oneliner"
   ]
  },
  {
   "cell_type": "code",
   "execution_count": 47,
   "id": "f294e25d",
   "metadata": {},
   "outputs": [
    {
     "data": {
      "text/plain": [
       "233168"
      ]
     },
     "execution_count": 47,
     "metadata": {},
     "output_type": "execute_result"
    }
   ],
   "source": [
    "sum([number for number in range(1000) if (number % 3 == 0) or (number % 5 == 0)])"
   ]
  },
  {
   "cell_type": "markdown",
   "id": "a4688c84",
   "metadata": {},
   "source": [
    "A palindromic number reads the same both ways. The largest palindrome made from the product of two 2-digit numbers is 9009 = 91 × 99.\n",
    "\n",
    "**Find the largest palindrome made from the product of two 3-digit numbers.**"
   ]
  },
  {
   "cell_type": "code",
   "execution_count": 62,
   "id": "cf6f5715",
   "metadata": {},
   "outputs": [],
   "source": [
    "def is_palindromic(number):\n",
    "    return str(number) == str(number)[::-1]\n",
    "\n",
    "memory = 0\n",
    "memory_ij = None\n",
    "for i in range(99, 1000):\n",
    "    for j in range(99, 1000):\n",
    "        result = i * j\n",
    "        if is_palindromic(result) and result > memory:\n",
    "            memory = result\n",
    "            memory_ij = (i, j)"
   ]
  },
  {
   "cell_type": "code",
   "execution_count": 63,
   "id": "f6640788",
   "metadata": {},
   "outputs": [
    {
     "data": {
      "text/plain": [
       "(906609, (913, 993))"
      ]
     },
     "execution_count": 63,
     "metadata": {},
     "output_type": "execute_result"
    }
   ],
   "source": [
    "memory, memory_ij"
   ]
  },
  {
   "cell_type": "code",
   "execution_count": null,
   "id": "81f37521",
   "metadata": {},
   "outputs": [],
   "source": [
    "906609 "
   ]
  }
 ],
 "metadata": {
  "kernelspec": {
   "display_name": "Python 3 (ipykernel)",
   "language": "python",
   "name": "python3"
  },
  "language_info": {
   "codemirror_mode": {
    "name": "ipython",
    "version": 3
   },
   "file_extension": ".py",
   "mimetype": "text/x-python",
   "name": "python",
   "nbconvert_exporter": "python",
   "pygments_lexer": "ipython3",
   "version": "3.8.9"
  }
 },
 "nbformat": 4,
 "nbformat_minor": 5
}
