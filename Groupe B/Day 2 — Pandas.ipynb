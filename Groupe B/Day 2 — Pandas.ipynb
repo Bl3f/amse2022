{
 "cells": [
  {
   "cell_type": "code",
   "execution_count": 2,
   "id": "93e2decf",
   "metadata": {},
   "outputs": [],
   "source": [
    "import pandas as pd"
   ]
  },
  {
   "cell_type": "markdown",
   "id": "64df480a",
   "metadata": {},
   "source": [
    "# Exercice prénom"
   ]
  },
  {
   "cell_type": "code",
   "execution_count": 3,
   "id": "59252010",
   "metadata": {},
   "outputs": [],
   "source": [
    "prenom = pd.read_csv(\"prenoms.csv\", sep=\";\")"
   ]
  },
  {
   "cell_type": "code",
   "execution_count": 5,
   "id": "fa6e039d",
   "metadata": {},
   "outputs": [
    {
     "data": {
      "text/html": [
       "<div>\n",
       "<style scoped>\n",
       "    .dataframe tbody tr th:only-of-type {\n",
       "        vertical-align: middle;\n",
       "    }\n",
       "\n",
       "    .dataframe tbody tr th {\n",
       "        vertical-align: top;\n",
       "    }\n",
       "\n",
       "    .dataframe thead th {\n",
       "        text-align: right;\n",
       "    }\n",
       "</style>\n",
       "<table border=\"1\" class=\"dataframe\">\n",
       "  <thead>\n",
       "    <tr style=\"text-align: right;\">\n",
       "      <th></th>\n",
       "      <th>prenom</th>\n",
       "      <th>genre</th>\n",
       "      <th>nb</th>\n",
       "    </tr>\n",
       "  </thead>\n",
       "  <tbody>\n",
       "    <tr>\n",
       "      <th>0</th>\n",
       "      <td>Michel</td>\n",
       "      <td>M</td>\n",
       "      <td>14136</td>\n",
       "    </tr>\n",
       "    <tr>\n",
       "      <th>1</th>\n",
       "      <td>Alain</td>\n",
       "      <td>M</td>\n",
       "      <td>10646</td>\n",
       "    </tr>\n",
       "    <tr>\n",
       "      <th>2</th>\n",
       "      <td>Philippe</td>\n",
       "      <td>M</td>\n",
       "      <td>9903</td>\n",
       "    </tr>\n",
       "    <tr>\n",
       "      <th>3</th>\n",
       "      <td>Bernard</td>\n",
       "      <td>M</td>\n",
       "      <td>8992</td>\n",
       "    </tr>\n",
       "    <tr>\n",
       "      <th>4</th>\n",
       "      <td>Christian</td>\n",
       "      <td>M</td>\n",
       "      <td>8102</td>\n",
       "    </tr>\n",
       "    <tr>\n",
       "      <th>...</th>\n",
       "      <td>...</td>\n",
       "      <td>...</td>\n",
       "      <td>...</td>\n",
       "    </tr>\n",
       "    <tr>\n",
       "      <th>12462</th>\n",
       "      <td>F.Jacques</td>\n",
       "      <td>M</td>\n",
       "      <td>1</td>\n",
       "    </tr>\n",
       "    <tr>\n",
       "      <th>12463</th>\n",
       "      <td>Frédie</td>\n",
       "      <td>F</td>\n",
       "      <td>1</td>\n",
       "    </tr>\n",
       "    <tr>\n",
       "      <th>12464</th>\n",
       "      <td>Efisia</td>\n",
       "      <td>F</td>\n",
       "      <td>1</td>\n",
       "    </tr>\n",
       "    <tr>\n",
       "      <th>12465</th>\n",
       "      <td>Cosima</td>\n",
       "      <td>F</td>\n",
       "      <td>1</td>\n",
       "    </tr>\n",
       "    <tr>\n",
       "      <th>12466</th>\n",
       "      <td>Florisse</td>\n",
       "      <td>F</td>\n",
       "      <td>1</td>\n",
       "    </tr>\n",
       "  </tbody>\n",
       "</table>\n",
       "<p>12467 rows × 3 columns</p>\n",
       "</div>"
      ],
      "text/plain": [
       "          prenom genre     nb\n",
       "0         Michel     M  14136\n",
       "1          Alain     M  10646\n",
       "2       Philippe     M   9903\n",
       "3        Bernard     M   8992\n",
       "4      Christian     M   8102\n",
       "...          ...   ...    ...\n",
       "12462  F.Jacques     M      1\n",
       "12463     Frédie     F      1\n",
       "12464     Efisia     F      1\n",
       "12465     Cosima     F      1\n",
       "12466   Florisse     F      1\n",
       "\n",
       "[12467 rows x 3 columns]"
      ]
     },
     "execution_count": 5,
     "metadata": {},
     "output_type": "execute_result"
    }
   ],
   "source": [
    "prenom"
   ]
  },
  {
   "cell_type": "markdown",
   "id": "0377c7e9",
   "metadata": {},
   "source": [
    "### Combien de F et de M (nb de lignes et nb de naissance)"
   ]
  },
  {
   "cell_type": "code",
   "execution_count": 11,
   "id": "558785f8",
   "metadata": {},
   "outputs": [
    {
     "data": {
      "text/plain": [
       "5886"
      ]
     },
     "execution_count": 11,
     "metadata": {},
     "output_type": "execute_result"
    }
   ],
   "source": [
    "len(prenom[prenom[\"genre\"] == \"F\"])"
   ]
  },
  {
   "cell_type": "code",
   "execution_count": 12,
   "id": "40111419",
   "metadata": {},
   "outputs": [
    {
     "data": {
      "text/plain": [
       "6581"
      ]
     },
     "execution_count": 12,
     "metadata": {},
     "output_type": "execute_result"
    }
   ],
   "source": [
    "len(prenom[prenom[\"genre\"] == \"M\"])"
   ]
  },
  {
   "cell_type": "code",
   "execution_count": null,
   "id": "45672382",
   "metadata": {},
   "outputs": [],
   "source": [
    "# > < <= >= == !="
   ]
  },
  {
   "cell_type": "code",
   "execution_count": 27,
   "id": "7b66c255",
   "metadata": {},
   "outputs": [
    {
     "data": {
      "text/plain": [
       "184725"
      ]
     },
     "execution_count": 27,
     "metadata": {},
     "output_type": "execute_result"
    }
   ],
   "source": [
    "prenom[prenom[\"genre\"] == \"F\"][\"nb\"].sum()"
   ]
  },
  {
   "cell_type": "code",
   "execution_count": 15,
   "id": "7007c8d9",
   "metadata": {},
   "outputs": [
    {
     "data": {
      "text/plain": [
       "342264"
      ]
     },
     "execution_count": 15,
     "metadata": {},
     "output_type": "execute_result"
    }
   ],
   "source": [
    "prenom[prenom[\"genre\"] == \"M\"][\"nb\"].sum()"
   ]
  },
  {
   "cell_type": "code",
   "execution_count": 16,
   "id": "b3891725",
   "metadata": {},
   "outputs": [
    {
     "data": {
      "text/plain": [
       "M    6581\n",
       "F    5886\n",
       "Name: genre, dtype: int64"
      ]
     },
     "execution_count": 16,
     "metadata": {},
     "output_type": "execute_result"
    }
   ],
   "source": [
    "prenom[\"genre\"].value_counts()"
   ]
  },
  {
   "cell_type": "code",
   "execution_count": 19,
   "id": "6e2cc6c5",
   "metadata": {},
   "outputs": [],
   "source": [
    "femmes = prenom[prenom[\"genre\"] == \"F\"]"
   ]
  },
  {
   "cell_type": "code",
   "execution_count": 29,
   "id": "9bc5c670",
   "metadata": {},
   "outputs": [],
   "source": [
    "femmes.to_csv(\"femmes.csv\", index=False)"
   ]
  },
  {
   "cell_type": "code",
   "execution_count": 30,
   "id": "cdf63065",
   "metadata": {},
   "outputs": [
    {
     "data": {
      "text/plain": [
       "genre\n",
       "F    184725\n",
       "M    342264\n",
       "Name: nb, dtype: int64"
      ]
     },
     "execution_count": 30,
     "metadata": {},
     "output_type": "execute_result"
    }
   ],
   "source": [
    "prenom.groupby(\"genre\")[\"nb\"].sum()"
   ]
  },
  {
   "cell_type": "code",
   "execution_count": 31,
   "id": "3961b6dd",
   "metadata": {},
   "outputs": [
    {
     "data": {
      "text/plain": [
       "genre\n",
       "F    5886\n",
       "M    6581\n",
       "Name: genre, dtype: int64"
      ]
     },
     "execution_count": 31,
     "metadata": {},
     "output_type": "execute_result"
    }
   ],
   "source": [
    "prenom.groupby(\"genre\")[\"genre\"].count()"
   ]
  },
  {
   "cell_type": "markdown",
   "id": "42b60d1f",
   "metadata": {},
   "source": [
    "### Créer une colonne len_prenom avec la longueur de chaque prénom"
   ]
  },
  {
   "cell_type": "code",
   "execution_count": 21,
   "id": "52f30926",
   "metadata": {},
   "outputs": [],
   "source": [
    "prenom[\"len_prenom\"] = prenom[\"prenom\"].str.len()"
   ]
  },
  {
   "cell_type": "code",
   "execution_count": 40,
   "id": "ecb0f40e",
   "metadata": {},
   "outputs": [
    {
     "data": {
      "text/html": [
       "<div>\n",
       "<style scoped>\n",
       "    .dataframe tbody tr th:only-of-type {\n",
       "        vertical-align: middle;\n",
       "    }\n",
       "\n",
       "    .dataframe tbody tr th {\n",
       "        vertical-align: top;\n",
       "    }\n",
       "\n",
       "    .dataframe thead th {\n",
       "        text-align: right;\n",
       "    }\n",
       "</style>\n",
       "<table border=\"1\" class=\"dataframe\">\n",
       "  <thead>\n",
       "    <tr style=\"text-align: right;\">\n",
       "      <th></th>\n",
       "      <th>prenom</th>\n",
       "      <th>genre</th>\n",
       "      <th>nb</th>\n",
       "      <th>len_prenom</th>\n",
       "    </tr>\n",
       "  </thead>\n",
       "  <tbody>\n",
       "    <tr>\n",
       "      <th>4874</th>\n",
       "      <td>Christiane, Victoire Marie-Emm</td>\n",
       "      <td>F</td>\n",
       "      <td>1</td>\n",
       "      <td>30.0</td>\n",
       "    </tr>\n",
       "    <tr>\n",
       "      <th>6750</th>\n",
       "      <td>Emilienne Marieta Atea Vahine</td>\n",
       "      <td>F</td>\n",
       "      <td>1</td>\n",
       "      <td>29.0</td>\n",
       "    </tr>\n",
       "    <tr>\n",
       "      <th>12231</th>\n",
       "      <td>Marie Lamberte Dite Alisette</td>\n",
       "      <td>F</td>\n",
       "      <td>1</td>\n",
       "      <td>28.0</td>\n",
       "    </tr>\n",
       "    <tr>\n",
       "      <th>11671</th>\n",
       "      <td>Freddy Tapunui Vane Dit Coco</td>\n",
       "      <td>M</td>\n",
       "      <td>1</td>\n",
       "      <td>28.0</td>\n",
       "    </tr>\n",
       "    <tr>\n",
       "      <th>4601</th>\n",
       "      <td>Law De Lauriston De Boubers</td>\n",
       "      <td>M</td>\n",
       "      <td>1</td>\n",
       "      <td>27.0</td>\n",
       "    </tr>\n",
       "    <tr>\n",
       "      <th>...</th>\n",
       "      <td>...</td>\n",
       "      <td>...</td>\n",
       "      <td>...</td>\n",
       "      <td>...</td>\n",
       "    </tr>\n",
       "    <tr>\n",
       "      <th>2690</th>\n",
       "      <td>Jo</td>\n",
       "      <td>M</td>\n",
       "      <td>3</td>\n",
       "      <td>2.0</td>\n",
       "    </tr>\n",
       "    <tr>\n",
       "      <th>8898</th>\n",
       "      <td>Ma</td>\n",
       "      <td>M</td>\n",
       "      <td>1</td>\n",
       "      <td>2.0</td>\n",
       "    </tr>\n",
       "    <tr>\n",
       "      <th>12016</th>\n",
       "      <td>Lu</td>\n",
       "      <td>F</td>\n",
       "      <td>1</td>\n",
       "      <td>2.0</td>\n",
       "    </tr>\n",
       "    <tr>\n",
       "      <th>2090</th>\n",
       "      <td>NaN</td>\n",
       "      <td>M</td>\n",
       "      <td>5</td>\n",
       "      <td>NaN</td>\n",
       "    </tr>\n",
       "    <tr>\n",
       "      <th>4224</th>\n",
       "      <td>NaN</td>\n",
       "      <td>F</td>\n",
       "      <td>2</td>\n",
       "      <td>NaN</td>\n",
       "    </tr>\n",
       "  </tbody>\n",
       "</table>\n",
       "<p>12467 rows × 4 columns</p>\n",
       "</div>"
      ],
      "text/plain": [
       "                               prenom genre  nb  len_prenom\n",
       "4874   Christiane, Victoire Marie-Emm     F   1        30.0\n",
       "6750    Emilienne Marieta Atea Vahine     F   1        29.0\n",
       "12231    Marie Lamberte Dite Alisette     F   1        28.0\n",
       "11671    Freddy Tapunui Vane Dit Coco     M   1        28.0\n",
       "4601      Law De Lauriston De Boubers     M   1        27.0\n",
       "...                               ...   ...  ..         ...\n",
       "2690                               Jo     M   3         2.0\n",
       "8898                               Ma     M   1         2.0\n",
       "12016                              Lu     F   1         2.0\n",
       "2090                              NaN     M   5         NaN\n",
       "4224                              NaN     F   2         NaN\n",
       "\n",
       "[12467 rows x 4 columns]"
      ]
     },
     "execution_count": 40,
     "metadata": {},
     "output_type": "execute_result"
    }
   ],
   "source": [
    "prenom.sort_values(\"len_prenom\", ascending=False)"
   ]
  },
  {
   "cell_type": "code",
   "execution_count": 46,
   "id": "bb4dead0",
   "metadata": {},
   "outputs": [
    {
     "data": {
      "text/html": [
       "<div>\n",
       "<style scoped>\n",
       "    .dataframe tbody tr th:only-of-type {\n",
       "        vertical-align: middle;\n",
       "    }\n",
       "\n",
       "    .dataframe tbody tr th {\n",
       "        vertical-align: top;\n",
       "    }\n",
       "\n",
       "    .dataframe thead th {\n",
       "        text-align: right;\n",
       "    }\n",
       "</style>\n",
       "<table border=\"1\" class=\"dataframe\">\n",
       "  <thead>\n",
       "    <tr style=\"text-align: right;\">\n",
       "      <th></th>\n",
       "      <th>prenom</th>\n",
       "      <th>genre</th>\n",
       "      <th>nb</th>\n",
       "      <th>len_prenom</th>\n",
       "      <th>len_prenom_2</th>\n",
       "    </tr>\n",
       "  </thead>\n",
       "  <tbody>\n",
       "    <tr>\n",
       "      <th>0</th>\n",
       "      <td>Michel</td>\n",
       "      <td>M</td>\n",
       "      <td>14136</td>\n",
       "      <td>6.0</td>\n",
       "      <td>6.0</td>\n",
       "    </tr>\n",
       "    <tr>\n",
       "      <th>1</th>\n",
       "      <td>Alain</td>\n",
       "      <td>M</td>\n",
       "      <td>10646</td>\n",
       "      <td>5.0</td>\n",
       "      <td>5.0</td>\n",
       "    </tr>\n",
       "    <tr>\n",
       "      <th>2</th>\n",
       "      <td>Philippe</td>\n",
       "      <td>M</td>\n",
       "      <td>9903</td>\n",
       "      <td>8.0</td>\n",
       "      <td>8.0</td>\n",
       "    </tr>\n",
       "    <tr>\n",
       "      <th>3</th>\n",
       "      <td>Bernard</td>\n",
       "      <td>M</td>\n",
       "      <td>8992</td>\n",
       "      <td>7.0</td>\n",
       "      <td>7.0</td>\n",
       "    </tr>\n",
       "    <tr>\n",
       "      <th>4</th>\n",
       "      <td>Christian</td>\n",
       "      <td>M</td>\n",
       "      <td>8102</td>\n",
       "      <td>9.0</td>\n",
       "      <td>9.0</td>\n",
       "    </tr>\n",
       "    <tr>\n",
       "      <th>...</th>\n",
       "      <td>...</td>\n",
       "      <td>...</td>\n",
       "      <td>...</td>\n",
       "      <td>...</td>\n",
       "      <td>...</td>\n",
       "    </tr>\n",
       "    <tr>\n",
       "      <th>12462</th>\n",
       "      <td>F.Jacques</td>\n",
       "      <td>M</td>\n",
       "      <td>1</td>\n",
       "      <td>9.0</td>\n",
       "      <td>9.0</td>\n",
       "    </tr>\n",
       "    <tr>\n",
       "      <th>12463</th>\n",
       "      <td>Frédie</td>\n",
       "      <td>F</td>\n",
       "      <td>1</td>\n",
       "      <td>6.0</td>\n",
       "      <td>6.0</td>\n",
       "    </tr>\n",
       "    <tr>\n",
       "      <th>12464</th>\n",
       "      <td>Efisia</td>\n",
       "      <td>F</td>\n",
       "      <td>1</td>\n",
       "      <td>6.0</td>\n",
       "      <td>6.0</td>\n",
       "    </tr>\n",
       "    <tr>\n",
       "      <th>12465</th>\n",
       "      <td>Cosima</td>\n",
       "      <td>F</td>\n",
       "      <td>1</td>\n",
       "      <td>6.0</td>\n",
       "      <td>6.0</td>\n",
       "    </tr>\n",
       "    <tr>\n",
       "      <th>12466</th>\n",
       "      <td>Florisse</td>\n",
       "      <td>F</td>\n",
       "      <td>1</td>\n",
       "      <td>8.0</td>\n",
       "      <td>8.0</td>\n",
       "    </tr>\n",
       "  </tbody>\n",
       "</table>\n",
       "<p>12467 rows × 5 columns</p>\n",
       "</div>"
      ],
      "text/plain": [
       "          prenom genre     nb  len_prenom  len_prenom_2\n",
       "0         Michel     M  14136         6.0           6.0\n",
       "1          Alain     M  10646         5.0           5.0\n",
       "2       Philippe     M   9903         8.0           8.0\n",
       "3        Bernard     M   8992         7.0           7.0\n",
       "4      Christian     M   8102         9.0           9.0\n",
       "...          ...   ...    ...         ...           ...\n",
       "12462  F.Jacques     M      1         9.0           9.0\n",
       "12463     Frédie     F      1         6.0           6.0\n",
       "12464     Efisia     F      1         6.0           6.0\n",
       "12465     Cosima     F      1         6.0           6.0\n",
       "12466   Florisse     F      1         8.0           8.0\n",
       "\n",
       "[12467 rows x 5 columns]"
      ]
     },
     "execution_count": 46,
     "metadata": {},
     "output_type": "execute_result"
    }
   ],
   "source": [
    "prenom.assign(len_prenom_2=lambda x: x[\"prenom\"].str.len())"
   ]
  },
  {
   "cell_type": "code",
   "execution_count": 15,
   "id": "5e192bf1",
   "metadata": {},
   "outputs": [
    {
     "data": {
      "text/plain": [
       "0        1\n",
       "1        1\n",
       "2        1\n",
       "3        1\n",
       "4        1\n",
       "        ..\n",
       "12462    1\n",
       "12463    1\n",
       "12464    1\n",
       "12465    1\n",
       "12466    1\n",
       "Name: prenom, Length: 12467, dtype: int64"
      ]
     },
     "execution_count": 15,
     "metadata": {},
     "output_type": "execute_result"
    }
   ],
   "source": [
    "def toto(x):\n",
    "    return 1\n",
    "\n",
    "# lambda x: 1 ----> f(x) = 1\n",
    "prenom[\"prenom\"].apply(lambda x: 1)"
   ]
  },
  {
   "cell_type": "code",
   "execution_count": 19,
   "id": "8c45a162",
   "metadata": {},
   "outputs": [
    {
     "data": {
      "text/plain": [
       "0        6\n",
       "1        5\n",
       "2        8\n",
       "3        7\n",
       "4        9\n",
       "        ..\n",
       "12462    9\n",
       "12463    6\n",
       "12464    6\n",
       "12465    6\n",
       "12466    8\n",
       "Name: prenom, Length: 12467, dtype: int64"
      ]
     },
     "execution_count": 19,
     "metadata": {},
     "output_type": "execute_result"
    }
   ],
   "source": [
    "prenom[\"prenom\"].fillna('').apply(len)"
   ]
  },
  {
   "cell_type": "code",
   "execution_count": 49,
   "id": "5a3bfea8",
   "metadata": {},
   "outputs": [
    {
     "data": {
      "text/html": [
       "<div>\n",
       "<style scoped>\n",
       "    .dataframe tbody tr th:only-of-type {\n",
       "        vertical-align: middle;\n",
       "    }\n",
       "\n",
       "    .dataframe tbody tr th {\n",
       "        vertical-align: top;\n",
       "    }\n",
       "\n",
       "    .dataframe thead th {\n",
       "        text-align: right;\n",
       "    }\n",
       "</style>\n",
       "<table border=\"1\" class=\"dataframe\">\n",
       "  <thead>\n",
       "    <tr style=\"text-align: right;\">\n",
       "      <th></th>\n",
       "      <th>prenom</th>\n",
       "      <th>genre</th>\n",
       "      <th>nb</th>\n",
       "      <th>len_prenom</th>\n",
       "    </tr>\n",
       "  </thead>\n",
       "  <tbody>\n",
       "    <tr>\n",
       "      <th>4874</th>\n",
       "      <td>Christiane, Victoire Marie-Emm</td>\n",
       "      <td>F</td>\n",
       "      <td>1</td>\n",
       "      <td>30.0</td>\n",
       "    </tr>\n",
       "  </tbody>\n",
       "</table>\n",
       "</div>"
      ],
      "text/plain": [
       "                              prenom genre  nb  len_prenom\n",
       "4874  Christiane, Victoire Marie-Emm     F   1        30.0"
      ]
     },
     "execution_count": 49,
     "metadata": {},
     "output_type": "execute_result"
    }
   ],
   "source": [
    "prenom.sort_values(\"len_prenom\", ascending=False)[:1]"
   ]
  },
  {
   "cell_type": "code",
   "execution_count": 23,
   "id": "ec05560f",
   "metadata": {},
   "outputs": [
    {
     "data": {
      "text/plain": [
       "<AxesSubplot:xlabel='len_prenom'>"
      ]
     },
     "execution_count": 23,
     "metadata": {},
     "output_type": "execute_result"
    },
    {
     "data": {
      "image/png": "[encoded data removed]",
      "text/plain": [
       "<Figure size 432x288 with 1 Axes>"
      ]
     },
     "metadata": {
      "needs_background": "light"
     },
     "output_type": "display_data"
    }
   ],
   "source": [
    "prenom.groupby(\"len_prenom\")[\"prenom\"].count().plot(kind=\"bar\")"
   ]
  },
  {
   "cell_type": "markdown",
   "id": "e96022e2",
   "metadata": {},
   "source": [
    "### Jointure avec reference de genre"
   ]
  },
  {
   "cell_type": "code",
   "execution_count": 38,
   "id": "5a5dd4cc",
   "metadata": {},
   "outputs": [],
   "source": [
    "genre = pd.DataFrame({\"sex\": [\"M\", \"F\"], \"label\": [\"Homme\", \"Femme\"]})\n",
    "#genre = pd.DataFrame({\"genre\": [\"M\"], \"label\": [\"Homme\"]})"
   ]
  },
  {
   "cell_type": "code",
   "execution_count": 39,
   "id": "accc44f7",
   "metadata": {},
   "outputs": [
    {
     "data": {
      "text/html": [
       "<div>\n",
       "<style scoped>\n",
       "    .dataframe tbody tr th:only-of-type {\n",
       "        vertical-align: middle;\n",
       "    }\n",
       "\n",
       "    .dataframe tbody tr th {\n",
       "        vertical-align: top;\n",
       "    }\n",
       "\n",
       "    .dataframe thead th {\n",
       "        text-align: right;\n",
       "    }\n",
       "</style>\n",
       "<table border=\"1\" class=\"dataframe\">\n",
       "  <thead>\n",
       "    <tr style=\"text-align: right;\">\n",
       "      <th></th>\n",
       "      <th>sex</th>\n",
       "      <th>label</th>\n",
       "    </tr>\n",
       "  </thead>\n",
       "  <tbody>\n",
       "    <tr>\n",
       "      <th>0</th>\n",
       "      <td>M</td>\n",
       "      <td>Homme</td>\n",
       "    </tr>\n",
       "    <tr>\n",
       "      <th>1</th>\n",
       "      <td>F</td>\n",
       "      <td>Femme</td>\n",
       "    </tr>\n",
       "  </tbody>\n",
       "</table>\n",
       "</div>"
      ],
      "text/plain": [
       "  sex  label\n",
       "0   M  Homme\n",
       "1   F  Femme"
      ]
     },
     "execution_count": 39,
     "metadata": {},
     "output_type": "execute_result"
    }
   ],
   "source": [
    "genre"
   ]
  },
  {
   "cell_type": "code",
   "execution_count": 42,
   "id": "ff6cd192",
   "metadata": {},
   "outputs": [
    {
     "data": {
      "text/html": [
       "<div>\n",
       "<style scoped>\n",
       "    .dataframe tbody tr th:only-of-type {\n",
       "        vertical-align: middle;\n",
       "    }\n",
       "\n",
       "    .dataframe tbody tr th {\n",
       "        vertical-align: top;\n",
       "    }\n",
       "\n",
       "    .dataframe thead th {\n",
       "        text-align: right;\n",
       "    }\n",
       "</style>\n",
       "<table border=\"1\" class=\"dataframe\">\n",
       "  <thead>\n",
       "    <tr style=\"text-align: right;\">\n",
       "      <th></th>\n",
       "      <th>prenom</th>\n",
       "      <th>genre</th>\n",
       "      <th>nb</th>\n",
       "      <th>len_prenom</th>\n",
       "      <th>sex</th>\n",
       "      <th>label</th>\n",
       "    </tr>\n",
       "  </thead>\n",
       "  <tbody>\n",
       "    <tr>\n",
       "      <th>0</th>\n",
       "      <td>Michel</td>\n",
       "      <td>M</td>\n",
       "      <td>14136</td>\n",
       "      <td>6.0</td>\n",
       "      <td>M</td>\n",
       "      <td>Homme</td>\n",
       "    </tr>\n",
       "    <tr>\n",
       "      <th>1</th>\n",
       "      <td>Alain</td>\n",
       "      <td>M</td>\n",
       "      <td>10646</td>\n",
       "      <td>5.0</td>\n",
       "      <td>M</td>\n",
       "      <td>Homme</td>\n",
       "    </tr>\n",
       "    <tr>\n",
       "      <th>2</th>\n",
       "      <td>Philippe</td>\n",
       "      <td>M</td>\n",
       "      <td>9903</td>\n",
       "      <td>8.0</td>\n",
       "      <td>M</td>\n",
       "      <td>Homme</td>\n",
       "    </tr>\n",
       "    <tr>\n",
       "      <th>3</th>\n",
       "      <td>Bernard</td>\n",
       "      <td>M</td>\n",
       "      <td>8992</td>\n",
       "      <td>7.0</td>\n",
       "      <td>M</td>\n",
       "      <td>Homme</td>\n",
       "    </tr>\n",
       "    <tr>\n",
       "      <th>4</th>\n",
       "      <td>Christian</td>\n",
       "      <td>M</td>\n",
       "      <td>8102</td>\n",
       "      <td>9.0</td>\n",
       "      <td>M</td>\n",
       "      <td>Homme</td>\n",
       "    </tr>\n",
       "    <tr>\n",
       "      <th>...</th>\n",
       "      <td>...</td>\n",
       "      <td>...</td>\n",
       "      <td>...</td>\n",
       "      <td>...</td>\n",
       "      <td>...</td>\n",
       "      <td>...</td>\n",
       "    </tr>\n",
       "    <tr>\n",
       "      <th>12462</th>\n",
       "      <td>F.Jacques</td>\n",
       "      <td>M</td>\n",
       "      <td>1</td>\n",
       "      <td>9.0</td>\n",
       "      <td>M</td>\n",
       "      <td>Homme</td>\n",
       "    </tr>\n",
       "    <tr>\n",
       "      <th>12463</th>\n",
       "      <td>Frédie</td>\n",
       "      <td>F</td>\n",
       "      <td>1</td>\n",
       "      <td>6.0</td>\n",
       "      <td>F</td>\n",
       "      <td>Femme</td>\n",
       "    </tr>\n",
       "    <tr>\n",
       "      <th>12464</th>\n",
       "      <td>Efisia</td>\n",
       "      <td>F</td>\n",
       "      <td>1</td>\n",
       "      <td>6.0</td>\n",
       "      <td>F</td>\n",
       "      <td>Femme</td>\n",
       "    </tr>\n",
       "    <tr>\n",
       "      <th>12465</th>\n",
       "      <td>Cosima</td>\n",
       "      <td>F</td>\n",
       "      <td>1</td>\n",
       "      <td>6.0</td>\n",
       "      <td>F</td>\n",
       "      <td>Femme</td>\n",
       "    </tr>\n",
       "    <tr>\n",
       "      <th>12466</th>\n",
       "      <td>Florisse</td>\n",
       "      <td>F</td>\n",
       "      <td>1</td>\n",
       "      <td>8.0</td>\n",
       "      <td>F</td>\n",
       "      <td>Femme</td>\n",
       "    </tr>\n",
       "  </tbody>\n",
       "</table>\n",
       "<p>12467 rows × 6 columns</p>\n",
       "</div>"
      ],
      "text/plain": [
       "          prenom genre     nb  len_prenom sex  label\n",
       "0         Michel     M  14136         6.0   M  Homme\n",
       "1          Alain     M  10646         5.0   M  Homme\n",
       "2       Philippe     M   9903         8.0   M  Homme\n",
       "3        Bernard     M   8992         7.0   M  Homme\n",
       "4      Christian     M   8102         9.0   M  Homme\n",
       "...          ...   ...    ...         ...  ..    ...\n",
       "12462  F.Jacques     M      1         9.0   M  Homme\n",
       "12463     Frédie     F      1         6.0   F  Femme\n",
       "12464     Efisia     F      1         6.0   F  Femme\n",
       "12465     Cosima     F      1         6.0   F  Femme\n",
       "12466   Florisse     F      1         8.0   F  Femme\n",
       "\n",
       "[12467 rows x 6 columns]"
      ]
     },
     "execution_count": 42,
     "metadata": {},
     "output_type": "execute_result"
    }
   ],
   "source": [
    "# merge et join\n",
    "prenom.merge(genre, how=\"left\", left_on=\"genre\", right_on=\"sex\")"
   ]
  },
  {
   "cell_type": "code",
   "execution_count": 35,
   "id": "b4d18dc3",
   "metadata": {},
   "outputs": [
    {
     "data": {
      "text/html": [
       "<div>\n",
       "<style scoped>\n",
       "    .dataframe tbody tr th:only-of-type {\n",
       "        vertical-align: middle;\n",
       "    }\n",
       "\n",
       "    .dataframe tbody tr th {\n",
       "        vertical-align: top;\n",
       "    }\n",
       "\n",
       "    .dataframe thead th {\n",
       "        text-align: right;\n",
       "    }\n",
       "</style>\n",
       "<table border=\"1\" class=\"dataframe\">\n",
       "  <thead>\n",
       "    <tr style=\"text-align: right;\">\n",
       "      <th></th>\n",
       "      <th>genre</th>\n",
       "      <th>label</th>\n",
       "    </tr>\n",
       "  </thead>\n",
       "  <tbody>\n",
       "    <tr>\n",
       "      <th>0</th>\n",
       "      <td>M</td>\n",
       "      <td>Homme</td>\n",
       "    </tr>\n",
       "  </tbody>\n",
       "</table>\n",
       "</div>"
      ],
      "text/plain": [
       "  genre  label\n",
       "0     M  Homme"
      ]
     },
     "execution_count": 35,
     "metadata": {},
     "output_type": "execute_result"
    }
   ],
   "source": [
    "genre"
   ]
  },
  {
   "cell_type": "code",
   "execution_count": 36,
   "id": "7d0a5765",
   "metadata": {},
   "outputs": [
    {
     "data": {
      "text/html": [
       "<div>\n",
       "<style scoped>\n",
       "    .dataframe tbody tr th:only-of-type {\n",
       "        vertical-align: middle;\n",
       "    }\n",
       "\n",
       "    .dataframe tbody tr th {\n",
       "        vertical-align: top;\n",
       "    }\n",
       "\n",
       "    .dataframe thead th {\n",
       "        text-align: right;\n",
       "    }\n",
       "</style>\n",
       "<table border=\"1\" class=\"dataframe\">\n",
       "  <thead>\n",
       "    <tr style=\"text-align: right;\">\n",
       "      <th></th>\n",
       "      <th>prenom</th>\n",
       "      <th>nb</th>\n",
       "      <th>len_prenom</th>\n",
       "      <th>label</th>\n",
       "    </tr>\n",
       "    <tr>\n",
       "      <th>genre</th>\n",
       "      <th></th>\n",
       "      <th></th>\n",
       "      <th></th>\n",
       "      <th></th>\n",
       "    </tr>\n",
       "  </thead>\n",
       "  <tbody>\n",
       "    <tr>\n",
       "      <th>F</th>\n",
       "      <td>Catherine</td>\n",
       "      <td>4389</td>\n",
       "      <td>9.0</td>\n",
       "      <td>NaN</td>\n",
       "    </tr>\n",
       "    <tr>\n",
       "      <th>F</th>\n",
       "      <td>Françoise</td>\n",
       "      <td>4334</td>\n",
       "      <td>9.0</td>\n",
       "      <td>NaN</td>\n",
       "    </tr>\n",
       "    <tr>\n",
       "      <th>F</th>\n",
       "      <td>Isabelle</td>\n",
       "      <td>4295</td>\n",
       "      <td>8.0</td>\n",
       "      <td>NaN</td>\n",
       "    </tr>\n",
       "    <tr>\n",
       "      <th>F</th>\n",
       "      <td>Sylvie</td>\n",
       "      <td>4197</td>\n",
       "      <td>6.0</td>\n",
       "      <td>NaN</td>\n",
       "    </tr>\n",
       "    <tr>\n",
       "      <th>F</th>\n",
       "      <td>Martine</td>\n",
       "      <td>4094</td>\n",
       "      <td>7.0</td>\n",
       "      <td>NaN</td>\n",
       "    </tr>\n",
       "    <tr>\n",
       "      <th>...</th>\n",
       "      <td>...</td>\n",
       "      <td>...</td>\n",
       "      <td>...</td>\n",
       "      <td>...</td>\n",
       "    </tr>\n",
       "    <tr>\n",
       "      <th>M</th>\n",
       "      <td>Elefthérios</td>\n",
       "      <td>1</td>\n",
       "      <td>11.0</td>\n",
       "      <td>Homme</td>\n",
       "    </tr>\n",
       "    <tr>\n",
       "      <th>M</th>\n",
       "      <td>Patrice Bernard Jean</td>\n",
       "      <td>1</td>\n",
       "      <td>20.0</td>\n",
       "      <td>Homme</td>\n",
       "    </tr>\n",
       "    <tr>\n",
       "      <th>M</th>\n",
       "      <td>Desire</td>\n",
       "      <td>1</td>\n",
       "      <td>6.0</td>\n",
       "      <td>Homme</td>\n",
       "    </tr>\n",
       "    <tr>\n",
       "      <th>M</th>\n",
       "      <td>Pierre Emile</td>\n",
       "      <td>1</td>\n",
       "      <td>12.0</td>\n",
       "      <td>Homme</td>\n",
       "    </tr>\n",
       "    <tr>\n",
       "      <th>M</th>\n",
       "      <td>F.Jacques</td>\n",
       "      <td>1</td>\n",
       "      <td>9.0</td>\n",
       "      <td>Homme</td>\n",
       "    </tr>\n",
       "  </tbody>\n",
       "</table>\n",
       "<p>12467 rows × 4 columns</p>\n",
       "</div>"
      ],
      "text/plain": [
       "                     prenom    nb  len_prenom  label\n",
       "genre                                               \n",
       "F                 Catherine  4389         9.0    NaN\n",
       "F                 Françoise  4334         9.0    NaN\n",
       "F                  Isabelle  4295         8.0    NaN\n",
       "F                    Sylvie  4197         6.0    NaN\n",
       "F                   Martine  4094         7.0    NaN\n",
       "...                     ...   ...         ...    ...\n",
       "M               Elefthérios     1        11.0  Homme\n",
       "M      Patrice Bernard Jean     1        20.0  Homme\n",
       "M                    Desire     1         6.0  Homme\n",
       "M              Pierre Emile     1        12.0  Homme\n",
       "M                 F.Jacques     1         9.0  Homme\n",
       "\n",
       "[12467 rows x 4 columns]"
      ]
     },
     "execution_count": 36,
     "metadata": {},
     "output_type": "execute_result"
    }
   ],
   "source": [
    "prenom.set_index(\"genre\").join(genre.set_index(\"genre\"))"
   ]
  },
  {
   "cell_type": "code",
   "execution_count": 80,
   "id": "2245df2b",
   "metadata": {},
   "outputs": [
    {
     "data": {
      "text/plain": [
       "0        Homme\n",
       "1        Homme\n",
       "2        Homme\n",
       "3        Homme\n",
       "4        Homme\n",
       "         ...  \n",
       "12462    Homme\n",
       "12463     Toto\n",
       "12464     Toto\n",
       "12465     Toto\n",
       "12466     Toto\n",
       "Name: label, Length: 12467, dtype: object"
      ]
     },
     "execution_count": 80,
     "metadata": {},
     "output_type": "execute_result"
    }
   ],
   "source": [
    "prenom.merge(genre, how=\"left\")[\"label\"].fillna(\"Toto\")"
   ]
  },
  {
   "cell_type": "code",
   "execution_count": 85,
   "id": "da5aa75e",
   "metadata": {},
   "outputs": [
    {
     "data": {
      "text/plain": [
       "<AxesSubplot:xlabel='len_prenom'>"
      ]
     },
     "execution_count": 85,
     "metadata": {},
     "output_type": "execute_result"
    },
    {
     "data": {
      "image/png": "[encoded data removed]",
      "text/plain": [
       "<Figure size 432x288 with 1 Axes>"
      ]
     },
     "metadata": {
      "needs_background": "light"
     },
     "output_type": "display_data"
    }
   ],
   "source": [
    "prenom.groupby(\"len_prenom\")[\"prenom\"].count().plot(kind=\"bar\")"
   ]
  },
  {
   "cell_type": "code",
   "execution_count": 87,
   "id": "2ae8b660",
   "metadata": {},
   "outputs": [
    {
     "data": {
      "text/html": [
       "<div>\n",
       "<style scoped>\n",
       "    .dataframe tbody tr th:only-of-type {\n",
       "        vertical-align: middle;\n",
       "    }\n",
       "\n",
       "    .dataframe tbody tr th {\n",
       "        vertical-align: top;\n",
       "    }\n",
       "\n",
       "    .dataframe thead th {\n",
       "        text-align: right;\n",
       "    }\n",
       "</style>\n",
       "<table border=\"1\" class=\"dataframe\">\n",
       "  <thead>\n",
       "    <tr style=\"text-align: right;\">\n",
       "      <th></th>\n",
       "      <th>prenom</th>\n",
       "      <th>genre</th>\n",
       "      <th>nb</th>\n",
       "      <th>len_prenom</th>\n",
       "      <th>label</th>\n",
       "    </tr>\n",
       "  </thead>\n",
       "  <tbody>\n",
       "    <tr>\n",
       "      <th>0</th>\n",
       "      <td>Michel</td>\n",
       "      <td>M</td>\n",
       "      <td>14136</td>\n",
       "      <td>6.0</td>\n",
       "      <td>Homme</td>\n",
       "    </tr>\n",
       "    <tr>\n",
       "      <th>1</th>\n",
       "      <td>Alain</td>\n",
       "      <td>M</td>\n",
       "      <td>10646</td>\n",
       "      <td>5.0</td>\n",
       "      <td>Homme</td>\n",
       "    </tr>\n",
       "    <tr>\n",
       "      <th>2</th>\n",
       "      <td>Philippe</td>\n",
       "      <td>M</td>\n",
       "      <td>9903</td>\n",
       "      <td>8.0</td>\n",
       "      <td>Homme</td>\n",
       "    </tr>\n",
       "    <tr>\n",
       "      <th>3</th>\n",
       "      <td>Bernard</td>\n",
       "      <td>M</td>\n",
       "      <td>8992</td>\n",
       "      <td>7.0</td>\n",
       "      <td>Homme</td>\n",
       "    </tr>\n",
       "    <tr>\n",
       "      <th>4</th>\n",
       "      <td>Christian</td>\n",
       "      <td>M</td>\n",
       "      <td>8102</td>\n",
       "      <td>9.0</td>\n",
       "      <td>Homme</td>\n",
       "    </tr>\n",
       "    <tr>\n",
       "      <th>...</th>\n",
       "      <td>...</td>\n",
       "      <td>...</td>\n",
       "      <td>...</td>\n",
       "      <td>...</td>\n",
       "      <td>...</td>\n",
       "    </tr>\n",
       "    <tr>\n",
       "      <th>6576</th>\n",
       "      <td>Elefthérios</td>\n",
       "      <td>M</td>\n",
       "      <td>1</td>\n",
       "      <td>11.0</td>\n",
       "      <td>Homme</td>\n",
       "    </tr>\n",
       "    <tr>\n",
       "      <th>6577</th>\n",
       "      <td>Patrice Bernard Jean</td>\n",
       "      <td>M</td>\n",
       "      <td>1</td>\n",
       "      <td>20.0</td>\n",
       "      <td>Homme</td>\n",
       "    </tr>\n",
       "    <tr>\n",
       "      <th>6578</th>\n",
       "      <td>Desire</td>\n",
       "      <td>M</td>\n",
       "      <td>1</td>\n",
       "      <td>6.0</td>\n",
       "      <td>Homme</td>\n",
       "    </tr>\n",
       "    <tr>\n",
       "      <th>6579</th>\n",
       "      <td>Pierre Emile</td>\n",
       "      <td>M</td>\n",
       "      <td>1</td>\n",
       "      <td>12.0</td>\n",
       "      <td>Homme</td>\n",
       "    </tr>\n",
       "    <tr>\n",
       "      <th>6580</th>\n",
       "      <td>F.Jacques</td>\n",
       "      <td>M</td>\n",
       "      <td>1</td>\n",
       "      <td>9.0</td>\n",
       "      <td>Homme</td>\n",
       "    </tr>\n",
       "  </tbody>\n",
       "</table>\n",
       "<p>6581 rows × 5 columns</p>\n",
       "</div>"
      ],
      "text/plain": [
       "                    prenom genre     nb  len_prenom  label\n",
       "0                   Michel     M  14136         6.0  Homme\n",
       "1                    Alain     M  10646         5.0  Homme\n",
       "2                 Philippe     M   9903         8.0  Homme\n",
       "3                  Bernard     M   8992         7.0  Homme\n",
       "4                Christian     M   8102         9.0  Homme\n",
       "...                    ...   ...    ...         ...    ...\n",
       "6576           Elefthérios     M      1        11.0  Homme\n",
       "6577  Patrice Bernard Jean     M      1        20.0  Homme\n",
       "6578                Desire     M      1         6.0  Homme\n",
       "6579          Pierre Emile     M      1        12.0  Homme\n",
       "6580             F.Jacques     M      1         9.0  Homme\n",
       "\n",
       "[6581 rows x 5 columns]"
      ]
     },
     "execution_count": 87,
     "metadata": {},
     "output_type": "execute_result"
    }
   ],
   "source": [
    "prenom.merge(genre, left_on=\"genre\", right_on=\"genre\")"
   ]
  },
  {
   "cell_type": "markdown",
   "id": "5ac2e3ad",
   "metadata": {},
   "source": [
    "# Exercice world population"
   ]
  },
  {
   "cell_type": "code",
   "execution_count": 44,
   "id": "df61f24a",
   "metadata": {},
   "outputs": [],
   "source": [
    "df = pd.read_csv(\"world population.csv\")"
   ]
  },
  {
   "cell_type": "code",
   "execution_count": 45,
   "id": "a18f9e2a",
   "metadata": {},
   "outputs": [
    {
     "data": {
      "text/html": [
       "<div>\n",
       "<style scoped>\n",
       "    .dataframe tbody tr th:only-of-type {\n",
       "        vertical-align: middle;\n",
       "    }\n",
       "\n",
       "    .dataframe tbody tr th {\n",
       "        vertical-align: top;\n",
       "    }\n",
       "\n",
       "    .dataframe thead th {\n",
       "        text-align: right;\n",
       "    }\n",
       "</style>\n",
       "<table border=\"1\" class=\"dataframe\">\n",
       "  <thead>\n",
       "    <tr style=\"text-align: right;\">\n",
       "      <th></th>\n",
       "      <th>City / Urban area</th>\n",
       "      <th>Country</th>\n",
       "      <th>Population</th>\n",
       "      <th>Land area</th>\n",
       "      <th>Density</th>\n",
       "    </tr>\n",
       "  </thead>\n",
       "  <tbody>\n",
       "    <tr>\n",
       "      <th>0</th>\n",
       "      <td>Tokyo/Yokohama</td>\n",
       "      <td>Japan</td>\n",
       "      <td>33,200,000</td>\n",
       "      <td>6,993</td>\n",
       "      <td>4,750</td>\n",
       "    </tr>\n",
       "    <tr>\n",
       "      <th>1</th>\n",
       "      <td>New York Metro</td>\n",
       "      <td>USA</td>\n",
       "      <td>17,800,000</td>\n",
       "      <td>8,683</td>\n",
       "      <td>2,050</td>\n",
       "    </tr>\n",
       "    <tr>\n",
       "      <th>2</th>\n",
       "      <td>Sao Paulo</td>\n",
       "      <td>Brazil</td>\n",
       "      <td>17,700,000</td>\n",
       "      <td>1,968</td>\n",
       "      <td>9,000</td>\n",
       "    </tr>\n",
       "    <tr>\n",
       "      <th>3</th>\n",
       "      <td>Seoul/Incheon</td>\n",
       "      <td>South Korea</td>\n",
       "      <td>17,500,000</td>\n",
       "      <td>1,049</td>\n",
       "      <td>16,700</td>\n",
       "    </tr>\n",
       "    <tr>\n",
       "      <th>4</th>\n",
       "      <td>Mexico City</td>\n",
       "      <td>Mexico</td>\n",
       "      <td>17,400,000</td>\n",
       "      <td>2,072</td>\n",
       "      <td>8,400</td>\n",
       "    </tr>\n",
       "    <tr>\n",
       "      <th>...</th>\n",
       "      <td>...</td>\n",
       "      <td>...</td>\n",
       "      <td>...</td>\n",
       "      <td>...</td>\n",
       "      <td>...</td>\n",
       "    </tr>\n",
       "    <tr>\n",
       "      <th>120</th>\n",
       "      <td>Copenhagen</td>\n",
       "      <td>Denmark</td>\n",
       "      <td>1,525,000</td>\n",
       "      <td>816</td>\n",
       "      <td>1,850</td>\n",
       "    </tr>\n",
       "    <tr>\n",
       "      <th>121</th>\n",
       "      <td>Brisbane</td>\n",
       "      <td>Australia</td>\n",
       "      <td>1,508,000</td>\n",
       "      <td>1,603</td>\n",
       "      <td>950</td>\n",
       "    </tr>\n",
       "    <tr>\n",
       "      <th>122</th>\n",
       "      <td>Riverside/San Bernardino</td>\n",
       "      <td>USA</td>\n",
       "      <td>1,507,000</td>\n",
       "      <td>1,136</td>\n",
       "      <td>1,350</td>\n",
       "    </tr>\n",
       "    <tr>\n",
       "      <th>123</th>\n",
       "      <td>Cincinnati</td>\n",
       "      <td>USA</td>\n",
       "      <td>1,503,000</td>\n",
       "      <td>1,740</td>\n",
       "      <td>850</td>\n",
       "    </tr>\n",
       "    <tr>\n",
       "      <th>124</th>\n",
       "      <td>Accra</td>\n",
       "      <td>Ghana</td>\n",
       "      <td>1,500,000</td>\n",
       "      <td>453</td>\n",
       "      <td>3,300</td>\n",
       "    </tr>\n",
       "  </tbody>\n",
       "</table>\n",
       "<p>125 rows × 5 columns</p>\n",
       "</div>"
      ],
      "text/plain": [
       "            City / Urban area      Country  Population Land area Density\n",
       "0              Tokyo/Yokohama        Japan  33,200,000     6,993   4,750\n",
       "1              New York Metro          USA  17,800,000     8,683   2,050\n",
       "2                   Sao Paulo       Brazil  17,700,000     1,968   9,000\n",
       "3               Seoul/Incheon  South Korea  17,500,000     1,049  16,700\n",
       "4                 Mexico City       Mexico  17,400,000     2,072   8,400\n",
       "..                        ...          ...         ...       ...     ...\n",
       "120                Copenhagen      Denmark   1,525,000       816   1,850\n",
       "121                  Brisbane    Australia   1,508,000     1,603     950\n",
       "122  Riverside/San Bernardino          USA   1,507,000     1,136   1,350\n",
       "123                Cincinnati          USA   1,503,000     1,740     850\n",
       "124                     Accra        Ghana   1,500,000       453   3,300\n",
       "\n",
       "[125 rows x 5 columns]"
      ]
     },
     "execution_count": 45,
     "metadata": {},
     "output_type": "execute_result"
    }
   ],
   "source": [
    "df"
   ]
  },
  {
   "cell_type": "markdown",
   "id": "e41823e9",
   "metadata": {},
   "source": [
    "## Question 1 : calculer la somme de la population"
   ]
  },
  {
   "cell_type": "code",
   "execution_count": 46,
   "id": "b846b264",
   "metadata": {},
   "outputs": [
    {
     "data": {
      "text/plain": [
       "'33,200,00017,800,00017,700,00017,500,00017,400,00016,425,00014,750,00014,350,00014,300,00014,250,00013,400,00012,700,00012,200,00011,789,00011,200,00010,800,00010,500,00010,000,0009,800,0009,645,0009,000,0009,000,0008,614,0008,308,0008,278,0008,000,0007,350,0007,250,0007,000,0007,000,0006,500,0006,000,0005,950,0005,700,0005,500,0005,425,0005,400,0005,300,0005,300,0005,149,0005,100,0005,000,0004,919,0004,900,0004,900,0004,750,0004,400,0004,367,0004,250,0004,200,0004,146,0004,032,0004,000,0004,000,0004,000,0004,000,0003,934,0003,903,0003,900,0003,823,0003,685,0003,675,0003,502,0003,500,0003,500,0003,229,0003,216,0003,200,0003,162,0003,100,0003,025,0002,907,0002,900,0002,800,0002,750,0002,750,0002,712,0002,700,0002,674,0002,650,0002,500,0002,500,0002,400,0002,389,0002,300,0002,284,0002,260,0002,250,0002,245,0002,217,0002,200,0002,200,0002,150,0002,100,0002,078,0002,076,0002,075,0002,062,0002,000,0002,000,0001,985,0001,960,0001,925,0001,900,0001,850,0001,830,0001,800,0001,800,0001,787,0001,753,0001,750,0001,750,0001,625,0001,600,0001,600,0001,583,0001,570,0001,550,0001,538,0001,525,0001,525,0001,508,0001,507,0001,503,0001,500,000'"
      ]
     },
     "execution_count": 46,
     "metadata": {},
     "output_type": "execute_result"
    }
   ],
   "source": [
    "df[\"Population\"].sum()"
   ]
  },
  {
   "cell_type": "code",
   "execution_count": 52,
   "id": "05cf2810",
   "metadata": {},
   "outputs": [],
   "source": [
    "df[\"Population\"] = df[\"Population\"].str.replace(\",\", \"\").astype(int)"
   ]
  },
  {
   "cell_type": "code",
   "execution_count": 136,
   "id": "c39e1b69",
   "metadata": {},
   "outputs": [
    {
     "data": {
      "text/plain": [
       "660404000"
      ]
     },
     "execution_count": 136,
     "metadata": {},
     "output_type": "execute_result"
    }
   ],
   "source": [
    "df[\"Population\"].sum()"
   ]
  },
  {
   "cell_type": "code",
   "execution_count": 137,
   "id": "2b354b01",
   "metadata": {},
   "outputs": [
    {
     "data": {
      "text/html": [
       "<div>\n",
       "<style scoped>\n",
       "    .dataframe tbody tr th:only-of-type {\n",
       "        vertical-align: middle;\n",
       "    }\n",
       "\n",
       "    .dataframe tbody tr th {\n",
       "        vertical-align: top;\n",
       "    }\n",
       "\n",
       "    .dataframe thead th {\n",
       "        text-align: right;\n",
       "    }\n",
       "</style>\n",
       "<table border=\"1\" class=\"dataframe\">\n",
       "  <thead>\n",
       "    <tr style=\"text-align: right;\">\n",
       "      <th></th>\n",
       "      <th>City / Urban area</th>\n",
       "      <th>Country</th>\n",
       "      <th>Population</th>\n",
       "      <th>Land area</th>\n",
       "      <th>Density</th>\n",
       "    </tr>\n",
       "  </thead>\n",
       "  <tbody>\n",
       "    <tr>\n",
       "      <th>0</th>\n",
       "      <td>Tokyo/Yokohama</td>\n",
       "      <td>Japan</td>\n",
       "      <td>33200000</td>\n",
       "      <td>6,993</td>\n",
       "      <td>4,750</td>\n",
       "    </tr>\n",
       "    <tr>\n",
       "      <th>1</th>\n",
       "      <td>New York Metro</td>\n",
       "      <td>USA</td>\n",
       "      <td>17800000</td>\n",
       "      <td>8,683</td>\n",
       "      <td>2,050</td>\n",
       "    </tr>\n",
       "    <tr>\n",
       "      <th>2</th>\n",
       "      <td>Sao Paulo</td>\n",
       "      <td>Brazil</td>\n",
       "      <td>17700000</td>\n",
       "      <td>1,968</td>\n",
       "      <td>9,000</td>\n",
       "    </tr>\n",
       "    <tr>\n",
       "      <th>3</th>\n",
       "      <td>Seoul/Incheon</td>\n",
       "      <td>South Korea</td>\n",
       "      <td>17500000</td>\n",
       "      <td>1,049</td>\n",
       "      <td>16,700</td>\n",
       "    </tr>\n",
       "    <tr>\n",
       "      <th>4</th>\n",
       "      <td>Mexico City</td>\n",
       "      <td>Mexico</td>\n",
       "      <td>17400000</td>\n",
       "      <td>2,072</td>\n",
       "      <td>8,400</td>\n",
       "    </tr>\n",
       "    <tr>\n",
       "      <th>...</th>\n",
       "      <td>...</td>\n",
       "      <td>...</td>\n",
       "      <td>...</td>\n",
       "      <td>...</td>\n",
       "      <td>...</td>\n",
       "    </tr>\n",
       "    <tr>\n",
       "      <th>120</th>\n",
       "      <td>Copenhagen</td>\n",
       "      <td>Denmark</td>\n",
       "      <td>1525000</td>\n",
       "      <td>816</td>\n",
       "      <td>1,850</td>\n",
       "    </tr>\n",
       "    <tr>\n",
       "      <th>121</th>\n",
       "      <td>Brisbane</td>\n",
       "      <td>Australia</td>\n",
       "      <td>1508000</td>\n",
       "      <td>1,603</td>\n",
       "      <td>950</td>\n",
       "    </tr>\n",
       "    <tr>\n",
       "      <th>122</th>\n",
       "      <td>Riverside/San Bernardino</td>\n",
       "      <td>USA</td>\n",
       "      <td>1507000</td>\n",
       "      <td>1,136</td>\n",
       "      <td>1,350</td>\n",
       "    </tr>\n",
       "    <tr>\n",
       "      <th>123</th>\n",
       "      <td>Cincinnati</td>\n",
       "      <td>USA</td>\n",
       "      <td>1503000</td>\n",
       "      <td>1,740</td>\n",
       "      <td>850</td>\n",
       "    </tr>\n",
       "    <tr>\n",
       "      <th>124</th>\n",
       "      <td>Accra</td>\n",
       "      <td>Ghana</td>\n",
       "      <td>1500000</td>\n",
       "      <td>453</td>\n",
       "      <td>3,300</td>\n",
       "    </tr>\n",
       "  </tbody>\n",
       "</table>\n",
       "<p>125 rows × 5 columns</p>\n",
       "</div>"
      ],
      "text/plain": [
       "            City / Urban area      Country  Population Land area Density\n",
       "0              Tokyo/Yokohama        Japan    33200000     6,993   4,750\n",
       "1              New York Metro          USA    17800000     8,683   2,050\n",
       "2                   Sao Paulo       Brazil    17700000     1,968   9,000\n",
       "3               Seoul/Incheon  South Korea    17500000     1,049  16,700\n",
       "4                 Mexico City       Mexico    17400000     2,072   8,400\n",
       "..                        ...          ...         ...       ...     ...\n",
       "120                Copenhagen      Denmark     1525000       816   1,850\n",
       "121                  Brisbane    Australia     1508000     1,603     950\n",
       "122  Riverside/San Bernardino          USA     1507000     1,136   1,350\n",
       "123                Cincinnati          USA     1503000     1,740     850\n",
       "124                     Accra        Ghana     1500000       453   3,300\n",
       "\n",
       "[125 rows x 5 columns]"
      ]
     },
     "execution_count": 137,
     "metadata": {},
     "output_type": "execute_result"
    }
   ],
   "source": [
    "df"
   ]
  },
  {
   "cell_type": "markdown",
   "id": "6b117ca6",
   "metadata": {},
   "source": [
    "# Question 2 : Calculer la vraie densité de population et donner la ville la plus dense du monde"
   ]
  },
  {
   "cell_type": "code",
   "execution_count": 138,
   "id": "10840e1b",
   "metadata": {},
   "outputs": [],
   "source": [
    "df[\"Land area\"] = df[\"Land area\"].str.replace(\",\", \"\").astype(int)"
   ]
  },
  {
   "cell_type": "code",
   "execution_count": 139,
   "id": "b9ae1cec",
   "metadata": {},
   "outputs": [],
   "source": [
    "df[\"Real density\"] = df[\"Population\"] / df[\"Land area\"]"
   ]
  },
  {
   "cell_type": "code",
   "execution_count": 140,
   "id": "d28db0da",
   "metadata": {},
   "outputs": [
    {
     "data": {
      "text/html": [
       "<div>\n",
       "<style scoped>\n",
       "    .dataframe tbody tr th:only-of-type {\n",
       "        vertical-align: middle;\n",
       "    }\n",
       "\n",
       "    .dataframe tbody tr th {\n",
       "        vertical-align: top;\n",
       "    }\n",
       "\n",
       "    .dataframe thead th {\n",
       "        text-align: right;\n",
       "    }\n",
       "</style>\n",
       "<table border=\"1\" class=\"dataframe\">\n",
       "  <thead>\n",
       "    <tr style=\"text-align: right;\">\n",
       "      <th></th>\n",
       "      <th>City / Urban area</th>\n",
       "      <th>Country</th>\n",
       "      <th>Population</th>\n",
       "      <th>Land area</th>\n",
       "      <th>Density</th>\n",
       "      <th>Real density</th>\n",
       "    </tr>\n",
       "  </thead>\n",
       "  <tbody>\n",
       "    <tr>\n",
       "      <th>7</th>\n",
       "      <td>Mumbai</td>\n",
       "      <td>India</td>\n",
       "      <td>14350000</td>\n",
       "      <td>484</td>\n",
       "      <td>29,650</td>\n",
       "      <td>29648.760331</td>\n",
       "    </tr>\n",
       "    <tr>\n",
       "      <th>11</th>\n",
       "      <td>Kolkata</td>\n",
       "      <td>India</td>\n",
       "      <td>12700000</td>\n",
       "      <td>531</td>\n",
       "      <td>23,900</td>\n",
       "      <td>23917.137476</td>\n",
       "    </tr>\n",
       "    <tr>\n",
       "      <th>18</th>\n",
       "      <td>Karachi</td>\n",
       "      <td>Pakistan</td>\n",
       "      <td>9800000</td>\n",
       "      <td>518</td>\n",
       "      <td>18,900</td>\n",
       "      <td>18918.918919</td>\n",
       "    </tr>\n",
       "    <tr>\n",
       "      <th>10</th>\n",
       "      <td>Lagos</td>\n",
       "      <td>Nigeria</td>\n",
       "      <td>13400000</td>\n",
       "      <td>738</td>\n",
       "      <td>18,150</td>\n",
       "      <td>18157.181572</td>\n",
       "    </tr>\n",
       "    <tr>\n",
       "      <th>25</th>\n",
       "      <td>Shenzhen</td>\n",
       "      <td>China</td>\n",
       "      <td>8000000</td>\n",
       "      <td>466</td>\n",
       "      <td>17,150</td>\n",
       "      <td>17167.381974</td>\n",
       "    </tr>\n",
       "    <tr>\n",
       "      <th>...</th>\n",
       "      <td>...</td>\n",
       "      <td>...</td>\n",
       "      <td>...</td>\n",
       "      <td>...</td>\n",
       "      <td>...</td>\n",
       "      <td>...</td>\n",
       "    </tr>\n",
       "    <tr>\n",
       "      <th>121</th>\n",
       "      <td>Brisbane</td>\n",
       "      <td>Australia</td>\n",
       "      <td>1508000</td>\n",
       "      <td>1603</td>\n",
       "      <td>950</td>\n",
       "      <td>940.736120</td>\n",
       "    </tr>\n",
       "    <tr>\n",
       "      <th>51</th>\n",
       "      <td>Boston</td>\n",
       "      <td>USA</td>\n",
       "      <td>4032000</td>\n",
       "      <td>4497</td>\n",
       "      <td>900</td>\n",
       "      <td>896.597732</td>\n",
       "    </tr>\n",
       "    <tr>\n",
       "      <th>123</th>\n",
       "      <td>Cincinnati</td>\n",
       "      <td>USA</td>\n",
       "      <td>1503000</td>\n",
       "      <td>1740</td>\n",
       "      <td>850</td>\n",
       "      <td>863.793103</td>\n",
       "    </tr>\n",
       "    <tr>\n",
       "      <th>109</th>\n",
       "      <td>Pittsburgh</td>\n",
       "      <td>USA</td>\n",
       "      <td>1753000</td>\n",
       "      <td>2208</td>\n",
       "      <td>800</td>\n",
       "      <td>793.931159</td>\n",
       "    </tr>\n",
       "    <tr>\n",
       "      <th>63</th>\n",
       "      <td>Atlanta</td>\n",
       "      <td>USA</td>\n",
       "      <td>3500000</td>\n",
       "      <td>5083</td>\n",
       "      <td>700</td>\n",
       "      <td>688.569742</td>\n",
       "    </tr>\n",
       "  </tbody>\n",
       "</table>\n",
       "<p>125 rows × 6 columns</p>\n",
       "</div>"
      ],
      "text/plain": [
       "    City / Urban area    Country  Population  Land area Density  Real density\n",
       "7              Mumbai      India    14350000        484  29,650  29648.760331\n",
       "11            Kolkata      India    12700000        531  23,900  23917.137476\n",
       "18            Karachi   Pakistan     9800000        518  18,900  18918.918919\n",
       "10              Lagos    Nigeria    13400000        738  18,150  18157.181572\n",
       "25           Shenzhen      China     8000000        466  17,150  17167.381974\n",
       "..                ...        ...         ...        ...     ...           ...\n",
       "121          Brisbane  Australia     1508000       1603     950    940.736120\n",
       "51             Boston        USA     4032000       4497     900    896.597732\n",
       "123        Cincinnati        USA     1503000       1740     850    863.793103\n",
       "109        Pittsburgh        USA     1753000       2208     800    793.931159\n",
       "63            Atlanta        USA     3500000       5083     700    688.569742\n",
       "\n",
       "[125 rows x 6 columns]"
      ]
     },
     "execution_count": 140,
     "metadata": {},
     "output_type": "execute_result"
    }
   ],
   "source": [
    "df.sort_values(\"Real density\", ascending=False)"
   ]
  },
  {
   "cell_type": "markdown",
   "id": "c8873ac0",
   "metadata": {},
   "source": [
    "# Question 3 : donner le pays avec le plus de villes dans le dataset"
   ]
  },
  {
   "cell_type": "code",
   "execution_count": 151,
   "id": "38865c28",
   "metadata": {},
   "outputs": [
    {
     "data": {
      "text/plain": [
       "'USA'"
      ]
     },
     "execution_count": 151,
     "metadata": {},
     "output_type": "execute_result"
    }
   ],
   "source": [
    "df[\"Country\"].value_counts().index[0]"
   ]
  },
  {
   "cell_type": "markdown",
   "id": "70ff88dd",
   "metadata": {},
   "source": [
    "# Question 4 : Trouver les 3 pays les plus peuplés du dataset"
   ]
  },
  {
   "cell_type": "code",
   "execution_count": 166,
   "id": "3a8c7024",
   "metadata": {},
   "outputs": [
    {
     "data": {
      "text/plain": [
       "Country\n",
       "India     58000000\n",
       "Japan     62850000\n",
       "USA      103086000\n",
       "Name: Population, dtype: int64"
      ]
     },
     "execution_count": 166,
     "metadata": {},
     "output_type": "execute_result"
    }
   ],
   "source": [
    "df.groupby(\"Country\")[\"Population\"].sum().sort_values().tail(3)"
   ]
  },
  {
   "cell_type": "markdown",
   "id": "6f8d500a",
   "metadata": {},
   "source": [
    "# Question 5 : Combien de villes commencent par la lettre P ?"
   ]
  },
  {
   "cell_type": "code",
   "execution_count": 175,
   "id": "88318c4d",
   "metadata": {},
   "outputs": [
    {
     "data": {
      "text/html": [
       "<div>\n",
       "<style scoped>\n",
       "    .dataframe tbody tr th:only-of-type {\n",
       "        vertical-align: middle;\n",
       "    }\n",
       "\n",
       "    .dataframe tbody tr th {\n",
       "        vertical-align: top;\n",
       "    }\n",
       "\n",
       "    .dataframe thead th {\n",
       "        text-align: right;\n",
       "    }\n",
       "</style>\n",
       "<table border=\"1\" class=\"dataframe\">\n",
       "  <thead>\n",
       "    <tr style=\"text-align: right;\">\n",
       "      <th></th>\n",
       "      <th>City / Urban area</th>\n",
       "      <th>Country</th>\n",
       "      <th>Population</th>\n",
       "      <th>Land area</th>\n",
       "      <th>Density</th>\n",
       "      <th>Real density</th>\n",
       "    </tr>\n",
       "  </thead>\n",
       "  <tbody>\n",
       "    <tr>\n",
       "      <th>19</th>\n",
       "      <td>Paris</td>\n",
       "      <td>France</td>\n",
       "      <td>9645000</td>\n",
       "      <td>2723</td>\n",
       "      <td>3,550</td>\n",
       "      <td>3542.049210</td>\n",
       "    </tr>\n",
       "    <tr>\n",
       "      <th>39</th>\n",
       "      <td>Philadelphia</td>\n",
       "      <td>USA</td>\n",
       "      <td>5149000</td>\n",
       "      <td>4661</td>\n",
       "      <td>1,100</td>\n",
       "      <td>1104.698563</td>\n",
       "    </tr>\n",
       "    <tr>\n",
       "      <th>71</th>\n",
       "      <td>Phoenix/Mesa</td>\n",
       "      <td>USA</td>\n",
       "      <td>2907000</td>\n",
       "      <td>2069</td>\n",
       "      <td>1,400</td>\n",
       "      <td>1405.026583</td>\n",
       "    </tr>\n",
       "    <tr>\n",
       "      <th>73</th>\n",
       "      <td>Porto Alegre</td>\n",
       "      <td>Brazil</td>\n",
       "      <td>2800000</td>\n",
       "      <td>583</td>\n",
       "      <td>4,800</td>\n",
       "      <td>4802.744425</td>\n",
       "    </tr>\n",
       "    <tr>\n",
       "      <th>104</th>\n",
       "      <td>Pretoria</td>\n",
       "      <td>South Africa</td>\n",
       "      <td>1850000</td>\n",
       "      <td>673</td>\n",
       "      <td>2,750</td>\n",
       "      <td>2748.885587</td>\n",
       "    </tr>\n",
       "    <tr>\n",
       "      <th>109</th>\n",
       "      <td>Pittsburgh</td>\n",
       "      <td>USA</td>\n",
       "      <td>1753000</td>\n",
       "      <td>2208</td>\n",
       "      <td>800</td>\n",
       "      <td>793.931159</td>\n",
       "    </tr>\n",
       "    <tr>\n",
       "      <th>115</th>\n",
       "      <td>Portland</td>\n",
       "      <td>USA</td>\n",
       "      <td>1583000</td>\n",
       "      <td>1228</td>\n",
       "      <td>1,300</td>\n",
       "      <td>1289.087948</td>\n",
       "    </tr>\n",
       "  </tbody>\n",
       "</table>\n",
       "</div>"
      ],
      "text/plain": [
       "    City / Urban area       Country  Population  Land area Density  \\\n",
       "19              Paris        France     9645000       2723   3,550   \n",
       "39       Philadelphia           USA     5149000       4661   1,100   \n",
       "71       Phoenix/Mesa           USA     2907000       2069   1,400   \n",
       "73       Porto Alegre        Brazil     2800000        583   4,800   \n",
       "104          Pretoria  South Africa     1850000        673   2,750   \n",
       "109        Pittsburgh           USA     1753000       2208     800   \n",
       "115          Portland           USA     1583000       1228   1,300   \n",
       "\n",
       "     Real density  \n",
       "19    3542.049210  \n",
       "39    1104.698563  \n",
       "71    1405.026583  \n",
       "73    4802.744425  \n",
       "104   2748.885587  \n",
       "109    793.931159  \n",
       "115   1289.087948  "
      ]
     },
     "execution_count": 175,
     "metadata": {},
     "output_type": "execute_result"
    }
   ],
   "source": [
    "df[df[\"City / Urban area\"].str.startswith(\"P\")]"
   ]
  },
  {
   "cell_type": "code",
   "execution_count": 176,
   "id": "2abccb08",
   "metadata": {},
   "outputs": [
    {
     "data": {
      "text/plain": [
       "7"
      ]
     },
     "execution_count": 176,
     "metadata": {},
     "output_type": "execute_result"
    }
   ],
   "source": [
    "len(df[df[\"City / Urban area\"].str.startswith(\"P\")])"
   ]
  },
  {
   "cell_type": "code",
   "execution_count": 180,
   "id": "a43a91a2",
   "metadata": {},
   "outputs": [
    {
     "data": {
      "text/html": [
       "<div>\n",
       "<style scoped>\n",
       "    .dataframe tbody tr th:only-of-type {\n",
       "        vertical-align: middle;\n",
       "    }\n",
       "\n",
       "    .dataframe tbody tr th {\n",
       "        vertical-align: top;\n",
       "    }\n",
       "\n",
       "    .dataframe thead th {\n",
       "        text-align: right;\n",
       "    }\n",
       "</style>\n",
       "<table border=\"1\" class=\"dataframe\">\n",
       "  <thead>\n",
       "    <tr style=\"text-align: right;\">\n",
       "      <th></th>\n",
       "      <th>City / Urban area</th>\n",
       "      <th>Country</th>\n",
       "      <th>Population</th>\n",
       "      <th>Land area</th>\n",
       "      <th>Density</th>\n",
       "      <th>Real density</th>\n",
       "    </tr>\n",
       "  </thead>\n",
       "  <tbody>\n",
       "    <tr>\n",
       "      <th>19</th>\n",
       "      <td>Paris</td>\n",
       "      <td>France</td>\n",
       "      <td>9645000</td>\n",
       "      <td>2723</td>\n",
       "      <td>3,550</td>\n",
       "      <td>3542.049210</td>\n",
       "    </tr>\n",
       "    <tr>\n",
       "      <th>39</th>\n",
       "      <td>Philadelphia</td>\n",
       "      <td>USA</td>\n",
       "      <td>5149000</td>\n",
       "      <td>4661</td>\n",
       "      <td>1,100</td>\n",
       "      <td>1104.698563</td>\n",
       "    </tr>\n",
       "    <tr>\n",
       "      <th>71</th>\n",
       "      <td>Phoenix/Mesa</td>\n",
       "      <td>USA</td>\n",
       "      <td>2907000</td>\n",
       "      <td>2069</td>\n",
       "      <td>1,400</td>\n",
       "      <td>1405.026583</td>\n",
       "    </tr>\n",
       "    <tr>\n",
       "      <th>73</th>\n",
       "      <td>Porto Alegre</td>\n",
       "      <td>Brazil</td>\n",
       "      <td>2800000</td>\n",
       "      <td>583</td>\n",
       "      <td>4,800</td>\n",
       "      <td>4802.744425</td>\n",
       "    </tr>\n",
       "    <tr>\n",
       "      <th>104</th>\n",
       "      <td>Pretoria</td>\n",
       "      <td>South Africa</td>\n",
       "      <td>1850000</td>\n",
       "      <td>673</td>\n",
       "      <td>2,750</td>\n",
       "      <td>2748.885587</td>\n",
       "    </tr>\n",
       "    <tr>\n",
       "      <th>109</th>\n",
       "      <td>Pittsburgh</td>\n",
       "      <td>USA</td>\n",
       "      <td>1753000</td>\n",
       "      <td>2208</td>\n",
       "      <td>800</td>\n",
       "      <td>793.931159</td>\n",
       "    </tr>\n",
       "    <tr>\n",
       "      <th>115</th>\n",
       "      <td>Portland</td>\n",
       "      <td>USA</td>\n",
       "      <td>1583000</td>\n",
       "      <td>1228</td>\n",
       "      <td>1,300</td>\n",
       "      <td>1289.087948</td>\n",
       "    </tr>\n",
       "  </tbody>\n",
       "</table>\n",
       "</div>"
      ],
      "text/plain": [
       "    City / Urban area       Country  Population  Land area Density  \\\n",
       "19              Paris        France     9645000       2723   3,550   \n",
       "39       Philadelphia           USA     5149000       4661   1,100   \n",
       "71       Phoenix/Mesa           USA     2907000       2069   1,400   \n",
       "73       Porto Alegre        Brazil     2800000        583   4,800   \n",
       "104          Pretoria  South Africa     1850000        673   2,750   \n",
       "109        Pittsburgh           USA     1753000       2208     800   \n",
       "115          Portland           USA     1583000       1228   1,300   \n",
       "\n",
       "     Real density  \n",
       "19    3542.049210  \n",
       "39    1104.698563  \n",
       "71    1405.026583  \n",
       "73    4802.744425  \n",
       "104   2748.885587  \n",
       "109    793.931159  \n",
       "115   1289.087948  "
      ]
     },
     "execution_count": 180,
     "metadata": {},
     "output_type": "execute_result"
    }
   ],
   "source": [
    "# methode apply\n",
    "df[df[\"City / Urban area\"].apply(lambda x: x.lower().startswith(\"p\"))]"
   ]
  },
  {
   "cell_type": "code",
   "execution_count": 179,
   "id": "330c6222",
   "metadata": {},
   "outputs": [
    {
     "data": {
      "text/html": [
       "<div>\n",
       "<style scoped>\n",
       "    .dataframe tbody tr th:only-of-type {\n",
       "        vertical-align: middle;\n",
       "    }\n",
       "\n",
       "    .dataframe tbody tr th {\n",
       "        vertical-align: top;\n",
       "    }\n",
       "\n",
       "    .dataframe thead th {\n",
       "        text-align: right;\n",
       "    }\n",
       "</style>\n",
       "<table border=\"1\" class=\"dataframe\">\n",
       "  <thead>\n",
       "    <tr style=\"text-align: right;\">\n",
       "      <th></th>\n",
       "      <th>City / Urban area</th>\n",
       "      <th>Country</th>\n",
       "      <th>Population</th>\n",
       "      <th>Land area</th>\n",
       "      <th>Density</th>\n",
       "      <th>Real density</th>\n",
       "    </tr>\n",
       "  </thead>\n",
       "  <tbody>\n",
       "    <tr>\n",
       "      <th>19</th>\n",
       "      <td>Paris</td>\n",
       "      <td>France</td>\n",
       "      <td>9645000.0</td>\n",
       "      <td>2723.0</td>\n",
       "      <td>3,550</td>\n",
       "      <td>3542.049210</td>\n",
       "    </tr>\n",
       "    <tr>\n",
       "      <th>39</th>\n",
       "      <td>Philadelphia</td>\n",
       "      <td>USA</td>\n",
       "      <td>5149000.0</td>\n",
       "      <td>4661.0</td>\n",
       "      <td>1,100</td>\n",
       "      <td>1104.698563</td>\n",
       "    </tr>\n",
       "    <tr>\n",
       "      <th>71</th>\n",
       "      <td>Phoenix/Mesa</td>\n",
       "      <td>USA</td>\n",
       "      <td>2907000.0</td>\n",
       "      <td>2069.0</td>\n",
       "      <td>1,400</td>\n",
       "      <td>1405.026583</td>\n",
       "    </tr>\n",
       "    <tr>\n",
       "      <th>73</th>\n",
       "      <td>Porto Alegre</td>\n",
       "      <td>Brazil</td>\n",
       "      <td>2800000.0</td>\n",
       "      <td>583.0</td>\n",
       "      <td>4,800</td>\n",
       "      <td>4802.744425</td>\n",
       "    </tr>\n",
       "    <tr>\n",
       "      <th>104</th>\n",
       "      <td>Pretoria</td>\n",
       "      <td>South Africa</td>\n",
       "      <td>1850000.0</td>\n",
       "      <td>673.0</td>\n",
       "      <td>2,750</td>\n",
       "      <td>2748.885587</td>\n",
       "    </tr>\n",
       "    <tr>\n",
       "      <th>109</th>\n",
       "      <td>Pittsburgh</td>\n",
       "      <td>USA</td>\n",
       "      <td>1753000.0</td>\n",
       "      <td>2208.0</td>\n",
       "      <td>800</td>\n",
       "      <td>793.931159</td>\n",
       "    </tr>\n",
       "    <tr>\n",
       "      <th>115</th>\n",
       "      <td>Portland</td>\n",
       "      <td>USA</td>\n",
       "      <td>1583000.0</td>\n",
       "      <td>1228.0</td>\n",
       "      <td>1,300</td>\n",
       "      <td>1289.087948</td>\n",
       "    </tr>\n",
       "  </tbody>\n",
       "</table>\n",
       "</div>"
      ],
      "text/plain": [
       "    City / Urban area       Country  Population  Land area Density  \\\n",
       "19              Paris        France   9645000.0     2723.0   3,550   \n",
       "39       Philadelphia           USA   5149000.0     4661.0   1,100   \n",
       "71       Phoenix/Mesa           USA   2907000.0     2069.0   1,400   \n",
       "73       Porto Alegre        Brazil   2800000.0      583.0   4,800   \n",
       "104          Pretoria  South Africa   1850000.0      673.0   2,750   \n",
       "109        Pittsburgh           USA   1753000.0     2208.0     800   \n",
       "115          Portland           USA   1583000.0     1228.0   1,300   \n",
       "\n",
       "     Real density  \n",
       "19    3542.049210  \n",
       "39    1104.698563  \n",
       "71    1405.026583  \n",
       "73    4802.744425  \n",
       "104   2748.885587  \n",
       "109    793.931159  \n",
       "115   1289.087948  "
      ]
     },
     "execution_count": 179,
     "metadata": {},
     "output_type": "execute_result"
    }
   ],
   "source": [
    "df.where(df[\"City / Urban area\"].str.startswith(\"P\")).dropna()"
   ]
  },
  {
   "cell_type": "code",
   "execution_count": null,
   "id": "f4bc3e0e",
   "metadata": {},
   "outputs": [],
   "source": []
  }
 ],
 "metadata": {
  "kernelspec": {
   "display_name": "Python 3 (ipykernel)",
   "language": "python",
   "name": "python3"
  },
  "language_info": {
   "codemirror_mode": {
    "name": "ipython",
    "version": 3
   },
   "file_extension": ".py",
   "mimetype": "text/x-python",
   "name": "python",
   "nbconvert_exporter": "python",
   "pygments_lexer": "ipython3",
   "version": "3.8.9"
  }
 },
 "nbformat": 4,
 "nbformat_minor": 5
}
