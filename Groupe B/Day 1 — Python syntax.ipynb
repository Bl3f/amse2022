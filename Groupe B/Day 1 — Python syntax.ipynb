{
 "cells": [
  {
   "cell_type": "code",
   "execution_count": 3,
   "id": "a5f3d1cc",
   "metadata": {},
   "outputs": [],
   "source": [
    "variable_a = 4\n",
    "# assignation"
   ]
  },
  {
   "cell_type": "code",
   "execution_count": 4,
   "id": "ee83b79e",
   "metadata": {},
   "outputs": [],
   "source": [
    "variable_a = 2"
   ]
  },
  {
   "cell_type": "code",
   "execution_count": 5,
   "id": "c49fc758",
   "metadata": {},
   "outputs": [],
   "source": [
    "variable_b = 40"
   ]
  },
  {
   "cell_type": "code",
   "execution_count": 6,
   "id": "4285f39a",
   "metadata": {},
   "outputs": [
    {
     "data": {
      "text/plain": [
       "42"
      ]
     },
     "execution_count": 6,
     "metadata": {},
     "output_type": "execute_result"
    }
   ],
   "source": [
    "variable_a + variable_b"
   ]
  },
  {
   "cell_type": "code",
   "execution_count": 8,
   "id": "5472db4a",
   "metadata": {},
   "outputs": [],
   "source": [
    "_private_variable = 'secret'"
   ]
  },
  {
   "cell_type": "markdown",
   "id": "5d6588a9",
   "metadata": {},
   "source": [
    "### Programmation orientée objet POO - OOP\n",
    "OBJET\n",
    "- attributs\n",
    "- méthodes\n",
    "\n",
    "Voiture\n",
    "- attributs\n",
    "    - couleur\n",
    "    - marque\n",
    "    - nombre_place\n",
    "    - vitesse\n",
    "    - _essence\n",
    "- méthodes\n",
    "    - ouvrir la porte(porte)\n",
    "    - démarrer\n",
    "    - récuperer vitesse\n",
    "    - combien de place libres\n",
    "    \n",
    "Racer\n",
    "- attrs\n",
    "    - nom\n",
    "    - prénom\n",
    "    - voiture "
   ]
  },
  {
   "cell_type": "code",
   "execution_count": 25,
   "id": "8da0c841",
   "metadata": {},
   "outputs": [],
   "source": [
    "class Voiture():\n",
    "    marque = None\n",
    "    vitesse = 0\n",
    "    __essence = 0\n",
    "    \n",
    "    # constructeur\n",
    "    def __init__(self, marque):\n",
    "        self.marque = marque\n",
    "    \n",
    "    def start(self):\n",
    "        vitesse = 50\n",
    "\n",
    "    def stop(self):\n",
    "        vitesse = 0\n",
    "        \n",
    "    def get_essence(self):\n",
    "        return self.__essence"
   ]
  },
  {
   "cell_type": "code",
   "execution_count": 26,
   "id": "daf0c740",
   "metadata": {},
   "outputs": [],
   "source": [
    "voiture = Voiture(\"renault\")"
   ]
  },
  {
   "cell_type": "code",
   "execution_count": 27,
   "id": "61e1f517",
   "metadata": {},
   "outputs": [
    {
     "data": {
      "text/plain": [
       "'renault'"
      ]
     },
     "execution_count": 27,
     "metadata": {},
     "output_type": "execute_result"
    }
   ],
   "source": [
    "voiture.marque"
   ]
  },
  {
   "cell_type": "code",
   "execution_count": 28,
   "id": "e1967f3b",
   "metadata": {},
   "outputs": [
    {
     "data": {
      "text/plain": [
       "0"
      ]
     },
     "execution_count": 28,
     "metadata": {},
     "output_type": "execute_result"
    }
   ],
   "source": [
    "voiture.vitesse"
   ]
  },
  {
   "cell_type": "code",
   "execution_count": 29,
   "id": "3a0a28da",
   "metadata": {},
   "outputs": [
    {
     "ename": "AttributeError",
     "evalue": "'Voiture' object has no attribute '__essence'",
     "output_type": "error",
     "traceback": [
      "\u001b[0;31m---------------------------------------------------------------------------\u001b[0m",
      "\u001b[0;31mAttributeError\u001b[0m                            Traceback (most recent call last)",
      "\u001b[0;32m/var/folders/rs/7bw0gmgj5hqfyg0fpk1d13t00000gn/T/ipykernel_11840/678712723.py\u001b[0m in \u001b[0;36m<module>\u001b[0;34m\u001b[0m\n\u001b[0;32m----> 1\u001b[0;31m \u001b[0mvoiture\u001b[0m\u001b[0;34m.\u001b[0m\u001b[0m__essence\u001b[0m\u001b[0;34m\u001b[0m\u001b[0;34m\u001b[0m\u001b[0m\n\u001b[0m",
      "\u001b[0;31mAttributeError\u001b[0m: 'Voiture' object has no attribute '__essence'"
     ]
    }
   ],
   "source": [
    "voiture.__essence"
   ]
  },
  {
   "cell_type": "code",
   "execution_count": 30,
   "id": "92bd74f7",
   "metadata": {},
   "outputs": [
    {
     "data": {
      "text/plain": [
       "0"
      ]
     },
     "execution_count": 30,
     "metadata": {},
     "output_type": "execute_result"
    }
   ],
   "source": [
    "voiture.get_essence()"
   ]
  },
  {
   "cell_type": "markdown",
   "id": "b479f97f",
   "metadata": {},
   "source": [
    "### je ferme la parenthèse POO"
   ]
  },
  {
   "cell_type": "code",
   "execution_count": 31,
   "id": "669f40d7",
   "metadata": {},
   "outputs": [],
   "source": [
    "variable_c = variable_a + variable_b"
   ]
  },
  {
   "cell_type": "code",
   "execution_count": 34,
   "id": "02889dee",
   "metadata": {},
   "outputs": [
    {
     "name": "stdout",
     "output_type": "stream",
     "text": [
      "42\n"
     ]
    }
   ],
   "source": [
    "print(variable_c)"
   ]
  },
  {
   "cell_type": "code",
   "execution_count": 35,
   "id": "c982bffd",
   "metadata": {},
   "outputs": [],
   "source": [
    "d, e, f = 3, 4, 5"
   ]
  },
  {
   "cell_type": "code",
   "execution_count": 36,
   "id": "94daa090",
   "metadata": {},
   "outputs": [
    {
     "data": {
      "text/plain": [
       "3"
      ]
     },
     "execution_count": 36,
     "metadata": {},
     "output_type": "execute_result"
    }
   ],
   "source": [
    "d"
   ]
  },
  {
   "cell_type": "code",
   "execution_count": 37,
   "id": "22a643e5",
   "metadata": {},
   "outputs": [
    {
     "data": {
      "text/plain": [
       "4"
      ]
     },
     "execution_count": 37,
     "metadata": {},
     "output_type": "execute_result"
    }
   ],
   "source": [
    "e"
   ]
  },
  {
   "cell_type": "code",
   "execution_count": 38,
   "id": "f8498c4f",
   "metadata": {},
   "outputs": [
    {
     "data": {
      "text/plain": [
       "5"
      ]
     },
     "execution_count": 38,
     "metadata": {},
     "output_type": "execute_result"
    }
   ],
   "source": [
    "f"
   ]
  },
  {
   "cell_type": "code",
   "execution_count": 39,
   "id": "d4b3e4cb",
   "metadata": {},
   "outputs": [],
   "source": [
    "None"
   ]
  },
  {
   "cell_type": "code",
   "execution_count": 50,
   "id": "13d60ea0",
   "metadata": {},
   "outputs": [
    {
     "data": {
      "text/plain": [
       "tuple"
      ]
     },
     "execution_count": 50,
     "metadata": {},
     "output_type": "execute_result"
    }
   ],
   "source": [
    "int\n",
    "float\n",
    "str\n",
    "dict\n",
    "list\n",
    "tuple"
   ]
  },
  {
   "cell_type": "code",
   "execution_count": 41,
   "id": "160626e6",
   "metadata": {},
   "outputs": [
    {
     "data": {
      "text/plain": [
       "int"
      ]
     },
     "execution_count": 41,
     "metadata": {},
     "output_type": "execute_result"
    }
   ],
   "source": [
    "type(variable_a)"
   ]
  },
  {
   "cell_type": "code",
   "execution_count": 42,
   "id": "00b13236",
   "metadata": {},
   "outputs": [],
   "source": [
    "variable_d = 2.5"
   ]
  },
  {
   "cell_type": "code",
   "execution_count": 43,
   "id": "43503370",
   "metadata": {},
   "outputs": [
    {
     "data": {
      "text/plain": [
       "float"
      ]
     },
     "execution_count": 43,
     "metadata": {},
     "output_type": "execute_result"
    }
   ],
   "source": [
    "type(variable_d)"
   ]
  },
  {
   "cell_type": "code",
   "execution_count": 44,
   "id": "fd83e7d9",
   "metadata": {},
   "outputs": [],
   "source": [
    "my_string = 'toto'"
   ]
  },
  {
   "cell_type": "code",
   "execution_count": 45,
   "id": "d515a949",
   "metadata": {},
   "outputs": [
    {
     "data": {
      "text/plain": [
       "str"
      ]
     },
     "execution_count": 45,
     "metadata": {},
     "output_type": "execute_result"
    }
   ],
   "source": [
    "type(my_string)"
   ]
  },
  {
   "cell_type": "code",
   "execution_count": 46,
   "id": "565b9123",
   "metadata": {},
   "outputs": [],
   "source": [
    "my_list = [1, 2, 3]"
   ]
  },
  {
   "cell_type": "code",
   "execution_count": 47,
   "id": "31b765b7",
   "metadata": {},
   "outputs": [],
   "source": [
    "panier = {\"kiwi\": 2, \"pomme\": 5, \"banane\": 3}"
   ]
  },
  {
   "cell_type": "code",
   "execution_count": 48,
   "id": "2bd1bcba",
   "metadata": {},
   "outputs": [
    {
     "data": {
      "text/plain": [
       "dict"
      ]
     },
     "execution_count": 48,
     "metadata": {},
     "output_type": "execute_result"
    }
   ],
   "source": [
    "type(panier)"
   ]
  },
  {
   "cell_type": "code",
   "execution_count": 49,
   "id": "3899d69a",
   "metadata": {},
   "outputs": [
    {
     "data": {
      "text/plain": [
       "list"
      ]
     },
     "execution_count": 49,
     "metadata": {},
     "output_type": "execute_result"
    }
   ],
   "source": [
    "type(my_list)"
   ]
  },
  {
   "cell_type": "code",
   "execution_count": 59,
   "id": "b2c2e1a8",
   "metadata": {},
   "outputs": [],
   "source": [
    "my_tuple = (3, )"
   ]
  },
  {
   "cell_type": "code",
   "execution_count": 60,
   "id": "b9c6954e",
   "metadata": {},
   "outputs": [
    {
     "data": {
      "text/plain": [
       "tuple"
      ]
     },
     "execution_count": 60,
     "metadata": {},
     "output_type": "execute_result"
    }
   ],
   "source": [
    "type(my_tuple)"
   ]
  },
  {
   "cell_type": "code",
   "execution_count": 61,
   "id": "44899d6e",
   "metadata": {},
   "outputs": [],
   "source": [
    "# immutable"
   ]
  },
  {
   "cell_type": "code",
   "execution_count": 64,
   "id": "ce578c6a",
   "metadata": {},
   "outputs": [
    {
     "data": {
      "text/plain": [
       "5.0"
      ]
     },
     "execution_count": 64,
     "metadata": {},
     "output_type": "execute_result"
    }
   ],
   "source": [
    "variable_a * variable_d"
   ]
  },
  {
   "cell_type": "code",
   "execution_count": 67,
   "id": "17d853c0",
   "metadata": {},
   "outputs": [
    {
     "data": {
      "text/plain": [
       "2"
      ]
     },
     "execution_count": 67,
     "metadata": {},
     "output_type": "execute_result"
    }
   ],
   "source": [
    "17 % 3 # (5 * 3 + 2)"
   ]
  },
  {
   "cell_type": "code",
   "execution_count": 68,
   "id": "00ab8211",
   "metadata": {},
   "outputs": [
    {
     "data": {
      "text/plain": [
       "5"
      ]
     },
     "execution_count": 68,
     "metadata": {},
     "output_type": "execute_result"
    }
   ],
   "source": [
    "17 // 3"
   ]
  },
  {
   "cell_type": "code",
   "execution_count": 69,
   "id": "56d44a46",
   "metadata": {},
   "outputs": [],
   "source": [
    "fruits = [\"tomate\", \"pomme\", \"poire\", \"kiwi\"]"
   ]
  },
  {
   "cell_type": "code",
   "execution_count": 70,
   "id": "c073fd06",
   "metadata": {},
   "outputs": [
    {
     "data": {
      "text/plain": [
       "'tomate'"
      ]
     },
     "execution_count": 70,
     "metadata": {},
     "output_type": "execute_result"
    }
   ],
   "source": [
    "fruits[0]"
   ]
  },
  {
   "cell_type": "code",
   "execution_count": 83,
   "id": "3e45a087",
   "metadata": {},
   "outputs": [
    {
     "data": {
      "text/plain": [
       "'kiwi'"
      ]
     },
     "execution_count": 83,
     "metadata": {},
     "output_type": "execute_result"
    }
   ],
   "source": [
    "fruits[-1]"
   ]
  },
  {
   "cell_type": "code",
   "execution_count": 84,
   "id": "60c4b675",
   "metadata": {},
   "outputs": [
    {
     "data": {
      "text/plain": [
       "['tomate', 'pomme', 'poire', 'kiwi']"
      ]
     },
     "execution_count": 84,
     "metadata": {},
     "output_type": "execute_result"
    }
   ],
   "source": [
    "fruits[:] # slicing [debut:fin["
   ]
  },
  {
   "cell_type": "code",
   "execution_count": 85,
   "id": "9970896d",
   "metadata": {},
   "outputs": [
    {
     "data": {
      "text/plain": [
       "['tomate', 'pomme']"
      ]
     },
     "execution_count": 85,
     "metadata": {},
     "output_type": "execute_result"
    }
   ],
   "source": [
    "fruits[:2]"
   ]
  },
  {
   "cell_type": "code",
   "execution_count": 89,
   "id": "87ba0417",
   "metadata": {},
   "outputs": [
    {
     "data": {
      "text/plain": [
       "['tomate', 'poire']"
      ]
     },
     "execution_count": 89,
     "metadata": {},
     "output_type": "execute_result"
    }
   ],
   "source": [
    "fruits[:3:2] # slicing avec pas [debut:fin:pas]"
   ]
  },
  {
   "cell_type": "code",
   "execution_count": 90,
   "id": "3e14a2f5",
   "metadata": {},
   "outputs": [
    {
     "data": {
      "text/plain": [
       "4"
      ]
     },
     "execution_count": 90,
     "metadata": {},
     "output_type": "execute_result"
    }
   ],
   "source": [
    "len(fruits)"
   ]
  },
  {
   "cell_type": "code",
   "execution_count": 91,
   "id": "9c02d5a0",
   "metadata": {},
   "outputs": [],
   "source": [
    "fruits.append(\"mangue\")"
   ]
  },
  {
   "cell_type": "code",
   "execution_count": 92,
   "id": "ebc3435c",
   "metadata": {},
   "outputs": [
    {
     "data": {
      "text/plain": [
       "['tomate', 'pomme', 'poire', 'kiwi', 'mangue']"
      ]
     },
     "execution_count": 92,
     "metadata": {},
     "output_type": "execute_result"
    }
   ],
   "source": [
    "fruits"
   ]
  },
  {
   "cell_type": "code",
   "execution_count": 95,
   "id": "bc6fd484",
   "metadata": {},
   "outputs": [
    {
     "data": {
      "text/plain": [
       "'tomate🍌 pomme🍌 poire🍌 kiwi🍌 mangue'"
      ]
     },
     "execution_count": 95,
     "metadata": {},
     "output_type": "execute_result"
    }
   ],
   "source": [
    "\"🍌 \".join(fruits)"
   ]
  },
  {
   "cell_type": "code",
   "execution_count": 96,
   "id": "04436121",
   "metadata": {},
   "outputs": [],
   "source": [
    "name = 'Christophe'"
   ]
  },
  {
   "cell_type": "code",
   "execution_count": 97,
   "id": "c0a44511",
   "metadata": {},
   "outputs": [
    {
     "data": {
      "text/plain": [
       "10"
      ]
     },
     "execution_count": 97,
     "metadata": {},
     "output_type": "execute_result"
    }
   ],
   "source": [
    "len(name)"
   ]
  },
  {
   "cell_type": "code",
   "execution_count": 98,
   "id": "24855cb6",
   "metadata": {},
   "outputs": [
    {
     "data": {
      "text/plain": [
       "'C'"
      ]
     },
     "execution_count": 98,
     "metadata": {},
     "output_type": "execute_result"
    }
   ],
   "source": [
    "name[0]"
   ]
  },
  {
   "cell_type": "code",
   "execution_count": 103,
   "id": "856b6260",
   "metadata": {},
   "outputs": [
    {
     "data": {
      "text/plain": [
       "\"Je m'appelle Christopheet j'aime les fruits comme['tomate', 'pomme', 'poire', 'kiwi', 'mangue']mais surtout\""
      ]
     },
     "execution_count": 103,
     "metadata": {},
     "output_type": "execute_result"
    }
   ],
   "source": [
    "\"Je m'appelle \" + name + \"et j'aime les fruits comme\" + str(fruits) + \"mais surtout\"  # pas recommandé"
   ]
  },
  {
   "cell_type": "code",
   "execution_count": 105,
   "id": "09353ccb",
   "metadata": {},
   "outputs": [
    {
     "data": {
      "text/plain": [
       "\"Je m'appelle Christophe et j'aime les fruits comme ['tomate', 'pomme', 'poire', 'kiwi', 'mangue']\""
      ]
     },
     "execution_count": 105,
     "metadata": {},
     "output_type": "execute_result"
    }
   ],
   "source": [
    "# f-strings\n",
    "f\"Je m'appelle {name} et j'aime les fruits comme {str(fruits)}\""
   ]
  },
  {
   "cell_type": "code",
   "execution_count": 106,
   "id": "96930d5b",
   "metadata": {},
   "outputs": [
    {
     "data": {
      "text/plain": [
       "'tomate'"
      ]
     },
     "execution_count": 106,
     "metadata": {},
     "output_type": "execute_result"
    }
   ],
   "source": [
    "fruits.pop(0) # pop uses index"
   ]
  },
  {
   "cell_type": "code",
   "execution_count": 107,
   "id": "ee382a4a",
   "metadata": {},
   "outputs": [
    {
     "data": {
      "text/plain": [
       "['pomme', 'poire', 'kiwi', 'mangue']"
      ]
     },
     "execution_count": 107,
     "metadata": {},
     "output_type": "execute_result"
    }
   ],
   "source": [
    "fruits"
   ]
  },
  {
   "cell_type": "code",
   "execution_count": 109,
   "id": "e10247cd",
   "metadata": {},
   "outputs": [],
   "source": [
    "fruits.remove(\"poire\") # remove uses element"
   ]
  },
  {
   "cell_type": "code",
   "execution_count": 110,
   "id": "29acdc05",
   "metadata": {},
   "outputs": [
    {
     "data": {
      "text/plain": [
       "['pomme', 'kiwi', 'mangue']"
      ]
     },
     "execution_count": 110,
     "metadata": {},
     "output_type": "execute_result"
    }
   ],
   "source": [
    "fruits"
   ]
  },
  {
   "cell_type": "code",
   "execution_count": 111,
   "id": "7d337112",
   "metadata": {},
   "outputs": [
    {
     "data": {
      "text/plain": [
       "'CHRISTOPHE'"
      ]
     },
     "execution_count": 111,
     "metadata": {},
     "output_type": "execute_result"
    }
   ],
   "source": [
    "name.upper()"
   ]
  },
  {
   "cell_type": "code",
   "execution_count": 112,
   "id": "dd665ec4",
   "metadata": {},
   "outputs": [
    {
     "data": {
      "text/plain": [
       "'christophe'"
      ]
     },
     "execution_count": 112,
     "metadata": {},
     "output_type": "execute_result"
    }
   ],
   "source": [
    "name.lower()"
   ]
  },
  {
   "cell_type": "code",
   "execution_count": 114,
   "id": "73cbbec6",
   "metadata": {},
   "outputs": [
    {
     "data": {
      "text/plain": [
       "'Christophe'"
      ]
     },
     "execution_count": 114,
     "metadata": {},
     "output_type": "execute_result"
    }
   ],
   "source": [
    "name.capitalize()"
   ]
  },
  {
   "cell_type": "code",
   "execution_count": 115,
   "id": "2afe42b1",
   "metadata": {},
   "outputs": [
    {
     "data": {
      "text/plain": [
       "['C', 'ristop', 'e']"
      ]
     },
     "execution_count": 115,
     "metadata": {},
     "output_type": "execute_result"
    }
   ],
   "source": [
    "name.split(\"h\")"
   ]
  },
  {
   "cell_type": "code",
   "execution_count": 117,
   "id": "1219b9a7",
   "metadata": {},
   "outputs": [],
   "source": [
    "panier = {\"kiwi\": 2, \"pomme\": 5, \"banane\": 3}"
   ]
  },
  {
   "cell_type": "code",
   "execution_count": 118,
   "id": "1e93fa2c",
   "metadata": {},
   "outputs": [
    {
     "data": {
      "text/plain": [
       "2"
      ]
     },
     "execution_count": 118,
     "metadata": {},
     "output_type": "execute_result"
    }
   ],
   "source": [
    "panier[\"kiwi\"]"
   ]
  },
  {
   "cell_type": "code",
   "execution_count": 119,
   "id": "fc2f6e40",
   "metadata": {},
   "outputs": [],
   "source": [
    "# structure qui associe à une clé une valeur"
   ]
  },
  {
   "cell_type": "code",
   "execution_count": 120,
   "id": "d098b8fb",
   "metadata": {},
   "outputs": [
    {
     "data": {
      "text/plain": [
       "5"
      ]
     },
     "execution_count": 120,
     "metadata": {},
     "output_type": "execute_result"
    }
   ],
   "source": [
    "panier[\"pomme\"]"
   ]
  },
  {
   "cell_type": "code",
   "execution_count": 122,
   "id": "4a77823b",
   "metadata": {},
   "outputs": [],
   "source": [
    "panier.get(\"mangue\")"
   ]
  },
  {
   "cell_type": "code",
   "execution_count": 123,
   "id": "a5a9019e",
   "metadata": {},
   "outputs": [
    {
     "ename": "KeyError",
     "evalue": "'mangue'",
     "output_type": "error",
     "traceback": [
      "\u001b[0;31m---------------------------------------------------------------------------\u001b[0m",
      "\u001b[0;31mKeyError\u001b[0m                                  Traceback (most recent call last)",
      "\u001b[0;32m/var/folders/rs/7bw0gmgj5hqfyg0fpk1d13t00000gn/T/ipykernel_11840/1982360142.py\u001b[0m in \u001b[0;36m<module>\u001b[0;34m\u001b[0m\n\u001b[0;32m----> 1\u001b[0;31m \u001b[0mpanier\u001b[0m\u001b[0;34m[\u001b[0m\u001b[0;34m\"mangue\"\u001b[0m\u001b[0;34m]\u001b[0m\u001b[0;34m\u001b[0m\u001b[0;34m\u001b[0m\u001b[0m\n\u001b[0m",
      "\u001b[0;31mKeyError\u001b[0m: 'mangue'"
     ]
    }
   ],
   "source": [
    "panier[\"mangue\"] # -> raises Exception"
   ]
  },
  {
   "cell_type": "code",
   "execution_count": 124,
   "id": "506dc5a0",
   "metadata": {},
   "outputs": [
    {
     "data": {
      "text/plain": [
       "dict_values([2, 5, 3])"
      ]
     },
     "execution_count": 124,
     "metadata": {},
     "output_type": "execute_result"
    }
   ],
   "source": [
    "panier.values()"
   ]
  },
  {
   "cell_type": "code",
   "execution_count": 125,
   "id": "c8eccd8e",
   "metadata": {},
   "outputs": [
    {
     "data": {
      "text/plain": [
       "dict_keys(['kiwi', 'pomme', 'banane'])"
      ]
     },
     "execution_count": 125,
     "metadata": {},
     "output_type": "execute_result"
    }
   ],
   "source": [
    "panier.keys()"
   ]
  },
  {
   "cell_type": "code",
   "execution_count": 126,
   "id": "709b6e85",
   "metadata": {},
   "outputs": [
    {
     "data": {
      "text/plain": [
       "dict_items([('kiwi', 2), ('pomme', 5), ('banane', 3)])"
      ]
     },
     "execution_count": 126,
     "metadata": {},
     "output_type": "execute_result"
    }
   ],
   "source": [
    "panier.items()"
   ]
  },
  {
   "cell_type": "code",
   "execution_count": 127,
   "id": "8939c7cb",
   "metadata": {},
   "outputs": [
    {
     "data": {
      "text/plain": [
       "['pomme', 'kiwi', 'mangue']"
      ]
     },
     "execution_count": 127,
     "metadata": {},
     "output_type": "execute_result"
    }
   ],
   "source": [
    "# iterable\n",
    "fruits"
   ]
  },
  {
   "cell_type": "code",
   "execution_count": 131,
   "id": "63ba1b14",
   "metadata": {},
   "outputs": [
    {
     "name": "stdout",
     "output_type": "stream",
     "text": [
      "C'est un(e) pomme\n",
      "C'est un(e) kiwi\n",
      "C'est un(e) mangue\n"
     ]
    }
   ],
   "source": [
    "# fruit est une variable intrinsèque\n",
    "for fruit in fruits:\n",
    "    print(f\"C'est un(e) {fruit}\")"
   ]
  },
  {
   "cell_type": "code",
   "execution_count": 132,
   "id": "4fec4256",
   "metadata": {},
   "outputs": [
    {
     "name": "stdout",
     "output_type": "stream",
     "text": [
      "C'est une pomme\n",
      "C'est une kiwi\n",
      "C'est une mangue\n"
     ]
    }
   ],
   "source": [
    "# qu'il ne faut pas reproduire / ! \\ https://www.python.org/dev/peps/pep-0020/\n",
    "for i in range(len(fruits)):\n",
    "    print(f\"C'est une {fruits[i]}\")\n",
    "# pas lisibile pas pythonique"
   ]
  },
  {
   "cell_type": "code",
   "execution_count": 133,
   "id": "e055ffd1",
   "metadata": {},
   "outputs": [
    {
     "name": "stdout",
     "output_type": "stream",
     "text": [
      "I have 2 kiwi\n",
      "I have 5 pomme\n",
      "I have 3 banane\n"
     ]
    }
   ],
   "source": [
    "for fruit, quantity in panier.items():\n",
    "    print(f\"I have {quantity} {fruit}\")"
   ]
  },
  {
   "cell_type": "code",
   "execution_count": 135,
   "id": "a4119ea4",
   "metadata": {},
   "outputs": [
    {
     "name": "stdout",
     "output_type": "stream",
     "text": [
      "yes\n"
     ]
    }
   ],
   "source": [
    "if 2 > 1:\n",
    "    print(\"yes\")\n",
    "else:\n",
    "    print(\"weird\")"
   ]
  },
  {
   "cell_type": "code",
   "execution_count": 136,
   "id": "0899561f",
   "metadata": {},
   "outputs": [
    {
     "data": {
      "text/plain": [
       "bool"
      ]
     },
     "execution_count": 136,
     "metadata": {},
     "output_type": "execute_result"
    }
   ],
   "source": [
    "bool"
   ]
  },
  {
   "cell_type": "code",
   "execution_count": 137,
   "id": "e78c2e61",
   "metadata": {},
   "outputs": [
    {
     "data": {
      "text/plain": [
       "False"
      ]
     },
     "execution_count": 137,
     "metadata": {},
     "output_type": "execute_result"
    }
   ],
   "source": [
    "True\n",
    "False"
   ]
  },
  {
   "cell_type": "code",
   "execution_count": 138,
   "id": "26970b60",
   "metadata": {},
   "outputs": [
    {
     "data": {
      "text/plain": [
       "['pomme', 'kiwi', 'mangue']"
      ]
     },
     "execution_count": 138,
     "metadata": {},
     "output_type": "execute_result"
    }
   ],
   "source": [
    "fruits"
   ]
  },
  {
   "cell_type": "code",
   "execution_count": 139,
   "id": "3d9c83ee",
   "metadata": {},
   "outputs": [],
   "source": [
    "prices = [2, 10, 4, 5, 3]"
   ]
  },
  {
   "cell_type": "code",
   "execution_count": 140,
   "id": "ff1b0b98",
   "metadata": {},
   "outputs": [
    {
     "data": {
      "text/plain": [
       "[2, 10, 4, 5, 3, 2, 10, 4, 5, 3]"
      ]
     },
     "execution_count": 140,
     "metadata": {},
     "output_type": "execute_result"
    }
   ],
   "source": [
    "prices * 2"
   ]
  },
  {
   "cell_type": "code",
   "execution_count": 145,
   "id": "a1a276cc",
   "metadata": {},
   "outputs": [
    {
     "data": {
      "text/plain": [
       "[20, 10]"
      ]
     },
     "execution_count": 145,
     "metadata": {},
     "output_type": "execute_result"
    }
   ],
   "source": [
    "# list comprehension (compréhension de liste)\n",
    "[price * 2 for price in prices if price >= 5]"
   ]
  },
  {
   "cell_type": "code",
   "execution_count": 142,
   "id": "3086c988",
   "metadata": {},
   "outputs": [],
   "source": [
    "output = []\n",
    "for price in prices:\n",
    "    output.append(price * 2)"
   ]
  },
  {
   "cell_type": "code",
   "execution_count": 143,
   "id": "b0d9bf2d",
   "metadata": {},
   "outputs": [
    {
     "data": {
      "text/plain": [
       "[4, 20, 8, 10, 6]"
      ]
     },
     "execution_count": 143,
     "metadata": {},
     "output_type": "execute_result"
    }
   ],
   "source": [
    "output"
   ]
  },
  {
   "cell_type": "code",
   "execution_count": 147,
   "id": "d6959f56",
   "metadata": {},
   "outputs": [],
   "source": [
    "def function_name(param_1, param_2):\n",
    "    \"\"\" This function is doing something. \n",
    "        This is the doctring.\n",
    "    \"\"\"\n",
    "    # blalblalal\n",
    "    return param_1"
   ]
  },
  {
   "cell_type": "code",
   "execution_count": 148,
   "id": "1391ace7",
   "metadata": {},
   "outputs": [
    {
     "data": {
      "text/plain": [
       "1"
      ]
     },
     "execution_count": 148,
     "metadata": {},
     "output_type": "execute_result"
    }
   ],
   "source": [
    "function_name(1, 2)"
   ]
  },
  {
   "cell_type": "code",
   "execution_count": 149,
   "id": "cb892b0a",
   "metadata": {},
   "outputs": [
    {
     "data": {
      "text/plain": [
       "1"
      ]
     },
     "execution_count": 149,
     "metadata": {},
     "output_type": "execute_result"
    }
   ],
   "source": [
    "function_name(param_1=1, param_2='toto')"
   ]
  },
  {
   "cell_type": "code",
   "execution_count": 150,
   "id": "3fd992c2",
   "metadata": {},
   "outputs": [
    {
     "data": {
      "text/plain": [
       "1"
      ]
     },
     "execution_count": 150,
     "metadata": {},
     "output_type": "execute_result"
    }
   ],
   "source": [
    "function_name(param_2='toto', param_1=1)"
   ]
  },
  {
   "cell_type": "code",
   "execution_count": 151,
   "id": "b4f50af0",
   "metadata": {},
   "outputs": [
    {
     "data": {
      "text/plain": [
       "[2, 10, 4, 5, 3]"
      ]
     },
     "execution_count": 151,
     "metadata": {},
     "output_type": "execute_result"
    }
   ],
   "source": [
    "prices"
   ]
  },
  {
   "cell_type": "code",
   "execution_count": 154,
   "id": "193fea9c",
   "metadata": {},
   "outputs": [
    {
     "data": {
      "text/plain": [
       "[12, 20, 14, 15, 13]"
      ]
     },
     "execution_count": 154,
     "metadata": {},
     "output_type": "execute_result"
    }
   ],
   "source": [
    "list(map(lambda x: x + 10, prices))"
   ]
  },
  {
   "cell_type": "code",
   "execution_count": 155,
   "id": "0dbbcbfe",
   "metadata": {},
   "outputs": [],
   "source": [
    "def add_10(x):\n",
    "    return x + 10"
   ]
  },
  {
   "cell_type": "code",
   "execution_count": 157,
   "id": "a65f84e0",
   "metadata": {},
   "outputs": [
    {
     "data": {
      "text/plain": [
       "[12, 20, 14, 15, 13]"
      ]
     },
     "execution_count": 157,
     "metadata": {},
     "output_type": "execute_result"
    }
   ],
   "source": [
    "list(map(add_10, prices))"
   ]
  },
  {
   "cell_type": "code",
   "execution_count": null,
   "id": "c90dec74",
   "metadata": {},
   "outputs": [],
   "source": []
  }
 ],
 "metadata": {
  "kernelspec": {
   "display_name": "Python 3 (ipykernel)",
   "language": "python",
   "name": "python3"
  },
  "language_info": {
   "codemirror_mode": {
    "name": "ipython",
    "version": 3
   },
   "file_extension": ".py",
   "mimetype": "text/x-python",
   "name": "python",
   "nbconvert_exporter": "python",
   "pygments_lexer": "ipython3",
   "version": "3.8.9"
  }
 },
 "nbformat": 4,
 "nbformat_minor": 5
}
