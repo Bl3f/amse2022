{
 "cells": [
  {
   "cell_type": "markdown",
   "id": "5790f08f",
   "metadata": {},
   "source": [
    "# Regression\n",
    "## Régression linéaire"
   ]
  },
  {
   "cell_type": "code",
   "execution_count": 1,
   "id": "8034ac16",
   "metadata": {},
   "outputs": [],
   "source": [
    "import pandas as pd"
   ]
  },
  {
   "cell_type": "code",
   "execution_count": 2,
   "id": "0559f2f6",
   "metadata": {},
   "outputs": [],
   "source": [
    "data = pd.DataFrame({\n",
    "    \"taille\": [10, 13, 20, 21, 40, 45, 100, 160, 180],\n",
    "    \"age\": [0.2, 0.5, 1, 1.5, 1, 2, 7, 15, 19],\n",
    "})"
   ]
  },
  {
   "cell_type": "code",
   "execution_count": 4,
   "id": "fa77592e",
   "metadata": {},
   "outputs": [
    {
     "data": {
      "text/plain": [
       "<AxesSubplot:xlabel='taille', ylabel='age'>"
      ]
     },
     "execution_count": 4,
     "metadata": {},
     "output_type": "execute_result"
    },
    {
     "data": {
      "image/png": "[encoded data removed]",
      "text/plain": [
       "<Figure size 432x288 with 1 Axes>"
      ]
     },
     "metadata": {
      "needs_background": "light"
     },
     "output_type": "display_data"
    }
   ],
   "source": [
    "data.plot(kind=\"scatter\", x=\"taille\", y=\"age\")"
   ]
  },
  {
   "cell_type": "code",
   "execution_count": 5,
   "id": "5baccfcf",
   "metadata": {},
   "outputs": [],
   "source": [
    "from sklearn.linear_model import LinearRegression"
   ]
  },
  {
   "cell_type": "code",
   "execution_count": 6,
   "id": "cb9de104",
   "metadata": {},
   "outputs": [],
   "source": [
    "regr = LinearRegression()"
   ]
  },
  {
   "cell_type": "code",
   "execution_count": 15,
   "id": "87b08f06",
   "metadata": {},
   "outputs": [
    {
     "data": {
      "text/plain": [
       "LinearRegression()"
      ]
     },
     "execution_count": 15,
     "metadata": {},
     "output_type": "execute_result"
    }
   ],
   "source": [
    "regr.fit(data[[\"taille\"]], data[\"age\"])"
   ]
  },
  {
   "cell_type": "code",
   "execution_count": 16,
   "id": "8eb2bba0",
   "metadata": {},
   "outputs": [
    {
     "data": {
      "text/plain": [
       "-1.6870592211742812"
      ]
     },
     "execution_count": 16,
     "metadata": {},
     "output_type": "execute_result"
    }
   ],
   "source": [
    "regr.intercept_"
   ]
  },
  {
   "cell_type": "code",
   "execution_count": 17,
   "id": "08844d89",
   "metadata": {},
   "outputs": [
    {
     "data": {
      "text/plain": [
       "array([0.10591432])"
      ]
     },
     "execution_count": 17,
     "metadata": {},
     "output_type": "execute_result"
    }
   ],
   "source": [
    "regr.coef_"
   ]
  },
  {
   "cell_type": "code",
   "execution_count": null,
   "id": "c51038ae",
   "metadata": {},
   "outputs": [],
   "source": [
    "# f(x) = 0.105 * x - 1.687"
   ]
  },
  {
   "cell_type": "code",
   "execution_count": 19,
   "id": "e0a66e7c",
   "metadata": {},
   "outputs": [
    {
     "name": "stderr",
     "output_type": "stream",
     "text": [
      "/Users/blef/.virtualenvs/lab/lib/python3.8/site-packages/sklearn/base.py:445: UserWarning: X does not have valid feature names, but LinearRegression was fitted with feature names\n",
      "  warnings.warn(\n"
     ]
    },
    {
     "data": {
      "text/plain": [
       "array([17.37751792])"
      ]
     },
     "execution_count": 19,
     "metadata": {},
     "output_type": "execute_result"
    }
   ],
   "source": [
    "regr.predict([[180]])"
   ]
  },
  {
   "cell_type": "code",
   "execution_count": 23,
   "id": "d217511d",
   "metadata": {},
   "outputs": [
    {
     "data": {
      "text/plain": [
       "<AxesSubplot:xlabel='taille', ylabel='age'>"
      ]
     },
     "execution_count": 23,
     "metadata": {},
     "output_type": "execute_result"
    },
    {
     "data": {
      "image/png": "[encoded data removed]",
      "text/plain": [
       "<Figure size 432x288 with 1 Axes>"
      ]
     },
     "metadata": {
      "needs_background": "light"
     },
     "output_type": "display_data"
    }
   ],
   "source": [
    "predictions = regr.predict([[taille] for taille in range(220)])\n",
    "\n",
    "ax = data.plot(kind=\"scatter\", x=\"taille\", y=\"age\")\n",
    "pd.Series(predictions).plot(ax=ax, color=\"red\")"
   ]
  },
  {
   "cell_type": "markdown",
   "id": "bdcb8018",
   "metadata": {},
   "source": [
    "## Régression polynomiale"
   ]
  },
  {
   "cell_type": "code",
   "execution_count": 24,
   "id": "644accd4",
   "metadata": {},
   "outputs": [],
   "source": [
    "from sklearn.preprocessing import PolynomialFeatures"
   ]
  },
  {
   "cell_type": "code",
   "execution_count": 48,
   "id": "b16b0175",
   "metadata": {},
   "outputs": [],
   "source": [
    "poly = PolynomialFeatures(degree=5)"
   ]
  },
  {
   "cell_type": "code",
   "execution_count": 49,
   "id": "f6a13969",
   "metadata": {},
   "outputs": [],
   "source": [
    "X = poly.fit_transform(data[[\"taille\"]])"
   ]
  },
  {
   "cell_type": "code",
   "execution_count": 50,
   "id": "6444ce38",
   "metadata": {},
   "outputs": [
    {
     "data": {
      "text/plain": [
       "LinearRegression()"
      ]
     },
     "execution_count": 50,
     "metadata": {},
     "output_type": "execute_result"
    }
   ],
   "source": [
    "regr.fit(X, data[\"age\"])"
   ]
  },
  {
   "cell_type": "code",
   "execution_count": 51,
   "id": "f31a6227",
   "metadata": {},
   "outputs": [
    {
     "data": {
      "text/plain": [
       "<AxesSubplot:xlabel='taille', ylabel='age'>"
      ]
     },
     "execution_count": 51,
     "metadata": {},
     "output_type": "execute_result"
    },
    {
     "data": {
      "image/png": "[encoded data removed]",
      "text/plain": [
       "<Figure size 432x288 with 1 Axes>"
      ]
     },
     "metadata": {
      "needs_background": "light"
     },
     "output_type": "display_data"
    }
   ],
   "source": [
    "predictions = regr.predict(\n",
    "    poly.fit_transform([[taille] for taille in range(185)])\n",
    ")\n",
    "\n",
    "ax = data.plot(kind=\"scatter\", x=\"taille\", y=\"age\")\n",
    "pd.Series(predictions).plot(ax=ax, color=\"red\")"
   ]
  },
  {
   "cell_type": "markdown",
   "id": "ff89dc59",
   "metadata": {},
   "source": [
    "# Classification\n",
    "## Régression logistique"
   ]
  },
  {
   "cell_type": "code",
   "execution_count": 61,
   "id": "288527aa",
   "metadata": {},
   "outputs": [],
   "source": [
    "prenoms = pd.read_csv(\"prenoms.csv\", sep=\";\").dropna()"
   ]
  },
  {
   "cell_type": "markdown",
   "id": "69eb243b",
   "metadata": {},
   "source": [
    "### On cherche à prédire le genre d'une personne à partir de son prénom"
   ]
  },
  {
   "cell_type": "code",
   "execution_count": 63,
   "id": "3fab5009",
   "metadata": {
    "collapsed": true
   },
   "outputs": [
    {
     "data": {
      "text/html": [
       "<div>\n",
       "<style scoped>\n",
       "    .dataframe tbody tr th:only-of-type {\n",
       "        vertical-align: middle;\n",
       "    }\n",
       "\n",
       "    .dataframe tbody tr th {\n",
       "        vertical-align: top;\n",
       "    }\n",
       "\n",
       "    .dataframe thead th {\n",
       "        text-align: right;\n",
       "    }\n",
       "</style>\n",
       "<table border=\"1\" class=\"dataframe\">\n",
       "  <thead>\n",
       "    <tr style=\"text-align: right;\">\n",
       "      <th></th>\n",
       "      <th>prenom</th>\n",
       "      <th>genre</th>\n",
       "      <th>nb</th>\n",
       "    </tr>\n",
       "  </thead>\n",
       "  <tbody>\n",
       "    <tr>\n",
       "      <th>0</th>\n",
       "      <td>Michel</td>\n",
       "      <td>M</td>\n",
       "      <td>14136</td>\n",
       "    </tr>\n",
       "    <tr>\n",
       "      <th>1</th>\n",
       "      <td>Alain</td>\n",
       "      <td>M</td>\n",
       "      <td>10646</td>\n",
       "    </tr>\n",
       "    <tr>\n",
       "      <th>2</th>\n",
       "      <td>Philippe</td>\n",
       "      <td>M</td>\n",
       "      <td>9903</td>\n",
       "    </tr>\n",
       "    <tr>\n",
       "      <th>3</th>\n",
       "      <td>Bernard</td>\n",
       "      <td>M</td>\n",
       "      <td>8992</td>\n",
       "    </tr>\n",
       "    <tr>\n",
       "      <th>4</th>\n",
       "      <td>Christian</td>\n",
       "      <td>M</td>\n",
       "      <td>8102</td>\n",
       "    </tr>\n",
       "  </tbody>\n",
       "</table>\n",
       "</div>"
      ],
      "text/plain": [
       "      prenom genre     nb\n",
       "0     Michel     M  14136\n",
       "1      Alain     M  10646\n",
       "2   Philippe     M   9903\n",
       "3    Bernard     M   8992\n",
       "4  Christian     M   8102"
      ]
     },
     "execution_count": 63,
     "metadata": {},
     "output_type": "execute_result"
    }
   ],
   "source": [
    "# features\n",
    "# - longueur du prénom\n",
    "# - est-ce a ou o dans le prénom ?\n",
    "prenoms.head()"
   ]
  },
  {
   "cell_type": "code",
   "execution_count": 64,
   "id": "92e7e400",
   "metadata": {},
   "outputs": [],
   "source": [
    "prenoms[\"len_prenom\"] = prenoms[\"prenom\"].str.len()"
   ]
  },
  {
   "cell_type": "code",
   "execution_count": 67,
   "id": "657b40df",
   "metadata": {},
   "outputs": [],
   "source": [
    "prenoms[\"a_o\"] = (prenoms[\"prenom\"].str.lower()\n",
    "    .apply(lambda x: \"a\" in x or \"o\" in x)\n",
    ")"
   ]
  },
  {
   "cell_type": "code",
   "execution_count": 69,
   "id": "9b5eb262",
   "metadata": {},
   "outputs": [],
   "source": [
    "from sklearn.linear_model import LogisticRegression"
   ]
  },
  {
   "cell_type": "code",
   "execution_count": 70,
   "id": "2b5749a2",
   "metadata": {},
   "outputs": [],
   "source": [
    "regr_log = LogisticRegression()"
   ]
  },
  {
   "cell_type": "code",
   "execution_count": 71,
   "id": "8eec8155",
   "metadata": {},
   "outputs": [
    {
     "data": {
      "text/plain": [
       "LogisticRegression()"
      ]
     },
     "execution_count": 71,
     "metadata": {},
     "output_type": "execute_result"
    }
   ],
   "source": [
    "X = prenoms[[\"len_prenom\", \"a_o\"]]\n",
    "y = prenoms[\"genre\"]\n",
    "\n",
    "regr_log.fit(X, y)"
   ]
  },
  {
   "cell_type": "code",
   "execution_count": 76,
   "id": "e018be40",
   "metadata": {},
   "outputs": [],
   "source": [
    "def encode_name(name):\n",
    "    return [len(name), \"a\" in name.lower() or \"o\" in name.lower()]"
   ]
  },
  {
   "cell_type": "code",
   "execution_count": 218,
   "id": "ddc97db3",
   "metadata": {},
   "outputs": [
    {
     "name": "stderr",
     "output_type": "stream",
     "text": [
      "/Users/blef/.virtualenvs/lab/lib/python3.8/site-packages/sklearn/base.py:445: UserWarning: X does not have valid feature names, but LogisticRegression was fitted with feature names\n",
      "  warnings.warn(\n"
     ]
    },
    {
     "data": {
      "text/plain": [
       "array(['F'], dtype=object)"
      ]
     },
     "execution_count": 218,
     "metadata": {},
     "output_type": "execute_result"
    }
   ],
   "source": [
    "# Christophe -> 10 et o\n",
    "regr_log.predict([encode_name(\"Lea\")])"
   ]
  },
  {
   "cell_type": "code",
   "execution_count": 219,
   "id": "325ad8e0",
   "metadata": {},
   "outputs": [
    {
     "data": {
      "text/plain": [
       "array([[ 0.0222779, -0.1782018]])"
      ]
     },
     "execution_count": 219,
     "metadata": {},
     "output_type": "execute_result"
    }
   ],
   "source": [
    "regr_log.coef_"
   ]
  },
  {
   "cell_type": "markdown",
   "id": "2fe299cf",
   "metadata": {},
   "source": [
    "### Train test demo"
   ]
  },
  {
   "cell_type": "code",
   "execution_count": 223,
   "id": "2b4503fe",
   "metadata": {},
   "outputs": [],
   "source": [
    "A = prenoms[[\"len_prenom\", \"a_o\", \"genre\"]]"
   ]
  },
  {
   "cell_type": "code",
   "execution_count": 225,
   "id": "dc738beb",
   "metadata": {},
   "outputs": [],
   "source": [
    "from sklearn.model_selection import train_test_split"
   ]
  },
  {
   "cell_type": "code",
   "execution_count": 227,
   "id": "bc35456a",
   "metadata": {},
   "outputs": [],
   "source": [
    "A_train, A_test = train_test_split(A, train_size=0.7)"
   ]
  },
  {
   "cell_type": "code",
   "execution_count": 231,
   "id": "d8250835",
   "metadata": {},
   "outputs": [],
   "source": [
    "X_train, y_train = A_train[[\"len_prenom\", \"a_o\"]], A_train[\"genre\"]\n",
    "X_test, y_test = A_test[[\"len_prenom\", \"a_o\"]], A_test[\"genre\"]"
   ]
  },
  {
   "cell_type": "code",
   "execution_count": 232,
   "id": "8e1c7542",
   "metadata": {},
   "outputs": [],
   "source": [
    "regr_log_2 = LogisticRegression()"
   ]
  },
  {
   "cell_type": "code",
   "execution_count": 233,
   "id": "7366d19c",
   "metadata": {},
   "outputs": [
    {
     "data": {
      "text/plain": [
       "LogisticRegression()"
      ]
     },
     "execution_count": 233,
     "metadata": {},
     "output_type": "execute_result"
    }
   ],
   "source": [
    "regr_log_2.fit(X_train, y_train)"
   ]
  },
  {
   "cell_type": "code",
   "execution_count": 237,
   "id": "3e515b51",
   "metadata": {},
   "outputs": [
    {
     "data": {
      "text/html": [
       "<div>\n",
       "<style scoped>\n",
       "    .dataframe tbody tr th:only-of-type {\n",
       "        vertical-align: middle;\n",
       "    }\n",
       "\n",
       "    .dataframe tbody tr th {\n",
       "        vertical-align: top;\n",
       "    }\n",
       "\n",
       "    .dataframe thead th {\n",
       "        text-align: right;\n",
       "    }\n",
       "</style>\n",
       "<table border=\"1\" class=\"dataframe\">\n",
       "  <thead>\n",
       "    <tr style=\"text-align: right;\">\n",
       "      <th>col_0</th>\n",
       "      <th>F</th>\n",
       "      <th>M</th>\n",
       "    </tr>\n",
       "    <tr>\n",
       "      <th>genre</th>\n",
       "      <th></th>\n",
       "      <th></th>\n",
       "    </tr>\n",
       "  </thead>\n",
       "  <tbody>\n",
       "    <tr>\n",
       "      <th>F</th>\n",
       "      <td>75</td>\n",
       "      <td>1707</td>\n",
       "    </tr>\n",
       "    <tr>\n",
       "      <th>M</th>\n",
       "      <td>108</td>\n",
       "      <td>1850</td>\n",
       "    </tr>\n",
       "  </tbody>\n",
       "</table>\n",
       "</div>"
      ],
      "text/plain": [
       "col_0    F     M\n",
       "genre           \n",
       "F       75  1707\n",
       "M      108  1850"
      ]
     },
     "execution_count": 237,
     "metadata": {},
     "output_type": "execute_result"
    }
   ],
   "source": [
    "pd.crosstab(y_test, regr_log_2.predict(X_test))"
   ]
  },
  {
   "cell_type": "code",
   "execution_count": 235,
   "id": "f8eb6aab",
   "metadata": {},
   "outputs": [
    {
     "data": {
      "text/plain": [
       "0.5147058823529411"
      ]
     },
     "execution_count": 235,
     "metadata": {},
     "output_type": "execute_result"
    }
   ],
   "source": [
    "regr_log_2.score(X_test, y_test)"
   ]
  },
  {
   "cell_type": "code",
   "execution_count": 254,
   "id": "92b8df6f",
   "metadata": {},
   "outputs": [],
   "source": [
    "from sklearn.metrics import accuracy_score, recall_score"
   ]
  },
  {
   "cell_type": "code",
   "execution_count": 246,
   "id": "6e646995",
   "metadata": {},
   "outputs": [
    {
     "data": {
      "text/plain": [
       "3740"
      ]
     },
     "execution_count": 246,
     "metadata": {},
     "output_type": "execute_result"
    }
   ],
   "source": [
    "len(regr_log_2.predict(X_test))"
   ]
  },
  {
   "cell_type": "code",
   "execution_count": 251,
   "id": "bb77332e",
   "metadata": {},
   "outputs": [
    {
     "data": {
      "text/plain": [
       "array([0.04208754, 0.94484168])"
      ]
     },
     "execution_count": 251,
     "metadata": {},
     "output_type": "execute_result"
    }
   ],
   "source": [
    "recall_score(y_test, regr_log_2.predict(X_test), average=None)"
   ]
  },
  {
   "cell_type": "code",
   "execution_count": 255,
   "id": "f844281f",
   "metadata": {},
   "outputs": [
    {
     "data": {
      "text/plain": [
       "0.5147058823529411"
      ]
     },
     "execution_count": 255,
     "metadata": {},
     "output_type": "execute_result"
    }
   ],
   "source": [
    "accuracy_score(y_test, regr_log_2.predict(X_test))"
   ]
  },
  {
   "cell_type": "markdown",
   "id": "d8f0d48e",
   "metadata": {},
   "source": [
    "# Clustering\n",
    "## K-Means"
   ]
  },
  {
   "cell_type": "markdown",
   "id": "5c2abe37",
   "metadata": {},
   "source": [
    "# train-test validation"
   ]
  },
  {
   "cell_type": "markdown",
   "id": "9e2ef3d4",
   "metadata": {},
   "source": [
    "# Exercices\n",
    "## Prédiction du genre d'un prénom\n",
    "## Prédiction du profit/note d'un film"
   ]
  },
  {
   "cell_type": "code",
   "execution_count": null,
   "id": "ac74f3dc",
   "metadata": {},
   "outputs": [],
   "source": []
  }
 ],
 "metadata": {
  "kernelspec": {
   "display_name": "Python 3 (ipykernel)",
   "language": "python",
   "name": "python3"
  },
  "language_info": {
   "codemirror_mode": {
    "name": "ipython",
    "version": 3
   },
   "file_extension": ".py",
   "mimetype": "text/x-python",
   "name": "python",
   "nbconvert_exporter": "python",
   "pygments_lexer": "ipython3",
   "version": "3.8.9"
  }
 },
 "nbformat": 4,
 "nbformat_minor": 5
}
