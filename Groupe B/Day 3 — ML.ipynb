{
 "cells": [
  {
   "cell_type": "markdown",
   "id": "5dbd065d",
   "metadata": {},
   "source": [
    "# Regression\n",
    "## Régression linéaire"
   ]
  },
  {
   "cell_type": "code",
   "execution_count": 2,
   "id": "35b0b5c3",
   "metadata": {},
   "outputs": [],
   "source": [
    "import pandas as pd"
   ]
  },
  {
   "cell_type": "code",
   "execution_count": 2,
   "id": "f8276d38",
   "metadata": {},
   "outputs": [],
   "source": [
    "data = pd.DataFrame({\n",
    "    \"taille\": [10, 13, 20, 21, 40, 45, 100, 160, 180],\n",
    "    \"age\": [0.2, 0.5, 1, 1.5, 1, 2, 7, 15, 19],\n",
    "})"
   ]
  },
  {
   "cell_type": "code",
   "execution_count": 4,
   "id": "61b9b20b",
   "metadata": {},
   "outputs": [
    {
     "data": {
      "text/plain": [
       "<AxesSubplot:xlabel='taille', ylabel='age'>"
      ]
     },
     "execution_count": 4,
     "metadata": {},
     "output_type": "execute_result"
    },
    {
     "data": {
      "image/png": "[encoded data removed]",
      "text/plain": [
       "<Figure size 432x288 with 1 Axes>"
      ]
     },
     "metadata": {
      "needs_background": "light"
     },
     "output_type": "display_data"
    }
   ],
   "source": [
    "data.plot(kind=\"scatter\", x=\"taille\", y=\"age\")"
   ]
  },
  {
   "cell_type": "code",
   "execution_count": 5,
   "id": "6cd3f307",
   "metadata": {},
   "outputs": [],
   "source": [
    "from sklearn.linear_model import LinearRegression"
   ]
  },
  {
   "cell_type": "code",
   "execution_count": 6,
   "id": "1b55fa2b",
   "metadata": {},
   "outputs": [],
   "source": [
    "regr = LinearRegression()"
   ]
  },
  {
   "cell_type": "code",
   "execution_count": 15,
   "id": "b8cc4211",
   "metadata": {},
   "outputs": [
    {
     "data": {
      "text/plain": [
       "LinearRegression()"
      ]
     },
     "execution_count": 15,
     "metadata": {},
     "output_type": "execute_result"
    }
   ],
   "source": [
    "regr.fit(data[[\"taille\"]], data[\"age\"])"
   ]
  },
  {
   "cell_type": "code",
   "execution_count": 16,
   "id": "de0cff61",
   "metadata": {},
   "outputs": [
    {
     "data": {
      "text/plain": [
       "-1.6870592211742812"
      ]
     },
     "execution_count": 16,
     "metadata": {},
     "output_type": "execute_result"
    }
   ],
   "source": [
    "regr.intercept_"
   ]
  },
  {
   "cell_type": "code",
   "execution_count": 17,
   "id": "e675a2fe",
   "metadata": {},
   "outputs": [
    {
     "data": {
      "text/plain": [
       "array([0.10591432])"
      ]
     },
     "execution_count": 17,
     "metadata": {},
     "output_type": "execute_result"
    }
   ],
   "source": [
    "regr.coef_"
   ]
  },
  {
   "cell_type": "code",
   "execution_count": null,
   "id": "ea6c209a",
   "metadata": {},
   "outputs": [],
   "source": [
    "# f(x) = 0.105 * x - 1.687"
   ]
  },
  {
   "cell_type": "code",
   "execution_count": 19,
   "id": "329b28ee",
   "metadata": {},
   "outputs": [
    {
     "name": "stderr",
     "output_type": "stream",
     "text": [
      "/Users/blef/.virtualenvs/lab/lib/python3.8/site-packages/sklearn/base.py:445: UserWarning: X does not have valid feature names, but LinearRegression was fitted with feature names\n",
      "  warnings.warn(\n"
     ]
    },
    {
     "data": {
      "text/plain": [
       "array([17.37751792])"
      ]
     },
     "execution_count": 19,
     "metadata": {},
     "output_type": "execute_result"
    }
   ],
   "source": [
    "regr.predict([[180]])"
   ]
  },
  {
   "cell_type": "code",
   "execution_count": 23,
   "id": "7e7b29f1",
   "metadata": {},
   "outputs": [
    {
     "data": {
      "text/plain": [
       "<AxesSubplot:xlabel='taille', ylabel='age'>"
      ]
     },
     "execution_count": 23,
     "metadata": {},
     "output_type": "execute_result"
    },
    {
     "data": {
      "image/png": "[encoded data removed]",
      "text/plain": [
       "<Figure size 432x288 with 1 Axes>"
      ]
     },
     "metadata": {
      "needs_background": "light"
     },
     "output_type": "display_data"
    }
   ],
   "source": [
    "predictions = regr.predict([[taille] for taille in range(220)])\n",
    "\n",
    "ax = data.plot(kind=\"scatter\", x=\"taille\", y=\"age\")\n",
    "pd.Series(predictions).plot(ax=ax, color=\"red\")"
   ]
  },
  {
   "cell_type": "markdown",
   "id": "a72ca694",
   "metadata": {},
   "source": [
    "## Régression polynomiale"
   ]
  },
  {
   "cell_type": "code",
   "execution_count": 24,
   "id": "73ddf59f",
   "metadata": {},
   "outputs": [],
   "source": [
    "from sklearn.preprocessing import PolynomialFeatures"
   ]
  },
  {
   "cell_type": "code",
   "execution_count": 48,
   "id": "0d27d1c5",
   "metadata": {},
   "outputs": [],
   "source": [
    "poly = PolynomialFeatures(degree=5)"
   ]
  },
  {
   "cell_type": "code",
   "execution_count": 49,
   "id": "9a6138b0",
   "metadata": {},
   "outputs": [],
   "source": [
    "X = poly.fit_transform(data[[\"taille\"]])"
   ]
  },
  {
   "cell_type": "code",
   "execution_count": 50,
   "id": "b04e93a6",
   "metadata": {},
   "outputs": [
    {
     "data": {
      "text/plain": [
       "LinearRegression()"
      ]
     },
     "execution_count": 50,
     "metadata": {},
     "output_type": "execute_result"
    }
   ],
   "source": [
    "regr.fit(X, data[\"age\"])"
   ]
  },
  {
   "cell_type": "code",
   "execution_count": 51,
   "id": "382f293a",
   "metadata": {},
   "outputs": [
    {
     "data": {
      "text/plain": [
       "<AxesSubplot:xlabel='taille', ylabel='age'>"
      ]
     },
     "execution_count": 51,
     "metadata": {},
     "output_type": "execute_result"
    },
    {
     "data": {
      "image/png": "[encoded data removed]",
      "text/plain": [
       "<Figure size 432x288 with 1 Axes>"
      ]
     },
     "metadata": {
      "needs_background": "light"
     },
     "output_type": "display_data"
    }
   ],
   "source": [
    "predictions = regr.predict(\n",
    "    poly.fit_transform([[taille] for taille in range(185)])\n",
    ")\n",
    "\n",
    "ax = data.plot(kind=\"scatter\", x=\"taille\", y=\"age\")\n",
    "pd.Series(predictions).plot(ax=ax, color=\"red\")"
   ]
  },
  {
   "cell_type": "markdown",
   "id": "377e74b0",
   "metadata": {},
   "source": [
    "# Classification\n",
    "## Régression logistique"
   ]
  },
  {
   "cell_type": "code",
   "execution_count": 61,
   "id": "2f512f4d",
   "metadata": {},
   "outputs": [],
   "source": [
    "prenoms = pd.read_csv(\"prenoms.csv\", sep=\";\").dropna()"
   ]
  },
  {
   "cell_type": "markdown",
   "id": "e5842f11",
   "metadata": {},
   "source": [
    "### On cherche à prédire le genre d'une personne à partir de son prénom"
   ]
  },
  {
   "cell_type": "code",
   "execution_count": 63,
   "id": "ec91163d",
   "metadata": {
    "collapsed": true
   },
   "outputs": [
    {
     "data": {
      "text/html": [
       "<div>\n",
       "<style scoped>\n",
       "    .dataframe tbody tr th:only-of-type {\n",
       "        vertical-align: middle;\n",
       "    }\n",
       "\n",
       "    .dataframe tbody tr th {\n",
       "        vertical-align: top;\n",
       "    }\n",
       "\n",
       "    .dataframe thead th {\n",
       "        text-align: right;\n",
       "    }\n",
       "</style>\n",
       "<table border=\"1\" class=\"dataframe\">\n",
       "  <thead>\n",
       "    <tr style=\"text-align: right;\">\n",
       "      <th></th>\n",
       "      <th>prenom</th>\n",
       "      <th>genre</th>\n",
       "      <th>nb</th>\n",
       "    </tr>\n",
       "  </thead>\n",
       "  <tbody>\n",
       "    <tr>\n",
       "      <th>0</th>\n",
       "      <td>Michel</td>\n",
       "      <td>M</td>\n",
       "      <td>14136</td>\n",
       "    </tr>\n",
       "    <tr>\n",
       "      <th>1</th>\n",
       "      <td>Alain</td>\n",
       "      <td>M</td>\n",
       "      <td>10646</td>\n",
       "    </tr>\n",
       "    <tr>\n",
       "      <th>2</th>\n",
       "      <td>Philippe</td>\n",
       "      <td>M</td>\n",
       "      <td>9903</td>\n",
       "    </tr>\n",
       "    <tr>\n",
       "      <th>3</th>\n",
       "      <td>Bernard</td>\n",
       "      <td>M</td>\n",
       "      <td>8992</td>\n",
       "    </tr>\n",
       "    <tr>\n",
       "      <th>4</th>\n",
       "      <td>Christian</td>\n",
       "      <td>M</td>\n",
       "      <td>8102</td>\n",
       "    </tr>\n",
       "  </tbody>\n",
       "</table>\n",
       "</div>"
      ],
      "text/plain": [
       "      prenom genre     nb\n",
       "0     Michel     M  14136\n",
       "1      Alain     M  10646\n",
       "2   Philippe     M   9903\n",
       "3    Bernard     M   8992\n",
       "4  Christian     M   8102"
      ]
     },
     "execution_count": 63,
     "metadata": {},
     "output_type": "execute_result"
    }
   ],
   "source": [
    "# features\n",
    "# - longueur du prénom\n",
    "# - est-ce a ou o dans le prénom ?\n",
    "prenoms.head()"
   ]
  },
  {
   "cell_type": "code",
   "execution_count": 64,
   "id": "f7c5a444",
   "metadata": {},
   "outputs": [],
   "source": [
    "prenoms[\"len_prenom\"] = prenoms[\"prenom\"].str.len()"
   ]
  },
  {
   "cell_type": "code",
   "execution_count": 67,
   "id": "9a5a90da",
   "metadata": {},
   "outputs": [],
   "source": [
    "prenoms[\"a_o\"] = (prenoms[\"prenom\"].str.lower()\n",
    "    .apply(lambda x: \"a\" in x or \"o\" in x)\n",
    ")"
   ]
  },
  {
   "cell_type": "code",
   "execution_count": 69,
   "id": "9365b031",
   "metadata": {},
   "outputs": [],
   "source": [
    "from sklearn.linear_model import LogisticRegression"
   ]
  },
  {
   "cell_type": "code",
   "execution_count": 70,
   "id": "bf202371",
   "metadata": {},
   "outputs": [],
   "source": [
    "regr_log = LogisticRegression()"
   ]
  },
  {
   "cell_type": "code",
   "execution_count": 71,
   "id": "9fa670ae",
   "metadata": {},
   "outputs": [
    {
     "data": {
      "text/plain": [
       "LogisticRegression()"
      ]
     },
     "execution_count": 71,
     "metadata": {},
     "output_type": "execute_result"
    }
   ],
   "source": [
    "X = prenoms[[\"len_prenom\", \"a_o\"]]\n",
    "y = prenoms[\"genre\"]\n",
    "\n",
    "regr_log.fit(X, y)"
   ]
  },
  {
   "cell_type": "code",
   "execution_count": 76,
   "id": "7b361694",
   "metadata": {},
   "outputs": [],
   "source": [
    "def encode_name(name):\n",
    "    return [len(name), \"a\" in name.lower() or \"o\" in name.lower()]"
   ]
  },
  {
   "cell_type": "code",
   "execution_count": 218,
   "id": "b3323fab",
   "metadata": {},
   "outputs": [
    {
     "name": "stderr",
     "output_type": "stream",
     "text": [
      "/Users/blef/.virtualenvs/lab/lib/python3.8/site-packages/sklearn/base.py:445: UserWarning: X does not have valid feature names, but LogisticRegression was fitted with feature names\n",
      "  warnings.warn(\n"
     ]
    },
    {
     "data": {
      "text/plain": [
       "array(['F'], dtype=object)"
      ]
     },
     "execution_count": 218,
     "metadata": {},
     "output_type": "execute_result"
    }
   ],
   "source": [
    "# Christophe -> 10 et o\n",
    "regr_log.predict([encode_name(\"Lea\")])"
   ]
  },
  {
   "cell_type": "code",
   "execution_count": 219,
   "id": "b225ce46",
   "metadata": {},
   "outputs": [
    {
     "data": {
      "text/plain": [
       "array([[ 0.0222779, -0.1782018]])"
      ]
     },
     "execution_count": 219,
     "metadata": {},
     "output_type": "execute_result"
    }
   ],
   "source": [
    "regr_log.coef_"
   ]
  },
  {
   "cell_type": "markdown",
   "id": "304722a0",
   "metadata": {},
   "source": [
    "### Train test demo"
   ]
  },
  {
   "cell_type": "code",
   "execution_count": 223,
   "id": "766c8531",
   "metadata": {},
   "outputs": [],
   "source": [
    "A = prenoms[[\"len_prenom\", \"a_o\", \"genre\"]]"
   ]
  },
  {
   "cell_type": "code",
   "execution_count": 225,
   "id": "210246a8",
   "metadata": {},
   "outputs": [],
   "source": [
    "from sklearn.model_selection import train_test_split"
   ]
  },
  {
   "cell_type": "code",
   "execution_count": 227,
   "id": "e3d5ad4f",
   "metadata": {},
   "outputs": [],
   "source": [
    "A_train, A_test = train_test_split(A, train_size=0.7)"
   ]
  },
  {
   "cell_type": "code",
   "execution_count": 231,
   "id": "65a1eb87",
   "metadata": {},
   "outputs": [],
   "source": [
    "X_train, y_train = A_train[[\"len_prenom\", \"a_o\"]], A_train[\"genre\"]\n",
    "X_test, y_test = A_test[[\"len_prenom\", \"a_o\"]], A_test[\"genre\"]"
   ]
  },
  {
   "cell_type": "code",
   "execution_count": 232,
   "id": "231e4dd7",
   "metadata": {},
   "outputs": [],
   "source": [
    "regr_log_2 = LogisticRegression()"
   ]
  },
  {
   "cell_type": "code",
   "execution_count": 233,
   "id": "09fa0bcc",
   "metadata": {},
   "outputs": [
    {
     "data": {
      "text/plain": [
       "LogisticRegression()"
      ]
     },
     "execution_count": 233,
     "metadata": {},
     "output_type": "execute_result"
    }
   ],
   "source": [
    "regr_log_2.fit(X_train, y_train)"
   ]
  },
  {
   "cell_type": "code",
   "execution_count": 237,
   "id": "aa71eb6f",
   "metadata": {},
   "outputs": [
    {
     "data": {
      "text/html": [
       "<div>\n",
       "<style scoped>\n",
       "    .dataframe tbody tr th:only-of-type {\n",
       "        vertical-align: middle;\n",
       "    }\n",
       "\n",
       "    .dataframe tbody tr th {\n",
       "        vertical-align: top;\n",
       "    }\n",
       "\n",
       "    .dataframe thead th {\n",
       "        text-align: right;\n",
       "    }\n",
       "</style>\n",
       "<table border=\"1\" class=\"dataframe\">\n",
       "  <thead>\n",
       "    <tr style=\"text-align: right;\">\n",
       "      <th>col_0</th>\n",
       "      <th>F</th>\n",
       "      <th>M</th>\n",
       "    </tr>\n",
       "    <tr>\n",
       "      <th>genre</th>\n",
       "      <th></th>\n",
       "      <th></th>\n",
       "    </tr>\n",
       "  </thead>\n",
       "  <tbody>\n",
       "    <tr>\n",
       "      <th>F</th>\n",
       "      <td>75</td>\n",
       "      <td>1707</td>\n",
       "    </tr>\n",
       "    <tr>\n",
       "      <th>M</th>\n",
       "      <td>108</td>\n",
       "      <td>1850</td>\n",
       "    </tr>\n",
       "  </tbody>\n",
       "</table>\n",
       "</div>"
      ],
      "text/plain": [
       "col_0    F     M\n",
       "genre           \n",
       "F       75  1707\n",
       "M      108  1850"
      ]
     },
     "execution_count": 237,
     "metadata": {},
     "output_type": "execute_result"
    }
   ],
   "source": [
    "pd.crosstab(y_test, regr_log_2.predict(X_test))"
   ]
  },
  {
   "cell_type": "code",
   "execution_count": 235,
   "id": "364017ea",
   "metadata": {},
   "outputs": [
    {
     "data": {
      "text/plain": [
       "0.5147058823529411"
      ]
     },
     "execution_count": 235,
     "metadata": {},
     "output_type": "execute_result"
    }
   ],
   "source": [
    "regr_log_2.score(X_test, y_test)"
   ]
  },
  {
   "cell_type": "code",
   "execution_count": 254,
   "id": "753cc47f",
   "metadata": {},
   "outputs": [],
   "source": [
    "from sklearn.metrics import accuracy_score, recall_score"
   ]
  },
  {
   "cell_type": "code",
   "execution_count": 246,
   "id": "2ded6e21",
   "metadata": {},
   "outputs": [
    {
     "data": {
      "text/plain": [
       "3740"
      ]
     },
     "execution_count": 246,
     "metadata": {},
     "output_type": "execute_result"
    }
   ],
   "source": [
    "len(regr_log_2.predict(X_test))"
   ]
  },
  {
   "cell_type": "code",
   "execution_count": 251,
   "id": "85f7a24e",
   "metadata": {},
   "outputs": [
    {
     "data": {
      "text/plain": [
       "array([0.04208754, 0.94484168])"
      ]
     },
     "execution_count": 251,
     "metadata": {},
     "output_type": "execute_result"
    }
   ],
   "source": [
    "recall_score(y_test, regr_log_2.predict(X_test), average=None)"
   ]
  },
  {
   "cell_type": "code",
   "execution_count": 255,
   "id": "e633a19d",
   "metadata": {},
   "outputs": [
    {
     "data": {
      "text/plain": [
       "0.5147058823529411"
      ]
     },
     "execution_count": 255,
     "metadata": {},
     "output_type": "execute_result"
    }
   ],
   "source": [
    "accuracy_score(y_test, regr_log_2.predict(X_test))"
   ]
  },
  {
   "cell_type": "markdown",
   "id": "7ef0266f",
   "metadata": {},
   "source": [
    "# Clustering\n",
    "## K-Means"
   ]
  },
  {
   "cell_type": "code",
   "execution_count": 3,
   "id": "1bebfb6f",
   "metadata": {},
   "outputs": [],
   "source": [
    "# on va utiliser un dataset d'exemple sur des données d'iris"
   ]
  },
  {
   "cell_type": "code",
   "execution_count": 4,
   "id": "d52a0574",
   "metadata": {},
   "outputs": [],
   "source": [
    "from sklearn import datasets"
   ]
  },
  {
   "cell_type": "code",
   "execution_count": 5,
   "id": "3a27504c",
   "metadata": {},
   "outputs": [],
   "source": [
    "iris = datasets.load_iris()"
   ]
  },
  {
   "cell_type": "markdown",
   "id": "7346c0e1",
   "metadata": {},
   "source": [
    "![](https://s3.amazonaws.com/assets.datacamp.com/blog_assets/Machine+Learning+R/iris-machinelearning.png \"iris\")"
   ]
  },
  {
   "cell_type": "code",
   "execution_count": 72,
   "id": "f7e4b4ea",
   "metadata": {},
   "outputs": [],
   "source": [
    "df = pd.DataFrame(iris[\"data\"])"
   ]
  },
  {
   "cell_type": "code",
   "execution_count": 73,
   "id": "a5f09b05",
   "metadata": {},
   "outputs": [],
   "source": [
    "df.columns = [\"sepal_length\", \"sepal_width\", \"petal_length\", \"petal_width\"]"
   ]
  },
  {
   "cell_type": "code",
   "execution_count": 17,
   "id": "294a2494",
   "metadata": {},
   "outputs": [
    {
     "data": {
      "text/plain": [
       "<AxesSubplot:xlabel='sepal_length', ylabel='sepal_width'>"
      ]
     },
     "execution_count": 17,
     "metadata": {},
     "output_type": "execute_result"
    },
    {
     "data": {
      "image/png": "[encoded data removed]",
      "text/plain": [
       "<Figure size 432x288 with 1 Axes>"
      ]
     },
     "metadata": {
      "needs_background": "light"
     },
     "output_type": "display_data"
    }
   ],
   "source": [
    "df.plot(kind=\"scatter\", x=\"sepal_length\", y=\"sepal_width\")"
   ]
  },
  {
   "cell_type": "code",
   "execution_count": 74,
   "id": "de13f5ff",
   "metadata": {},
   "outputs": [],
   "source": [
    "from sklearn.cluster import KMeans"
   ]
  },
  {
   "cell_type": "code",
   "execution_count": 75,
   "id": "d8903abe",
   "metadata": {},
   "outputs": [],
   "source": [
    "kmeans = KMeans(n_clusters=3, random_state=0)"
   ]
  },
  {
   "cell_type": "code",
   "execution_count": 76,
   "id": "07b8a7aa",
   "metadata": {},
   "outputs": [
    {
     "data": {
      "text/plain": [
       "KMeans(n_clusters=3, random_state=0)"
      ]
     },
     "execution_count": 76,
     "metadata": {},
     "output_type": "execute_result"
    }
   ],
   "source": [
    "kmeans.fit(df[[\"petal_length\", \"petal_length\"]])"
   ]
  },
  {
   "cell_type": "code",
   "execution_count": 77,
   "id": "c97abe23",
   "metadata": {},
   "outputs": [],
   "source": [
    "pred = df[[\"petal_length\", \"petal_width\"]]"
   ]
  },
  {
   "cell_type": "code",
   "execution_count": 80,
   "id": "42de01aa",
   "metadata": {},
   "outputs": [
    {
     "name": "stderr",
     "output_type": "stream",
     "text": [
      "/var/folders/rs/7bw0gmgj5hqfyg0fpk1d13t00000gn/T/ipykernel_28654/4002439383.py:1: SettingWithCopyWarning: \n",
      "A value is trying to be set on a copy of a slice from a DataFrame.\n",
      "Try using .loc[row_indexer,col_indexer] = value instead\n",
      "\n",
      "See the caveats in the documentation: https://pandas.pydata.org/pandas-docs/stable/user_guide/indexing.html#returning-a-view-versus-a-copy\n",
      "  pred[\"pred\"] = kmeans.labels_\n"
     ]
    }
   ],
   "source": [
    "pred[\"pred\"] = kmeans.labels_"
   ]
  },
  {
   "cell_type": "code",
   "execution_count": 34,
   "id": "361cb091",
   "metadata": {},
   "outputs": [
    {
     "data": {
      "text/plain": [
       "<AxesSubplot:xlabel='sepal_length', ylabel='sepal_width'>"
      ]
     },
     "execution_count": 34,
     "metadata": {},
     "output_type": "execute_result"
    },
    {
     "data": {
      "image/png": "[encoded data removed]",
      "text/plain": [
       "<Figure size 432x288 with 1 Axes>"
      ]
     },
     "metadata": {
      "needs_background": "light"
     },
     "output_type": "display_data"
    }
   ],
   "source": [
    "ax = pred[pred[\"pred\"] == 0].plot(\n",
    "    kind=\"scatter\", x=\"sepal_length\", y=\"sepal_width\", \n",
    "    color=\"green\"\n",
    ")\n",
    "\n",
    "pred[pred[\"pred\"] == 1].plot(\n",
    "    kind=\"scatter\", x=\"sepal_length\", y=\"sepal_width\", \n",
    "    color=\"red\",\n",
    "    ax=ax,\n",
    ")\n",
    "\n",
    "pred[pred[\"pred\"] == 2].plot(\n",
    "    kind=\"scatter\", x=\"sepal_length\", y=\"sepal_width\", \n",
    "    color=\"blue\",\n",
    "    ax=ax,\n",
    ")"
   ]
  },
  {
   "cell_type": "code",
   "execution_count": 36,
   "id": "3d15dcc6",
   "metadata": {},
   "outputs": [],
   "source": [
    "import matplotlib.pyplot as plt"
   ]
  },
  {
   "cell_type": "code",
   "execution_count": 82,
   "id": "4bfae19d",
   "metadata": {
    "scrolled": false
   },
   "outputs": [
    {
     "data": {
      "text/plain": [
       "<matplotlib.collections.PathCollection at 0x2928cbfd0>"
      ]
     },
     "execution_count": 82,
     "metadata": {},
     "output_type": "execute_result"
    },
    {
     "data": {
      "image/png": "[encoded data removed]",
      "text/plain": [
       "<Figure size 720x432 with 2 Axes>"
      ]
     },
     "metadata": {
      "needs_background": "light"
     },
     "output_type": "display_data"
    }
   ],
   "source": [
    "fig, ax = plt.subplots(2, 1, figsize=(10, 6))\n",
    "\n",
    "ax[0].scatter(df[\"petal_length\"], df[\"petal_width\"], c=pred[\"pred\"])\n",
    "ax[1].scatter(df[\"petal_length\"], df[\"petal_width\"], c=iris.target)"
   ]
  },
  {
   "cell_type": "code",
   "execution_count": null,
   "id": "9bbaf8bd",
   "metadata": {},
   "outputs": [],
   "source": []
  },
  {
   "cell_type": "markdown",
   "id": "7fa42d53",
   "metadata": {},
   "source": [
    "# train-test validation"
   ]
  },
  {
   "cell_type": "markdown",
   "id": "96193c67",
   "metadata": {},
   "source": [
    "# Exercices\n",
    "## Prédiction du genre d'un prénom\n",
    "## Prédiction du profit/note d'un film"
   ]
  },
  {
   "cell_type": "code",
   "execution_count": null,
   "id": "7257e48e",
   "metadata": {},
   "outputs": [],
   "source": []
  }
 ],
 "metadata": {
  "kernelspec": {
   "display_name": "Python 3 (ipykernel)",
   "language": "python",
   "name": "python3"
  },
  "language_info": {
   "codemirror_mode": {
    "name": "ipython",
    "version": 3
   },
   "file_extension": ".py",
   "mimetype": "text/x-python",
   "name": "python",
   "nbconvert_exporter": "python",
   "pygments_lexer": "ipython3",
   "version": "3.8.9"
  }
 },
 "nbformat": 4,
 "nbformat_minor": 5
}
