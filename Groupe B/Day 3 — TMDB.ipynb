{
 "cells": [
  {
   "cell_type": "code",
   "execution_count": 2,
   "id": "e1b4b6b0",
   "metadata": {},
   "outputs": [],
   "source": [
    "import pandas as pd"
   ]
  },
  {
   "cell_type": "code",
   "execution_count": 3,
   "id": "845989ed",
   "metadata": {},
   "outputs": [],
   "source": [
    "url = \"https://raw.githubusercontent.com/Bl3f/amse2021/main/The%20movie%20database/tmdb_5000_movies.csv\"\n",
    "movies = pd.read_csv(\n",
    "    url,\n",
    "    parse_dates=[\"release_date\"],\n",
    "    infer_datetime_format=True,\n",
    ")\n",
    "movies = movies.dropna(subset=[\"release_date\"])\n",
    "# ^-- supprime toutes les lignes (axis=0) dans le cas où \n",
    "# release_date est null"
   ]
  },
  {
   "cell_type": "code",
   "execution_count": 22,
   "id": "a941f337",
   "metadata": {},
   "outputs": [
    {
     "data": {
      "text/html": [
       "<div>\n",
       "<style scoped>\n",
       "    .dataframe tbody tr th:only-of-type {\n",
       "        vertical-align: middle;\n",
       "    }\n",
       "\n",
       "    .dataframe tbody tr th {\n",
       "        vertical-align: top;\n",
       "    }\n",
       "\n",
       "    .dataframe thead th {\n",
       "        text-align: right;\n",
       "    }\n",
       "</style>\n",
       "<table border=\"1\" class=\"dataframe\">\n",
       "  <thead>\n",
       "    <tr style=\"text-align: right;\">\n",
       "      <th></th>\n",
       "      <th>budget</th>\n",
       "      <th>genres</th>\n",
       "      <th>homepage</th>\n",
       "      <th>id</th>\n",
       "      <th>keywords</th>\n",
       "      <th>original_language</th>\n",
       "      <th>original_title</th>\n",
       "      <th>overview</th>\n",
       "      <th>popularity</th>\n",
       "      <th>production_companies</th>\n",
       "      <th>production_countries</th>\n",
       "      <th>release_date</th>\n",
       "      <th>revenue</th>\n",
       "      <th>runtime</th>\n",
       "      <th>spoken_languages</th>\n",
       "      <th>status</th>\n",
       "      <th>tagline</th>\n",
       "      <th>title</th>\n",
       "      <th>vote_average</th>\n",
       "      <th>vote_count</th>\n",
       "    </tr>\n",
       "  </thead>\n",
       "  <tbody>\n",
       "    <tr>\n",
       "      <th>0</th>\n",
       "      <td>237000000</td>\n",
       "      <td>[{\"id\": 28, \"name\": \"Action\"}, {\"id\": 12, \"nam...</td>\n",
       "      <td>http://www.avatarmovie.com/</td>\n",
       "      <td>19995</td>\n",
       "      <td>[{\"id\": 1463, \"name\": \"culture clash\"}, {\"id\":...</td>\n",
       "      <td>en</td>\n",
       "      <td>Avatar</td>\n",
       "      <td>In the 22nd century, a paraplegic Marine is di...</td>\n",
       "      <td>150.437577</td>\n",
       "      <td>[{\"name\": \"Ingenious Film Partners\", \"id\": 289...</td>\n",
       "      <td>[{\"iso_3166_1\": \"US\", \"name\": \"United States o...</td>\n",
       "      <td>2009-12-10</td>\n",
       "      <td>2787965087</td>\n",
       "      <td>162.0</td>\n",
       "      <td>[{\"iso_639_1\": \"en\", \"name\": \"English\"}, {\"iso...</td>\n",
       "      <td>Released</td>\n",
       "      <td>Enter the World of Pandora.</td>\n",
       "      <td>Avatar</td>\n",
       "      <td>7.2</td>\n",
       "      <td>11800</td>\n",
       "    </tr>\n",
       "  </tbody>\n",
       "</table>\n",
       "</div>"
      ],
      "text/plain": [
       "      budget                                             genres  \\\n",
       "0  237000000  [{\"id\": 28, \"name\": \"Action\"}, {\"id\": 12, \"nam...   \n",
       "\n",
       "                      homepage     id  \\\n",
       "0  http://www.avatarmovie.com/  19995   \n",
       "\n",
       "                                            keywords original_language  \\\n",
       "0  [{\"id\": 1463, \"name\": \"culture clash\"}, {\"id\":...                en   \n",
       "\n",
       "  original_title                                           overview  \\\n",
       "0         Avatar  In the 22nd century, a paraplegic Marine is di...   \n",
       "\n",
       "   popularity                               production_companies  \\\n",
       "0  150.437577  [{\"name\": \"Ingenious Film Partners\", \"id\": 289...   \n",
       "\n",
       "                                production_countries release_date     revenue  \\\n",
       "0  [{\"iso_3166_1\": \"US\", \"name\": \"United States o...   2009-12-10  2787965087   \n",
       "\n",
       "   runtime                                   spoken_languages    status  \\\n",
       "0    162.0  [{\"iso_639_1\": \"en\", \"name\": \"English\"}, {\"iso...  Released   \n",
       "\n",
       "                       tagline   title  vote_average  vote_count  \n",
       "0  Enter the World of Pandora.  Avatar           7.2       11800  "
      ]
     },
     "execution_count": 22,
     "metadata": {},
     "output_type": "execute_result"
    }
   ],
   "source": [
    "movies.head(1)"
   ]
  },
  {
   "cell_type": "markdown",
   "id": "f9c81c09",
   "metadata": {},
   "source": [
    "# Q2"
   ]
  },
  {
   "cell_type": "code",
   "execution_count": 23,
   "id": "ed8d317a",
   "metadata": {},
   "outputs": [
    {
     "data": {
      "text/plain": [
       "395097847444"
      ]
     },
     "execution_count": 23,
     "metadata": {},
     "output_type": "execute_result"
    }
   ],
   "source": [
    "movies[\"revenue\"].sum()"
   ]
  },
  {
   "cell_type": "markdown",
   "id": "1d0b5c8d",
   "metadata": {},
   "source": [
    "# Q3"
   ]
  },
  {
   "cell_type": "code",
   "execution_count": 24,
   "id": "1dc8930b",
   "metadata": {},
   "outputs": [],
   "source": [
    "# 2 manières de le faire\n",
    "# - En considérant la date comme une str on prend les 4 premiers char\n",
    "# - En convertissant la date en datetime on récupère l'année"
   ]
  },
  {
   "cell_type": "code",
   "execution_count": 25,
   "id": "9847d793",
   "metadata": {},
   "outputs": [],
   "source": [
    "# 2022-03-18 ---> AAAA-MM-DD -----> %Y-%m-%d"
   ]
  },
  {
   "cell_type": "code",
   "execution_count": 40,
   "id": "37029263",
   "metadata": {},
   "outputs": [],
   "source": [
    "# récupérer l'année en considérent la date comme une str\n",
    "movies[\"release_year\"] = movies[\"release_date\"].str[:4]"
   ]
  },
  {
   "cell_type": "code",
   "execution_count": 47,
   "id": "7e2dd497",
   "metadata": {},
   "outputs": [],
   "source": [
    "# convertir la date en datetime\n",
    "movies[\"release_year\"] = pd.to_datetime(movies[\"release_date\"]).dt.year"
   ]
  },
  {
   "cell_type": "code",
   "execution_count": 51,
   "id": "73bf16b8",
   "metadata": {},
   "outputs": [],
   "source": [
    "# dans le cas où on a changé le read_csv avec :\n",
    "# movies = pd.read_csv(\n",
    "#    ...\n",
    "#    parse_dates=[\"release_date\"],\n",
    "#    infer_datetime_format=True,\n",
    "# )\n",
    "movies[\"release_year\"] = movies[\"release_date\"].dt.year"
   ]
  },
  {
   "cell_type": "code",
   "execution_count": 32,
   "id": "6baadccf",
   "metadata": {},
   "outputs": [],
   "source": [
    "# movies[movies[\"release_date\"].isnull()]"
   ]
  },
  {
   "cell_type": "markdown",
   "id": "78ca778f",
   "metadata": {},
   "source": [
    "## Q3.2 — Créer une colonne profit"
   ]
  },
  {
   "cell_type": "code",
   "execution_count": 53,
   "id": "1c82f4d2",
   "metadata": {},
   "outputs": [],
   "source": [
    "movies[\"profit\"] = movies[\"revenue\"] - movies[\"budget\"]"
   ]
  },
  {
   "cell_type": "markdown",
   "id": "bfda2d57",
   "metadata": {},
   "source": [
    "## Q3.3 — Afficher le profit par année"
   ]
  },
  {
   "cell_type": "code",
   "execution_count": 54,
   "id": "9e8b3d47",
   "metadata": {},
   "outputs": [],
   "source": [
    "# pour afficher le profit par année on a d'abord besoin de \n",
    "# calculer le profit par année\n",
    "profit_per_year = movies.groupby(\"release_year\")[\"profit\"].sum()"
   ]
  },
  {
   "cell_type": "code",
   "execution_count": 55,
   "id": "32ad66cd",
   "metadata": {},
   "outputs": [
    {
     "data": {
      "text/plain": [
       "release_year\n",
       "1916        8008844\n",
       "1925       21755000\n",
       "1927      -91969578\n",
       "1929        3979000\n",
       "1930        4050000\n",
       "           ...     \n",
       "2013    15205612461\n",
       "2014    16752037278\n",
       "2015    16050476854\n",
       "2016     9708016948\n",
       "2017              0\n",
       "Name: profit, Length: 90, dtype: int64"
      ]
     },
     "execution_count": 55,
     "metadata": {},
     "output_type": "execute_result"
    }
   ],
   "source": [
    "profit_per_year"
   ]
  },
  {
   "cell_type": "code",
   "execution_count": 56,
   "id": "05aaefac",
   "metadata": {},
   "outputs": [
    {
     "data": {
      "text/plain": [
       "<AxesSubplot:xlabel='release_year'>"
      ]
     },
     "execution_count": 56,
     "metadata": {},
     "output_type": "execute_result"
    },
    {
     "data": {
      "image/png": "[encoded data removed]",
      "text/plain": [
       "<Figure size 432x288 with 1 Axes>"
      ]
     },
     "metadata": {
      "needs_background": "light"
     },
     "output_type": "display_data"
    }
   ],
   "source": [
    "profit_per_year.plot()"
   ]
  },
  {
   "cell_type": "code",
   "execution_count": 65,
   "id": "a98b754a",
   "metadata": {},
   "outputs": [
    {
     "data": {
      "text/plain": [
       "<AxesSubplot:xlabel='release_year'>"
      ]
     },
     "execution_count": 65,
     "metadata": {},
     "output_type": "execute_result"
    },
    {
     "data": {
      "image/png": "[encoded data removed]",
      "text/plain": [
       "<Figure size 432x288 with 1 Axes>"
      ]
     },
     "metadata": {
      "needs_background": "light"
     },
     "output_type": "display_data"
    }
   ],
   "source": [
    "profit_per_year.reset_index().plot(x=\"release_year\", y=\"profit\")"
   ]
  },
  {
   "cell_type": "code",
   "execution_count": 74,
   "id": "b11c42f4",
   "metadata": {},
   "outputs": [
    {
     "data": {
      "text/plain": [
       "<AxesSubplot:xlabel='release_year'>"
      ]
     },
     "execution_count": 74,
     "metadata": {},
     "output_type": "execute_result"
    },
    {
     "data": {
      "image/png": "[encoded data removed]",
      "text/plain": [
       "<Figure size 432x288 with 1 Axes>"
      ]
     },
     "metadata": {
      "needs_background": "light"
     },
     "output_type": "display_data"
    }
   ],
   "source": [
    "movies.groupby(\"release_year\").agg({\"profit\": \"sum\"}).plot()"
   ]
  },
  {
   "cell_type": "markdown",
   "id": "6007a5d3",
   "metadata": {},
   "source": [
    "## Q4 — Trouver le film qui a été le plus profitable"
   ]
  },
  {
   "cell_type": "code",
   "execution_count": 79,
   "id": "32bca4b4",
   "metadata": {},
   "outputs": [
    {
     "data": {
      "text/plain": [
       "0    Avatar\n",
       "Name: title, dtype: object"
      ]
     },
     "execution_count": 79,
     "metadata": {},
     "output_type": "execute_result"
    }
   ],
   "source": [
    "movies[movies[\"profit\"] == movies[\"profit\"].max()][\"title\"]"
   ]
  },
  {
   "cell_type": "code",
   "execution_count": 82,
   "id": "5b03af11",
   "metadata": {},
   "outputs": [
    {
     "data": {
      "text/plain": [
       "0    Avatar\n",
       "Name: title, dtype: object"
      ]
     },
     "execution_count": 82,
     "metadata": {},
     "output_type": "execute_result"
    }
   ],
   "source": [
    "movies.sort_values(\"profit\", ascending=False)[\"title\"].head(1)"
   ]
  },
  {
   "cell_type": "markdown",
   "id": "15439c44",
   "metadata": {},
   "source": [
    "# Q5 — Quel est le mot le plus présent dans les descriptions"
   ]
  },
  {
   "cell_type": "code",
   "execution_count": 20,
   "id": "ee60f4d1",
   "metadata": {},
   "outputs": [],
   "source": [
    "all_words = movies[\"overview\"].dropna().str.lower().str.split().sum()"
   ]
  },
  {
   "cell_type": "code",
   "execution_count": 21,
   "id": "2dab6564",
   "metadata": {},
   "outputs": [],
   "source": [
    "import nltk\n",
    "from nltk.corpus import stopwords"
   ]
  },
  {
   "cell_type": "code",
   "execution_count": 22,
   "id": "178dccaf",
   "metadata": {},
   "outputs": [],
   "source": [
    "# nltk.download('stopwords')"
   ]
  },
  {
   "cell_type": "code",
   "execution_count": 23,
   "id": "4620d336",
   "metadata": {},
   "outputs": [],
   "source": [
    "words_series = pd.Series(all_words)"
   ]
  },
  {
   "cell_type": "code",
   "execution_count": 100,
   "id": "0fbf4ec3",
   "metadata": {},
   "outputs": [
    {
     "data": {
      "text/plain": [
       "new            708\n",
       "one            647\n",
       "young          615\n",
       "life           563\n",
       "two            531\n",
       "              ... \n",
       "why,             1\n",
       "tessa            1\n",
       "quietly,         1\n",
       "quayle           1\n",
       "herzlinger,      1\n",
       "Length: 34123, dtype: int64"
      ]
     },
     "execution_count": 100,
     "metadata": {},
     "output_type": "execute_result"
    }
   ],
   "source": [
    "words_series[~words_series.isin(stopwords.words('english'))].value_counts()"
   ]
  },
  {
   "cell_type": "markdown",
   "id": "ed1c6bd6",
   "metadata": {},
   "source": [
    "## Q6 — Afficher une diagramme des langues de sortie des films"
   ]
  },
  {
   "cell_type": "code",
   "execution_count": 11,
   "id": "54bb8c8f",
   "metadata": {},
   "outputs": [
    {
     "data": {
      "text/plain": [
       "<AxesSubplot:ylabel='original_language'>"
      ]
     },
     "execution_count": 11,
     "metadata": {},
     "output_type": "execute_result"
    },
    {
     "data": {
      "image/png": "[encoded data removed]",
      "text/plain": [
       "<Figure size 432x288 with 2 Axes>"
      ]
     },
     "metadata": {},
     "output_type": "display_data"
    }
   ],
   "source": [
    "import matplotlib.pyplot as plt\n",
    "\n",
    "fig, ax = plt.subplots(1, 2)\n",
    "\n",
    "movies[\"original_language\"].value_counts().plot(kind=\"pie\", ax=ax[0])\n",
    "(\n",
    "    movies\n",
    "    [movies[\"original_language\"] != 'en']\n",
    "    [\"original_language\"]\n",
    "    .value_counts().plot(kind=\"pie\", ax=ax[1])\n",
    ")"
   ]
  },
  {
   "cell_type": "markdown",
   "id": "1a2d2f3c",
   "metadata": {},
   "source": [
    "## Q10 — Dans combien de film a joué Brad Pitt ?"
   ]
  },
  {
   "cell_type": "code",
   "execution_count": 12,
   "id": "afee0033",
   "metadata": {},
   "outputs": [],
   "source": [
    "url = \"https://raw.githubusercontent.com/Bl3f/amse2021/main/The%20movie%20database/tmdb_5000_credits.csv\"\n",
    "credits = pd.read_csv(url)"
   ]
  },
  {
   "cell_type": "code",
   "execution_count": 18,
   "id": "09af5a02",
   "metadata": {},
   "outputs": [],
   "source": [
    "s = '{\"cast_id\": 242, \"character\": \"Jake Sully\"}'"
   ]
  },
  {
   "cell_type": "code",
   "execution_count": 23,
   "id": "9da4a410",
   "metadata": {},
   "outputs": [
    {
     "data": {
      "text/plain": [
       "{'cast_id': 242, 'character': 'Jake Sully'}"
      ]
     },
     "execution_count": 23,
     "metadata": {},
     "output_type": "execute_result"
    }
   ],
   "source": [
    "import json\n",
    "json.loads(s)"
   ]
  },
  {
   "cell_type": "code",
   "execution_count": 27,
   "id": "fa4d63de",
   "metadata": {},
   "outputs": [
    {
     "data": {
      "text/plain": [
       "[{'cast_id': 242,\n",
       "  'character': 'Jake Sully',\n",
       "  'credit_id': '5602a8a7c3a3685532001c9a',\n",
       "  'gender': 2,\n",
       "  'id': 65731,\n",
       "  'name': 'Sam Worthington',\n",
       "  'order': 0},\n",
       " {'cast_id': 3,\n",
       "  'character': 'Neytiri',\n",
       "  'credit_id': '52fe48009251416c750ac9cb',\n",
       "  'gender': 1,\n",
       "  'id': 8691,\n",
       "  'name': 'Zoe Saldana',\n",
       "  'order': 1},\n",
       " {'cast_id': 25,\n",
       "  'character': 'Dr. Grace Augustine',\n",
       "  'credit_id': '52fe48009251416c750aca39',\n",
       "  'gender': 1,\n",
       "  'id': 10205,\n",
       "  'name': 'Sigourney Weaver',\n",
       "  'order': 2},\n",
       " {'cast_id': 4,\n",
       "  'character': 'Col. Quaritch',\n",
       "  'credit_id': '52fe48009251416c750ac9cf',\n",
       "  'gender': 2,\n",
       "  'id': 32747,\n",
       "  'name': 'Stephen Lang',\n",
       "  'order': 3},\n",
       " {'cast_id': 5,\n",
       "  'character': 'Trudy Chacon',\n",
       "  'credit_id': '52fe48009251416c750ac9d3',\n",
       "  'gender': 1,\n",
       "  'id': 17647,\n",
       "  'name': 'Michelle Rodriguez',\n",
       "  'order': 4},\n",
       " {'cast_id': 8,\n",
       "  'character': 'Selfridge',\n",
       "  'credit_id': '52fe48009251416c750ac9e1',\n",
       "  'gender': 2,\n",
       "  'id': 1771,\n",
       "  'name': 'Giovanni Ribisi',\n",
       "  'order': 5},\n",
       " {'cast_id': 7,\n",
       "  'character': 'Norm Spellman',\n",
       "  'credit_id': '52fe48009251416c750ac9dd',\n",
       "  'gender': 2,\n",
       "  'id': 59231,\n",
       "  'name': 'Joel David Moore',\n",
       "  'order': 6},\n",
       " {'cast_id': 9,\n",
       "  'character': 'Moat',\n",
       "  'credit_id': '52fe48009251416c750ac9e5',\n",
       "  'gender': 1,\n",
       "  'id': 30485,\n",
       "  'name': 'CCH Pounder',\n",
       "  'order': 7},\n",
       " {'cast_id': 11,\n",
       "  'character': 'Eytukan',\n",
       "  'credit_id': '52fe48009251416c750ac9ed',\n",
       "  'gender': 2,\n",
       "  'id': 15853,\n",
       "  'name': 'Wes Studi',\n",
       "  'order': 8},\n",
       " {'cast_id': 10,\n",
       "  'character': \"Tsu'Tey\",\n",
       "  'credit_id': '52fe48009251416c750ac9e9',\n",
       "  'gender': 2,\n",
       "  'id': 10964,\n",
       "  'name': 'Laz Alonso',\n",
       "  'order': 9},\n",
       " {'cast_id': 12,\n",
       "  'character': 'Dr. Max Patel',\n",
       "  'credit_id': '52fe48009251416c750ac9f1',\n",
       "  'gender': 2,\n",
       "  'id': 95697,\n",
       "  'name': 'Dileep Rao',\n",
       "  'order': 10},\n",
       " {'cast_id': 13,\n",
       "  'character': 'Lyle Wainfleet',\n",
       "  'credit_id': '52fe48009251416c750ac9f5',\n",
       "  'gender': 2,\n",
       "  'id': 98215,\n",
       "  'name': 'Matt Gerald',\n",
       "  'order': 11},\n",
       " {'cast_id': 32,\n",
       "  'character': 'Private Fike',\n",
       "  'credit_id': '52fe48009251416c750aca5b',\n",
       "  'gender': 2,\n",
       "  'id': 154153,\n",
       "  'name': 'Sean Anthony Moran',\n",
       "  'order': 12},\n",
       " {'cast_id': 33,\n",
       "  'character': 'Cryo Vault Med Tech',\n",
       "  'credit_id': '52fe48009251416c750aca5f',\n",
       "  'gender': 2,\n",
       "  'id': 397312,\n",
       "  'name': 'Jason Whyte',\n",
       "  'order': 13},\n",
       " {'cast_id': 34,\n",
       "  'character': 'Venture Star Crew Chief',\n",
       "  'credit_id': '52fe48009251416c750aca63',\n",
       "  'gender': 2,\n",
       "  'id': 42317,\n",
       "  'name': 'Scott Lawrence',\n",
       "  'order': 14},\n",
       " {'cast_id': 35,\n",
       "  'character': 'Lock Up Trooper',\n",
       "  'credit_id': '52fe48009251416c750aca67',\n",
       "  'gender': 2,\n",
       "  'id': 986734,\n",
       "  'name': 'Kelly Kilgour',\n",
       "  'order': 15},\n",
       " {'cast_id': 36,\n",
       "  'character': 'Shuttle Pilot',\n",
       "  'credit_id': '52fe48009251416c750aca6b',\n",
       "  'gender': 0,\n",
       "  'id': 1207227,\n",
       "  'name': 'James Patrick Pitt',\n",
       "  'order': 16},\n",
       " {'cast_id': 37,\n",
       "  'character': 'Shuttle Co-Pilot',\n",
       "  'credit_id': '52fe48009251416c750aca6f',\n",
       "  'gender': 0,\n",
       "  'id': 1180936,\n",
       "  'name': 'Sean Patrick Murphy',\n",
       "  'order': 17},\n",
       " {'cast_id': 38,\n",
       "  'character': 'Shuttle Crew Chief',\n",
       "  'credit_id': '52fe48009251416c750aca73',\n",
       "  'gender': 2,\n",
       "  'id': 1019578,\n",
       "  'name': 'Peter Dillon',\n",
       "  'order': 18},\n",
       " {'cast_id': 39,\n",
       "  'character': 'Tractor Operator / Troupe',\n",
       "  'credit_id': '52fe48009251416c750aca77',\n",
       "  'gender': 0,\n",
       "  'id': 91443,\n",
       "  'name': 'Kevin Dorman',\n",
       "  'order': 19},\n",
       " {'cast_id': 40,\n",
       "  'character': 'Dragon Gunship Pilot',\n",
       "  'credit_id': '52fe48009251416c750aca7b',\n",
       "  'gender': 2,\n",
       "  'id': 173391,\n",
       "  'name': 'Kelson Henderson',\n",
       "  'order': 20},\n",
       " {'cast_id': 41,\n",
       "  'character': 'Dragon Gunship Gunner',\n",
       "  'credit_id': '52fe48009251416c750aca7f',\n",
       "  'gender': 0,\n",
       "  'id': 1207236,\n",
       "  'name': 'David Van Horn',\n",
       "  'order': 21},\n",
       " {'cast_id': 42,\n",
       "  'character': 'Dragon Gunship Navigator',\n",
       "  'credit_id': '52fe48009251416c750aca83',\n",
       "  'gender': 0,\n",
       "  'id': 215913,\n",
       "  'name': 'Jacob Tomuri',\n",
       "  'order': 22},\n",
       " {'cast_id': 43,\n",
       "  'character': 'Suit #1',\n",
       "  'credit_id': '52fe48009251416c750aca87',\n",
       "  'gender': 0,\n",
       "  'id': 143206,\n",
       "  'name': 'Michael Blain-Rozgay',\n",
       "  'order': 23},\n",
       " {'cast_id': 44,\n",
       "  'character': 'Suit #2',\n",
       "  'credit_id': '52fe48009251416c750aca8b',\n",
       "  'gender': 2,\n",
       "  'id': 169676,\n",
       "  'name': 'Jon Curry',\n",
       "  'order': 24},\n",
       " {'cast_id': 46,\n",
       "  'character': 'Ambient Room Tech',\n",
       "  'credit_id': '52fe48009251416c750aca8f',\n",
       "  'gender': 0,\n",
       "  'id': 1048610,\n",
       "  'name': 'Luke Hawker',\n",
       "  'order': 25},\n",
       " {'cast_id': 47,\n",
       "  'character': 'Ambient Room Tech / Troupe',\n",
       "  'credit_id': '52fe48009251416c750aca93',\n",
       "  'gender': 0,\n",
       "  'id': 42288,\n",
       "  'name': 'Woody Schultz',\n",
       "  'order': 26},\n",
       " {'cast_id': 48,\n",
       "  'character': 'Horse Clan Leader',\n",
       "  'credit_id': '52fe48009251416c750aca97',\n",
       "  'gender': 2,\n",
       "  'id': 68278,\n",
       "  'name': 'Peter Mensah',\n",
       "  'order': 27},\n",
       " {'cast_id': 49,\n",
       "  'character': 'Link Room Tech',\n",
       "  'credit_id': '52fe48009251416c750aca9b',\n",
       "  'gender': 0,\n",
       "  'id': 1207247,\n",
       "  'name': 'Sonia Yee',\n",
       "  'order': 28},\n",
       " {'cast_id': 50,\n",
       "  'character': 'Basketball Avatar / Troupe',\n",
       "  'credit_id': '52fe48009251416c750aca9f',\n",
       "  'gender': 1,\n",
       "  'id': 1207248,\n",
       "  'name': 'Jahnel Curfman',\n",
       "  'order': 29},\n",
       " {'cast_id': 51,\n",
       "  'character': 'Basketball Avatar',\n",
       "  'credit_id': '52fe48009251416c750acaa3',\n",
       "  'gender': 0,\n",
       "  'id': 89714,\n",
       "  'name': 'Ilram Choi',\n",
       "  'order': 30},\n",
       " {'cast_id': 52,\n",
       "  'character': \"Na'vi Child\",\n",
       "  'credit_id': '52fe48009251416c750acaa7',\n",
       "  'gender': 0,\n",
       "  'id': 1207249,\n",
       "  'name': 'Kyla Warren',\n",
       "  'order': 31},\n",
       " {'cast_id': 53,\n",
       "  'character': 'Troupe',\n",
       "  'credit_id': '52fe48009251416c750acaab',\n",
       "  'gender': 0,\n",
       "  'id': 1207250,\n",
       "  'name': 'Lisa Roumain',\n",
       "  'order': 32},\n",
       " {'cast_id': 54,\n",
       "  'character': 'Troupe',\n",
       "  'credit_id': '52fe48009251416c750acaaf',\n",
       "  'gender': 1,\n",
       "  'id': 83105,\n",
       "  'name': 'Debra Wilson',\n",
       "  'order': 33},\n",
       " {'cast_id': 57,\n",
       "  'character': 'Troupe',\n",
       "  'credit_id': '52fe48009251416c750acabb',\n",
       "  'gender': 0,\n",
       "  'id': 1207253,\n",
       "  'name': 'Chris Mala',\n",
       "  'order': 34},\n",
       " {'cast_id': 55,\n",
       "  'character': 'Troupe',\n",
       "  'credit_id': '52fe48009251416c750acab3',\n",
       "  'gender': 0,\n",
       "  'id': 1207251,\n",
       "  'name': 'Taylor Kibby',\n",
       "  'order': 35},\n",
       " {'cast_id': 56,\n",
       "  'character': 'Troupe',\n",
       "  'credit_id': '52fe48009251416c750acab7',\n",
       "  'gender': 0,\n",
       "  'id': 1207252,\n",
       "  'name': 'Jodie Landau',\n",
       "  'order': 36},\n",
       " {'cast_id': 58,\n",
       "  'character': 'Troupe',\n",
       "  'credit_id': '52fe48009251416c750acabf',\n",
       "  'gender': 0,\n",
       "  'id': 1207254,\n",
       "  'name': 'Julie Lamm',\n",
       "  'order': 37},\n",
       " {'cast_id': 59,\n",
       "  'character': 'Troupe',\n",
       "  'credit_id': '52fe48009251416c750acac3',\n",
       "  'gender': 0,\n",
       "  'id': 1207257,\n",
       "  'name': 'Cullen B. Madden',\n",
       "  'order': 38},\n",
       " {'cast_id': 60,\n",
       "  'character': 'Troupe',\n",
       "  'credit_id': '52fe48009251416c750acac7',\n",
       "  'gender': 0,\n",
       "  'id': 1207259,\n",
       "  'name': 'Joseph Brady Madden',\n",
       "  'order': 39},\n",
       " {'cast_id': 61,\n",
       "  'character': 'Troupe',\n",
       "  'credit_id': '52fe48009251416c750acacb',\n",
       "  'gender': 0,\n",
       "  'id': 1207262,\n",
       "  'name': 'Frankie Torres',\n",
       "  'order': 40},\n",
       " {'cast_id': 62,\n",
       "  'character': 'Troupe',\n",
       "  'credit_id': '52fe48009251416c750acacf',\n",
       "  'gender': 1,\n",
       "  'id': 1158600,\n",
       "  'name': 'Austin Wilson',\n",
       "  'order': 41},\n",
       " {'cast_id': 63,\n",
       "  'character': 'Troupe',\n",
       "  'credit_id': '52fe48019251416c750acad3',\n",
       "  'gender': 1,\n",
       "  'id': 983705,\n",
       "  'name': 'Sara Wilson',\n",
       "  'order': 42},\n",
       " {'cast_id': 64,\n",
       "  'character': 'Troupe',\n",
       "  'credit_id': '52fe48019251416c750acad7',\n",
       "  'gender': 0,\n",
       "  'id': 1207263,\n",
       "  'name': 'Tamica Washington-Miller',\n",
       "  'order': 43},\n",
       " {'cast_id': 65,\n",
       "  'character': 'Op Center Staff',\n",
       "  'credit_id': '52fe48019251416c750acadb',\n",
       "  'gender': 1,\n",
       "  'id': 1145098,\n",
       "  'name': 'Lucy Briant',\n",
       "  'order': 44},\n",
       " {'cast_id': 66,\n",
       "  'character': 'Op Center Staff',\n",
       "  'credit_id': '52fe48019251416c750acadf',\n",
       "  'gender': 2,\n",
       "  'id': 33305,\n",
       "  'name': 'Nathan Meister',\n",
       "  'order': 45},\n",
       " {'cast_id': 67,\n",
       "  'character': 'Op Center Staff',\n",
       "  'credit_id': '52fe48019251416c750acae3',\n",
       "  'gender': 0,\n",
       "  'id': 1207264,\n",
       "  'name': 'Gerry Blair',\n",
       "  'order': 46},\n",
       " {'cast_id': 68,\n",
       "  'character': 'Op Center Staff',\n",
       "  'credit_id': '52fe48019251416c750acae7',\n",
       "  'gender': 2,\n",
       "  'id': 33311,\n",
       "  'name': 'Matthew Chamberlain',\n",
       "  'order': 47},\n",
       " {'cast_id': 69,\n",
       "  'character': 'Op Center Staff',\n",
       "  'credit_id': '52fe48019251416c750acaeb',\n",
       "  'gender': 0,\n",
       "  'id': 1207265,\n",
       "  'name': 'Paul Yates',\n",
       "  'order': 48},\n",
       " {'cast_id': 70,\n",
       "  'character': 'Op Center Duty Officer',\n",
       "  'credit_id': '52fe48019251416c750acaef',\n",
       "  'gender': 0,\n",
       "  'id': 1207266,\n",
       "  'name': 'Wray Wilson',\n",
       "  'order': 49},\n",
       " {'cast_id': 71,\n",
       "  'character': 'Op Center Staff',\n",
       "  'credit_id': '52fe48019251416c750acaf3',\n",
       "  'gender': 2,\n",
       "  'id': 54492,\n",
       "  'name': 'James Gaylyn',\n",
       "  'order': 50},\n",
       " {'cast_id': 72,\n",
       "  'character': 'Dancer',\n",
       "  'credit_id': '52fe48019251416c750acaf7',\n",
       "  'gender': 0,\n",
       "  'id': 1207267,\n",
       "  'name': 'Melvin Leno Clark III',\n",
       "  'order': 51},\n",
       " {'cast_id': 73,\n",
       "  'character': 'Dancer',\n",
       "  'credit_id': '52fe48019251416c750acafb',\n",
       "  'gender': 0,\n",
       "  'id': 1207268,\n",
       "  'name': 'Carvon Futrell',\n",
       "  'order': 52},\n",
       " {'cast_id': 74,\n",
       "  'character': 'Dancer',\n",
       "  'credit_id': '52fe48019251416c750acaff',\n",
       "  'gender': 0,\n",
       "  'id': 1207269,\n",
       "  'name': 'Brandon Jelkes',\n",
       "  'order': 53},\n",
       " {'cast_id': 75,\n",
       "  'character': 'Dancer',\n",
       "  'credit_id': '52fe48019251416c750acb03',\n",
       "  'gender': 0,\n",
       "  'id': 1207270,\n",
       "  'name': 'Micah Moch',\n",
       "  'order': 54},\n",
       " {'cast_id': 76,\n",
       "  'character': 'Dancer',\n",
       "  'credit_id': '52fe48019251416c750acb07',\n",
       "  'gender': 0,\n",
       "  'id': 1207271,\n",
       "  'name': 'Hanniyah Muhammad',\n",
       "  'order': 55},\n",
       " {'cast_id': 77,\n",
       "  'character': 'Dancer',\n",
       "  'credit_id': '52fe48019251416c750acb0b',\n",
       "  'gender': 0,\n",
       "  'id': 1207272,\n",
       "  'name': 'Christopher Nolen',\n",
       "  'order': 56},\n",
       " {'cast_id': 78,\n",
       "  'character': 'Dancer',\n",
       "  'credit_id': '52fe48019251416c750acb0f',\n",
       "  'gender': 0,\n",
       "  'id': 1207273,\n",
       "  'name': 'Christa Oliver',\n",
       "  'order': 57},\n",
       " {'cast_id': 79,\n",
       "  'character': 'Dancer',\n",
       "  'credit_id': '52fe48019251416c750acb13',\n",
       "  'gender': 0,\n",
       "  'id': 1207274,\n",
       "  'name': 'April Marie Thomas',\n",
       "  'order': 58},\n",
       " {'cast_id': 80,\n",
       "  'character': 'Dancer',\n",
       "  'credit_id': '52fe48019251416c750acb17',\n",
       "  'gender': 0,\n",
       "  'id': 1207275,\n",
       "  'name': 'Bravita A. Threatt',\n",
       "  'order': 59},\n",
       " {'cast_id': 81,\n",
       "  'character': 'Mining Chief (uncredited)',\n",
       "  'credit_id': '52fe48019251416c750acb1b',\n",
       "  'gender': 0,\n",
       "  'id': 1207276,\n",
       "  'name': 'Colin Bleasdale',\n",
       "  'order': 60},\n",
       " {'cast_id': 82,\n",
       "  'character': 'Veteran Miner (uncredited)',\n",
       "  'credit_id': '52fe48019251416c750acb1f',\n",
       "  'gender': 0,\n",
       "  'id': 107969,\n",
       "  'name': 'Mike Bodnar',\n",
       "  'order': 61},\n",
       " {'cast_id': 83,\n",
       "  'character': 'Richard (uncredited)',\n",
       "  'credit_id': '52fe48019251416c750acb23',\n",
       "  'gender': 0,\n",
       "  'id': 1207278,\n",
       "  'name': 'Matt Clayton',\n",
       "  'order': 62},\n",
       " {'cast_id': 84,\n",
       "  'character': \"Nav'i (uncredited)\",\n",
       "  'credit_id': '52fe48019251416c750acb27',\n",
       "  'gender': 1,\n",
       "  'id': 147898,\n",
       "  'name': 'Nicole Dionne',\n",
       "  'order': 63},\n",
       " {'cast_id': 85,\n",
       "  'character': 'Trooper (uncredited)',\n",
       "  'credit_id': '52fe48019251416c750acb2b',\n",
       "  'gender': 0,\n",
       "  'id': 1207280,\n",
       "  'name': 'Jamie Harrison',\n",
       "  'order': 64},\n",
       " {'cast_id': 86,\n",
       "  'character': 'Trooper (uncredited)',\n",
       "  'credit_id': '52fe48019251416c750acb2f',\n",
       "  'gender': 0,\n",
       "  'id': 1207281,\n",
       "  'name': 'Allan Henry',\n",
       "  'order': 65},\n",
       " {'cast_id': 87,\n",
       "  'character': 'Ground Technician (uncredited)',\n",
       "  'credit_id': '52fe48019251416c750acb33',\n",
       "  'gender': 2,\n",
       "  'id': 1207282,\n",
       "  'name': 'Anthony Ingruber',\n",
       "  'order': 66},\n",
       " {'cast_id': 88,\n",
       "  'character': 'Flight Crew Mechanic (uncredited)',\n",
       "  'credit_id': '52fe48019251416c750acb37',\n",
       "  'gender': 0,\n",
       "  'id': 1207283,\n",
       "  'name': 'Ashley Jeffery',\n",
       "  'order': 67},\n",
       " {'cast_id': 14,\n",
       "  'character': 'Samson Pilot',\n",
       "  'credit_id': '52fe48009251416c750ac9f9',\n",
       "  'gender': 0,\n",
       "  'id': 98216,\n",
       "  'name': 'Dean Knowsley',\n",
       "  'order': 68},\n",
       " {'cast_id': 89,\n",
       "  'character': 'Trooper (uncredited)',\n",
       "  'credit_id': '52fe48019251416c750acb3b',\n",
       "  'gender': 0,\n",
       "  'id': 1201399,\n",
       "  'name': 'Joseph Mika-Hunt',\n",
       "  'order': 69},\n",
       " {'cast_id': 90,\n",
       "  'character': 'Banshee (uncredited)',\n",
       "  'credit_id': '52fe48019251416c750acb3f',\n",
       "  'gender': 0,\n",
       "  'id': 236696,\n",
       "  'name': 'Terry Notary',\n",
       "  'order': 70},\n",
       " {'cast_id': 91,\n",
       "  'character': 'Soldier (uncredited)',\n",
       "  'credit_id': '52fe48019251416c750acb43',\n",
       "  'gender': 0,\n",
       "  'id': 1207287,\n",
       "  'name': 'Kai Pantano',\n",
       "  'order': 71},\n",
       " {'cast_id': 92,\n",
       "  'character': 'Blast Technician (uncredited)',\n",
       "  'credit_id': '52fe48019251416c750acb47',\n",
       "  'gender': 0,\n",
       "  'id': 1207288,\n",
       "  'name': 'Logan Pithyou',\n",
       "  'order': 72},\n",
       " {'cast_id': 93,\n",
       "  'character': 'Vindum Raah (uncredited)',\n",
       "  'credit_id': '52fe48019251416c750acb4b',\n",
       "  'gender': 0,\n",
       "  'id': 1207289,\n",
       "  'name': 'Stuart Pollock',\n",
       "  'order': 73},\n",
       " {'cast_id': 94,\n",
       "  'character': 'Hero (uncredited)',\n",
       "  'credit_id': '52fe48019251416c750acb4f',\n",
       "  'gender': 0,\n",
       "  'id': 584868,\n",
       "  'name': 'Raja',\n",
       "  'order': 74},\n",
       " {'cast_id': 95,\n",
       "  'character': 'Ops Centreworker (uncredited)',\n",
       "  'credit_id': '52fe48019251416c750acb53',\n",
       "  'gender': 0,\n",
       "  'id': 1207290,\n",
       "  'name': 'Gareth Ruck',\n",
       "  'order': 75},\n",
       " {'cast_id': 96,\n",
       "  'character': 'Engineer (uncredited)',\n",
       "  'credit_id': '52fe48019251416c750acb57',\n",
       "  'gender': 0,\n",
       "  'id': 1062463,\n",
       "  'name': 'Rhian Sheehan',\n",
       "  'order': 76},\n",
       " {'cast_id': 97,\n",
       "  'character': \"Col. Quaritch's Mech Suit (uncredited)\",\n",
       "  'credit_id': '52fe48019251416c750acb5b',\n",
       "  'gender': 0,\n",
       "  'id': 60656,\n",
       "  'name': 'T. J. Storm',\n",
       "  'order': 77},\n",
       " {'cast_id': 98,\n",
       "  'character': 'Female Marine (uncredited)',\n",
       "  'credit_id': '52fe48019251416c750acb5f',\n",
       "  'gender': 0,\n",
       "  'id': 1207291,\n",
       "  'name': 'Jodie Taylor',\n",
       "  'order': 78},\n",
       " {'cast_id': 99,\n",
       "  'character': 'Ikran Clan Leader (uncredited)',\n",
       "  'credit_id': '52fe48019251416c750acb63',\n",
       "  'gender': 1,\n",
       "  'id': 1186027,\n",
       "  'name': 'Alicia Vela-Bailey',\n",
       "  'order': 79},\n",
       " {'cast_id': 100,\n",
       "  'character': 'Geologist (uncredited)',\n",
       "  'credit_id': '52fe48019251416c750acb67',\n",
       "  'gender': 0,\n",
       "  'id': 1207292,\n",
       "  'name': 'Richard Whiteside',\n",
       "  'order': 80},\n",
       " {'cast_id': 101,\n",
       "  'character': \"Na'vi (uncredited)\",\n",
       "  'credit_id': '52fe48019251416c750acb6b',\n",
       "  'gender': 0,\n",
       "  'id': 103259,\n",
       "  'name': 'Nikie Zambo',\n",
       "  'order': 81},\n",
       " {'cast_id': 102,\n",
       "  'character': 'Ambient Room Tech / Troupe',\n",
       "  'credit_id': '52fe48019251416c750acb6f',\n",
       "  'gender': 1,\n",
       "  'id': 42286,\n",
       "  'name': 'Julene Renee',\n",
       "  'order': 82}]"
      ]
     },
     "execution_count": 27,
     "metadata": {},
     "output_type": "execute_result"
    }
   ],
   "source": [
    "json.loads(credits[\"cast\"][0])"
   ]
  },
  {
   "cell_type": "code",
   "execution_count": 29,
   "id": "15f86fc7",
   "metadata": {},
   "outputs": [],
   "source": [
    "# JSON\n",
    "# {\"name\": \"Christophe\"}     --->    '{\"name\": \"Christophe\"}'\n",
    "#                        json.dumps\n",
    "#    \n",
    "#                          <-----\n",
    "#                        json.loads"
   ]
  },
  {
   "cell_type": "code",
   "execution_count": null,
   "id": "0d028bda",
   "metadata": {},
   "outputs": [],
   "source": [
    "# En pandas []\n",
    "# -> selectionner des colonnes ou filtrer des lignes\n",
    "\n",
    "# Parallèle SQL\n",
    "# SELECT name, price\n",
    "# FROM fruits\n",
    "# WHERE price > 10\n",
    "\n",
    "# En pandas\n",
    "# fruits   [[\"name\", \"price\"]]    [fruits[\"price\"] > 10]\n",
    "#          ^--- select cols       ^---- where price > 10\n",
    "# ^- df    ^- df                  ^- df"
   ]
  },
  {
   "cell_type": "code",
   "execution_count": 34,
   "id": "ce758feb",
   "metadata": {},
   "outputs": [
    {
     "data": {
      "text/plain": [
       "pandas.core.frame.DataFrame"
      ]
     },
     "execution_count": 34,
     "metadata": {},
     "output_type": "execute_result"
    }
   ],
   "source": [
    "movies"
   ]
  },
  {
   "cell_type": "code",
   "execution_count": 44,
   "id": "a54e87cb",
   "metadata": {},
   "outputs": [],
   "source": [
    "class Voiture:\n",
    "    couleur = 'grise'\n",
    "    lat = 0\n",
    "    lon = 0\n",
    "    \n",
    "    def avancer(self):\n",
    "        self.lat += 1\n",
    "        self.lon += 1"
   ]
  },
  {
   "cell_type": "code",
   "execution_count": 45,
   "id": "cb90699f",
   "metadata": {},
   "outputs": [],
   "source": [
    "fiat = Voiture()"
   ]
  },
  {
   "cell_type": "code",
   "execution_count": 46,
   "id": "22beddcd",
   "metadata": {},
   "outputs": [
    {
     "data": {
      "text/plain": [
       "'grise'"
      ]
     },
     "execution_count": 46,
     "metadata": {},
     "output_type": "execute_result"
    }
   ],
   "source": [
    "fiat.couleur"
   ]
  },
  {
   "cell_type": "code",
   "execution_count": 47,
   "id": "0f543e91",
   "metadata": {},
   "outputs": [],
   "source": [
    "fiat.avancer()"
   ]
  },
  {
   "cell_type": "code",
   "execution_count": 48,
   "id": "07af7db0",
   "metadata": {},
   "outputs": [],
   "source": [
    "fiat.avancer()"
   ]
  },
  {
   "cell_type": "code",
   "execution_count": 49,
   "id": "642d9876",
   "metadata": {},
   "outputs": [],
   "source": [
    "fiat.avancer()"
   ]
  },
  {
   "cell_type": "code",
   "execution_count": 58,
   "id": "c2500499",
   "metadata": {},
   "outputs": [
    {
     "data": {
      "text/plain": [
       "38"
      ]
     },
     "execution_count": 58,
     "metadata": {},
     "output_type": "execute_result"
    }
   ],
   "source": [
    "len(credits[credits[\"cast\"].str.contains(\"Brad Pitt\")])"
   ]
  },
  {
   "cell_type": "code",
   "execution_count": 60,
   "id": "12525c7d",
   "metadata": {},
   "outputs": [
    {
     "data": {
      "text/plain": [
       "38"
      ]
     },
     "execution_count": 60,
     "metadata": {},
     "output_type": "execute_result"
    }
   ],
   "source": [
    "credits[\"cast\"].str.contains(\"Brad Pitt\").sum()"
   ]
  },
  {
   "cell_type": "code",
   "execution_count": 62,
   "id": "7ec0f203",
   "metadata": {
    "collapsed": true
   },
   "outputs": [
    {
     "data": {
      "text/plain": [
       "['World War Z',\n",
       " 'The Curious Case of Benjamin Button',\n",
       " 'Troy',\n",
       " 'Happy Feet Two',\n",
       " 'Megamind',\n",
       " \"Ocean's Twelve\",\n",
       " 'Mr. & Mrs. Smith',\n",
       " 'Spy Game',\n",
       " \"The Devil's Own\",\n",
       " \"Ocean's Eleven\",\n",
       " \"Ocean's Thirteen\",\n",
       " 'Meet Joe Black',\n",
       " 'Fury',\n",
       " 'Inglourious Basterds',\n",
       " 'Seven Years in Tibet',\n",
       " 'Fight Club',\n",
       " 'Sinbad: Legend of the Seven Seas',\n",
       " 'Interview with the Vampire',\n",
       " 'Moneyball',\n",
       " 'Sleepers',\n",
       " 'The Mexican',\n",
       " 'Burn After Reading',\n",
       " 'The Tree of Life',\n",
       " 'Se7en',\n",
       " 'Legends of the Fall',\n",
       " 'The Assassination of Jesse James by the Coward Robert Ford',\n",
       " 'Confessions of a Dangerous Mind',\n",
       " 'The Big Short',\n",
       " 'The Counselor',\n",
       " '12 Years a Slave',\n",
       " 'Babel',\n",
       " 'By the Sea',\n",
       " 'Killing Them Softly',\n",
       " 'Being John Malkovich',\n",
       " 'True Romance',\n",
       " 'Snatch',\n",
       " 'Full Frontal',\n",
       " 'Johnny Suede']"
      ]
     },
     "execution_count": 62,
     "metadata": {},
     "output_type": "execute_result"
    }
   ],
   "source": [
    "credits[credits[\"cast\"].str.contains(\"Brad Pitt\")][\"title\"].to_list()"
   ]
  },
  {
   "cell_type": "code",
   "execution_count": 70,
   "id": "3ec1b7bf",
   "metadata": {},
   "outputs": [],
   "source": [
    "credits[\"actors\"] = credits[\"cast\"] \\\n",
    "    .apply(json.loads) \\\n",
    "    .apply(lambda x: [actor[\"name\"] for actor in x])\n",
    "#   ^--- ici on boucle sur les éléments de la liste et on garde\n",
    "#        seulement le `name` de l'acteur"
   ]
  },
  {
   "cell_type": "code",
   "execution_count": 75,
   "id": "7a8ca07a",
   "metadata": {},
   "outputs": [
    {
     "data": {
      "text/plain": [
       "38"
      ]
     },
     "execution_count": 75,
     "metadata": {},
     "output_type": "execute_result"
    }
   ],
   "source": [
    "len(credits[credits[\"actors\"].apply(lambda x: \"Brad Pitt\" in x)])"
   ]
  },
  {
   "cell_type": "markdown",
   "id": "fe3a21bf",
   "metadata": {},
   "source": [
    "## Q11 — Quel a été le premier film d'Angelina Jolie"
   ]
  },
  {
   "cell_type": "code",
   "execution_count": 78,
   "id": "c80e2f46",
   "metadata": {
    "collapsed": true
   },
   "outputs": [
    {
     "data": {
      "text/html": [
       "<div>\n",
       "<style scoped>\n",
       "    .dataframe tbody tr th:only-of-type {\n",
       "        vertical-align: middle;\n",
       "    }\n",
       "\n",
       "    .dataframe tbody tr th {\n",
       "        vertical-align: top;\n",
       "    }\n",
       "\n",
       "    .dataframe thead th {\n",
       "        text-align: right;\n",
       "    }\n",
       "</style>\n",
       "<table border=\"1\" class=\"dataframe\">\n",
       "  <thead>\n",
       "    <tr style=\"text-align: right;\">\n",
       "      <th></th>\n",
       "      <th>movie_id</th>\n",
       "      <th>title</th>\n",
       "      <th>cast</th>\n",
       "      <th>crew</th>\n",
       "      <th>actors</th>\n",
       "    </tr>\n",
       "  </thead>\n",
       "  <tbody>\n",
       "    <tr>\n",
       "      <th>81</th>\n",
       "      <td>102651</td>\n",
       "      <td>Maleficent</td>\n",
       "      <td>[{\"cast_id\": 7, \"character\": \"Maleficent\", \"cr...</td>\n",
       "      <td>[{\"credit_id\": \"52fe4a0cc3a36847f81b5c9f\", \"de...</td>\n",
       "      <td>[Angelina Jolie, Elle Fanning, Sharlto Copley,...</td>\n",
       "    </tr>\n",
       "    <tr>\n",
       "      <th>112</th>\n",
       "      <td>1966</td>\n",
       "      <td>Alexander</td>\n",
       "      <td>[{\"cast_id\": 42, \"character\": \"Alexander\", \"cr...</td>\n",
       "      <td>[{\"credit_id\": \"53943d0dc3a3684252000c2c\", \"de...</td>\n",
       "      <td>[Colin Farrell, Angelina Jolie, Val Kilmer, Ja...</td>\n",
       "    </tr>\n",
       "    <tr>\n",
       "      <th>137</th>\n",
       "      <td>49444</td>\n",
       "      <td>Kung Fu Panda 2</td>\n",
       "      <td>[{\"cast_id\": 5, \"character\": \"Po (voice)\", \"cr...</td>\n",
       "      <td>[{\"credit_id\": \"57deba7cc3a36813080070c8\", \"de...</td>\n",
       "      <td>[Jack Black, Angelina Jolie, Dustin Hoffman, G...</td>\n",
       "    </tr>\n",
       "    <tr>\n",
       "      <th>151</th>\n",
       "      <td>2310</td>\n",
       "      <td>Beowulf</td>\n",
       "      <td>[{\"cast_id\": 24, \"character\": \"Beowulf / Golde...</td>\n",
       "      <td>[{\"credit_id\": \"52fe434cc3a36847f8049c1b\", \"de...</td>\n",
       "      <td>[Ray Winstone, Angelina Jolie, Anthony Hopkins...</td>\n",
       "    </tr>\n",
       "    <tr>\n",
       "      <th>152</th>\n",
       "      <td>140300</td>\n",
       "      <td>Kung Fu Panda 3</td>\n",
       "      <td>[{\"cast_id\": 4, \"character\": \"Po (voice)\", \"cr...</td>\n",
       "      <td>[{\"credit_id\": \"596107c49251415a4008f021\", \"de...</td>\n",
       "      <td>[Jack Black, Bryan Cranston, Dustin Hoffman, A...</td>\n",
       "    </tr>\n",
       "    <tr>\n",
       "      <th>181</th>\n",
       "      <td>9502</td>\n",
       "      <td>Kung Fu Panda</td>\n",
       "      <td>[{\"cast_id\": 3, \"character\": \"Po (voice)\", \"cr...</td>\n",
       "      <td>[{\"credit_id\": \"52fe4500c3a36847f80b6cc5\", \"de...</td>\n",
       "      <td>[Jack Black, Dustin Hoffman, Angelina Jolie, J...</td>\n",
       "    </tr>\n",
       "    <tr>\n",
       "      <th>188</th>\n",
       "      <td>27576</td>\n",
       "      <td>Salt</td>\n",
       "      <td>[{\"cast_id\": 45, \"character\": \"Evelyn Salt\", \"...</td>\n",
       "      <td>[{\"credit_id\": \"536b7b400e0a2647c800c203\", \"de...</td>\n",
       "      <td>[Angelina Jolie, Liev Schreiber, Chiwetel Ejio...</td>\n",
       "    </tr>\n",
       "    <tr>\n",
       "      <th>248</th>\n",
       "      <td>787</td>\n",
       "      <td>Mr. &amp; Mrs. Smith</td>\n",
       "      <td>[{\"cast_id\": 19, \"character\": \"Jane Smith\", \"c...</td>\n",
       "      <td>[{\"credit_id\": \"52fe4276c3a36847f8020875\", \"de...</td>\n",
       "      <td>[Angelina Jolie, Brad Pitt, Vince Vaughn, Adam...</td>\n",
       "    </tr>\n",
       "    <tr>\n",
       "      <th>273</th>\n",
       "      <td>9679</td>\n",
       "      <td>Gone in Sixty Seconds</td>\n",
       "      <td>[{\"cast_id\": 1, \"character\": \"Randall 'Memphis...</td>\n",
       "      <td>[{\"credit_id\": \"52fe451ac3a36847f80bc99f\", \"de...</td>\n",
       "      <td>[Nicolas Cage, Angelina Jolie, Giovanni Ribisi...</td>\n",
       "    </tr>\n",
       "    <tr>\n",
       "      <th>295</th>\n",
       "      <td>37710</td>\n",
       "      <td>The Tourist</td>\n",
       "      <td>[{\"cast_id\": 13, \"character\": \"Frank Tupelo\", ...</td>\n",
       "      <td>[{\"credit_id\": \"537e0a4d0e0a2624c70021da\", \"de...</td>\n",
       "      <td>[Johnny Depp, Angelina Jolie, Paul Bettany, Ti...</td>\n",
       "    </tr>\n",
       "    <tr>\n",
       "      <th>332</th>\n",
       "      <td>1995</td>\n",
       "      <td>Lara Croft: Tomb Raider</td>\n",
       "      <td>[{\"cast_id\": 12, \"character\": \"Lara Croft\", \"c...</td>\n",
       "      <td>[{\"credit_id\": \"568685039251412e5201dbcf\", \"de...</td>\n",
       "      <td>[Angelina Jolie, Jon Voight, Iain Glen, Noah T...</td>\n",
       "    </tr>\n",
       "    <tr>\n",
       "      <th>369</th>\n",
       "      <td>1996</td>\n",
       "      <td>Lara Croft Tomb Raider: The Cradle of Life</td>\n",
       "      <td>[{\"cast_id\": 11, \"character\": \"Lara Croft\", \"c...</td>\n",
       "      <td>[{\"credit_id\": \"52fe432ac3a36847f803f41d\", \"de...</td>\n",
       "      <td>[Angelina Jolie, Gerard Butler, Noah Taylor, D...</td>\n",
       "    </tr>\n",
       "    <tr>\n",
       "      <th>512</th>\n",
       "      <td>8909</td>\n",
       "      <td>Wanted</td>\n",
       "      <td>[{\"cast_id\": 2, \"character\": \"Fox\", \"credit_id...</td>\n",
       "      <td>[{\"credit_id\": \"52fe44c7c3a36847f80a9791\", \"de...</td>\n",
       "      <td>[Angelina Jolie, James McAvoy, Morgan Freeman,...</td>\n",
       "    </tr>\n",
       "    <tr>\n",
       "      <th>525</th>\n",
       "      <td>10555</td>\n",
       "      <td>Shark Tale</td>\n",
       "      <td>[{\"cast_id\": 12, \"character\": \"Oscar (voice)\",...</td>\n",
       "      <td>[{\"credit_id\": \"56c0cf849251410519000410\", \"de...</td>\n",
       "      <td>[Will Smith, Robert De Niro, Renée Zellweger, ...</td>\n",
       "    </tr>\n",
       "    <tr>\n",
       "      <th>607</th>\n",
       "      <td>5137</td>\n",
       "      <td>Sky Captain and the World of Tomorrow</td>\n",
       "      <td>[{\"cast_id\": 2, \"character\": \"Sky Captain\", \"c...</td>\n",
       "      <td>[{\"credit_id\": \"52fe43f6c3a36847f807a96d\", \"de...</td>\n",
       "      <td>[Jude Law, Gwyneth Paltrow, Giovanni Ribisi, A...</td>\n",
       "    </tr>\n",
       "    <tr>\n",
       "      <th>785</th>\n",
       "      <td>9839</td>\n",
       "      <td>Beyond Borders</td>\n",
       "      <td>[{\"cast_id\": 18, \"character\": \"Sarah Jordan\", ...</td>\n",
       "      <td>[{\"credit_id\": \"52fe4538c3a36847f80c2c2f\", \"de...</td>\n",
       "      <td>[Angelina Jolie, Clive Owen, Teri Polo, Linus ...</td>\n",
       "    </tr>\n",
       "    <tr>\n",
       "      <th>849</th>\n",
       "      <td>3580</td>\n",
       "      <td>Changeling</td>\n",
       "      <td>[{\"cast_id\": 6, \"character\": \"Christine Collin...</td>\n",
       "      <td>[{\"credit_id\": \"52fe439ec3a36847f8062297\", \"de...</td>\n",
       "      <td>[Angelina Jolie, Jeffrey Donovan, John Malkovi...</td>\n",
       "    </tr>\n",
       "    <tr>\n",
       "      <th>1009</th>\n",
       "      <td>9481</td>\n",
       "      <td>The Bone Collector</td>\n",
       "      <td>[{\"cast_id\": 1, \"character\": \"Lincoln Rhyme\", ...</td>\n",
       "      <td>[{\"credit_id\": \"52fe44fdc3a36847f80b61e7\", \"de...</td>\n",
       "      <td>[Denzel Washington, Angelina Jolie, Queen Lati...</td>\n",
       "    </tr>\n",
       "    <tr>\n",
       "      <th>1258</th>\n",
       "      <td>16643</td>\n",
       "      <td>Life or Something Like It</td>\n",
       "      <td>[{\"cast_id\": 1, \"character\": \"Lanie Kerrigan\",...</td>\n",
       "      <td>[{\"credit_id\": \"54a456919251414d2700d04c\", \"de...</td>\n",
       "      <td>[Angelina Jolie, Edward Burns, Tony Shalhoub, ...</td>\n",
       "    </tr>\n",
       "    <tr>\n",
       "      <th>1281</th>\n",
       "      <td>10428</td>\n",
       "      <td>Hackers</td>\n",
       "      <td>[{\"cast_id\": 16, \"character\": \"Dade Murphy / '...</td>\n",
       "      <td>[{\"credit_id\": \"52fe436e9251416c750100bb\", \"de...</td>\n",
       "      <td>[Jonny Lee Miller, Angelina Jolie, Jesse Bradf...</td>\n",
       "    </tr>\n",
       "    <tr>\n",
       "      <th>1489</th>\n",
       "      <td>12596</td>\n",
       "      <td>Pushing Tin</td>\n",
       "      <td>[{\"cast_id\": 1, \"character\": \"Nick Falzone\", \"...</td>\n",
       "      <td>[{\"credit_id\": \"52fe45039251416c75048bc1\", \"de...</td>\n",
       "      <td>[John Cusack, Billy Bob Thornton, Cate Blanche...</td>\n",
       "    </tr>\n",
       "    <tr>\n",
       "      <th>1799</th>\n",
       "      <td>2057</td>\n",
       "      <td>Original Sin</td>\n",
       "      <td>[{\"cast_id\": 17, \"character\": \"Julia Russell/B...</td>\n",
       "      <td>[{\"credit_id\": \"52fe4330c3a36847f80412ff\", \"de...</td>\n",
       "      <td>[Angelina Jolie, Antonio Banderas, Gregory Itz...</td>\n",
       "    </tr>\n",
       "    <tr>\n",
       "      <th>1974</th>\n",
       "      <td>3558</td>\n",
       "      <td>Girl, Interrupted</td>\n",
       "      <td>[{\"cast_id\": 14, \"character\": \"Susanna Kaysen\"...</td>\n",
       "      <td>[{\"credit_id\": \"52fe439cc3a36847f806189f\", \"de...</td>\n",
       "      <td>[Winona Ryder, Angelina Jolie, Clea DuVall, Br...</td>\n",
       "    </tr>\n",
       "    <tr>\n",
       "      <th>2257</th>\n",
       "      <td>314385</td>\n",
       "      <td>By the Sea</td>\n",
       "      <td>[{\"cast_id\": 0, \"character\": \"Vanessa\", \"credi...</td>\n",
       "      <td>[{\"credit_id\": \"56c309759251414b850017e4\", \"de...</td>\n",
       "      <td>[Angelina Jolie, Brad Pitt, Mélanie Laurent, M...</td>\n",
       "    </tr>\n",
       "    <tr>\n",
       "      <th>2610</th>\n",
       "      <td>1988</td>\n",
       "      <td>A Mighty Heart</td>\n",
       "      <td>[{\"cast_id\": 17, \"character\": \"Mariane Pearl\",...</td>\n",
       "      <td>[{\"credit_id\": \"52fe4329c3a36847f803ee29\", \"de...</td>\n",
       "      <td>[Angelina Jolie, Dan Futterman, Irrfan Khan, A...</td>\n",
       "    </tr>\n",
       "  </tbody>\n",
       "</table>\n",
       "</div>"
      ],
      "text/plain": [
       "      movie_id                                       title  \\\n",
       "81      102651                                  Maleficent   \n",
       "112       1966                                   Alexander   \n",
       "137      49444                             Kung Fu Panda 2   \n",
       "151       2310                                     Beowulf   \n",
       "152     140300                             Kung Fu Panda 3   \n",
       "181       9502                               Kung Fu Panda   \n",
       "188      27576                                        Salt   \n",
       "248        787                            Mr. & Mrs. Smith   \n",
       "273       9679                       Gone in Sixty Seconds   \n",
       "295      37710                                 The Tourist   \n",
       "332       1995                     Lara Croft: Tomb Raider   \n",
       "369       1996  Lara Croft Tomb Raider: The Cradle of Life   \n",
       "512       8909                                      Wanted   \n",
       "525      10555                                  Shark Tale   \n",
       "607       5137       Sky Captain and the World of Tomorrow   \n",
       "785       9839                              Beyond Borders   \n",
       "849       3580                                  Changeling   \n",
       "1009      9481                          The Bone Collector   \n",
       "1258     16643                   Life or Something Like It   \n",
       "1281     10428                                     Hackers   \n",
       "1489     12596                                 Pushing Tin   \n",
       "1799      2057                                Original Sin   \n",
       "1974      3558                           Girl, Interrupted   \n",
       "2257    314385                                  By the Sea   \n",
       "2610      1988                              A Mighty Heart   \n",
       "\n",
       "                                                   cast  \\\n",
       "81    [{\"cast_id\": 7, \"character\": \"Maleficent\", \"cr...   \n",
       "112   [{\"cast_id\": 42, \"character\": \"Alexander\", \"cr...   \n",
       "137   [{\"cast_id\": 5, \"character\": \"Po (voice)\", \"cr...   \n",
       "151   [{\"cast_id\": 24, \"character\": \"Beowulf / Golde...   \n",
       "152   [{\"cast_id\": 4, \"character\": \"Po (voice)\", \"cr...   \n",
       "181   [{\"cast_id\": 3, \"character\": \"Po (voice)\", \"cr...   \n",
       "188   [{\"cast_id\": 45, \"character\": \"Evelyn Salt\", \"...   \n",
       "248   [{\"cast_id\": 19, \"character\": \"Jane Smith\", \"c...   \n",
       "273   [{\"cast_id\": 1, \"character\": \"Randall 'Memphis...   \n",
       "295   [{\"cast_id\": 13, \"character\": \"Frank Tupelo\", ...   \n",
       "332   [{\"cast_id\": 12, \"character\": \"Lara Croft\", \"c...   \n",
       "369   [{\"cast_id\": 11, \"character\": \"Lara Croft\", \"c...   \n",
       "512   [{\"cast_id\": 2, \"character\": \"Fox\", \"credit_id...   \n",
       "525   [{\"cast_id\": 12, \"character\": \"Oscar (voice)\",...   \n",
       "607   [{\"cast_id\": 2, \"character\": \"Sky Captain\", \"c...   \n",
       "785   [{\"cast_id\": 18, \"character\": \"Sarah Jordan\", ...   \n",
       "849   [{\"cast_id\": 6, \"character\": \"Christine Collin...   \n",
       "1009  [{\"cast_id\": 1, \"character\": \"Lincoln Rhyme\", ...   \n",
       "1258  [{\"cast_id\": 1, \"character\": \"Lanie Kerrigan\",...   \n",
       "1281  [{\"cast_id\": 16, \"character\": \"Dade Murphy / '...   \n",
       "1489  [{\"cast_id\": 1, \"character\": \"Nick Falzone\", \"...   \n",
       "1799  [{\"cast_id\": 17, \"character\": \"Julia Russell/B...   \n",
       "1974  [{\"cast_id\": 14, \"character\": \"Susanna Kaysen\"...   \n",
       "2257  [{\"cast_id\": 0, \"character\": \"Vanessa\", \"credi...   \n",
       "2610  [{\"cast_id\": 17, \"character\": \"Mariane Pearl\",...   \n",
       "\n",
       "                                                   crew  \\\n",
       "81    [{\"credit_id\": \"52fe4a0cc3a36847f81b5c9f\", \"de...   \n",
       "112   [{\"credit_id\": \"53943d0dc3a3684252000c2c\", \"de...   \n",
       "137   [{\"credit_id\": \"57deba7cc3a36813080070c8\", \"de...   \n",
       "151   [{\"credit_id\": \"52fe434cc3a36847f8049c1b\", \"de...   \n",
       "152   [{\"credit_id\": \"596107c49251415a4008f021\", \"de...   \n",
       "181   [{\"credit_id\": \"52fe4500c3a36847f80b6cc5\", \"de...   \n",
       "188   [{\"credit_id\": \"536b7b400e0a2647c800c203\", \"de...   \n",
       "248   [{\"credit_id\": \"52fe4276c3a36847f8020875\", \"de...   \n",
       "273   [{\"credit_id\": \"52fe451ac3a36847f80bc99f\", \"de...   \n",
       "295   [{\"credit_id\": \"537e0a4d0e0a2624c70021da\", \"de...   \n",
       "332   [{\"credit_id\": \"568685039251412e5201dbcf\", \"de...   \n",
       "369   [{\"credit_id\": \"52fe432ac3a36847f803f41d\", \"de...   \n",
       "512   [{\"credit_id\": \"52fe44c7c3a36847f80a9791\", \"de...   \n",
       "525   [{\"credit_id\": \"56c0cf849251410519000410\", \"de...   \n",
       "607   [{\"credit_id\": \"52fe43f6c3a36847f807a96d\", \"de...   \n",
       "785   [{\"credit_id\": \"52fe4538c3a36847f80c2c2f\", \"de...   \n",
       "849   [{\"credit_id\": \"52fe439ec3a36847f8062297\", \"de...   \n",
       "1009  [{\"credit_id\": \"52fe44fdc3a36847f80b61e7\", \"de...   \n",
       "1258  [{\"credit_id\": \"54a456919251414d2700d04c\", \"de...   \n",
       "1281  [{\"credit_id\": \"52fe436e9251416c750100bb\", \"de...   \n",
       "1489  [{\"credit_id\": \"52fe45039251416c75048bc1\", \"de...   \n",
       "1799  [{\"credit_id\": \"52fe4330c3a36847f80412ff\", \"de...   \n",
       "1974  [{\"credit_id\": \"52fe439cc3a36847f806189f\", \"de...   \n",
       "2257  [{\"credit_id\": \"56c309759251414b850017e4\", \"de...   \n",
       "2610  [{\"credit_id\": \"52fe4329c3a36847f803ee29\", \"de...   \n",
       "\n",
       "                                                 actors  \n",
       "81    [Angelina Jolie, Elle Fanning, Sharlto Copley,...  \n",
       "112   [Colin Farrell, Angelina Jolie, Val Kilmer, Ja...  \n",
       "137   [Jack Black, Angelina Jolie, Dustin Hoffman, G...  \n",
       "151   [Ray Winstone, Angelina Jolie, Anthony Hopkins...  \n",
       "152   [Jack Black, Bryan Cranston, Dustin Hoffman, A...  \n",
       "181   [Jack Black, Dustin Hoffman, Angelina Jolie, J...  \n",
       "188   [Angelina Jolie, Liev Schreiber, Chiwetel Ejio...  \n",
       "248   [Angelina Jolie, Brad Pitt, Vince Vaughn, Adam...  \n",
       "273   [Nicolas Cage, Angelina Jolie, Giovanni Ribisi...  \n",
       "295   [Johnny Depp, Angelina Jolie, Paul Bettany, Ti...  \n",
       "332   [Angelina Jolie, Jon Voight, Iain Glen, Noah T...  \n",
       "369   [Angelina Jolie, Gerard Butler, Noah Taylor, D...  \n",
       "512   [Angelina Jolie, James McAvoy, Morgan Freeman,...  \n",
       "525   [Will Smith, Robert De Niro, Renée Zellweger, ...  \n",
       "607   [Jude Law, Gwyneth Paltrow, Giovanni Ribisi, A...  \n",
       "785   [Angelina Jolie, Clive Owen, Teri Polo, Linus ...  \n",
       "849   [Angelina Jolie, Jeffrey Donovan, John Malkovi...  \n",
       "1009  [Denzel Washington, Angelina Jolie, Queen Lati...  \n",
       "1258  [Angelina Jolie, Edward Burns, Tony Shalhoub, ...  \n",
       "1281  [Jonny Lee Miller, Angelina Jolie, Jesse Bradf...  \n",
       "1489  [John Cusack, Billy Bob Thornton, Cate Blanche...  \n",
       "1799  [Angelina Jolie, Antonio Banderas, Gregory Itz...  \n",
       "1974  [Winona Ryder, Angelina Jolie, Clea DuVall, Br...  \n",
       "2257  [Angelina Jolie, Brad Pitt, Mélanie Laurent, M...  \n",
       "2610  [Angelina Jolie, Dan Futterman, Irrfan Khan, A...  "
      ]
     },
     "execution_count": 78,
     "metadata": {},
     "output_type": "execute_result"
    }
   ],
   "source": [
    "credits[credits[\"cast\"].str.contains(\"Angelina Jolie\")]\n",
    "\n",
    "# on doit faire une jointure entre credits et movies\n",
    "# en utilisant la colonne movie_id"
   ]
  },
  {
   "cell_type": "code",
   "execution_count": 80,
   "id": "04708b6d",
   "metadata": {},
   "outputs": [],
   "source": [
    "joined = movies.merge(credits, left_on=\"id\", right_on=\"movie_id\")"
   ]
  },
  {
   "cell_type": "code",
   "execution_count": 87,
   "id": "07bed5be",
   "metadata": {
    "scrolled": true
   },
   "outputs": [
    {
     "data": {
      "text/html": [
       "<div>\n",
       "<style scoped>\n",
       "    .dataframe tbody tr th:only-of-type {\n",
       "        vertical-align: middle;\n",
       "    }\n",
       "\n",
       "    .dataframe tbody tr th {\n",
       "        vertical-align: top;\n",
       "    }\n",
       "\n",
       "    .dataframe thead th {\n",
       "        text-align: right;\n",
       "    }\n",
       "</style>\n",
       "<table border=\"1\" class=\"dataframe\">\n",
       "  <thead>\n",
       "    <tr style=\"text-align: right;\">\n",
       "      <th></th>\n",
       "      <th>title_x</th>\n",
       "      <th>release_date</th>\n",
       "    </tr>\n",
       "  </thead>\n",
       "  <tbody>\n",
       "    <tr>\n",
       "      <th>1281</th>\n",
       "      <td>Hackers</td>\n",
       "      <td>1995-09-14</td>\n",
       "    </tr>\n",
       "  </tbody>\n",
       "</table>\n",
       "</div>"
      ],
      "text/plain": [
       "      title_x release_date\n",
       "1281  Hackers   1995-09-14"
      ]
     },
     "execution_count": 87,
     "metadata": {},
     "output_type": "execute_result"
    }
   ],
   "source": [
    "joined[joined[\"cast\"].str.contains(\"Angelina Jolie\")] \\\n",
    "    .sort_values(\"release_date\")[[\"title_x\", \"release_date\"]].head(1)"
   ]
  },
  {
   "cell_type": "code",
   "execution_count": 91,
   "id": "826335d4",
   "metadata": {},
   "outputs": [],
   "source": [
    "A = pd.DataFrame({\"id\": [1, 2, 3], \"name\": [\"Avatar\", \"Batman\", \"Avengers\"]})\n",
    "B = pd.DataFrame({\"movie_id\": [1, 2], \"budget\": [1000, 2000]})"
   ]
  },
  {
   "cell_type": "code",
   "execution_count": 92,
   "id": "164af810",
   "metadata": {},
   "outputs": [
    {
     "data": {
      "text/html": [
       "<div>\n",
       "<style scoped>\n",
       "    .dataframe tbody tr th:only-of-type {\n",
       "        vertical-align: middle;\n",
       "    }\n",
       "\n",
       "    .dataframe tbody tr th {\n",
       "        vertical-align: top;\n",
       "    }\n",
       "\n",
       "    .dataframe thead th {\n",
       "        text-align: right;\n",
       "    }\n",
       "</style>\n",
       "<table border=\"1\" class=\"dataframe\">\n",
       "  <thead>\n",
       "    <tr style=\"text-align: right;\">\n",
       "      <th></th>\n",
       "      <th>id</th>\n",
       "      <th>name</th>\n",
       "    </tr>\n",
       "  </thead>\n",
       "  <tbody>\n",
       "    <tr>\n",
       "      <th>0</th>\n",
       "      <td>1</td>\n",
       "      <td>Avatar</td>\n",
       "    </tr>\n",
       "    <tr>\n",
       "      <th>1</th>\n",
       "      <td>2</td>\n",
       "      <td>Batman</td>\n",
       "    </tr>\n",
       "    <tr>\n",
       "      <th>2</th>\n",
       "      <td>3</td>\n",
       "      <td>Avengers</td>\n",
       "    </tr>\n",
       "  </tbody>\n",
       "</table>\n",
       "</div>"
      ],
      "text/plain": [
       "   id      name\n",
       "0   1    Avatar\n",
       "1   2    Batman\n",
       "2   3  Avengers"
      ]
     },
     "execution_count": 92,
     "metadata": {},
     "output_type": "execute_result"
    }
   ],
   "source": [
    "A"
   ]
  },
  {
   "cell_type": "code",
   "execution_count": 93,
   "id": "3daf7df6",
   "metadata": {},
   "outputs": [
    {
     "data": {
      "text/html": [
       "<div>\n",
       "<style scoped>\n",
       "    .dataframe tbody tr th:only-of-type {\n",
       "        vertical-align: middle;\n",
       "    }\n",
       "\n",
       "    .dataframe tbody tr th {\n",
       "        vertical-align: top;\n",
       "    }\n",
       "\n",
       "    .dataframe thead th {\n",
       "        text-align: right;\n",
       "    }\n",
       "</style>\n",
       "<table border=\"1\" class=\"dataframe\">\n",
       "  <thead>\n",
       "    <tr style=\"text-align: right;\">\n",
       "      <th></th>\n",
       "      <th>movie_id</th>\n",
       "      <th>budget</th>\n",
       "    </tr>\n",
       "  </thead>\n",
       "  <tbody>\n",
       "    <tr>\n",
       "      <th>0</th>\n",
       "      <td>1</td>\n",
       "      <td>1000</td>\n",
       "    </tr>\n",
       "    <tr>\n",
       "      <th>1</th>\n",
       "      <td>2</td>\n",
       "      <td>2000</td>\n",
       "    </tr>\n",
       "  </tbody>\n",
       "</table>\n",
       "</div>"
      ],
      "text/plain": [
       "   movie_id  budget\n",
       "0         1    1000\n",
       "1         2    2000"
      ]
     },
     "execution_count": 93,
     "metadata": {},
     "output_type": "execute_result"
    }
   ],
   "source": [
    "B"
   ]
  },
  {
   "cell_type": "code",
   "execution_count": 97,
   "id": "6bfc137b",
   "metadata": {
    "collapsed": true
   },
   "outputs": [
    {
     "data": {
      "text/html": [
       "<div>\n",
       "<style scoped>\n",
       "    .dataframe tbody tr th:only-of-type {\n",
       "        vertical-align: middle;\n",
       "    }\n",
       "\n",
       "    .dataframe tbody tr th {\n",
       "        vertical-align: top;\n",
       "    }\n",
       "\n",
       "    .dataframe thead th {\n",
       "        text-align: right;\n",
       "    }\n",
       "</style>\n",
       "<table border=\"1\" class=\"dataframe\">\n",
       "  <thead>\n",
       "    <tr style=\"text-align: right;\">\n",
       "      <th></th>\n",
       "      <th>id</th>\n",
       "      <th>name</th>\n",
       "      <th>movie_id</th>\n",
       "      <th>budget</th>\n",
       "    </tr>\n",
       "  </thead>\n",
       "  <tbody>\n",
       "    <tr>\n",
       "      <th>0</th>\n",
       "      <td>1</td>\n",
       "      <td>Avatar</td>\n",
       "      <td>1.0</td>\n",
       "      <td>1000.0</td>\n",
       "    </tr>\n",
       "    <tr>\n",
       "      <th>1</th>\n",
       "      <td>2</td>\n",
       "      <td>Batman</td>\n",
       "      <td>2.0</td>\n",
       "      <td>2000.0</td>\n",
       "    </tr>\n",
       "    <tr>\n",
       "      <th>2</th>\n",
       "      <td>3</td>\n",
       "      <td>Avengers</td>\n",
       "      <td>NaN</td>\n",
       "      <td>NaN</td>\n",
       "    </tr>\n",
       "  </tbody>\n",
       "</table>\n",
       "</div>"
      ],
      "text/plain": [
       "   id      name  movie_id  budget\n",
       "0   1    Avatar       1.0  1000.0\n",
       "1   2    Batman       2.0  2000.0\n",
       "2   3  Avengers       NaN     NaN"
      ]
     },
     "execution_count": 97,
     "metadata": {},
     "output_type": "execute_result"
    }
   ],
   "source": [
    "A.merge(B, left_on=\"id\", right_on=\"movie_id\", how=\"left\")"
   ]
  },
  {
   "cell_type": "code",
   "execution_count": null,
   "id": "bb8732dc",
   "metadata": {},
   "outputs": [],
   "source": [
    "# SQL\n",
    "# SELECT A.*, B.*\n",
    "# FROM A\n",
    "# LEFT JOIN B ON A.id = B.movie_id\n",
    "\n",
    "# Excel -> recherchev / vlookup"
   ]
  },
  {
   "cell_type": "code",
   "execution_count": 98,
   "id": "56c57820",
   "metadata": {},
   "outputs": [
    {
     "data": {
      "text/html": [
       "<div>\n",
       "<style scoped>\n",
       "    .dataframe tbody tr th:only-of-type {\n",
       "        vertical-align: middle;\n",
       "    }\n",
       "\n",
       "    .dataframe tbody tr th {\n",
       "        vertical-align: top;\n",
       "    }\n",
       "\n",
       "    .dataframe thead th {\n",
       "        text-align: right;\n",
       "    }\n",
       "</style>\n",
       "<table border=\"1\" class=\"dataframe\">\n",
       "  <thead>\n",
       "    <tr style=\"text-align: right;\">\n",
       "      <th></th>\n",
       "      <th>id</th>\n",
       "      <th>name</th>\n",
       "    </tr>\n",
       "  </thead>\n",
       "  <tbody>\n",
       "    <tr>\n",
       "      <th>0</th>\n",
       "      <td>1</td>\n",
       "      <td>Avatar</td>\n",
       "    </tr>\n",
       "    <tr>\n",
       "      <th>1</th>\n",
       "      <td>2</td>\n",
       "      <td>Batman</td>\n",
       "    </tr>\n",
       "    <tr>\n",
       "      <th>2</th>\n",
       "      <td>3</td>\n",
       "      <td>Avengers</td>\n",
       "    </tr>\n",
       "  </tbody>\n",
       "</table>\n",
       "</div>"
      ],
      "text/plain": [
       "   id      name\n",
       "0   1    Avatar\n",
       "1   2    Batman\n",
       "2   3  Avengers"
      ]
     },
     "execution_count": 98,
     "metadata": {},
     "output_type": "execute_result"
    }
   ],
   "source": [
    "A"
   ]
  },
  {
   "cell_type": "code",
   "execution_count": 99,
   "id": "cd87c562",
   "metadata": {},
   "outputs": [
    {
     "data": {
      "text/html": [
       "<div>\n",
       "<style scoped>\n",
       "    .dataframe tbody tr th:only-of-type {\n",
       "        vertical-align: middle;\n",
       "    }\n",
       "\n",
       "    .dataframe tbody tr th {\n",
       "        vertical-align: top;\n",
       "    }\n",
       "\n",
       "    .dataframe thead th {\n",
       "        text-align: right;\n",
       "    }\n",
       "</style>\n",
       "<table border=\"1\" class=\"dataframe\">\n",
       "  <thead>\n",
       "    <tr style=\"text-align: right;\">\n",
       "      <th></th>\n",
       "      <th>movie_id</th>\n",
       "      <th>budget</th>\n",
       "    </tr>\n",
       "  </thead>\n",
       "  <tbody>\n",
       "    <tr>\n",
       "      <th>0</th>\n",
       "      <td>1</td>\n",
       "      <td>1000</td>\n",
       "    </tr>\n",
       "    <tr>\n",
       "      <th>1</th>\n",
       "      <td>2</td>\n",
       "      <td>2000</td>\n",
       "    </tr>\n",
       "  </tbody>\n",
       "</table>\n",
       "</div>"
      ],
      "text/plain": [
       "   movie_id  budget\n",
       "0         1    1000\n",
       "1         2    2000"
      ]
     },
     "execution_count": 99,
     "metadata": {},
     "output_type": "execute_result"
    }
   ],
   "source": [
    "B"
   ]
  },
  {
   "cell_type": "code",
   "execution_count": 102,
   "id": "e01ec574",
   "metadata": {},
   "outputs": [
    {
     "data": {
      "text/html": [
       "<div>\n",
       "<style scoped>\n",
       "    .dataframe tbody tr th:only-of-type {\n",
       "        vertical-align: middle;\n",
       "    }\n",
       "\n",
       "    .dataframe tbody tr th {\n",
       "        vertical-align: top;\n",
       "    }\n",
       "\n",
       "    .dataframe thead th {\n",
       "        text-align: right;\n",
       "    }\n",
       "</style>\n",
       "<table border=\"1\" class=\"dataframe\">\n",
       "  <thead>\n",
       "    <tr style=\"text-align: right;\">\n",
       "      <th></th>\n",
       "      <th>id</th>\n",
       "      <th>name</th>\n",
       "      <th>movie_id</th>\n",
       "      <th>budget</th>\n",
       "    </tr>\n",
       "  </thead>\n",
       "  <tbody>\n",
       "    <tr>\n",
       "      <th>0</th>\n",
       "      <td>1.0</td>\n",
       "      <td>Avatar</td>\n",
       "      <td>NaN</td>\n",
       "      <td>NaN</td>\n",
       "    </tr>\n",
       "    <tr>\n",
       "      <th>1</th>\n",
       "      <td>2.0</td>\n",
       "      <td>Batman</td>\n",
       "      <td>NaN</td>\n",
       "      <td>NaN</td>\n",
       "    </tr>\n",
       "    <tr>\n",
       "      <th>2</th>\n",
       "      <td>3.0</td>\n",
       "      <td>Avengers</td>\n",
       "      <td>NaN</td>\n",
       "      <td>NaN</td>\n",
       "    </tr>\n",
       "    <tr>\n",
       "      <th>0</th>\n",
       "      <td>NaN</td>\n",
       "      <td>NaN</td>\n",
       "      <td>1.0</td>\n",
       "      <td>1000.0</td>\n",
       "    </tr>\n",
       "    <tr>\n",
       "      <th>1</th>\n",
       "      <td>NaN</td>\n",
       "      <td>NaN</td>\n",
       "      <td>2.0</td>\n",
       "      <td>2000.0</td>\n",
       "    </tr>\n",
       "  </tbody>\n",
       "</table>\n",
       "</div>"
      ],
      "text/plain": [
       "    id      name  movie_id  budget\n",
       "0  1.0    Avatar       NaN     NaN\n",
       "1  2.0    Batman       NaN     NaN\n",
       "2  3.0  Avengers       NaN     NaN\n",
       "0  NaN       NaN       1.0  1000.0\n",
       "1  NaN       NaN       2.0  2000.0"
      ]
     },
     "execution_count": 102,
     "metadata": {},
     "output_type": "execute_result"
    }
   ],
   "source": [
    "pd.concat([A, B], axis=0)"
   ]
  },
  {
   "cell_type": "code",
   "execution_count": 103,
   "id": "14457012",
   "metadata": {},
   "outputs": [
    {
     "data": {
      "text/html": [
       "<div>\n",
       "<style scoped>\n",
       "    .dataframe tbody tr th:only-of-type {\n",
       "        vertical-align: middle;\n",
       "    }\n",
       "\n",
       "    .dataframe tbody tr th {\n",
       "        vertical-align: top;\n",
       "    }\n",
       "\n",
       "    .dataframe thead th {\n",
       "        text-align: right;\n",
       "    }\n",
       "</style>\n",
       "<table border=\"1\" class=\"dataframe\">\n",
       "  <thead>\n",
       "    <tr style=\"text-align: right;\">\n",
       "      <th></th>\n",
       "      <th>id</th>\n",
       "      <th>name</th>\n",
       "      <th>movie_id</th>\n",
       "      <th>budget</th>\n",
       "    </tr>\n",
       "  </thead>\n",
       "  <tbody>\n",
       "    <tr>\n",
       "      <th>0</th>\n",
       "      <td>1</td>\n",
       "      <td>Avatar</td>\n",
       "      <td>1.0</td>\n",
       "      <td>1000.0</td>\n",
       "    </tr>\n",
       "    <tr>\n",
       "      <th>1</th>\n",
       "      <td>2</td>\n",
       "      <td>Batman</td>\n",
       "      <td>2.0</td>\n",
       "      <td>2000.0</td>\n",
       "    </tr>\n",
       "    <tr>\n",
       "      <th>2</th>\n",
       "      <td>3</td>\n",
       "      <td>Avengers</td>\n",
       "      <td>NaN</td>\n",
       "      <td>NaN</td>\n",
       "    </tr>\n",
       "  </tbody>\n",
       "</table>\n",
       "</div>"
      ],
      "text/plain": [
       "   id      name  movie_id  budget\n",
       "0   1    Avatar       1.0  1000.0\n",
       "1   2    Batman       2.0  2000.0\n",
       "2   3  Avengers       NaN     NaN"
      ]
     },
     "execution_count": 103,
     "metadata": {},
     "output_type": "execute_result"
    }
   ],
   "source": [
    "pd.concat([A, B], axis=1)"
   ]
  },
  {
   "cell_type": "markdown",
   "id": "74fe7a55",
   "metadata": {},
   "source": [
    "## Q7 — quels sont les pays qui ont produit le plus de films"
   ]
  },
  {
   "cell_type": "code",
   "execution_count": 104,
   "id": "4d3808be",
   "metadata": {},
   "outputs": [
    {
     "data": {
      "text/plain": [
       "0       [{\"iso_3166_1\": \"US\", \"name\": \"United States o...\n",
       "1       [{\"iso_3166_1\": \"US\", \"name\": \"United States o...\n",
       "2       [{\"iso_3166_1\": \"GB\", \"name\": \"United Kingdom\"...\n",
       "3       [{\"iso_3166_1\": \"US\", \"name\": \"United States o...\n",
       "4       [{\"iso_3166_1\": \"US\", \"name\": \"United States o...\n",
       "                              ...                        \n",
       "4798    [{\"iso_3166_1\": \"MX\", \"name\": \"Mexico\"}, {\"iso...\n",
       "4799                                                   []\n",
       "4800    [{\"iso_3166_1\": \"US\", \"name\": \"United States o...\n",
       "4801    [{\"iso_3166_1\": \"US\", \"name\": \"United States o...\n",
       "4802    [{\"iso_3166_1\": \"US\", \"name\": \"United States o...\n",
       "Name: production_countries, Length: 4802, dtype: object"
      ]
     },
     "execution_count": 104,
     "metadata": {},
     "output_type": "execute_result"
    }
   ],
   "source": [
    "movies[\"production_countries\"].apply(json.loads)"
   ]
  },
  {
   "cell_type": "code",
   "execution_count": null,
   "id": "cbff92ae",
   "metadata": {},
   "outputs": [],
   "source": []
  }
 ],
 "metadata": {
  "kernelspec": {
   "display_name": "Python 3 (ipykernel)",
   "language": "python",
   "name": "python3"
  },
  "language_info": {
   "codemirror_mode": {
    "name": "ipython",
    "version": 3
   },
   "file_extension": ".py",
   "mimetype": "text/x-python",
   "name": "python",
   "nbconvert_exporter": "python",
   "pygments_lexer": "ipython3",
   "version": "3.8.9"
  }
 },
 "nbformat": 4,
 "nbformat_minor": 5
}
