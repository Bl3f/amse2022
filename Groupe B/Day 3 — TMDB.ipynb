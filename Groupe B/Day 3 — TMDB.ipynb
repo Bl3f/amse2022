{
 "cells": [
  {
   "cell_type": "code",
   "execution_count": 3,
   "id": "e1b4b6b0",
   "metadata": {},
   "outputs": [],
   "source": [
    "import pandas as pd"
   ]
  },
  {
   "cell_type": "code",
   "execution_count": 4,
   "id": "845989ed",
   "metadata": {},
   "outputs": [],
   "source": [
    "url = \"https://raw.githubusercontent.com/Bl3f/amse2021/main/The%20movie%20database/tmdb_5000_movies.csv\"\n",
    "movies = pd.read_csv(\n",
    "    url,\n",
    "    parse_dates=[\"release_date\"],\n",
    "    infer_datetime_format=True,\n",
    ")\n",
    "movies = movies.dropna(subset=[\"release_date\"])\n",
    "# ^-- supprime toutes les lignes (axis=0) dans le cas où \n",
    "# release_date est null"
   ]
  },
  {
   "cell_type": "code",
   "execution_count": 22,
   "id": "a941f337",
   "metadata": {},
   "outputs": [
    {
     "data": {
      "text/html": [
       "<div>\n",
       "<style scoped>\n",
       "    .dataframe tbody tr th:only-of-type {\n",
       "        vertical-align: middle;\n",
       "    }\n",
       "\n",
       "    .dataframe tbody tr th {\n",
       "        vertical-align: top;\n",
       "    }\n",
       "\n",
       "    .dataframe thead th {\n",
       "        text-align: right;\n",
       "    }\n",
       "</style>\n",
       "<table border=\"1\" class=\"dataframe\">\n",
       "  <thead>\n",
       "    <tr style=\"text-align: right;\">\n",
       "      <th></th>\n",
       "      <th>budget</th>\n",
       "      <th>genres</th>\n",
       "      <th>homepage</th>\n",
       "      <th>id</th>\n",
       "      <th>keywords</th>\n",
       "      <th>original_language</th>\n",
       "      <th>original_title</th>\n",
       "      <th>overview</th>\n",
       "      <th>popularity</th>\n",
       "      <th>production_companies</th>\n",
       "      <th>production_countries</th>\n",
       "      <th>release_date</th>\n",
       "      <th>revenue</th>\n",
       "      <th>runtime</th>\n",
       "      <th>spoken_languages</th>\n",
       "      <th>status</th>\n",
       "      <th>tagline</th>\n",
       "      <th>title</th>\n",
       "      <th>vote_average</th>\n",
       "      <th>vote_count</th>\n",
       "    </tr>\n",
       "  </thead>\n",
       "  <tbody>\n",
       "    <tr>\n",
       "      <th>0</th>\n",
       "      <td>237000000</td>\n",
       "      <td>[{\"id\": 28, \"name\": \"Action\"}, {\"id\": 12, \"nam...</td>\n",
       "      <td>http://www.avatarmovie.com/</td>\n",
       "      <td>19995</td>\n",
       "      <td>[{\"id\": 1463, \"name\": \"culture clash\"}, {\"id\":...</td>\n",
       "      <td>en</td>\n",
       "      <td>Avatar</td>\n",
       "      <td>In the 22nd century, a paraplegic Marine is di...</td>\n",
       "      <td>150.437577</td>\n",
       "      <td>[{\"name\": \"Ingenious Film Partners\", \"id\": 289...</td>\n",
       "      <td>[{\"iso_3166_1\": \"US\", \"name\": \"United States o...</td>\n",
       "      <td>2009-12-10</td>\n",
       "      <td>2787965087</td>\n",
       "      <td>162.0</td>\n",
       "      <td>[{\"iso_639_1\": \"en\", \"name\": \"English\"}, {\"iso...</td>\n",
       "      <td>Released</td>\n",
       "      <td>Enter the World of Pandora.</td>\n",
       "      <td>Avatar</td>\n",
       "      <td>7.2</td>\n",
       "      <td>11800</td>\n",
       "    </tr>\n",
       "  </tbody>\n",
       "</table>\n",
       "</div>"
      ],
      "text/plain": [
       "      budget                                             genres  \\\n",
       "0  237000000  [{\"id\": 28, \"name\": \"Action\"}, {\"id\": 12, \"nam...   \n",
       "\n",
       "                      homepage     id  \\\n",
       "0  http://www.avatarmovie.com/  19995   \n",
       "\n",
       "                                            keywords original_language  \\\n",
       "0  [{\"id\": 1463, \"name\": \"culture clash\"}, {\"id\":...                en   \n",
       "\n",
       "  original_title                                           overview  \\\n",
       "0         Avatar  In the 22nd century, a paraplegic Marine is di...   \n",
       "\n",
       "   popularity                               production_companies  \\\n",
       "0  150.437577  [{\"name\": \"Ingenious Film Partners\", \"id\": 289...   \n",
       "\n",
       "                                production_countries release_date     revenue  \\\n",
       "0  [{\"iso_3166_1\": \"US\", \"name\": \"United States o...   2009-12-10  2787965087   \n",
       "\n",
       "   runtime                                   spoken_languages    status  \\\n",
       "0    162.0  [{\"iso_639_1\": \"en\", \"name\": \"English\"}, {\"iso...  Released   \n",
       "\n",
       "                       tagline   title  vote_average  vote_count  \n",
       "0  Enter the World of Pandora.  Avatar           7.2       11800  "
      ]
     },
     "execution_count": 22,
     "metadata": {},
     "output_type": "execute_result"
    }
   ],
   "source": [
    "movies.head(1)"
   ]
  },
  {
   "cell_type": "markdown",
   "id": "f9c81c09",
   "metadata": {},
   "source": [
    "# Q2"
   ]
  },
  {
   "cell_type": "code",
   "execution_count": 23,
   "id": "ed8d317a",
   "metadata": {},
   "outputs": [
    {
     "data": {
      "text/plain": [
       "395097847444"
      ]
     },
     "execution_count": 23,
     "metadata": {},
     "output_type": "execute_result"
    }
   ],
   "source": [
    "movies[\"revenue\"].sum()"
   ]
  },
  {
   "cell_type": "markdown",
   "id": "1d0b5c8d",
   "metadata": {},
   "source": [
    "# Q3"
   ]
  },
  {
   "cell_type": "code",
   "execution_count": 24,
   "id": "1dc8930b",
   "metadata": {},
   "outputs": [],
   "source": [
    "# 2 manières de le faire\n",
    "# - En considérant la date comme une str on prend les 4 premiers char\n",
    "# - En convertissant la date en datetime on récupère l'année"
   ]
  },
  {
   "cell_type": "code",
   "execution_count": 25,
   "id": "9847d793",
   "metadata": {},
   "outputs": [],
   "source": [
    "# 2022-03-18 ---> AAAA-MM-DD -----> %Y-%m-%d"
   ]
  },
  {
   "cell_type": "code",
   "execution_count": 40,
   "id": "37029263",
   "metadata": {},
   "outputs": [],
   "source": [
    "# récupérer l'année en considérent la date comme une str\n",
    "movies[\"release_year\"] = movies[\"release_date\"].str[:4]"
   ]
  },
  {
   "cell_type": "code",
   "execution_count": 47,
   "id": "7e2dd497",
   "metadata": {},
   "outputs": [],
   "source": [
    "# convertir la date en datetime\n",
    "movies[\"release_year\"] = pd.to_datetime(movies[\"release_date\"]).dt.year"
   ]
  },
  {
   "cell_type": "code",
   "execution_count": 51,
   "id": "73bf16b8",
   "metadata": {},
   "outputs": [],
   "source": [
    "# dans le cas où on a changé le read_csv avec :\n",
    "# movies = pd.read_csv(\n",
    "#    ...\n",
    "#    parse_dates=[\"release_date\"],\n",
    "#    infer_datetime_format=True,\n",
    "# )\n",
    "movies[\"release_year\"] = movies[\"release_date\"].dt.year"
   ]
  },
  {
   "cell_type": "code",
   "execution_count": 32,
   "id": "6baadccf",
   "metadata": {},
   "outputs": [],
   "source": [
    "# movies[movies[\"release_date\"].isnull()]"
   ]
  },
  {
   "cell_type": "markdown",
   "id": "78ca778f",
   "metadata": {},
   "source": [
    "## Q3.2 — Créer une colonne profit"
   ]
  },
  {
   "cell_type": "code",
   "execution_count": 53,
   "id": "1c82f4d2",
   "metadata": {},
   "outputs": [],
   "source": [
    "movies[\"profit\"] = movies[\"revenue\"] - movies[\"budget\"]"
   ]
  },
  {
   "cell_type": "markdown",
   "id": "bfda2d57",
   "metadata": {},
   "source": [
    "## Q3.3 — Afficher le profit par année"
   ]
  },
  {
   "cell_type": "code",
   "execution_count": 54,
   "id": "9e8b3d47",
   "metadata": {},
   "outputs": [],
   "source": [
    "# pour afficher le profit par année on a d'abord besoin de \n",
    "# calculer le profit par année\n",
    "profit_per_year = movies.groupby(\"release_year\")[\"profit\"].sum()"
   ]
  },
  {
   "cell_type": "code",
   "execution_count": 55,
   "id": "32ad66cd",
   "metadata": {},
   "outputs": [
    {
     "data": {
      "text/plain": [
       "release_year\n",
       "1916        8008844\n",
       "1925       21755000\n",
       "1927      -91969578\n",
       "1929        3979000\n",
       "1930        4050000\n",
       "           ...     \n",
       "2013    15205612461\n",
       "2014    16752037278\n",
       "2015    16050476854\n",
       "2016     9708016948\n",
       "2017              0\n",
       "Name: profit, Length: 90, dtype: int64"
      ]
     },
     "execution_count": 55,
     "metadata": {},
     "output_type": "execute_result"
    }
   ],
   "source": [
    "profit_per_year"
   ]
  },
  {
   "cell_type": "code",
   "execution_count": 56,
   "id": "05aaefac",
   "metadata": {},
   "outputs": [
    {
     "data": {
      "text/plain": [
       "<AxesSubplot:xlabel='release_year'>"
      ]
     },
     "execution_count": 56,
     "metadata": {},
     "output_type": "execute_result"
    },
    {
     "data": {
      "image/png": "[encoded data removed]",
      "text/plain": [
       "<Figure size 432x288 with 1 Axes>"
      ]
     },
     "metadata": {
      "needs_background": "light"
     },
     "output_type": "display_data"
    }
   ],
   "source": [
    "profit_per_year.plot()"
   ]
  },
  {
   "cell_type": "code",
   "execution_count": 65,
   "id": "a98b754a",
   "metadata": {},
   "outputs": [
    {
     "data": {
      "text/plain": [
       "<AxesSubplot:xlabel='release_year'>"
      ]
     },
     "execution_count": 65,
     "metadata": {},
     "output_type": "execute_result"
    },
    {
     "data": {
      "image/png": "[encoded data removed]",
      "text/plain": [
       "<Figure size 432x288 with 1 Axes>"
      ]
     },
     "metadata": {
      "needs_background": "light"
     },
     "output_type": "display_data"
    }
   ],
   "source": [
    "profit_per_year.reset_index().plot(x=\"release_year\", y=\"profit\")"
   ]
  },
  {
   "cell_type": "code",
   "execution_count": 74,
   "id": "b11c42f4",
   "metadata": {},
   "outputs": [
    {
     "data": {
      "text/plain": [
       "<AxesSubplot:xlabel='release_year'>"
      ]
     },
     "execution_count": 74,
     "metadata": {},
     "output_type": "execute_result"
    },
    {
     "data": {
      "image/png": "[encoded data removed]",
      "text/plain": [
       "<Figure size 432x288 with 1 Axes>"
      ]
     },
     "metadata": {
      "needs_background": "light"
     },
     "output_type": "display_data"
    }
   ],
   "source": [
    "movies.groupby(\"release_year\").agg({\"profit\": \"sum\"}).plot()"
   ]
  },
  {
   "cell_type": "markdown",
   "id": "6007a5d3",
   "metadata": {},
   "source": [
    "## Q4 — Trouver le film qui a été le plus profitable"
   ]
  },
  {
   "cell_type": "code",
   "execution_count": 79,
   "id": "32bca4b4",
   "metadata": {},
   "outputs": [
    {
     "data": {
      "text/plain": [
       "0    Avatar\n",
       "Name: title, dtype: object"
      ]
     },
     "execution_count": 79,
     "metadata": {},
     "output_type": "execute_result"
    }
   ],
   "source": [
    "movies[movies[\"profit\"] == movies[\"profit\"].max()][\"title\"]"
   ]
  },
  {
   "cell_type": "code",
   "execution_count": 82,
   "id": "5b03af11",
   "metadata": {},
   "outputs": [
    {
     "data": {
      "text/plain": [
       "0    Avatar\n",
       "Name: title, dtype: object"
      ]
     },
     "execution_count": 82,
     "metadata": {},
     "output_type": "execute_result"
    }
   ],
   "source": [
    "movies.sort_values(\"profit\", ascending=False)[\"title\"].head(1)"
   ]
  },
  {
   "cell_type": "markdown",
   "id": "15439c44",
   "metadata": {},
   "source": [
    "# Q5 — Quel est le mot le plus présent dans les descriptions"
   ]
  },
  {
   "cell_type": "code",
   "execution_count": 20,
   "id": "ee60f4d1",
   "metadata": {},
   "outputs": [],
   "source": [
    "all_words = movies[\"overview\"].dropna().str.lower().str.split().sum()"
   ]
  },
  {
   "cell_type": "code",
   "execution_count": 21,
   "id": "2dab6564",
   "metadata": {},
   "outputs": [],
   "source": [
    "import nltk\n",
    "from nltk.corpus import stopwords"
   ]
  },
  {
   "cell_type": "code",
   "execution_count": 22,
   "id": "178dccaf",
   "metadata": {},
   "outputs": [],
   "source": [
    "# nltk.download('stopwords')"
   ]
  },
  {
   "cell_type": "code",
   "execution_count": 23,
   "id": "4620d336",
   "metadata": {},
   "outputs": [],
   "source": [
    "words_series = pd.Series(all_words)"
   ]
  },
  {
   "cell_type": "code",
   "execution_count": 100,
   "id": "0fbf4ec3",
   "metadata": {},
   "outputs": [
    {
     "data": {
      "text/plain": [
       "new            708\n",
       "one            647\n",
       "young          615\n",
       "life           563\n",
       "two            531\n",
       "              ... \n",
       "why,             1\n",
       "tessa            1\n",
       "quietly,         1\n",
       "quayle           1\n",
       "herzlinger,      1\n",
       "Length: 34123, dtype: int64"
      ]
     },
     "execution_count": 100,
     "metadata": {},
     "output_type": "execute_result"
    }
   ],
   "source": [
    "words_series[~words_series.isin(stopwords.words('english'))].value_counts()"
   ]
  },
  {
   "cell_type": "code",
   "execution_count": null,
   "id": "3a04fc3f",
   "metadata": {},
   "outputs": [],
   "source": []
  }
 ],
 "metadata": {
  "kernelspec": {
   "display_name": "Python 3 (ipykernel)",
   "language": "python",
   "name": "python3"
  },
  "language_info": {
   "codemirror_mode": {
    "name": "ipython",
    "version": 3
   },
   "file_extension": ".py",
   "mimetype": "text/x-python",
   "name": "python",
   "nbconvert_exporter": "python",
   "pygments_lexer": "ipython3",
   "version": "3.8.9"
  }
 },
 "nbformat": 4,
 "nbformat_minor": 5
}
